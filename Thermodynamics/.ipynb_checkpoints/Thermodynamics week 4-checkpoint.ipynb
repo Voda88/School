{
 "cells": [
  {
   "cell_type": "markdown",
   "metadata": {},
   "source": [
    "# Thermodynamics week 4\n",
    "\n",
    "## Mikko Karkkainen 11740378\n"
   ]
  },
  {
   "cell_type": "markdown",
   "metadata": {},
   "source": [
    "### Problem 5.7\n"
   ]
  },
  {
   "cell_type": "markdown",
   "metadata": {},
   "source": [
    "One mole of mixture of 21% oxygen and 79% nitroen by volume at 1 bar is separated into 0.21 mole of oxygen at 0.21 bar and 0.79 mole of nitrogen at 0.79 bar. (a) Assuming that the mixture is ideal, what is the entropy change? (b) Compare the result with the entropy of unimixing, i.e., forming N2 and O2 each at 1 bar from air at the same pressure.\n"
   ]
  },
  {
   "cell_type": "markdown",
   "metadata": {},
   "source": [
    "### Solution:"
   ]
  },
  {
   "cell_type": "markdown",
   "metadata": {},
   "source": [
    "For an ideal gas at steady temperature, entropy change of unmixing is given by:"
   ]
  },
  {
   "cell_type": "markdown",
   "metadata": {},
   "source": [
    "$$ \\Delta S = \\sum n_i R ln \\Big( \\frac{V_i}{V} \\Big) $$"
   ]
  },
  {
   "cell_type": "markdown",
   "metadata": {},
   "source": [
    "where $ V $ is the total volume  $V_i$ is the volume of the comoponents. For ideal gasses the volume is given by "
   ]
  },
  {
   "cell_type": "markdown",
   "metadata": {},
   "source": [
    "$$ V=\\frac{nRT}{P} $$"
   ]
  },
  {
   "cell_type": "markdown",
   "metadata": {},
   "source": [
    "For oxygen:"
   ]
  },
  {
   "cell_type": "markdown",
   "metadata": {},
   "source": [
    "$$ V_{O2} = \\frac{0.21 RT}{P_{O2}} = \\frac{0.21 RT}{0.21} = RT $$"
   ]
  },
  {
   "cell_type": "markdown",
   "metadata": {},
   "source": [
    "For nitrogen:"
   ]
  },
  {
   "cell_type": "markdown",
   "metadata": {},
   "source": [
    "$$ V_{N2} = \\frac{0.79 RT}{P_{N2}} = \\frac{0.79 RT}{0.79} = RT $$"
   ]
  },
  {
   "cell_type": "markdown",
   "metadata": {},
   "source": [
    "For the total volume before seperation:"
   ]
  },
  {
   "cell_type": "markdown",
   "metadata": {},
   "source": [
    "$$ V_{tot} = \\frac{1 RT}{P_{tot}} = \\frac{1 RT}{1} = RT $$"
   ]
  },
  {
   "cell_type": "markdown",
   "metadata": {},
   "source": [
    "therefore:"
   ]
  },
  {
   "cell_type": "markdown",
   "metadata": {},
   "source": [
    "$$ \\Delta S = R \\Big( 0.21 ln (1) + 0.79 ln(1) \\Big) = 0$$ "
   ]
  },
  {
   "cell_type": "markdown",
   "metadata": {},
   "source": [
    "### Answer (a): The change in entropy is 0"
   ]
  },
  {
   "cell_type": "markdown",
   "metadata": {},
   "source": [
    "If the pressure of the individual components after unmixing is the same as the pressure of the mix, the following applies:\n"
   ]
  },
  {
   "cell_type": "markdown",
   "metadata": {},
   "source": [
    "$$ V_{O2} = \\frac{0.21 RT}{P_{O2}} = \\frac{0.21 RT}{1} = 0.21RT $$"
   ]
  },
  {
   "cell_type": "markdown",
   "metadata": {},
   "source": [
    "$$ V_{N2} = \\frac{0.79 RT}{P_{N2}} = \\frac{0.79 RT}{1} = 0.79 RT $$"
   ]
  },
  {
   "cell_type": "markdown",
   "metadata": {},
   "source": [
    "The entropy change becomes:"
   ]
  },
  {
   "cell_type": "markdown",
   "metadata": {},
   "source": [
    "$$ \\Delta S = R \\Big( 0.21 ln (0.21) + 0.79 ln(0.79) \\Big) = -0.514 R$$ "
   ]
  },
  {
   "cell_type": "markdown",
   "metadata": {},
   "source": [
    "### Answer (b): The entropy of unmixing is -0.514 R"
   ]
  },
  {
   "cell_type": "markdown",
   "metadata": {},
   "source": [
    "### Problem 6.3\n",
    "Calculate $\\Delta S_T$ and $\\Delta G_T$ when 0.21 mole of oxygen and 0.79 mole of nitrogen, each at 1 bar and 25 degrees Celsius are mixed to form a gas mixture at 1 bar. Ideal has behabiour may be assumed for the gasses and mixture."
   ]
  },
  {
   "cell_type": "markdown",
   "metadata": {},
   "source": [
    "### Solution:"
   ]
  },
  {
   "cell_type": "markdown",
   "metadata": {},
   "source": [
    "Assuming ideal gas:\n",
    "\n"
   ]
  },
  {
   "cell_type": "markdown",
   "metadata": {},
   "source": [
    "$$ \\Delta S_T = \\sum n_i R ln \\Big( \\frac{V_i}{V} \\Big) = R \\Big( 0.21 ln (0.21) + 0.79 ln(0.79) \\Big) = 0.514 R$$"
   ]
  },
  {
   "cell_type": "markdown",
   "metadata": {},
   "source": [
    "$$ \\Delta G_T = \\sum n_i RT ln \\Big( \\frac{P_i}{P} \\Big) = 298.15 R \\Big( 0.21 ln (0.21) + 0.79 ln(0.79) \\Big) = 153.25 R$$"
   ]
  },
  {
   "cell_type": "markdown",
   "metadata": {},
   "source": [
    "### Answer: \n",
    "At 25 degrees celsius, at 1 bar, for oxygen and nitrogen modelled as ideal gasses:\n",
    "\n",
    "$$ \\Delta S_T = 0.514 R$$\n",
    "\n",
    "$$ \\Delta G_T = 153.25 R$$"
   ]
  },
  {
   "cell_type": "markdown",
   "metadata": {},
   "source": [
    "### Problem 7.5\n",
    "\n",
    "Compute $S^\\circ$(ideal 1 bar) - $ S $(real, 40 bars) for carbon dioxide from the following data for compressibility:\n",
    "\n",
    "<table>\n",
    "    <tr>\n",
    "        <th> P, bar</th>\n",
    "        <td>1</td>\n",
    "        <td>4</td>\n",
    "        <td>7</td>\n",
    "        <td>10</td>\n",
    "        <td>40</td>\n",
    "    </tr>\n",
    "    <tr>\n",
    "        <th> Z: </th>\n",
    "        <td>0.99517</td>\n",
    "        <td>0.9804</td>\n",
    "        <td>0.9651</td>\n",
    "        <td>0.9493</td>\n",
    "        <td>0.7648</td>\n",
    "    </tr>\n",
    "</table>\n",
    "\n",
    "Hint: express Z as a quadratic function of pressure first:"
   ]
  },
  {
   "cell_type": "markdown",
   "metadata": {},
   "source": [
    "### Solution:"
   ]
  },
  {
   "cell_type": "markdown",
   "metadata": {},
   "source": [
    "Let's assume that $Z$ has the form:"
   ]
  },
  {
   "cell_type": "markdown",
   "metadata": {},
   "source": [
    "$$ Z=aP^2 + bP + c $$"
   ]
  },
  {
   "cell_type": "code",
   "execution_count": null,
   "metadata": {
    "collapsed": true
   },
   "outputs": [],
   "source": []
  }
 ],
 "metadata": {
  "anaconda-cloud": {},
  "kernelspec": {
   "display_name": "Python [Root]",
   "language": "python",
   "name": "Python [Root]"
  },
  "language_info": {
   "codemirror_mode": {
    "name": "ipython",
    "version": 3
   },
   "file_extension": ".py",
   "mimetype": "text/x-python",
   "name": "python",
   "nbconvert_exporter": "python",
   "pygments_lexer": "ipython3",
   "version": "3.5.2"
  }
 },
 "nbformat": 4,
 "nbformat_minor": 0
}
