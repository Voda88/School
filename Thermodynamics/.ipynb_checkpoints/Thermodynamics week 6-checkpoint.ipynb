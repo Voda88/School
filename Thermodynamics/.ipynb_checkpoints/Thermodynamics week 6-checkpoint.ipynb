{
 "cells": [
  {
   "cell_type": "markdown",
   "metadata": {},
   "source": [
    "# Chapter 12 homework\n",
    "\n",
    "## Mikko Karkkainen 11740378"
   ]
  },
  {
   "cell_type": "markdown",
   "metadata": {},
   "source": [
    "### Problem 1: \n",
    "Calculate the standard Gibbs Energy ($ \\Delta G^{\\circ}$) for the folowing reactions at $ T= 600^{\\circ}$ and $ T=1200^{\\circ} $. Obtain the $ \\Delta G^{\\circ}$ for the reactions from the graph given in the text book (page 384, fig V.2 - Thermodynamic stability diagram for oxides).\n"
   ]
  },
  {
   "cell_type": "markdown",
   "metadata": {},
   "source": [
    "a)\n",
    "\n",
    "1) Cu2O (s) + CO(g) = 2Cu(s,l) + CO2 (g)\n",
    "\n",
    "2) FeO (s) + CO(g) = Fe(s) + CO2 (g)"
   ]
  },
  {
   "cell_type": "markdown",
   "metadata": {},
   "source": [
    "b)\n",
    "\n",
    "Compare your $ \\Delta G^{\\circ}$ with TSIMS program calculations at the same temperatures"
   ]
  },
  {
   "cell_type": "markdown",
   "metadata": {},
   "source": [
    "### Solution:"
   ]
  },
  {
   "cell_type": "markdown",
   "metadata": {},
   "source": [
    "The formation Gibbs energy is given by the difference in Gibbs energy between the products and reactants:\n",
    "\n",
    "$$ \\Delta G^{\\circ} = G^{\\circ}_{p} - G^{\\circ}_{r} $$"
   ]
  },
  {
   "cell_type": "markdown",
   "metadata": {},
   "source": [
    "From the lecture slides:\n",
    "<table>\n",
    "    <tr>\n",
    "        <th> $ \\Delta G^{\\circ} $</th>\n",
    "        <td>  2Cu2O  </td>\n",
    "        <td>  CO2  </td>\n",
    "        <td>  FeO  </td>\n",
    "    </tr>\n",
    "    <tr>\n",
    "        <th>600 °C</th>\n",
    "        <td>$ -415 kJ $</td>\n",
    "        <td>$ -200 kJ $</td>\n",
    "        <td> $ -415 kJ $ </td>\n",
    "    </tr>\n",
    "    <tr>\n",
    "        <th>1200 °C</th>\n",
    "        <td>$ -310 kJ $</td>\n",
    "        <td>$ -120 kJ $</td>\n",
    "        <td> $ -340 kJ$ </td>\n",
    "    </tr>\n",
    "</table>  "
   ]
  },
  {
   "cell_type": "markdown",
   "metadata": {},
   "source": [
    "The gibbs energy of 2 Cu and Fe :\n",
    "\n",
    "##### At 600 °C:\n",
    "\n",
    "$$ \\Delta G^{\\circ}(2Cu) = - \\Delta G^{\\circ}(2Cu2O)/2 = 100 kJ $$\n",
    "\n",
    "$$ \\Delta G^{\\circ}(Fe) = - \\Delta G^{\\circ}(FeO)/2 = 415 kJ $$\n",
    "\n",
    "#### At 1200°C:\n",
    "\n",
    "$$ \\Delta G^{\\circ}(2Cu) = - \\Delta G^{\\circ}(2Cu2O)/2 = 60 kJ $$\n",
    "\n",
    "$$ \\Delta G^{\\circ}(Fe) = - \\Delta G^{\\circ}(FeO)/2 = 340 kJ $$"
   ]
  },
  {
   "cell_type": "markdown",
   "metadata": {},
   "source": [
    "Answer:\n",
    "<table>\n",
    "    <tr>\n",
    "        <th> $ \\Delta G^{\\circ} $</th>\n",
    "        <td>  Reaction 1  </td>\n",
    "        <td>  Reaction 2 </td>\n",
    "    </tr>\n",
    "    <tr>\n",
    "        <th>600 °C</th>\n",
    "        <td>$ -415 kJ $</td>\n",
    "        <td>$ 215 kJ $</td>      \n",
    "    </tr>\n",
    "    <tr>\n",
    "        <th>1200 °C</th>\n",
    "        <td>$ -310 kJ $</td>\n",
    "        <td>$ 220 kJ $</td>       \n",
    "    </tr>\n",
    "</table> "
   ]
  },
  {
   "cell_type": "markdown",
   "metadata": {},
   "source": [
    "### Problem 2"
   ]
  },
  {
   "cell_type": "markdown",
   "metadata": {},
   "source": [
    "One mole of C2H4 and three moles of H2 react at 1000K and one bar of pressure as follows:\n",
    "\n",
    "(I) C2H4(g) + 2H2(g) = 2CH4 (g)    $\\;\\;\\;\\;\\;\\; \\Delta_r G°_{1000}/(1000R) = -9.652 $\n",
    "    \n",
    "(II) C2H4(g) + H2(g) = C2H6 (g)     $\\;\\;\\;\\;\\;\\; \\Delta_r G°_{1000}/(1000R) = +1.158 $"
   ]
  },
  {
   "cell_type": "markdown",
   "metadata": {},
   "source": [
    "Assuming there are no other concurrent reactions, calculate the moles of each species at equilibrium"
   ]
  },
  {
   "cell_type": "markdown",
   "metadata": {},
   "source": [
    "### Solution"
   ]
  },
  {
   "cell_type": "markdown",
   "metadata": {},
   "source": [
    "Complete reaction: (I) 2 C2H4(g) + 3 H2(g) = 2CH4 +C2H4 (g)    $\\;\\;\\;\\;\\;\\; \\Delta_r G°_{1000}/(1000R) = -8.404 $"
   ]
  },
  {
   "cell_type": "markdown",
   "metadata": {},
   "source": [
    "At equilibrium:"
   ]
  },
  {
   "cell_type": "markdown",
   "metadata": {},
   "source": [
    "$$ \\Delta G = \\Delta_r G°_{1000} + RTln(K)  = 0$$"
   ]
  },
  {
   "cell_type": "markdown",
   "metadata": {},
   "source": [
    "1 mole of C2H4 and 3 moles of H2"
   ]
  },
  {
   "cell_type": "markdown",
   "metadata": {},
   "source": [
    "$$ K= \\frac{ x(CH4)^2 \\cdot x(C2H6) }{ x(C2H4) \\cdot x(H2)^3 } $$"
   ]
  },
  {
   "cell_type": "markdown",
   "metadata": {},
   "source": [
    "Therefore:"
   ]
  },
  {
   "cell_type": "markdown",
   "metadata": {},
   "source": [
    "$$ exp(-8404/RT)= \\frac{ x(CH4)^2 \\cdot x(C2H6) }{ x(C2H4) \\cdot x(H2)^3 } $$"
   ]
  },
  {
   "cell_type": "markdown",
   "metadata": {},
   "source": [
    "Reactant gasses total: 4 moles. Mole fraction C2H4 : 0.25 . Mole fraction H2: 0.75."
   ]
  },
  {
   "cell_type": "markdown",
   "metadata": {},
   "source": [
    "$$ (x(C2H4)^2 \\cdot x(H2)^3) \\cdot exp(-8404/RT)= x(CH4)^2 \\cdot x(C2H6) $$"
   ]
  },
  {
   "cell_type": "markdown",
   "metadata": {},
   "source": [
    "For the product gas, we know that $ x(C2H6) = 1- x(CH4) $"
   ]
  },
  {
   "cell_type": "markdown",
   "metadata": {},
   "source": [
    "$$ (x(C2H4)^2 \\cdot x(H2)^3) \\cdot exp(-8404/RT)= x(CH4)^2 \\cdot [1- x(CH4)] = x(CH4)^2 - x(CH4)^3 $$"
   ]
  },
  {
   "cell_type": "markdown",
   "metadata": {},
   "source": [
    "Solving using a computer:"
   ]
  },
  {
   "cell_type": "markdown",
   "metadata": {},
   "source": [
    "$$ x^2-x^3 = 0.00959551  $$"
   ]
  },
  {
   "cell_type": "markdown",
   "metadata": {},
   "source": [
    "x= 0.103454 or x= 0.990214"
   ]
  },
  {
   "cell_type": "markdown",
   "metadata": {},
   "source": [
    "Therefore, molar fraction of CH4 is \n",
    "\n",
    "$ x(CH4) = 0.103454 $ \n",
    "\n",
    "or\n",
    "\n",
    "$ x(CH4) = 0.990214 $ \n",
    "\n",
    "and molar fraction of C2H6 is \n",
    "\n",
    "$ x(C2H6) = 0.896546 $ \n",
    "\n",
    "or \n",
    "\n",
    "$ x(C2H6) = 0.009786 $"
   ]
  }
 ],
 "metadata": {
  "anaconda-cloud": {},
  "kernelspec": {
   "display_name": "Python [Root]",
   "language": "python",
   "name": "Python [Root]"
  },
  "language_info": {
   "codemirror_mode": {
    "name": "ipython",
    "version": 3
   },
   "file_extension": ".py",
   "mimetype": "text/x-python",
   "name": "python",
   "nbconvert_exporter": "python",
   "pygments_lexer": "ipython3",
   "version": "3.5.2"
  }
 },
 "nbformat": 4,
 "nbformat_minor": 0
}
