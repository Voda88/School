{
 "cells": [
  {
   "cell_type": "code",
   "execution_count": 59,
   "metadata": {
    "collapsed": false
   },
   "outputs": [
    {
     "data": {
      "text/html": [
       "\n",
       "    <div class=\"bk-root\">\n",
       "        <a href=\"http://bokeh.pydata.org\" target=\"_blank\" class=\"bk-logo bk-logo-small bk-logo-notebook\"></a>\n",
       "        <span id=\"122b85cd-1e64-425e-9f49-e1fcdf62445b\">Loading BokehJS ...</span>\n",
       "    </div>"
      ]
     },
     "metadata": {},
     "output_type": "display_data"
    },
    {
     "data": {
      "application/javascript": [
       "\n",
       "(function(global) {\n",
       "  function now() {\n",
       "    return new Date();\n",
       "  }\n",
       "\n",
       "  var force = \"1\";\n",
       "\n",
       "  if (typeof (window._bokeh_onload_callbacks) === \"undefined\" || force !== \"\") {\n",
       "    window._bokeh_onload_callbacks = [];\n",
       "    window._bokeh_is_loading = undefined;\n",
       "  }\n",
       "\n",
       "\n",
       "  \n",
       "  if (typeof (window._bokeh_timeout) === \"undefined\" || force !== \"\") {\n",
       "    window._bokeh_timeout = Date.now() + 5000;\n",
       "    window._bokeh_failed_load = false;\n",
       "  }\n",
       "\n",
       "  var NB_LOAD_WARNING = {'data': {'text/html':\n",
       "     \"<div style='background-color: #fdd'>\\n\"+\n",
       "     \"<p>\\n\"+\n",
       "     \"BokehJS does not appear to have successfully loaded. If loading BokehJS from CDN, this \\n\"+\n",
       "     \"may be due to a slow or bad network connection. Possible fixes:\\n\"+\n",
       "     \"</p>\\n\"+\n",
       "     \"<ul>\\n\"+\n",
       "     \"<li>re-rerun `output_notebook()` to attempt to load from CDN again, or</li>\\n\"+\n",
       "     \"<li>use INLINE resources instead, as so:</li>\\n\"+\n",
       "     \"</ul>\\n\"+\n",
       "     \"<code>\\n\"+\n",
       "     \"from bokeh.resources import INLINE\\n\"+\n",
       "     \"output_notebook(resources=INLINE)\\n\"+\n",
       "     \"</code>\\n\"+\n",
       "     \"</div>\"}};\n",
       "\n",
       "  function display_loaded() {\n",
       "    if (window.Bokeh !== undefined) {\n",
       "      Bokeh.$(\"#122b85cd-1e64-425e-9f49-e1fcdf62445b\").text(\"BokehJS successfully loaded.\");\n",
       "    } else if (Date.now() < window._bokeh_timeout) {\n",
       "      setTimeout(display_loaded, 100)\n",
       "    }\n",
       "  }\n",
       "\n",
       "  function run_callbacks() {\n",
       "    window._bokeh_onload_callbacks.forEach(function(callback) { callback() });\n",
       "    delete window._bokeh_onload_callbacks\n",
       "    console.info(\"Bokeh: all callbacks have finished\");\n",
       "  }\n",
       "\n",
       "  function load_libs(js_urls, callback) {\n",
       "    window._bokeh_onload_callbacks.push(callback);\n",
       "    if (window._bokeh_is_loading > 0) {\n",
       "      console.log(\"Bokeh: BokehJS is being loaded, scheduling callback at\", now());\n",
       "      return null;\n",
       "    }\n",
       "    if (js_urls == null || js_urls.length === 0) {\n",
       "      run_callbacks();\n",
       "      return null;\n",
       "    }\n",
       "    console.log(\"Bokeh: BokehJS not loaded, scheduling load and callback at\", now());\n",
       "    window._bokeh_is_loading = js_urls.length;\n",
       "    for (var i = 0; i < js_urls.length; i++) {\n",
       "      var url = js_urls[i];\n",
       "      var s = document.createElement('script');\n",
       "      s.src = url;\n",
       "      s.async = false;\n",
       "      s.onreadystatechange = s.onload = function() {\n",
       "        window._bokeh_is_loading--;\n",
       "        if (window._bokeh_is_loading === 0) {\n",
       "          console.log(\"Bokeh: all BokehJS libraries loaded\");\n",
       "          run_callbacks()\n",
       "        }\n",
       "      };\n",
       "      s.onerror = function() {\n",
       "        console.warn(\"failed to load library \" + url);\n",
       "      };\n",
       "      console.log(\"Bokeh: injecting script tag for BokehJS library: \", url);\n",
       "      document.getElementsByTagName(\"head\")[0].appendChild(s);\n",
       "    }\n",
       "  };var element = document.getElementById(\"122b85cd-1e64-425e-9f49-e1fcdf62445b\");\n",
       "  if (element == null) {\n",
       "    console.log(\"Bokeh: ERROR: autoload.js configured with elementid '122b85cd-1e64-425e-9f49-e1fcdf62445b' but no matching script tag was found. \")\n",
       "    return false;\n",
       "  }\n",
       "\n",
       "  var js_urls = ['https://cdn.pydata.org/bokeh/release/bokeh-0.12.2.min.js', 'https://cdn.pydata.org/bokeh/release/bokeh-widgets-0.12.2.min.js', 'https://cdn.pydata.org/bokeh/release/bokeh-compiler-0.12.2.min.js'];\n",
       "\n",
       "  var inline_js = [\n",
       "    function(Bokeh) {\n",
       "      Bokeh.set_log_level(\"info\");\n",
       "    },\n",
       "    \n",
       "    function(Bokeh) {\n",
       "      \n",
       "      Bokeh.$(\"#122b85cd-1e64-425e-9f49-e1fcdf62445b\").text(\"BokehJS is loading...\");\n",
       "    },\n",
       "    function(Bokeh) {\n",
       "      console.log(\"Bokeh: injecting CSS: https://cdn.pydata.org/bokeh/release/bokeh-0.12.2.min.css\");\n",
       "      Bokeh.embed.inject_css(\"https://cdn.pydata.org/bokeh/release/bokeh-0.12.2.min.css\");\n",
       "      console.log(\"Bokeh: injecting CSS: https://cdn.pydata.org/bokeh/release/bokeh-widgets-0.12.2.min.css\");\n",
       "      Bokeh.embed.inject_css(\"https://cdn.pydata.org/bokeh/release/bokeh-widgets-0.12.2.min.css\");\n",
       "    }\n",
       "  ];\n",
       "\n",
       "  function run_inline_js() {\n",
       "    \n",
       "    if ((window.Bokeh !== undefined) || (force === \"1\")) {\n",
       "      for (var i = 0; i < inline_js.length; i++) {\n",
       "        inline_js[i](window.Bokeh);\n",
       "      }if (force === \"1\") {\n",
       "        display_loaded();\n",
       "      }} else if (Date.now() < window._bokeh_timeout) {\n",
       "      setTimeout(run_inline_js, 100);\n",
       "    } else if (!window._bokeh_failed_load) {\n",
       "      console.log(\"Bokeh: BokehJS failed to load within specified timeout.\");\n",
       "      window._bokeh_failed_load = true;\n",
       "    } else if (!force) {\n",
       "      var cell = $(\"#122b85cd-1e64-425e-9f49-e1fcdf62445b\").parents('.cell').data().cell;\n",
       "      cell.output_area.append_execute_result(NB_LOAD_WARNING)\n",
       "    }\n",
       "\n",
       "  }\n",
       "\n",
       "  if (window._bokeh_is_loading === 0) {\n",
       "    console.log(\"Bokeh: BokehJS loaded, going straight to plotting\");\n",
       "    run_inline_js();\n",
       "  } else {\n",
       "    load_libs(js_urls, function() {\n",
       "      console.log(\"Bokeh: BokehJS plotting callback run at\", now());\n",
       "      run_inline_js();\n",
       "    });\n",
       "  }\n",
       "}(this));"
      ]
     },
     "metadata": {},
     "output_type": "display_data"
    }
   ],
   "source": [
    "import numpy as np\n",
    "import bokeh as bk\n",
    "from bokeh.io import push_notebook\n",
    "import bokeh.plotting as bkp\n",
    "import bokeh.models as bkm\n",
    "from bokeh.io import push_notebook\n",
    "from ipywidgets import interact\n",
    "import ipywidgets as widgets\n",
    "bkp.output_notebook()"
   ]
  },
  {
   "cell_type": "markdown",
   "metadata": {},
   "source": [
    "## Problem 3.\n",
    "\n",
    "The balanced equation for the reaction between graphite and water is shown below:\n",
    "\n",
    "$$ H_2O (g) + x O_2 (g) + (1+2 x) C (graphite) = H_2 (g) + (1+2x) CO (g) $$\n",
    "\n",
    "Calculate the product gas $(H_2$  and  $CO)$ composition at $1000K$. Assume adiabatic conditions(i.e. no heat loss or gain)."
   ]
  },
  {
   "cell_type": "markdown",
   "metadata": {},
   "source": [
    "### Solution:\n",
    "\n",
    "Let's first find the enthalpies of formation for the reactants and products. From the textbook:\n",
    "\n",
    "<table>\n",
    "  <tr>\n",
    "    <th width=\"10%\"></th>\n",
    "    <th width=\"10%\">$H_2O (g)$</th>\n",
    "    <th width=\"10%\">$O_2 (g)$</th>\n",
    "    <th width=\"10%\">$C (s)$</th>\n",
    "    <th width=\"10%\">$H_2 (g)$</th>\n",
    "    <th width=\"10%\">$CO (g)$</th>  \n",
    "  </tr>\n",
    "\n",
    "  <tr>\n",
    "      <th>$\\Delta H_{298}$ $ (J \\: mol^{-1})$</th>\n",
    "      <td>-241826</td>\n",
    "      <td>0</td>\n",
    "      <td>0</td>\n",
    "      <td>0</td>\n",
    "      <td>-110527</td>\n",
    "  <tr>\n",
    "\n",
    "</table>\n",
    "\n",
    "Use TSIM to get the equations for CP for each of the components:\n",
    "\n",
    "####  H20 (g) 298.150----2000.000K :\t\t\t\t\n",
    "\tCp=  6.895 + 2.882*10^(-3)*T + 0.240*10^5*T^(-2)\t\t\t\n",
    "\n",
    "####  O2 (g) 298.150----2000.000K :\t\t\t\t\n",
    "\tCp=  7.230 + 1.006*10^(-3)*T - 0.452*10^5*T^(-2)\n",
    "    \n",
    "#### C (graphite) 298.150----2000.000K :\t\t\t\t\n",
    "\tCp=  3.518 + 1.532*10^(-3)*T - 1.723*10^5*T^(-2)\n",
    "    \n",
    "#### H2 (g) 298.150----3000.000K :\n",
    "    Cp=  6.456 + 0.838*10^(-3)*T + 0.165*10^5*T^(-2)\n",
    "\n",
    "#### CO (g) 298.150----2000.000K :\t\t\n",
    "\t Cp=  6.708 + 1.106*10^(-3)*T - 0.062*10^5*T^(-2)\t\n",
    "     \n",
    "\n",
    "\n",
    "    \n",
    "Let's integrate these equations to get $ H_1000 -H_{298.15}  $\n",
    "\n",
    "$$ \\int_{298.15}^{1000} C_P dT = \\Big|_{298.15}^{1000} aT+ \\frac{b}{2}T^2 -c T^{-1}  $$\n",
    "\n",
    "where a, b,c are the multipliers of the original $ C_P $ equation in respective order"
   ]
  },
  {
   "cell_type": "markdown",
   "metadata": {},
   "source": [
    "#### H20 (g):\n",
    "According to text book: 26000 J/mol"
   ]
  },
  {
   "cell_type": "code",
   "execution_count": 60,
   "metadata": {
    "collapsed": false
   },
   "outputs": [
    {
     "name": "stdout",
     "output_type": "stream",
     "text": [
      "6208.656722609833\n",
      "2103.3432773901673\n",
      "6.209000000000001\n"
     ]
    }
   ],
   "source": [
    "def calculate_H(a,b,c):\n",
    "    return a*(1000-298.15)+b/2*(1000**2-298.15**2) - c*(1/1000-1/298.15)\n",
    "\n",
    "\n",
    "def calculate_H_298(a,b,c):\n",
    "    return a*(298.15)+b/2*(298.15**2) - c*(1/298.15)\n",
    "\n",
    "a=6.895\n",
    "b=2.882*10**(-3)\n",
    "c=0.240*10**5\n",
    "\n",
    "print(calculate_H(a,b,c))\n",
    "print(calculate_H_298(a,b,c))\n",
    "print(6.895*10**(-3)*1000+1.441*10**(-6)*1000**2-0.240*10**2*(1000**(-1))-2.103)"
   ]
  },
  {
   "cell_type": "markdown",
   "metadata": {},
   "source": [
    "#### O2 (g):\n",
    "According to text book: 22703 J/mol"
   ]
  },
  {
   "cell_type": "code",
   "execution_count": 61,
   "metadata": {
    "collapsed": false
   },
   "outputs": [
    {
     "name": "stdout",
     "output_type": "stream",
     "text": [
      "5349.727613124941\n"
     ]
    }
   ],
   "source": [
    "a=7.230\n",
    "b=0.838*10**(-3)\n",
    "c=-0.452*10**5\n",
    "\n",
    "\n",
    "print(calculate_H(a,b,c))"
   ]
  },
  {
   "cell_type": "markdown",
   "metadata": {},
   "source": [
    "#### C(graphite):\n",
    "According to text book: 11795 J/mol"
   ]
  },
  {
   "cell_type": "code",
   "execution_count": 62,
   "metadata": {
    "collapsed": false
   },
   "outputs": [
    {
     "name": "stdout",
     "output_type": "stream",
     "text": [
      "5190.209967192772\n"
     ]
    }
   ],
   "source": [
    "a=6.456\n",
    "b=1.532*10**(-3)\n",
    "c =-0.165*10**5\n",
    "\n",
    "\n",
    "print(calculate_H(a,b,c))"
   ]
  },
  {
   "cell_type": "markdown",
   "metadata": {},
   "source": [
    "#### H2(g):\n",
    "According to text book : 20680 J/ mol"
   ]
  },
  {
   "cell_type": "code",
   "execution_count": 63,
   "metadata": {
    "collapsed": false
   },
   "outputs": [
    {
     "name": "stdout",
     "output_type": "stream",
     "text": [
      "3572.612970060455\n"
     ]
    }
   ],
   "source": [
    "a=3.518\n",
    "b=1.532*10**(-3)\n",
    "c= 1.723*10**5\n",
    "\n",
    "\n",
    "print(calculate_H(a,b,c))"
   ]
  },
  {
   "cell_type": "markdown",
   "metadata": {},
   "source": [
    "#### CO(g)\n",
    "According to text book: 21690 J/mol"
   ]
  },
  {
   "cell_type": "code",
   "execution_count": 64,
   "metadata": {
    "collapsed": false
   },
   "outputs": [
    {
     "name": "stdout",
     "output_type": "stream",
     "text": [
      "5197.256835462481\n"
     ]
    }
   ],
   "source": [
    "a=6.708\n",
    "b=1.106*10**(-3)\n",
    "c=-0.062*10**5\n",
    "\n",
    "\n",
    "print(calculate_H(a,b,c))"
   ]
  },
  {
   "cell_type": "markdown",
   "metadata": {},
   "source": [
    "Solving for x:\n",
    "\n",
    "$$ x????$$\n",
    "\n",
    "The ratio for the amount of CO compared to H2 is given by:\n",
    "\n",
    "$$\\frac{1+2x}{1}$$"
   ]
  },
  {
   "cell_type": "code",
   "execution_count": 65,
   "metadata": {
    "collapsed": false
   },
   "outputs": [
    {
     "name": "stdout",
     "output_type": "stream",
     "text": [
      "0.75\n",
      "0.25\n"
     ]
    }
   ],
   "source": [
    "x=1\n",
    "result=(1+2*x)/(2+2*x)\n",
    "print(result)\n",
    "print(1-result)"
   ]
  },
  {
   "cell_type": "markdown",
   "metadata": {},
   "source": [
    "#### Answer:\n",
    "The product gas composition is approximately x% $CO$, x % $H_2$\n",
    "\n",
    "---"
   ]
  }
 ],
 "metadata": {
  "kernelspec": {
   "display_name": "Python [Root]",
   "language": "python",
   "name": "Python [Root]"
  },
  "language_info": {
   "codemirror_mode": {
    "name": "ipython",
    "version": 3
   },
   "file_extension": ".py",
   "mimetype": "text/x-python",
   "name": "python",
   "nbconvert_exporter": "python",
   "pygments_lexer": "ipython3",
   "version": "3.5.2"
  }
 },
 "nbformat": 4,
 "nbformat_minor": 0
}
