{
 "cells": [
  {
   "cell_type": "code",
   "execution_count": 22,
   "metadata": {
    "collapsed": false
   },
   "outputs": [
    {
     "data": {
      "text/html": [
       "\n",
       "    <div class=\"bk-root\">\n",
       "        <a href=\"http://bokeh.pydata.org\" target=\"_blank\" class=\"bk-logo bk-logo-small bk-logo-notebook\"></a>\n",
       "        <span id=\"dc445fb5-d161-44da-a36b-1f2ea7ef02fc\">Loading BokehJS ...</span>\n",
       "    </div>"
      ]
     },
     "metadata": {},
     "output_type": "display_data"
    },
    {
     "data": {
      "application/javascript": [
       "\n",
       "(function(global) {\n",
       "  function now() {\n",
       "    return new Date();\n",
       "  }\n",
       "\n",
       "  var force = \"1\";\n",
       "\n",
       "  if (typeof (window._bokeh_onload_callbacks) === \"undefined\" || force !== \"\") {\n",
       "    window._bokeh_onload_callbacks = [];\n",
       "    window._bokeh_is_loading = undefined;\n",
       "  }\n",
       "\n",
       "\n",
       "  \n",
       "  if (typeof (window._bokeh_timeout) === \"undefined\" || force !== \"\") {\n",
       "    window._bokeh_timeout = Date.now() + 5000;\n",
       "    window._bokeh_failed_load = false;\n",
       "  }\n",
       "\n",
       "  var NB_LOAD_WARNING = {'data': {'text/html':\n",
       "     \"<div style='background-color: #fdd'>\\n\"+\n",
       "     \"<p>\\n\"+\n",
       "     \"BokehJS does not appear to have successfully loaded. If loading BokehJS from CDN, this \\n\"+\n",
       "     \"may be due to a slow or bad network connection. Possible fixes:\\n\"+\n",
       "     \"</p>\\n\"+\n",
       "     \"<ul>\\n\"+\n",
       "     \"<li>re-rerun `output_notebook()` to attempt to load from CDN again, or</li>\\n\"+\n",
       "     \"<li>use INLINE resources instead, as so:</li>\\n\"+\n",
       "     \"</ul>\\n\"+\n",
       "     \"<code>\\n\"+\n",
       "     \"from bokeh.resources import INLINE\\n\"+\n",
       "     \"output_notebook(resources=INLINE)\\n\"+\n",
       "     \"</code>\\n\"+\n",
       "     \"</div>\"}};\n",
       "\n",
       "  function display_loaded() {\n",
       "    if (window.Bokeh !== undefined) {\n",
       "      Bokeh.$(\"#dc445fb5-d161-44da-a36b-1f2ea7ef02fc\").text(\"BokehJS successfully loaded.\");\n",
       "    } else if (Date.now() < window._bokeh_timeout) {\n",
       "      setTimeout(display_loaded, 100)\n",
       "    }\n",
       "  }\n",
       "\n",
       "  function run_callbacks() {\n",
       "    window._bokeh_onload_callbacks.forEach(function(callback) { callback() });\n",
       "    delete window._bokeh_onload_callbacks\n",
       "    console.info(\"Bokeh: all callbacks have finished\");\n",
       "  }\n",
       "\n",
       "  function load_libs(js_urls, callback) {\n",
       "    window._bokeh_onload_callbacks.push(callback);\n",
       "    if (window._bokeh_is_loading > 0) {\n",
       "      console.log(\"Bokeh: BokehJS is being loaded, scheduling callback at\", now());\n",
       "      return null;\n",
       "    }\n",
       "    if (js_urls == null || js_urls.length === 0) {\n",
       "      run_callbacks();\n",
       "      return null;\n",
       "    }\n",
       "    console.log(\"Bokeh: BokehJS not loaded, scheduling load and callback at\", now());\n",
       "    window._bokeh_is_loading = js_urls.length;\n",
       "    for (var i = 0; i < js_urls.length; i++) {\n",
       "      var url = js_urls[i];\n",
       "      var s = document.createElement('script');\n",
       "      s.src = url;\n",
       "      s.async = false;\n",
       "      s.onreadystatechange = s.onload = function() {\n",
       "        window._bokeh_is_loading--;\n",
       "        if (window._bokeh_is_loading === 0) {\n",
       "          console.log(\"Bokeh: all BokehJS libraries loaded\");\n",
       "          run_callbacks()\n",
       "        }\n",
       "      };\n",
       "      s.onerror = function() {\n",
       "        console.warn(\"failed to load library \" + url);\n",
       "      };\n",
       "      console.log(\"Bokeh: injecting script tag for BokehJS library: \", url);\n",
       "      document.getElementsByTagName(\"head\")[0].appendChild(s);\n",
       "    }\n",
       "  };var element = document.getElementById(\"dc445fb5-d161-44da-a36b-1f2ea7ef02fc\");\n",
       "  if (element == null) {\n",
       "    console.log(\"Bokeh: ERROR: autoload.js configured with elementid 'dc445fb5-d161-44da-a36b-1f2ea7ef02fc' but no matching script tag was found. \")\n",
       "    return false;\n",
       "  }\n",
       "\n",
       "  var js_urls = ['https://cdn.pydata.org/bokeh/release/bokeh-0.12.2.min.js', 'https://cdn.pydata.org/bokeh/release/bokeh-widgets-0.12.2.min.js', 'https://cdn.pydata.org/bokeh/release/bokeh-compiler-0.12.2.min.js'];\n",
       "\n",
       "  var inline_js = [\n",
       "    function(Bokeh) {\n",
       "      Bokeh.set_log_level(\"info\");\n",
       "    },\n",
       "    \n",
       "    function(Bokeh) {\n",
       "      \n",
       "      Bokeh.$(\"#dc445fb5-d161-44da-a36b-1f2ea7ef02fc\").text(\"BokehJS is loading...\");\n",
       "    },\n",
       "    function(Bokeh) {\n",
       "      console.log(\"Bokeh: injecting CSS: https://cdn.pydata.org/bokeh/release/bokeh-0.12.2.min.css\");\n",
       "      Bokeh.embed.inject_css(\"https://cdn.pydata.org/bokeh/release/bokeh-0.12.2.min.css\");\n",
       "      console.log(\"Bokeh: injecting CSS: https://cdn.pydata.org/bokeh/release/bokeh-widgets-0.12.2.min.css\");\n",
       "      Bokeh.embed.inject_css(\"https://cdn.pydata.org/bokeh/release/bokeh-widgets-0.12.2.min.css\");\n",
       "    }\n",
       "  ];\n",
       "\n",
       "  function run_inline_js() {\n",
       "    \n",
       "    if ((window.Bokeh !== undefined) || (force === \"1\")) {\n",
       "      for (var i = 0; i < inline_js.length; i++) {\n",
       "        inline_js[i](window.Bokeh);\n",
       "      }if (force === \"1\") {\n",
       "        display_loaded();\n",
       "      }} else if (Date.now() < window._bokeh_timeout) {\n",
       "      setTimeout(run_inline_js, 100);\n",
       "    } else if (!window._bokeh_failed_load) {\n",
       "      console.log(\"Bokeh: BokehJS failed to load within specified timeout.\");\n",
       "      window._bokeh_failed_load = true;\n",
       "    } else if (!force) {\n",
       "      var cell = $(\"#dc445fb5-d161-44da-a36b-1f2ea7ef02fc\").parents('.cell').data().cell;\n",
       "      cell.output_area.append_execute_result(NB_LOAD_WARNING)\n",
       "    }\n",
       "\n",
       "  }\n",
       "\n",
       "  if (window._bokeh_is_loading === 0) {\n",
       "    console.log(\"Bokeh: BokehJS loaded, going straight to plotting\");\n",
       "    run_inline_js();\n",
       "  } else {\n",
       "    load_libs(js_urls, function() {\n",
       "      console.log(\"Bokeh: BokehJS plotting callback run at\", now());\n",
       "      run_inline_js();\n",
       "    });\n",
       "  }\n",
       "}(this));"
      ]
     },
     "metadata": {},
     "output_type": "display_data"
    }
   ],
   "source": [
    "import numpy as np\n",
    "import bokeh as bk\n",
    "from bokeh.io import push_notebook\n",
    "import bokeh.plotting as bkp\n",
    "import bokeh.models as bkm\n",
    "from bokeh.io import push_notebook\n",
    "from ipywidgets import interact\n",
    "import ipywidgets as widgets\n",
    "bkp.output_notebook()"
   ]
  },
  {
   "cell_type": "markdown",
   "metadata": {},
   "source": [
    "# Chapter 9 homework\n",
    "\n",
    "## Mikko Karkkainen 11740378"
   ]
  },
  {
   "cell_type": "markdown",
   "metadata": {},
   "source": [
    "## Problem 1"
   ]
  },
  {
   "cell_type": "markdown",
   "metadata": {},
   "source": [
    "Derive the following equation:\n",
    "\n",
    "$$ \\ln(f/P) = \\int_{0}^{P} [(Z-1)/P]dP $$"
   ]
  },
  {
   "cell_type": "markdown",
   "metadata": {},
   "source": [
    "Compressibility factor:"
   ]
  },
  {
   "cell_type": "markdown",
   "metadata": {},
   "source": [
    "$$ Z = \\frac{PV}{RT} = 1+ B_2P/ RT + \\Big[ \\frac{B_3-B_2^2}{R^2T^2} \\Big] P^2 $$"
   ]
  },
  {
   "cell_type": "markdown",
   "metadata": {},
   "source": [
    "At constant $T$:"
   ]
  },
  {
   "cell_type": "markdown",
   "metadata": {},
   "source": [
    "$$ RT d \\ln f = V dP$$"
   ]
  },
  {
   "cell_type": "markdown",
   "metadata": {},
   "source": [
    "Substituting for $V$:"
   ]
  },
  {
   "cell_type": "markdown",
   "metadata": {},
   "source": [
    "$$ RT d \\ln f - RT d \\ln P = RT d \\ln (f/P) = B_2 d P + \\Big[ \\frac{B_3-B_2^2}{RT} \\Big] P dP $$"
   ]
  },
  {
   "cell_type": "markdown",
   "metadata": {},
   "source": [
    "Refactoring and integrating:"
   ]
  },
  {
   "cell_type": "markdown",
   "metadata": {},
   "source": [
    "$$ \\int_{0}^{P} RT d \\ln (f/P) = RT \\ln(f/P) = \\int_{0}^{P} \\Big[ B_2 +  \\frac{B_3-B_2^2}{RT}  P \\Big] dP $$"
   ]
  },
  {
   "cell_type": "markdown",
   "metadata": {},
   "source": [
    "$$ \\ln(f/P) = \\int_{0}^{P} \\Big[ \\frac{B_2}{RT} +  \\frac{B_3-B_2^2}{R^2T^2}  P \\Big] dP $$"
   ]
  },
  {
   "cell_type": "markdown",
   "metadata": {},
   "source": [
    "The expression in the integral must be equal to $ (Z-1)/P $:"
   ]
  },
  {
   "cell_type": "markdown",
   "metadata": {},
   "source": [
    "$$ (Z-1)/P = \\frac{B_2}{RT} +  \\frac{B_3-B_2^2}{R^2T^2}  P $$ "
   ]
  },
  {
   "cell_type": "markdown",
   "metadata": {},
   "source": [
    "Solving for Z:"
   ]
  },
  {
   "cell_type": "markdown",
   "metadata": {},
   "source": [
    "$$ Z = 1 + \\frac{B_2P}{RT} +  \\frac{B_3-B_2^2}{R^2T^2}  P^2 $$ "
   ]
  },
  {
   "cell_type": "markdown",
   "metadata": {},
   "source": [
    "which is the same as the definition of Z"
   ]
  },
  {
   "cell_type": "markdown",
   "metadata": {},
   "source": [
    "## Problem 2:"
   ]
  },
  {
   "cell_type": "markdown",
   "metadata": {},
   "source": [
    "Plot the activity and logarithm of activity coeffficient of Fe and  Ni in liquid Fe-Ni system versus the mole fraction of Ni, (x2), by using the following data: "
   ]
  },
  {
   "cell_type": "markdown",
   "metadata": {},
   "source": [
    "From the lecture slides:\n",
    "<table>\n",
    "    <tr>\n",
    "        <th> $ x_{Ni}  $</th>\n",
    "        <td>  0.1  </td>\n",
    "        <td>  0.2  </td>\n",
    "        <td>  0.4  </td>\n",
    "        <td>  0.6  </td>\n",
    "        <td>  0.8  </td>\n",
    "        <td>  0.9  </td>\n",
    "    </tr>\n",
    "    <tr>\n",
    "        <th> $a_{Ni} $</th>\n",
    "        <td>$ 0.070 $</td>\n",
    "        <td>$ 0.141 $</td>\n",
    "        <td> $ 0.290 $ </td>\n",
    "        <td>$ 0.485 $</td>\n",
    "        <td>$ 0.758 $</td>\n",
    "        <td> $ 0.888 $ </td>\n",
    "    </tr>\n",
    "    <tr>\n",
    "        <th>$ a_{Fe} $</th>\n",
    "        <td>$ 0.898 $</td>\n",
    "        <td>$ 0.796 $</td>\n",
    "        <td> $ 0.590 $ </td>\n",
    "        <td>$ 0.346 $</td>\n",
    "        <td>$ 0.119 $</td>\n",
    "        <td> $ 0.047$ </td>\n",
    "    </tr>\n",
    "</table>  "
   ]
  },
  {
   "cell_type": "markdown",
   "metadata": {},
   "source": [
    "From Factsage:"
   ]
  },
  {
   "cell_type": "markdown",
   "metadata": {},
   "source": [
    "\n",
    "<table width = \"100%\">\n",
    "    <tr>\n",
    "        <th> $ x_{Ni} $ </th>\n",
    "        <td>  0  </td>\n",
    "        <td>  0.1  </td>\n",
    "        <td>  0.2  </td>\n",
    "        <td>  0.3  </td>\n",
    "        <td>  0.4  </td>\n",
    "        <td>  0.5  </td>\n",
    "        <td>  0.6  </td>\n",
    "        <td>  0.7  </td>\n",
    "        <td>  0.8  </td>\n",
    "        <td>  0.9  </td>\n",
    "        <td>  1.0  </td>\n",
    "    </tr>\n",
    "    <tr>\n",
    "        <th>  $a_{Ni} $ </th>\n",
    "        <td>  0 </td>\n",
    "        <td> $ 7.40 \\cdot 10^{-2} $</td>\n",
    "        <td>$ 1.51 \\cdot 10^{-1}  $</td>\n",
    "        <td> $ 2.35 \\cdot 10^{-1} $ </td>\n",
    "        <td>$ 3.27 \\cdot 10^{-1} $</td>\n",
    "        <td>$ 4.28 \\cdot 10^{-1} $</td>\n",
    "        <td> $ 5.38 \\cdot 10^{-1} $ </td>\n",
    "        <td> $ 6.55 \\cdot 10^{-1} $ </td>\n",
    "        <td> $ 7.75 \\cdot 10^{-1} $ </td>\n",
    "        <td> $ 8.92 \\cdot 10^{-1} $ </td>\n",
    "        <td> $ 1 $ </td>\n",
    "    </tr>\n",
    "    <tr>\n",
    "        <th> $a_{Fe}$ </th>\n",
    "        <td> $ 1 $ </td>\n",
    "        <td> $ 8.99 \\cdot 10^{-1} $ </td>\n",
    "        <td> $ 7.96 \\cdot 10^{-1} $ </td>\n",
    "        <td> $ 6.88 \\cdot 10^{-1} $ </td>\n",
    "        <td> $ 6.36 \\cdot 10^{-2} $</td>\n",
    "        <td> $ 5.77 \\cdot 10^{-1} $ </td>\n",
    "        <td>$ 4.63 \\cdot 10^{-1} $</td>\n",
    "        <td>$ 3.50 \\cdot 10^{-1} $</td>     \n",
    "        <td> $ 2.43 \\cdot 10^{-1} $ </td>\n",
    "        <td>$ 1.46 \\cdot 10^{-1}  $</td>\n",
    "        <td>$ 0  $</td>\n",
    "    </tr>\n",
    "</table>  "
   ]
  },
  {
   "cell_type": "markdown",
   "metadata": {},
   "source": [
    "Plot:"
   ]
  },
  {
   "cell_type": "code",
   "execution_count": 40,
   "metadata": {
    "collapsed": false
   },
   "outputs": [],
   "source": [
    "x_ni=np.array([0,0.1,0.2,0.4,0.6,0.8,0.9,1])\n",
    "a_ni_a=np.array([0, 0.07, 0.141, 0.290, 0.485, 0.758, 0.888, 1])\n",
    "a_fe_a=np.array([1, 0.898, 0.796, 0.590, 0.346, 0.119, 0.047, 0])\n",
    "a_ni_b=np.array([0, 0.074, 0.151, 0.327, 0.538, 0.775, 0.892, 1])\n",
    "a_fe_b=np.array([1, 0.899, 0.796, 0.636, 0.463, 0.243, 0.146, 0])"
   ]
  },
  {
   "cell_type": "code",
   "execution_count": 41,
   "metadata": {
    "collapsed": false,
    "scrolled": true
   },
   "outputs": [
    {
     "data": {
      "text/html": [
       "\n",
       "\n",
       "    <div class=\"bk-root\">\n",
       "        <div class=\"plotdiv\" id=\"b170ab6f-d482-465a-ad4a-45313e1b2e74\"></div>\n",
       "    </div>\n",
       "<script type=\"text/javascript\">\n",
       "  \n",
       "  (function(global) {\n",
       "    function now() {\n",
       "      return new Date();\n",
       "    }\n",
       "  \n",
       "    var force = \"\";\n",
       "  \n",
       "    if (typeof (window._bokeh_onload_callbacks) === \"undefined\" || force !== \"\") {\n",
       "      window._bokeh_onload_callbacks = [];\n",
       "      window._bokeh_is_loading = undefined;\n",
       "    }\n",
       "  \n",
       "  \n",
       "    \n",
       "    if (typeof (window._bokeh_timeout) === \"undefined\" || force !== \"\") {\n",
       "      window._bokeh_timeout = Date.now() + 0;\n",
       "      window._bokeh_failed_load = false;\n",
       "    }\n",
       "  \n",
       "    var NB_LOAD_WARNING = {'data': {'text/html':\n",
       "       \"<div style='background-color: #fdd'>\\n\"+\n",
       "       \"<p>\\n\"+\n",
       "       \"BokehJS does not appear to have successfully loaded. If loading BokehJS from CDN, this \\n\"+\n",
       "       \"may be due to a slow or bad network connection. Possible fixes:\\n\"+\n",
       "       \"</p>\\n\"+\n",
       "       \"<ul>\\n\"+\n",
       "       \"<li>re-rerun `output_notebook()` to attempt to load from CDN again, or</li>\\n\"+\n",
       "       \"<li>use INLINE resources instead, as so:</li>\\n\"+\n",
       "       \"</ul>\\n\"+\n",
       "       \"<code>\\n\"+\n",
       "       \"from bokeh.resources import INLINE\\n\"+\n",
       "       \"output_notebook(resources=INLINE)\\n\"+\n",
       "       \"</code>\\n\"+\n",
       "       \"</div>\"}};\n",
       "  \n",
       "    function display_loaded() {\n",
       "      if (window.Bokeh !== undefined) {\n",
       "        Bokeh.$(\"#b170ab6f-d482-465a-ad4a-45313e1b2e74\").text(\"BokehJS successfully loaded.\");\n",
       "      } else if (Date.now() < window._bokeh_timeout) {\n",
       "        setTimeout(display_loaded, 100)\n",
       "      }\n",
       "    }\n",
       "  \n",
       "    function run_callbacks() {\n",
       "      window._bokeh_onload_callbacks.forEach(function(callback) { callback() });\n",
       "      delete window._bokeh_onload_callbacks\n",
       "      console.info(\"Bokeh: all callbacks have finished\");\n",
       "    }\n",
       "  \n",
       "    function load_libs(js_urls, callback) {\n",
       "      window._bokeh_onload_callbacks.push(callback);\n",
       "      if (window._bokeh_is_loading > 0) {\n",
       "        console.log(\"Bokeh: BokehJS is being loaded, scheduling callback at\", now());\n",
       "        return null;\n",
       "      }\n",
       "      if (js_urls == null || js_urls.length === 0) {\n",
       "        run_callbacks();\n",
       "        return null;\n",
       "      }\n",
       "      console.log(\"Bokeh: BokehJS not loaded, scheduling load and callback at\", now());\n",
       "      window._bokeh_is_loading = js_urls.length;\n",
       "      for (var i = 0; i < js_urls.length; i++) {\n",
       "        var url = js_urls[i];\n",
       "        var s = document.createElement('script');\n",
       "        s.src = url;\n",
       "        s.async = false;\n",
       "        s.onreadystatechange = s.onload = function() {\n",
       "          window._bokeh_is_loading--;\n",
       "          if (window._bokeh_is_loading === 0) {\n",
       "            console.log(\"Bokeh: all BokehJS libraries loaded\");\n",
       "            run_callbacks()\n",
       "          }\n",
       "        };\n",
       "        s.onerror = function() {\n",
       "          console.warn(\"failed to load library \" + url);\n",
       "        };\n",
       "        console.log(\"Bokeh: injecting script tag for BokehJS library: \", url);\n",
       "        document.getElementsByTagName(\"head\")[0].appendChild(s);\n",
       "      }\n",
       "    };var element = document.getElementById(\"b170ab6f-d482-465a-ad4a-45313e1b2e74\");\n",
       "    if (element == null) {\n",
       "      console.log(\"Bokeh: ERROR: autoload.js configured with elementid 'b170ab6f-d482-465a-ad4a-45313e1b2e74' but no matching script tag was found. \")\n",
       "      return false;\n",
       "    }\n",
       "  \n",
       "    var js_urls = [];\n",
       "  \n",
       "    var inline_js = [\n",
       "      function(Bokeh) {\n",
       "        Bokeh.$(function() {\n",
       "            var docs_json = {\"329f7575-e0c6-4f5b-9491-95da5c5c5bc4\":{\"roots\":{\"references\":[{\"attributes\":{\"formatter\":{\"id\":\"b2137248-5685-4d81-94c5-f8deae3a4087\",\"type\":\"BasicTickFormatter\"},\"plot\":{\"id\":\"1d11a04a-04f9-4eaa-8adc-43ca5006f568\",\"subtype\":\"Figure\",\"type\":\"Plot\"},\"ticker\":{\"id\":\"73e0a93e-e1f8-433d-ba39-120bf193a66b\",\"type\":\"BasicTicker\"}},\"id\":\"76c08502-6b86-49e8-9887-264aabcdf5b5\",\"type\":\"LinearAxis\"},{\"attributes\":{\"fill_alpha\":{\"value\":0},\"fill_color\":{\"value\":\"red\"},\"line_color\":{\"value\":\"red\"},\"x\":{\"field\":\"x\"},\"y\":{\"field\":\"y\"}},\"id\":\"c4a09db0-a31b-4b8e-8c84-7d069d3feaba\",\"type\":\"Circle\"},{\"attributes\":{\"plot\":{\"id\":\"1d11a04a-04f9-4eaa-8adc-43ca5006f568\",\"subtype\":\"Figure\",\"type\":\"Plot\"}},\"id\":\"cad439a3-2399-4327-bd4c-39964a2744e8\",\"type\":\"WheelZoomTool\"},{\"attributes\":{\"callback\":null},\"id\":\"e19c2fa4-cac2-4b9d-9ab8-2fbd3e047a0d\",\"type\":\"DataRange1d\"},{\"attributes\":{\"plot\":{\"id\":\"1d11a04a-04f9-4eaa-8adc-43ca5006f568\",\"subtype\":\"Figure\",\"type\":\"Plot\"}},\"id\":\"654ae7e8-d09f-41d7-84f5-74eb803913e0\",\"type\":\"ResetTool\"},{\"attributes\":{\"plot\":{\"id\":\"1d11a04a-04f9-4eaa-8adc-43ca5006f568\",\"subtype\":\"Figure\",\"type\":\"Plot\"}},\"id\":\"d191b851-c8a3-4f0d-8f83-d4bf99983bd2\",\"type\":\"HelpTool\"},{\"attributes\":{\"callback\":null,\"column_names\":[\"y\",\"x\"],\"data\":{\"x\":[0.0,0.1,0.2,0.4,0.6,0.8,0.9,1.0],\"y\":[0.0,0.074,0.151,0.327,0.538,0.775,0.892,1.0]}},\"id\":\"ac625fc0-344d-4a79-a38a-a1a51cdf8085\",\"type\":\"ColumnDataSource\"},{\"attributes\":{\"plot\":{\"id\":\"1d11a04a-04f9-4eaa-8adc-43ca5006f568\",\"subtype\":\"Figure\",\"type\":\"Plot\"}},\"id\":\"2d98f08b-f33d-493d-9c82-9773b3c34631\",\"type\":\"PanTool\"},{\"attributes\":{\"bottom_units\":\"screen\",\"fill_alpha\":{\"value\":0.5},\"fill_color\":{\"value\":\"lightgrey\"},\"left_units\":\"screen\",\"level\":\"overlay\",\"line_alpha\":{\"value\":1.0},\"line_color\":{\"value\":\"black\"},\"line_dash\":[4,4],\"line_width\":{\"value\":2},\"plot\":null,\"render_mode\":\"css\",\"right_units\":\"screen\",\"top_units\":\"screen\"},\"id\":\"8e80bf6f-0f54-496b-afea-3c6d0465bca3\",\"type\":\"BoxAnnotation\"},{\"attributes\":{\"formatter\":{\"id\":\"8b7408ff-18da-45d3-b3d7-ebac9101ed9c\",\"type\":\"BasicTickFormatter\"},\"plot\":{\"id\":\"1d11a04a-04f9-4eaa-8adc-43ca5006f568\",\"subtype\":\"Figure\",\"type\":\"Plot\"},\"ticker\":{\"id\":\"db0f6f82-7680-4c7b-94fb-0ba27e38fa89\",\"type\":\"BasicTicker\"}},\"id\":\"744a87ba-b46c-4a24-9be7-7a6eca71340f\",\"type\":\"LinearAxis\"},{\"attributes\":{},\"id\":\"b1aea54c-7aa3-4b61-9e2b-0aaa7fff7c2d\",\"type\":\"ToolEvents\"},{\"attributes\":{\"dimension\":1,\"plot\":{\"id\":\"1d11a04a-04f9-4eaa-8adc-43ca5006f568\",\"subtype\":\"Figure\",\"type\":\"Plot\"},\"ticker\":{\"id\":\"73e0a93e-e1f8-433d-ba39-120bf193a66b\",\"type\":\"BasicTicker\"}},\"id\":\"4b44fa85-7605-43ab-a19c-716ca8fa1468\",\"type\":\"Grid\"},{\"attributes\":{\"data_source\":{\"id\":\"16f364c0-63c3-41f9-a347-ca98c596e7ba\",\"type\":\"ColumnDataSource\"},\"glyph\":{\"id\":\"92c420dc-2b76-42cd-94de-5057b129cb35\",\"type\":\"Circle\"},\"hover_glyph\":null,\"nonselection_glyph\":{\"id\":\"839182cf-edba-4702-95f5-79616b77a901\",\"type\":\"Circle\"},\"selection_glyph\":null},\"id\":\"4b813823-e389-4225-95ac-91f995136d2d\",\"type\":\"GlyphRenderer\"},{\"attributes\":{},\"id\":\"8b7408ff-18da-45d3-b3d7-ebac9101ed9c\",\"type\":\"BasicTickFormatter\"},{\"attributes\":{},\"id\":\"db0f6f82-7680-4c7b-94fb-0ba27e38fa89\",\"type\":\"BasicTicker\"},{\"attributes\":{\"below\":[{\"id\":\"744a87ba-b46c-4a24-9be7-7a6eca71340f\",\"type\":\"LinearAxis\"}],\"left\":[{\"id\":\"76c08502-6b86-49e8-9887-264aabcdf5b5\",\"type\":\"LinearAxis\"}],\"plot_height\":300,\"plot_width\":500,\"renderers\":[{\"id\":\"744a87ba-b46c-4a24-9be7-7a6eca71340f\",\"type\":\"LinearAxis\"},{\"id\":\"998c08a2-801e-4e70-b345-e23ffab76b11\",\"type\":\"Grid\"},{\"id\":\"76c08502-6b86-49e8-9887-264aabcdf5b5\",\"type\":\"LinearAxis\"},{\"id\":\"4b44fa85-7605-43ab-a19c-716ca8fa1468\",\"type\":\"Grid\"},{\"id\":\"8e80bf6f-0f54-496b-afea-3c6d0465bca3\",\"type\":\"BoxAnnotation\"},{\"id\":\"608d03c5-11ee-49f9-9013-9412433811bc\",\"type\":\"Legend\"},{\"id\":\"4b813823-e389-4225-95ac-91f995136d2d\",\"type\":\"GlyphRenderer\"},{\"id\":\"855f026b-c999-4aef-a061-795ee2fa98ea\",\"type\":\"GlyphRenderer\"}],\"title\":{\"id\":\"9e9ba69d-5c3f-4e79-b9b6-4a471be70994\",\"type\":\"Title\"},\"tool_events\":{\"id\":\"b1aea54c-7aa3-4b61-9e2b-0aaa7fff7c2d\",\"type\":\"ToolEvents\"},\"toolbar\":{\"id\":\"6677312c-3187-47af-ad80-674b99684084\",\"type\":\"Toolbar\"},\"x_range\":{\"id\":\"e19c2fa4-cac2-4b9d-9ab8-2fbd3e047a0d\",\"type\":\"DataRange1d\"},\"y_range\":{\"id\":\"d19a9853-e870-4d65-9a25-27ec0bd9d1e4\",\"type\":\"DataRange1d\"}},\"id\":\"1d11a04a-04f9-4eaa-8adc-43ca5006f568\",\"subtype\":\"Figure\",\"type\":\"Plot\"},{\"attributes\":{\"plot\":{\"id\":\"1d11a04a-04f9-4eaa-8adc-43ca5006f568\",\"subtype\":\"Figure\",\"type\":\"Plot\"},\"ticker\":{\"id\":\"db0f6f82-7680-4c7b-94fb-0ba27e38fa89\",\"type\":\"BasicTicker\"}},\"id\":\"998c08a2-801e-4e70-b345-e23ffab76b11\",\"type\":\"Grid\"},{\"attributes\":{},\"id\":\"73e0a93e-e1f8-433d-ba39-120bf193a66b\",\"type\":\"BasicTicker\"},{\"attributes\":{\"active_drag\":\"auto\",\"active_scroll\":\"auto\",\"active_tap\":\"auto\",\"tools\":[{\"id\":\"2d98f08b-f33d-493d-9c82-9773b3c34631\",\"type\":\"PanTool\"},{\"id\":\"cad439a3-2399-4327-bd4c-39964a2744e8\",\"type\":\"WheelZoomTool\"},{\"id\":\"aa46db9e-b76a-4272-bd23-0d00672acacc\",\"type\":\"BoxZoomTool\"},{\"id\":\"516657a4-5b6b-4e41-9479-a0c2e549a651\",\"type\":\"SaveTool\"},{\"id\":\"654ae7e8-d09f-41d7-84f5-74eb803913e0\",\"type\":\"ResetTool\"},{\"id\":\"d191b851-c8a3-4f0d-8f83-d4bf99983bd2\",\"type\":\"HelpTool\"}]},\"id\":\"6677312c-3187-47af-ad80-674b99684084\",\"type\":\"Toolbar\"},{\"attributes\":{\"fill_alpha\":{\"value\":0.1},\"fill_color\":{\"value\":\"#1f77b4\"},\"line_alpha\":{\"value\":0.1},\"line_color\":{\"value\":\"#1f77b4\"},\"x\":{\"field\":\"x\"},\"y\":{\"field\":\"y\"}},\"id\":\"4cafde92-3900-46a9-b012-8b5beee2d550\",\"type\":\"Circle\"},{\"attributes\":{\"overlay\":{\"id\":\"8e80bf6f-0f54-496b-afea-3c6d0465bca3\",\"type\":\"BoxAnnotation\"},\"plot\":{\"id\":\"1d11a04a-04f9-4eaa-8adc-43ca5006f568\",\"subtype\":\"Figure\",\"type\":\"Plot\"}},\"id\":\"aa46db9e-b76a-4272-bd23-0d00672acacc\",\"type\":\"BoxZoomTool\"},{\"attributes\":{\"data_source\":{\"id\":\"ac625fc0-344d-4a79-a38a-a1a51cdf8085\",\"type\":\"ColumnDataSource\"},\"glyph\":{\"id\":\"c4a09db0-a31b-4b8e-8c84-7d069d3feaba\",\"type\":\"Circle\"},\"hover_glyph\":null,\"nonselection_glyph\":{\"id\":\"4cafde92-3900-46a9-b012-8b5beee2d550\",\"type\":\"Circle\"},\"selection_glyph\":null},\"id\":\"855f026b-c999-4aef-a061-795ee2fa98ea\",\"type\":\"GlyphRenderer\"},{\"attributes\":{\"legends\":[[\"Nickel book\",[{\"id\":\"4b813823-e389-4225-95ac-91f995136d2d\",\"type\":\"GlyphRenderer\"}]],[\"Nickel factsage\",[{\"id\":\"855f026b-c999-4aef-a061-795ee2fa98ea\",\"type\":\"GlyphRenderer\"}]]],\"plot\":{\"id\":\"1d11a04a-04f9-4eaa-8adc-43ca5006f568\",\"subtype\":\"Figure\",\"type\":\"Plot\"}},\"id\":\"608d03c5-11ee-49f9-9013-9412433811bc\",\"type\":\"Legend\"},{\"attributes\":{\"fill_color\":{\"value\":\"#1f77b4\"},\"line_color\":{\"value\":\"#1f77b4\"},\"x\":{\"field\":\"x\"},\"y\":{\"field\":\"y\"}},\"id\":\"92c420dc-2b76-42cd-94de-5057b129cb35\",\"type\":\"Circle\"},{\"attributes\":{\"callback\":null},\"id\":\"d19a9853-e870-4d65-9a25-27ec0bd9d1e4\",\"type\":\"DataRange1d\"},{\"attributes\":{},\"id\":\"b2137248-5685-4d81-94c5-f8deae3a4087\",\"type\":\"BasicTickFormatter\"},{\"attributes\":{\"callback\":null,\"column_names\":[\"y\",\"x\"],\"data\":{\"x\":[0.0,0.1,0.2,0.4,0.6,0.8,0.9,1.0],\"y\":[0.0,0.07,0.141,0.29,0.485,0.758,0.888,1.0]}},\"id\":\"16f364c0-63c3-41f9-a347-ca98c596e7ba\",\"type\":\"ColumnDataSource\"},{\"attributes\":{\"plot\":{\"id\":\"1d11a04a-04f9-4eaa-8adc-43ca5006f568\",\"subtype\":\"Figure\",\"type\":\"Plot\"}},\"id\":\"516657a4-5b6b-4e41-9479-a0c2e549a651\",\"type\":\"SaveTool\"},{\"attributes\":{\"plot\":null,\"text\":\"Nickel\"},\"id\":\"9e9ba69d-5c3f-4e79-b9b6-4a471be70994\",\"type\":\"Title\"},{\"attributes\":{\"fill_alpha\":{\"value\":0.1},\"fill_color\":{\"value\":\"#1f77b4\"},\"line_alpha\":{\"value\":0.1},\"line_color\":{\"value\":\"#1f77b4\"},\"x\":{\"field\":\"x\"},\"y\":{\"field\":\"y\"}},\"id\":\"839182cf-edba-4702-95f5-79616b77a901\",\"type\":\"Circle\"}],\"root_ids\":[\"1d11a04a-04f9-4eaa-8adc-43ca5006f568\"]},\"title\":\"Bokeh Application\",\"version\":\"0.12.2\"}};\n",
       "            var render_items = [{\"docid\":\"329f7575-e0c6-4f5b-9491-95da5c5c5bc4\",\"elementid\":\"b170ab6f-d482-465a-ad4a-45313e1b2e74\",\"modelid\":\"1d11a04a-04f9-4eaa-8adc-43ca5006f568\"}];\n",
       "            \n",
       "            Bokeh.embed.embed_items(docs_json, render_items);\n",
       "        });\n",
       "      },\n",
       "      function(Bokeh) {\n",
       "      }\n",
       "    ];\n",
       "  \n",
       "    function run_inline_js() {\n",
       "      \n",
       "      if ((window.Bokeh !== undefined) || (force === \"1\")) {\n",
       "        for (var i = 0; i < inline_js.length; i++) {\n",
       "          inline_js[i](window.Bokeh);\n",
       "        }if (force === \"1\") {\n",
       "          display_loaded();\n",
       "        }} else if (Date.now() < window._bokeh_timeout) {\n",
       "        setTimeout(run_inline_js, 100);\n",
       "      } else if (!window._bokeh_failed_load) {\n",
       "        console.log(\"Bokeh: BokehJS failed to load within specified timeout.\");\n",
       "        window._bokeh_failed_load = true;\n",
       "      } else if (!force) {\n",
       "        var cell = $(\"#b170ab6f-d482-465a-ad4a-45313e1b2e74\").parents('.cell').data().cell;\n",
       "        cell.output_area.append_execute_result(NB_LOAD_WARNING)\n",
       "      }\n",
       "  \n",
       "    }\n",
       "  \n",
       "    if (window._bokeh_is_loading === 0) {\n",
       "      console.log(\"Bokeh: BokehJS loaded, going straight to plotting\");\n",
       "      run_inline_js();\n",
       "    } else {\n",
       "      load_libs(js_urls, function() {\n",
       "        console.log(\"Bokeh: BokehJS plotting callback run at\", now());\n",
       "        run_inline_js();\n",
       "      });\n",
       "    }\n",
       "  }(this));\n",
       "</script>"
      ]
     },
     "metadata": {},
     "output_type": "display_data"
    }
   ],
   "source": [
    "f=bkp.figure(title=\"Nickel\",height=300,width=500)\n",
    "f.scatter(x_ni,a_ni_a, legend='Nickel book')\n",
    "f.scatter(x_ni,a_ni_b, color=\"red\", fill_alpha=0,legend='Nickel factsage')\n",
    "bkp.show(f)\n",
    "\n"
   ]
  },
  {
   "cell_type": "code",
   "execution_count": 42,
   "metadata": {
    "collapsed": false
   },
   "outputs": [
    {
     "data": {
      "text/html": [
       "\n",
       "\n",
       "    <div class=\"bk-root\">\n",
       "        <div class=\"plotdiv\" id=\"8e0201af-e473-4f03-94c1-792c702b42da\"></div>\n",
       "    </div>\n",
       "<script type=\"text/javascript\">\n",
       "  \n",
       "  (function(global) {\n",
       "    function now() {\n",
       "      return new Date();\n",
       "    }\n",
       "  \n",
       "    var force = \"\";\n",
       "  \n",
       "    if (typeof (window._bokeh_onload_callbacks) === \"undefined\" || force !== \"\") {\n",
       "      window._bokeh_onload_callbacks = [];\n",
       "      window._bokeh_is_loading = undefined;\n",
       "    }\n",
       "  \n",
       "  \n",
       "    \n",
       "    if (typeof (window._bokeh_timeout) === \"undefined\" || force !== \"\") {\n",
       "      window._bokeh_timeout = Date.now() + 0;\n",
       "      window._bokeh_failed_load = false;\n",
       "    }\n",
       "  \n",
       "    var NB_LOAD_WARNING = {'data': {'text/html':\n",
       "       \"<div style='background-color: #fdd'>\\n\"+\n",
       "       \"<p>\\n\"+\n",
       "       \"BokehJS does not appear to have successfully loaded. If loading BokehJS from CDN, this \\n\"+\n",
       "       \"may be due to a slow or bad network connection. Possible fixes:\\n\"+\n",
       "       \"</p>\\n\"+\n",
       "       \"<ul>\\n\"+\n",
       "       \"<li>re-rerun `output_notebook()` to attempt to load from CDN again, or</li>\\n\"+\n",
       "       \"<li>use INLINE resources instead, as so:</li>\\n\"+\n",
       "       \"</ul>\\n\"+\n",
       "       \"<code>\\n\"+\n",
       "       \"from bokeh.resources import INLINE\\n\"+\n",
       "       \"output_notebook(resources=INLINE)\\n\"+\n",
       "       \"</code>\\n\"+\n",
       "       \"</div>\"}};\n",
       "  \n",
       "    function display_loaded() {\n",
       "      if (window.Bokeh !== undefined) {\n",
       "        Bokeh.$(\"#8e0201af-e473-4f03-94c1-792c702b42da\").text(\"BokehJS successfully loaded.\");\n",
       "      } else if (Date.now() < window._bokeh_timeout) {\n",
       "        setTimeout(display_loaded, 100)\n",
       "      }\n",
       "    }\n",
       "  \n",
       "    function run_callbacks() {\n",
       "      window._bokeh_onload_callbacks.forEach(function(callback) { callback() });\n",
       "      delete window._bokeh_onload_callbacks\n",
       "      console.info(\"Bokeh: all callbacks have finished\");\n",
       "    }\n",
       "  \n",
       "    function load_libs(js_urls, callback) {\n",
       "      window._bokeh_onload_callbacks.push(callback);\n",
       "      if (window._bokeh_is_loading > 0) {\n",
       "        console.log(\"Bokeh: BokehJS is being loaded, scheduling callback at\", now());\n",
       "        return null;\n",
       "      }\n",
       "      if (js_urls == null || js_urls.length === 0) {\n",
       "        run_callbacks();\n",
       "        return null;\n",
       "      }\n",
       "      console.log(\"Bokeh: BokehJS not loaded, scheduling load and callback at\", now());\n",
       "      window._bokeh_is_loading = js_urls.length;\n",
       "      for (var i = 0; i < js_urls.length; i++) {\n",
       "        var url = js_urls[i];\n",
       "        var s = document.createElement('script');\n",
       "        s.src = url;\n",
       "        s.async = false;\n",
       "        s.onreadystatechange = s.onload = function() {\n",
       "          window._bokeh_is_loading--;\n",
       "          if (window._bokeh_is_loading === 0) {\n",
       "            console.log(\"Bokeh: all BokehJS libraries loaded\");\n",
       "            run_callbacks()\n",
       "          }\n",
       "        };\n",
       "        s.onerror = function() {\n",
       "          console.warn(\"failed to load library \" + url);\n",
       "        };\n",
       "        console.log(\"Bokeh: injecting script tag for BokehJS library: \", url);\n",
       "        document.getElementsByTagName(\"head\")[0].appendChild(s);\n",
       "      }\n",
       "    };var element = document.getElementById(\"8e0201af-e473-4f03-94c1-792c702b42da\");\n",
       "    if (element == null) {\n",
       "      console.log(\"Bokeh: ERROR: autoload.js configured with elementid '8e0201af-e473-4f03-94c1-792c702b42da' but no matching script tag was found. \")\n",
       "      return false;\n",
       "    }\n",
       "  \n",
       "    var js_urls = [];\n",
       "  \n",
       "    var inline_js = [\n",
       "      function(Bokeh) {\n",
       "        Bokeh.$(function() {\n",
       "            var docs_json = {\"35e3a481-1c57-4681-9e80-9d16a12d4e88\":{\"roots\":{\"references\":[{\"attributes\":{\"callback\":null,\"column_names\":[\"y\",\"x\"],\"data\":{\"x\":[0.0,0.1,0.2,0.4,0.6,0.8,0.9,1.0],\"y\":[1.0,0.898,0.796,0.59,0.346,0.119,0.047,0.0]}},\"id\":\"b9cc2489-4295-478a-8f34-6b52ee5d294a\",\"type\":\"ColumnDataSource\"},{\"attributes\":{\"formatter\":{\"id\":\"0c2b7818-4453-444a-acde-377b167a6909\",\"type\":\"BasicTickFormatter\"},\"plot\":{\"id\":\"e9fb3102-2c9f-49d9-9133-acb5847253cf\",\"subtype\":\"Figure\",\"type\":\"Plot\"},\"ticker\":{\"id\":\"fff1095a-8468-4de8-8fee-3ea3e89e7e1c\",\"type\":\"BasicTicker\"}},\"id\":\"1f5c2b70-d0f6-44ff-b02a-557da601c763\",\"type\":\"LinearAxis\"},{\"attributes\":{},\"id\":\"b66e6dcb-efc0-4028-9e72-903fc36fc027\",\"type\":\"BasicTickFormatter\"},{\"attributes\":{},\"id\":\"07e94bd7-91f3-43b1-99ca-1338d67f3376\",\"type\":\"ToolEvents\"},{\"attributes\":{\"dimension\":1,\"plot\":{\"id\":\"e9fb3102-2c9f-49d9-9133-acb5847253cf\",\"subtype\":\"Figure\",\"type\":\"Plot\"},\"ticker\":{\"id\":\"fff1095a-8468-4de8-8fee-3ea3e89e7e1c\",\"type\":\"BasicTicker\"}},\"id\":\"1be156db-d4b0-44bf-a128-af8769b2f60d\",\"type\":\"Grid\"},{\"attributes\":{\"data_source\":{\"id\":\"b9cc2489-4295-478a-8f34-6b52ee5d294a\",\"type\":\"ColumnDataSource\"},\"glyph\":{\"id\":\"da3c3a54-42cd-47aa-b3b4-4f69c2a26f4e\",\"type\":\"Circle\"},\"hover_glyph\":null,\"nonselection_glyph\":{\"id\":\"34ec1dd7-d59c-4a26-936d-3a9a3641e4ef\",\"type\":\"Circle\"},\"selection_glyph\":null},\"id\":\"04dc1734-306a-40a5-966c-7e29a05ff7dd\",\"type\":\"GlyphRenderer\"},{\"attributes\":{\"plot\":{\"id\":\"e9fb3102-2c9f-49d9-9133-acb5847253cf\",\"subtype\":\"Figure\",\"type\":\"Plot\"}},\"id\":\"0eb4531d-6e9b-49c4-bb68-31959c509543\",\"type\":\"SaveTool\"},{\"attributes\":{\"legends\":[[\"Iron book\",[{\"id\":\"04dc1734-306a-40a5-966c-7e29a05ff7dd\",\"type\":\"GlyphRenderer\"}]],[\"Iron factsage\",[{\"id\":\"98874e77-8b82-4fa9-a71b-5af3c77c82aa\",\"type\":\"GlyphRenderer\"}]]],\"plot\":{\"id\":\"e9fb3102-2c9f-49d9-9133-acb5847253cf\",\"subtype\":\"Figure\",\"type\":\"Plot\"}},\"id\":\"83e97385-6681-4443-8ec5-7c60e96b10ff\",\"type\":\"Legend\"},{\"attributes\":{},\"id\":\"0c2b7818-4453-444a-acde-377b167a6909\",\"type\":\"BasicTickFormatter\"},{\"attributes\":{\"fill_color\":{\"value\":\"#1f77b4\"},\"line_color\":{\"value\":\"#1f77b4\"},\"x\":{\"field\":\"x\"},\"y\":{\"field\":\"y\"}},\"id\":\"da3c3a54-42cd-47aa-b3b4-4f69c2a26f4e\",\"type\":\"Circle\"},{\"attributes\":{\"plot\":{\"id\":\"e9fb3102-2c9f-49d9-9133-acb5847253cf\",\"subtype\":\"Figure\",\"type\":\"Plot\"}},\"id\":\"f837af63-ec54-4085-9979-0987ba68d86e\",\"type\":\"ResetTool\"},{\"attributes\":{\"plot\":{\"id\":\"e9fb3102-2c9f-49d9-9133-acb5847253cf\",\"subtype\":\"Figure\",\"type\":\"Plot\"}},\"id\":\"c5e01e33-ec27-41de-bcb3-685e042b17b7\",\"type\":\"PanTool\"},{\"attributes\":{\"formatter\":{\"id\":\"b66e6dcb-efc0-4028-9e72-903fc36fc027\",\"type\":\"BasicTickFormatter\"},\"plot\":{\"id\":\"e9fb3102-2c9f-49d9-9133-acb5847253cf\",\"subtype\":\"Figure\",\"type\":\"Plot\"},\"ticker\":{\"id\":\"d5220d2e-7e6f-4be5-b028-85dc7f909a31\",\"type\":\"BasicTicker\"}},\"id\":\"94642b92-07c1-440c-8b98-be3347c80ab4\",\"type\":\"LinearAxis\"},{\"attributes\":{\"plot\":null,\"text\":\"Iron\"},\"id\":\"86dfe2d4-5ccf-46f6-b04b-1b05ca439261\",\"type\":\"Title\"},{\"attributes\":{\"plot\":{\"id\":\"e9fb3102-2c9f-49d9-9133-acb5847253cf\",\"subtype\":\"Figure\",\"type\":\"Plot\"}},\"id\":\"19a907e1-baf7-419f-9db3-c6856af96434\",\"type\":\"HelpTool\"},{\"attributes\":{\"callback\":null,\"column_names\":[\"y\",\"x\"],\"data\":{\"x\":[0.0,0.1,0.2,0.4,0.6,0.8,0.9,1.0],\"y\":[1.0,0.899,0.796,0.636,0.463,0.243,0.146,0.0]}},\"id\":\"0e6d1e80-f53e-4262-8f5d-7a09df68b03a\",\"type\":\"ColumnDataSource\"},{\"attributes\":{\"fill_alpha\":{\"value\":0.1},\"fill_color\":{\"value\":\"#1f77b4\"},\"line_alpha\":{\"value\":0.1},\"line_color\":{\"value\":\"#1f77b4\"},\"x\":{\"field\":\"x\"},\"y\":{\"field\":\"y\"}},\"id\":\"16307326-62cf-4906-a129-271724efd9b2\",\"type\":\"Circle\"},{\"attributes\":{\"data_source\":{\"id\":\"0e6d1e80-f53e-4262-8f5d-7a09df68b03a\",\"type\":\"ColumnDataSource\"},\"glyph\":{\"id\":\"fe6a533d-99f8-4a30-b5a2-d454de3986f9\",\"type\":\"Circle\"},\"hover_glyph\":null,\"nonselection_glyph\":{\"id\":\"16307326-62cf-4906-a129-271724efd9b2\",\"type\":\"Circle\"},\"selection_glyph\":null},\"id\":\"98874e77-8b82-4fa9-a71b-5af3c77c82aa\",\"type\":\"GlyphRenderer\"},{\"attributes\":{},\"id\":\"d5220d2e-7e6f-4be5-b028-85dc7f909a31\",\"type\":\"BasicTicker\"},{\"attributes\":{\"bottom_units\":\"screen\",\"fill_alpha\":{\"value\":0.5},\"fill_color\":{\"value\":\"lightgrey\"},\"left_units\":\"screen\",\"level\":\"overlay\",\"line_alpha\":{\"value\":1.0},\"line_color\":{\"value\":\"black\"},\"line_dash\":[4,4],\"line_width\":{\"value\":2},\"plot\":null,\"render_mode\":\"css\",\"right_units\":\"screen\",\"top_units\":\"screen\"},\"id\":\"243b04dd-4686-4eb5-bc18-e002d627712d\",\"type\":\"BoxAnnotation\"},{\"attributes\":{\"active_drag\":\"auto\",\"active_scroll\":\"auto\",\"active_tap\":\"auto\",\"tools\":[{\"id\":\"c5e01e33-ec27-41de-bcb3-685e042b17b7\",\"type\":\"PanTool\"},{\"id\":\"e8abaef2-7579-4c9e-8dc4-9ae9930b883c\",\"type\":\"WheelZoomTool\"},{\"id\":\"4fc110a4-932f-488a-a4ca-012d35ad8076\",\"type\":\"BoxZoomTool\"},{\"id\":\"0eb4531d-6e9b-49c4-bb68-31959c509543\",\"type\":\"SaveTool\"},{\"id\":\"f837af63-ec54-4085-9979-0987ba68d86e\",\"type\":\"ResetTool\"},{\"id\":\"19a907e1-baf7-419f-9db3-c6856af96434\",\"type\":\"HelpTool\"}]},\"id\":\"dd5afda8-7ab0-4d7e-b6dd-5809e0d036c4\",\"type\":\"Toolbar\"},{\"attributes\":{\"callback\":null},\"id\":\"182231d7-c886-4cbb-8aa8-676af0f61848\",\"type\":\"DataRange1d\"},{\"attributes\":{\"plot\":{\"id\":\"e9fb3102-2c9f-49d9-9133-acb5847253cf\",\"subtype\":\"Figure\",\"type\":\"Plot\"},\"ticker\":{\"id\":\"d5220d2e-7e6f-4be5-b028-85dc7f909a31\",\"type\":\"BasicTicker\"}},\"id\":\"b3c2c792-0bf6-4dae-af2e-f8f9ad5eb1e1\",\"type\":\"Grid\"},{\"attributes\":{\"fill_alpha\":{\"value\":0},\"fill_color\":{\"value\":\"red\"},\"line_color\":{\"value\":\"red\"},\"x\":{\"field\":\"x\"},\"y\":{\"field\":\"y\"}},\"id\":\"fe6a533d-99f8-4a30-b5a2-d454de3986f9\",\"type\":\"Circle\"},{\"attributes\":{\"fill_alpha\":{\"value\":0.1},\"fill_color\":{\"value\":\"#1f77b4\"},\"line_alpha\":{\"value\":0.1},\"line_color\":{\"value\":\"#1f77b4\"},\"x\":{\"field\":\"x\"},\"y\":{\"field\":\"y\"}},\"id\":\"34ec1dd7-d59c-4a26-936d-3a9a3641e4ef\",\"type\":\"Circle\"},{\"attributes\":{\"callback\":null},\"id\":\"03c75828-77e5-4c53-ba9a-39a76abccaaf\",\"type\":\"DataRange1d\"},{\"attributes\":{\"below\":[{\"id\":\"94642b92-07c1-440c-8b98-be3347c80ab4\",\"type\":\"LinearAxis\"}],\"left\":[{\"id\":\"1f5c2b70-d0f6-44ff-b02a-557da601c763\",\"type\":\"LinearAxis\"}],\"plot_height\":300,\"plot_width\":500,\"renderers\":[{\"id\":\"94642b92-07c1-440c-8b98-be3347c80ab4\",\"type\":\"LinearAxis\"},{\"id\":\"b3c2c792-0bf6-4dae-af2e-f8f9ad5eb1e1\",\"type\":\"Grid\"},{\"id\":\"1f5c2b70-d0f6-44ff-b02a-557da601c763\",\"type\":\"LinearAxis\"},{\"id\":\"1be156db-d4b0-44bf-a128-af8769b2f60d\",\"type\":\"Grid\"},{\"id\":\"243b04dd-4686-4eb5-bc18-e002d627712d\",\"type\":\"BoxAnnotation\"},{\"id\":\"83e97385-6681-4443-8ec5-7c60e96b10ff\",\"type\":\"Legend\"},{\"id\":\"04dc1734-306a-40a5-966c-7e29a05ff7dd\",\"type\":\"GlyphRenderer\"},{\"id\":\"98874e77-8b82-4fa9-a71b-5af3c77c82aa\",\"type\":\"GlyphRenderer\"}],\"title\":{\"id\":\"86dfe2d4-5ccf-46f6-b04b-1b05ca439261\",\"type\":\"Title\"},\"tool_events\":{\"id\":\"07e94bd7-91f3-43b1-99ca-1338d67f3376\",\"type\":\"ToolEvents\"},\"toolbar\":{\"id\":\"dd5afda8-7ab0-4d7e-b6dd-5809e0d036c4\",\"type\":\"Toolbar\"},\"x_range\":{\"id\":\"182231d7-c886-4cbb-8aa8-676af0f61848\",\"type\":\"DataRange1d\"},\"y_range\":{\"id\":\"03c75828-77e5-4c53-ba9a-39a76abccaaf\",\"type\":\"DataRange1d\"}},\"id\":\"e9fb3102-2c9f-49d9-9133-acb5847253cf\",\"subtype\":\"Figure\",\"type\":\"Plot\"},{\"attributes\":{},\"id\":\"fff1095a-8468-4de8-8fee-3ea3e89e7e1c\",\"type\":\"BasicTicker\"},{\"attributes\":{\"plot\":{\"id\":\"e9fb3102-2c9f-49d9-9133-acb5847253cf\",\"subtype\":\"Figure\",\"type\":\"Plot\"}},\"id\":\"e8abaef2-7579-4c9e-8dc4-9ae9930b883c\",\"type\":\"WheelZoomTool\"},{\"attributes\":{\"overlay\":{\"id\":\"243b04dd-4686-4eb5-bc18-e002d627712d\",\"type\":\"BoxAnnotation\"},\"plot\":{\"id\":\"e9fb3102-2c9f-49d9-9133-acb5847253cf\",\"subtype\":\"Figure\",\"type\":\"Plot\"}},\"id\":\"4fc110a4-932f-488a-a4ca-012d35ad8076\",\"type\":\"BoxZoomTool\"}],\"root_ids\":[\"e9fb3102-2c9f-49d9-9133-acb5847253cf\"]},\"title\":\"Bokeh Application\",\"version\":\"0.12.2\"}};\n",
       "            var render_items = [{\"docid\":\"35e3a481-1c57-4681-9e80-9d16a12d4e88\",\"elementid\":\"8e0201af-e473-4f03-94c1-792c702b42da\",\"modelid\":\"e9fb3102-2c9f-49d9-9133-acb5847253cf\"}];\n",
       "            \n",
       "            Bokeh.embed.embed_items(docs_json, render_items);\n",
       "        });\n",
       "      },\n",
       "      function(Bokeh) {\n",
       "      }\n",
       "    ];\n",
       "  \n",
       "    function run_inline_js() {\n",
       "      \n",
       "      if ((window.Bokeh !== undefined) || (force === \"1\")) {\n",
       "        for (var i = 0; i < inline_js.length; i++) {\n",
       "          inline_js[i](window.Bokeh);\n",
       "        }if (force === \"1\") {\n",
       "          display_loaded();\n",
       "        }} else if (Date.now() < window._bokeh_timeout) {\n",
       "        setTimeout(run_inline_js, 100);\n",
       "      } else if (!window._bokeh_failed_load) {\n",
       "        console.log(\"Bokeh: BokehJS failed to load within specified timeout.\");\n",
       "        window._bokeh_failed_load = true;\n",
       "      } else if (!force) {\n",
       "        var cell = $(\"#8e0201af-e473-4f03-94c1-792c702b42da\").parents('.cell').data().cell;\n",
       "        cell.output_area.append_execute_result(NB_LOAD_WARNING)\n",
       "      }\n",
       "  \n",
       "    }\n",
       "  \n",
       "    if (window._bokeh_is_loading === 0) {\n",
       "      console.log(\"Bokeh: BokehJS loaded, going straight to plotting\");\n",
       "      run_inline_js();\n",
       "    } else {\n",
       "      load_libs(js_urls, function() {\n",
       "        console.log(\"Bokeh: BokehJS plotting callback run at\", now());\n",
       "        run_inline_js();\n",
       "      });\n",
       "    }\n",
       "  }(this));\n",
       "</script>"
      ]
     },
     "metadata": {},
     "output_type": "display_data"
    }
   ],
   "source": [
    "\n",
    "f=bkp.figure(title=\"Iron\",height=300,width=500)\n",
    "f.scatter(x_ni,a_fe_a, legend='Iron book')\n",
    "f.scatter(x_ni,a_fe_b,color='red', fill_alpha=0, legend='Iron factsage')\n",
    "\n",
    "bkp.show(f)\n"
   ]
  }
 ],
 "metadata": {
  "kernelspec": {
   "display_name": "Python [Root]",
   "language": "python",
   "name": "Python [Root]"
  },
  "language_info": {
   "codemirror_mode": {
    "name": "ipython",
    "version": 3
   },
   "file_extension": ".py",
   "mimetype": "text/x-python",
   "name": "python",
   "nbconvert_exporter": "python",
   "pygments_lexer": "ipython3",
   "version": "3.5.2"
  }
 },
 "nbformat": 4,
 "nbformat_minor": 0
}
