{
 "cells": [
  {
   "cell_type": "code",
   "execution_count": 59,
   "metadata": {
    "collapsed": false
   },
   "outputs": [
    {
     "data": {
      "text/html": [
       "\n",
       "    <div class=\"bk-root\">\n",
       "        <a href=\"http://bokeh.pydata.org\" target=\"_blank\" class=\"bk-logo bk-logo-small bk-logo-notebook\"></a>\n",
       "        <span id=\"122b85cd-1e64-425e-9f49-e1fcdf62445b\">Loading BokehJS ...</span>\n",
       "    </div>"
      ]
     },
     "metadata": {},
     "output_type": "display_data"
    },
    {
     "data": {
      "application/javascript": [
       "\n",
       "(function(global) {\n",
       "  function now() {\n",
       "    return new Date();\n",
       "  }\n",
       "\n",
       "  var force = \"1\";\n",
       "\n",
       "  if (typeof (window._bokeh_onload_callbacks) === \"undefined\" || force !== \"\") {\n",
       "    window._bokeh_onload_callbacks = [];\n",
       "    window._bokeh_is_loading = undefined;\n",
       "  }\n",
       "\n",
       "\n",
       "  \n",
       "  if (typeof (window._bokeh_timeout) === \"undefined\" || force !== \"\") {\n",
       "    window._bokeh_timeout = Date.now() + 5000;\n",
       "    window._bokeh_failed_load = false;\n",
       "  }\n",
       "\n",
       "  var NB_LOAD_WARNING = {'data': {'text/html':\n",
       "     \"<div style='background-color: #fdd'>\\n\"+\n",
       "     \"<p>\\n\"+\n",
       "     \"BokehJS does not appear to have successfully loaded. If loading BokehJS from CDN, this \\n\"+\n",
       "     \"may be due to a slow or bad network connection. Possible fixes:\\n\"+\n",
       "     \"</p>\\n\"+\n",
       "     \"<ul>\\n\"+\n",
       "     \"<li>re-rerun `output_notebook()` to attempt to load from CDN again, or</li>\\n\"+\n",
       "     \"<li>use INLINE resources instead, as so:</li>\\n\"+\n",
       "     \"</ul>\\n\"+\n",
       "     \"<code>\\n\"+\n",
       "     \"from bokeh.resources import INLINE\\n\"+\n",
       "     \"output_notebook(resources=INLINE)\\n\"+\n",
       "     \"</code>\\n\"+\n",
       "     \"</div>\"}};\n",
       "\n",
       "  function display_loaded() {\n",
       "    if (window.Bokeh !== undefined) {\n",
       "      Bokeh.$(\"#122b85cd-1e64-425e-9f49-e1fcdf62445b\").text(\"BokehJS successfully loaded.\");\n",
       "    } else if (Date.now() < window._bokeh_timeout) {\n",
       "      setTimeout(display_loaded, 100)\n",
       "    }\n",
       "  }\n",
       "\n",
       "  function run_callbacks() {\n",
       "    window._bokeh_onload_callbacks.forEach(function(callback) { callback() });\n",
       "    delete window._bokeh_onload_callbacks\n",
       "    console.info(\"Bokeh: all callbacks have finished\");\n",
       "  }\n",
       "\n",
       "  function load_libs(js_urls, callback) {\n",
       "    window._bokeh_onload_callbacks.push(callback);\n",
       "    if (window._bokeh_is_loading > 0) {\n",
       "      console.log(\"Bokeh: BokehJS is being loaded, scheduling callback at\", now());\n",
       "      return null;\n",
       "    }\n",
       "    if (js_urls == null || js_urls.length === 0) {\n",
       "      run_callbacks();\n",
       "      return null;\n",
       "    }\n",
       "    console.log(\"Bokeh: BokehJS not loaded, scheduling load and callback at\", now());\n",
       "    window._bokeh_is_loading = js_urls.length;\n",
       "    for (var i = 0; i < js_urls.length; i++) {\n",
       "      var url = js_urls[i];\n",
       "      var s = document.createElement('script');\n",
       "      s.src = url;\n",
       "      s.async = false;\n",
       "      s.onreadystatechange = s.onload = function() {\n",
       "        window._bokeh_is_loading--;\n",
       "        if (window._bokeh_is_loading === 0) {\n",
       "          console.log(\"Bokeh: all BokehJS libraries loaded\");\n",
       "          run_callbacks()\n",
       "        }\n",
       "      };\n",
       "      s.onerror = function() {\n",
       "        console.warn(\"failed to load library \" + url);\n",
       "      };\n",
       "      console.log(\"Bokeh: injecting script tag for BokehJS library: \", url);\n",
       "      document.getElementsByTagName(\"head\")[0].appendChild(s);\n",
       "    }\n",
       "  };var element = document.getElementById(\"122b85cd-1e64-425e-9f49-e1fcdf62445b\");\n",
       "  if (element == null) {\n",
       "    console.log(\"Bokeh: ERROR: autoload.js configured with elementid '122b85cd-1e64-425e-9f49-e1fcdf62445b' but no matching script tag was found. \")\n",
       "    return false;\n",
       "  }\n",
       "\n",
       "  var js_urls = ['https://cdn.pydata.org/bokeh/release/bokeh-0.12.2.min.js', 'https://cdn.pydata.org/bokeh/release/bokeh-widgets-0.12.2.min.js', 'https://cdn.pydata.org/bokeh/release/bokeh-compiler-0.12.2.min.js'];\n",
       "\n",
       "  var inline_js = [\n",
       "    function(Bokeh) {\n",
       "      Bokeh.set_log_level(\"info\");\n",
       "    },\n",
       "    \n",
       "    function(Bokeh) {\n",
       "      \n",
       "      Bokeh.$(\"#122b85cd-1e64-425e-9f49-e1fcdf62445b\").text(\"BokehJS is loading...\");\n",
       "    },\n",
       "    function(Bokeh) {\n",
       "      console.log(\"Bokeh: injecting CSS: https://cdn.pydata.org/bokeh/release/bokeh-0.12.2.min.css\");\n",
       "      Bokeh.embed.inject_css(\"https://cdn.pydata.org/bokeh/release/bokeh-0.12.2.min.css\");\n",
       "      console.log(\"Bokeh: injecting CSS: https://cdn.pydata.org/bokeh/release/bokeh-widgets-0.12.2.min.css\");\n",
       "      Bokeh.embed.inject_css(\"https://cdn.pydata.org/bokeh/release/bokeh-widgets-0.12.2.min.css\");\n",
       "    }\n",
       "  ];\n",
       "\n",
       "  function run_inline_js() {\n",
       "    \n",
       "    if ((window.Bokeh !== undefined) || (force === \"1\")) {\n",
       "      for (var i = 0; i < inline_js.length; i++) {\n",
       "        inline_js[i](window.Bokeh);\n",
       "      }if (force === \"1\") {\n",
       "        display_loaded();\n",
       "      }} else if (Date.now() < window._bokeh_timeout) {\n",
       "      setTimeout(run_inline_js, 100);\n",
       "    } else if (!window._bokeh_failed_load) {\n",
       "      console.log(\"Bokeh: BokehJS failed to load within specified timeout.\");\n",
       "      window._bokeh_failed_load = true;\n",
       "    } else if (!force) {\n",
       "      var cell = $(\"#122b85cd-1e64-425e-9f49-e1fcdf62445b\").parents('.cell').data().cell;\n",
       "      cell.output_area.append_execute_result(NB_LOAD_WARNING)\n",
       "    }\n",
       "\n",
       "  }\n",
       "\n",
       "  if (window._bokeh_is_loading === 0) {\n",
       "    console.log(\"Bokeh: BokehJS loaded, going straight to plotting\");\n",
       "    run_inline_js();\n",
       "  } else {\n",
       "    load_libs(js_urls, function() {\n",
       "      console.log(\"Bokeh: BokehJS plotting callback run at\", now());\n",
       "      run_inline_js();\n",
       "    });\n",
       "  }\n",
       "}(this));"
      ]
     },
     "metadata": {},
     "output_type": "display_data"
    }
   ],
   "source": [
    "import numpy as np\n",
    "import bokeh as bk\n",
    "from bokeh.io import push_notebook\n",
    "import bokeh.plotting as bkp\n",
    "import bokeh.models as bkm\n",
    "from bokeh.io import push_notebook\n",
    "from ipywidgets import interact\n",
    "import ipywidgets as widgets\n",
    "bkp.output_notebook()"
   ]
  },
  {
   "cell_type": "markdown",
   "metadata": {},
   "source": [
    "## Problem 3.\n",
    "\n",
    "The balanced equation for the reaction between graphite and water is shown below:\n",
    "\n",
    "$$ H_2O (g) + x O_2 (g) + (1+2 x) C (graphite) = H_2 (g) + (1+2x) CO (g) $$\n",
    "\n",
    "Calculate the product gas $(H_2$  and  $CO)$ composition at $1000K$. Assume adiabatic conditions(i.e. no heat loss or gain)."
   ]
  },
  {
   "cell_type": "markdown",
   "metadata": {},
   "source": [
    "Use TSIM to get the equations for CP for each of the components:\n",
    "\n",
    "####  H20 (g) 298.150----2000.000K :\t\t\t\t\n",
    "\tCp=  6.895 + 2.882*10^(-3)*T + 0.240*10^5*T^(-2)\t\n",
    "$$ 6.895 + 2.882 \\cdot 10^{-3}T + 0.240 \\cdot 10^5T^{-2} $$\n",
    "\n",
    "####  O2 (g) 298.150----2000.000K :\t\t\t\t\n",
    "\tCp=  7.230 + 1.006*10^(-3)*T - 0.452*10^5*T^(-2)\n",
    "$$ 7.230 + 1.006 \\cdot 10^{-3}T - 0.452 \\cdot 10^5T^{-2} $$\n",
    "    \n",
    "#### C (graphite) 298.150----2000.000K :\t\t\t\t\n",
    "\tCp=  3.518 + 1.532*10^(-3)*T - 1.723*10^5*T^(-2)\n",
    "$$ 3.518 + 1.532 \\cdot 10^{-3}T - 1.723 \\cdot 10^5T^{-2} $$\n",
    "\n",
    "#### H2 (g) 298.150----3000.000K :\n",
    "    Cp=  6.456 + 0.838*10^(-3)*T + 0.165*10^5*T^(-2)\n",
    "$$ 6.456 + 0.838 \\cdot 10^{-3}T +0.165 \\cdot 10^5T^{-2} $$   \n",
    "\n",
    "#### CO (g) 298.150----2000.000K :\t\t\n",
    "\t Cp=  6.708 + 1.106*10^(-3)*T - 0.062*10^5*T^(-2)\t\n",
    "$$ 6.708 + 1.106 \\cdot 10^{-3}T - 0.062 \\cdot 10^5T^{-2} $$      "
   ]
  },
  {
   "cell_type": "markdown",
   "metadata": {},
   "source": [
    "Stoichiometric equation:\n",
    "$$ H_2O (g) + x O_2 (g) + (1+2 x) C (graphite) = H_2 (g) + (1+2x) CO (g) $$"
   ]
  },
  {
   "cell_type": "markdown",
   "metadata": {},
   "source": [
    "$$ -57795 + \\int_{298.15}^{1000}  6.895 + 2.882 \\cdot 10^{-3}T + 0.240 \\cdot 10^5T^{-2} + x(7.230 + 1.006 \\cdot 10^{-3}T - 0.452 \\cdot 10^5T^{-2}) + (1+2x)(3.518 + 1.532 \\cdot 10^{-3}T - 1.723 \\cdot 10^5T^{-2}) dT = (1+2x)(-26417) + \\int_{298.15}^{1000} (1+2x)(6.708 + 1.106 \\cdot 10^{-3}T - 0.062 \\cdot 10^5T^{-2}) + 6.456 + 0.838 \\cdot 10^{-3}T +0.165 \\cdot 10^5T^{-2} dT$$"
   ]
  },
  {
   "cell_type": "markdown",
   "metadata": {},
   "source": [
    "$$ 10949.1x -48824.9 = -16268-42439.5x$$"
   ]
  },
  {
   "cell_type": "code",
   "execution_count": 7,
   "metadata": {
    "collapsed": false
   },
   "outputs": [
    {
     "name": "stdout",
     "output_type": "stream",
     "text": [
      "0.6548439204208143\n",
      "0.3451560795791857\n"
     ]
    }
   ],
   "source": [
    "x=0.44862\n",
    "result=(1+2*x)/(2+2*x)\n",
    "print(result)\n",
    "print(1-result)"
   ]
  },
  {
   "cell_type": "markdown",
   "metadata": {},
   "source": [
    "##### Answer:\n",
    "The product gas composition is approximately 65% $CO$, 35 % $H_2$\n",
    "\n",
    "---"
   ]
  },
  {
   "cell_type": "markdown",
   "metadata": {},
   "source": [
    "-57797.8 + x(22703/4.184)+(1+2x)(11795/4.184)"
   ]
  },
  {
   "cell_type": "markdown",
   "metadata": {},
   "source": [
    "H2O formation according to TSIM: -57795\n",
    "H2O formation according to book: -57797.8\n",
    "\n",
    "CO formation according to TSIM:-26417\n",
    "CO formation according to book: -26416.587\n",
    "\n",
    "H2O according to TSIM: 6208.66\n",
    "H2O according to book: 6214.15\n",
    "\n",
    "O2 according to TSIM: 5426.26\n",
    "O2 according to book: 5426.15\n",
    "\n",
    "C according to TSIM: 2761.42\n",
    "C according to book: 2819.1\n",
    "\n",
    "H2 according to TSIM: 4951.74\n",
    "H2 according to book: 4942.6\n",
    "\n",
    "CO according to TSIM: 5197.26\n",
    "CO according to book: 5184.0\n"
   ]
  },
  {
   "cell_type": "markdown",
   "metadata": {},
   "source": [
    "<table>\n",
    "  <tr>\n",
    "    <th width=\"10%\"></th>\n",
    "    <th width=\"10%\">$H_2O F (g)$</th>\n",
    "    <th width=\"10%\">$CO F (g)$</th>\n",
    "    <th width=\"10%\">$H_2O (g)$</th>\n",
    "    <th width=\"10%\">$O_2 (g)$</th>\n",
    "    <th width=\"10%\">$C (s)$</th>\n",
    "    <th width=\"10%\">$H_2 (g)$</th>\n",
    "    <th width=\"10%\">$CO (g)$</th>  \n",
    "  </tr>\n",
    "      <th>$TSIM$</th>\n",
    "      <td>-57795</td>\n",
    "      <td>-26417</td>\n",
    "      <td>6208.66</td>\n",
    "      <td>5426.26</td>\n",
    "      <td>2761.42</td>\n",
    "      <td>4951.74</td>\n",
    "      <td>5197.26</td>\n",
    "  <tr>\n",
    "  </tr>\n",
    "      <th>$Book$</th>\n",
    "      <td>-57797.8</td>\n",
    "      <td>-26416.587</td>\n",
    "      <td>6214.15</td>\n",
    "      <td>5426.15</td>\n",
    "      <td>2819.1</td>\n",
    "      <td>4942.6</td>\n",
    "      <td>5184.0</td>\n",
    "  <tr>\n",
    "</table>|"
   ]
  },
  {
   "cell_type": "markdown",
   "metadata": {},
   "source": [
    "$$−215826+x⋅22703+(1+2x)⋅11795=20680+(1+2x)⋅−88837$$"
   ]
  },
  {
   "cell_type": "markdown",
   "metadata": {},
   "source": [
    "$$ -57795 + 6208.66 + x(5426.26) + (1+2x)(2761.42) = 4951.74 + (1+2x)(-26417+5197.26)  $$"
   ]
  },
  {
   "cell_type": "code",
   "execution_count": null,
   "metadata": {
    "collapsed": true
   },
   "outputs": [],
   "source": []
  }
 ],
 "metadata": {
  "anaconda-cloud": {},
  "kernelspec": {
   "display_name": "Python [Root]",
   "language": "python",
   "name": "Python [Root]"
  },
  "language_info": {
   "codemirror_mode": {
    "name": "ipython",
    "version": 3
   },
   "file_extension": ".py",
   "mimetype": "text/x-python",
   "name": "python",
   "nbconvert_exporter": "python",
   "pygments_lexer": "ipython3",
   "version": "3.5.2"
  }
 },
 "nbformat": 4,
 "nbformat_minor": 0
}
