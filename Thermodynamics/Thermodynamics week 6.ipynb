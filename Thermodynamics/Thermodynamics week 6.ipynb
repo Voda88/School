{
 "cells": [
  {
   "cell_type": "markdown",
   "metadata": {},
   "source": [
    "# Chapter 12 homework\n",
    "\n",
    "## Mikko Karkkainen 11740378"
   ]
  },
  {
   "cell_type": "markdown",
   "metadata": {},
   "source": [
    "### Problem 1: \n",
    "Calculate the standard Gibbs Energy ($ \\Delta G^{\\circ}$) for the folowing reactions at $ T= 600^{\\circ}$ and $ T=1200^{\\circ} $. Obtain the $ \\Delta G^{\\circ}$ for the reactions from the graph given in the text book (page 384, fig V.2 - Thermodynamic stability diagram for oxides).\n"
   ]
  },
  {
   "cell_type": "markdown",
   "metadata": {},
   "source": [
    "a)\n",
    "\n",
    "1) Cu2O (s) + CO(g) = 2Cu(s,l) + CO2 (g)\n",
    "\n",
    "2) FeO (s) + CO(g) = Fe(s) + CO2 (g)"
   ]
  },
  {
   "cell_type": "markdown",
   "metadata": {},
   "source": [
    "b)\n",
    "\n",
    "Compare your $ \\Delta G^{\\circ}$ with TSIMS program calculations at the same temperatures"
   ]
  },
  {
   "cell_type": "markdown",
   "metadata": {},
   "source": [
    "### Solution:"
   ]
  },
  {
   "cell_type": "markdown",
   "metadata": {},
   "source": [
    "Reaction 1 is composed of two reactions:\n",
    "\n",
    "Cu2O (s) = 2Cu(s,l) + O2 (g)\n",
    "\n",
    "and\n",
    "\n",
    "2CO (g) + O2(g) = 2CO2(g)\n",
    "\n",
    "The latter can be further broken down into :\n",
    "\n",
    "2C (s) + 2O2(g) = 2CO2(g)"
   ]
  },
  {
   "cell_type": "markdown",
   "metadata": {},
   "source": [
    "According to the graph from the text book, the gibbs energy change for the first reaction is \n",
    "\n",
    "225 kJ/mol at T= 600°C\n",
    "\n",
    "100 kJ/mol at T=1200°C\n",
    "\n",
    "Gibbs energy for the second reaction:\n",
    "\n",
    "\n",
    "\n"
   ]
  },
  {
   "cell_type": "code",
   "execution_count": null,
   "metadata": {
    "collapsed": true
   },
   "outputs": [],
   "source": []
  }
 ],
 "metadata": {
  "anaconda-cloud": {},
  "kernelspec": {
   "display_name": "Python [Root]",
   "language": "python",
   "name": "Python [Root]"
  },
  "language_info": {
   "codemirror_mode": {
    "name": "ipython",
    "version": 3
   },
   "file_extension": ".py",
   "mimetype": "text/x-python",
   "name": "python",
   "nbconvert_exporter": "python",
   "pygments_lexer": "ipython3",
   "version": "3.5.2"
  }
 },
 "nbformat": 4,
 "nbformat_minor": 0
}
