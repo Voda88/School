{
 "cells": [
  {
   "cell_type": "markdown",
   "metadata": {},
   "source": [
    "# Special topic: morphological stability\n",
    "\n"
   ]
  },
  {
   "cell_type": "markdown",
   "metadata": {},
   "source": [
    "## Mikko Karkkainen"
   ]
  },
  {
   "cell_type": "markdown",
   "metadata": {},
   "source": [
    "## 1. Introduction"
   ]
  },
  {
   "cell_type": "markdown",
   "metadata": {},
   "source": [
    "<img src=\"https://dev-plebbit.s3.amazonaws.com/uploads/topic/picture/25/dendrite_tip_radius.png\"/>"
   ]
  },
  {
   "cell_type": "markdown",
   "metadata": {},
   "source": [
    "Fig. 1 Relationship between dendrite tip radius and solidification velocity [1]"
   ]
  },
  {
   "cell_type": "markdown",
   "metadata": {},
   "source": [
    "Morphological stability is a concept, which is used to describe the solidification structure of a material. At a certain solidification velocity, shown in figure 1, the liquid diffusivity of alloying elements is not fast enough to make the concentration at the SLI uniform, and the planar SLI will develop dendritic structure. This is called the constitutional stability limit. \n",
    "\n",
    "If the dendrite tip radius is similar in magnitude to the dendrite length, the structure is called globular/cellular. As the solidification velocity increases, the solidification tip radius becomes more narrow, as microsegregation effects become stronger. This leads to a more pronounced columnar/equiaxed dendritic structure. \n",
    "\n",
    "After a certain solidification velocity threshold, solute entrapment occurs, diminishing microsegregation and causing the dendrite tip radius to sharply decrease. At the absolute stability limit of solidification velocity, the SLI becomes planar again.\n"
   ]
  },
  {
   "cell_type": "markdown",
   "metadata": {},
   "source": [
    "## 2. Relation between dendrite growth velocity and tip radius:"
   ]
  },
  {
   "cell_type": "markdown",
   "metadata": {},
   "source": [
    "Several mathematical formulations for depicting the relationship between dendrite tip radius and solidification velocity have been developed. These models hold the assumption that the dendrite tip radius narrows until it reaches a constant value based on the solidification velocity and tip undercooling. The ones considered in this paper are:\n",
    "\n",
    "    - The extremum criterion\n",
    "    - The marginal stability criterion\n",
    "    "
   ]
  },
  {
   "cell_type": "markdown",
   "metadata": {},
   "source": [
    "### 2.1 Extremum Criterion"
   ]
  },
  {
   "cell_type": "markdown",
   "metadata": {},
   "source": [
    "According to the extremum criterion, the dendrite tip will have a radius $ r_e $, which corresponds to the maximum growth velocity and minimum undercooling required for solidification. From this assumption, we get the following equations for the relationship between dendrite tip radius, undercooling and solidification velocity:\n",
    "\n",
    "$$ r_e = \\Bigg[ \\frac{4D \\Gamma}{m(k-1)C^*_L} \\Bigg] V^{-1/2} $$\n",
    "\n",
    "$$ V= \\mu \\Delta T^2 $$\n",
    "where the growth constant is given by\n",
    "$$\\mu = \\frac{D_L}{4 \\Gamma m (k-1) C^*_L} $$\n",
    "\n",
    "However, experiments made by Nash and Glicksman (1974) have shown that results using the extremum criterion do not match experiments well, and that the dendrite tip has a larger radius and grows at a lower velocity than that predicted by the extremum criterion."
   ]
  },
  {
   "cell_type": "markdown",
   "metadata": {},
   "source": [
    "### 2.2 Marginal Stability Criterion "
   ]
  },
  {
   "cell_type": "markdown",
   "metadata": {},
   "source": [
    "According to the marginal stability criterion, the dendrite tip radius will correspond to the shortest stable wavelength, $ r_s = \\lambda_i $.  This approach gives the following equations for dendrite tip radius and solidification velocity (Trivedi and Kurz 1994):\n",
    "\n",
    "$$ r = \\Bigg[ \\frac{\\Gamma / \\sigma^*}{G_L}  \\frac{\\Delta H_f}{c_p} P_T - P_c \\frac{mC_0 (1-k)}{1-(1-k) I(P_c)} \\Bigg]^{-1} $$\n",
    "\n",
    "where $ P_c = V \\frac{\\lambda}{2D} $ is the solutal peclet number, $ I(P) = \\Omega = \\frac{C_L^*-C_0}{C_L^*-C_S^*} $, which is the solutal supersaturation, and $ \\sigma^* \\approx 1/(4 \\pi^2) $ is the dendrite tip selection parameter. The radius is connected to the solidification velocity via the Peclet numbers:\n",
    "\n",
    "\n",
    "$$ V = 2 \\alpha P_T/r $$\n",
    "\n",
    "where\n",
    "\n",
    "$P_T = \\frac{D}{\\alpha} P_c$ is the thermal peclet number and $\\alpha$ is the thermal diffusivity.\n",
    "\n",
    "\n",
    "The marginal stability theorem accurately the relationship between dendrite tip radius and velocity. However, as examined in chapter 5, it is unable to predict the cell-to-dendrite transition."
   ]
  },
  {
   "cell_type": "markdown",
   "metadata": {},
   "source": [
    "## 3. Interface anisotropy"
   ]
  },
  {
   "cell_type": "markdown",
   "metadata": {},
   "source": [
    "For further accuracy, the effect of interface anisotropy in the dendrite must be considered. The interface energy can be given as a function of orientation, \n",
    "\n",
    "$$ \\gamma = \\gamma(\\theta) $$\n",
    "\n",
    "For cubic crystals, an approximation for this relationship (Trivedi and Kurz 1994) is\n",
    "\n",
    "$$ \\gamma(\\theta) = \\gamma_0 (1 + \\delta \\cos 4\\theta) $$\n",
    "\n",
    "where $\\delta$ is the interface anisotropy parameter. This can be further linked to the capillary undercooling:\n",
    "\n",
    "\n",
    "$$ \\Delta T_r = \\gamma_0 (1- \\epsilon \\cos 4\\theta) K/ \\Delta S_f $$\n",
    "\n",
    "\n",
    "where $ \\epsilon = 15 \\delta $\n",
    "\n",
    "A higher interface anisotropy reduces the dendrite tip radius, promoting dendritic growth.\n"
   ]
  },
  {
   "cell_type": "markdown",
   "metadata": {},
   "source": [
    "## 4. Effect of natural convection (gravity)"
   ]
  },
  {
   "cell_type": "markdown",
   "metadata": {},
   "source": [
    "Experiments done in micro-gravity conditions support the marginal stability criterion model. However, terrestrial experiments show deviation due to convection by gravity.  Recent work done on aluminium-lithium alloys by B. Drevet et al. (2000) at 1 g and 10 $ \\mu g $shows that natural convection supports the formation of cellular microstructure at the expense of dendritic. This is caused by the reduction of the solute concentration at the dendrite tip due to convective effects.\n",
    "\n",
    "\n",
    "\n"
   ]
  },
  {
   "cell_type": "markdown",
   "metadata": {},
   "source": [
    "## 5. Models for cellular to dendritic transition"
   ]
  },
  {
   "cell_type": "markdown",
   "metadata": {},
   "source": [
    "Unfortunately, the marginal stability criterion cannot be used to calculate the cell-to-dendrite transition. Several researchers  ( Langer et al. (1978), Trivedi et al. (1980) and Glicksman et al. (1981) ) have found that the cell-to-dendrite transition is related to dendrite spacing, which has been found to be unrelated to dendrite tip radius.  Regardless of spacing, all dendrites have tip radius close to that given by marginal stability.\n",
    "\n",
    "### 5.1 Kurz and Fisher \n",
    "\n",
    "Many models have attempted to determine the critical velocity for cellular-to-dendritic transition. Kurz and Fisher (1981) proposed the model \n",
    "\n",
    "$$ V_{CD} = \\frac{V_C}{k_0} $$\n",
    "\n",
    "where $ V_{CD} $ is the critical velocity for cellular-to-dendritic transition, $ V_C $ is the velocity limit for constitutional undercooling and $ k_0 $ is the partition coefficient. However, this model only worked well for low values of k, such as in SCN-acetone (k=0.1) and al-2%Cu (k=0.14). For a Pb-Sn alloy (k=0.5) and SCN-camphor (k = 0.33) Lei Wei et al. (2016) found the model to be inaccurate.\n",
    "\n",
    "### 5.2 Hunt and Lu\n",
    "\n",
    "Hunt and Lu (1996) fitted a model for the primary spacing $ \\lambda_i $ based on dimensionless velocity, dimensionless thermal gradient and the distribution coefficient. This model uses independent formulations for cellular and dendritic structures. According to the model, whether cells or dendrites is preferred depends on which has the lower minimum stable spacing. The minimum stable spacing for cells is given by :\n",
    "\n",
    "$$ \\lambda_c = 4.09k^{-0.335} \\Big( \\frac{\\Gamma}{mC_0 (k-1)} \\Big) \\Big( \\frac{D}{V} \\Big)^{0.59} $$\n",
    "\n",
    "The minimum stable spacing for dendrites (at low velocities) is given by:\n",
    "\n",
    "$$ \\lambda_d = 0.7798 \\cdot 10^{-1} V'^{(a-0.75)} (V' - G')^{0.75} G'^{-0.6028} $$\n",
    "\n",
    "where \n",
    "\n",
    "$$ a= -1.131 - 0.1555 log_{10}(G') - 0.7589 \\cdot 10^{-2} [log_{10} (G')]^2 $$\n",
    "\n",
    "The solution space for these equations for varying values of dimensionless thermal gradient and dimensionless velocity and k=0.14 is shown in figure 2.\n",
    "\n"
   ]
  },
  {
   "cell_type": "markdown",
   "metadata": {},
   "source": [
    "<img src=\"https://dev-plebbit.s3.amazonaws.com/uploads/topic/picture/26/cell-to-dendrite-transition.png\">"
   ]
  },
  {
   "cell_type": "markdown",
   "metadata": {},
   "source": [
    "fig. 2 Cellular to dendritic transformation according to Lu and Hunt."
   ]
  },
  {
   "cell_type": "markdown",
   "metadata": {},
   "source": [
    "### 5.3 Trivedi\n",
    "\n",
    "In 2002 Trivedi et al. examined the critical spacing for CTD for SCN-salol. Based on fitting to experimental data, they found a critical spacing above which dendrites were stable, and below which cells were stable. This critical spacing followed the relationship :"
   ]
  },
  {
   "cell_type": "markdown",
   "metadata": {},
   "source": [
    "$$  \\lambda_{cd}C_0(GV)^{-1/3} = constant $$ "
   ]
  },
  {
   "cell_type": "markdown",
   "metadata": {},
   "source": [
    "An experimental study by Jianfei Zhang et al. (2015) for an NiAl-Mo Hypo-Eutectic Alloy showed grood agreement with the Trivedi and Kurtz-Fisher model, but very poor agreement with the Hunt-Lu model,"
   ]
  },
  {
   "cell_type": "markdown",
   "metadata": {},
   "source": [
    "### 5.4 Phase-Field simulations"
   ]
  },
  {
   "cell_type": "markdown",
   "metadata": {},
   "source": [
    "A large scale phase field simulation to determine primary arm spacing was recently carried out by Tomohiro Takaki et al. (2016) using a GPU supercomputer. The material studied was Al-3wt%Cu. Their simulation results are shown in figure 4, which shows that the results are between the Hunt model and the Kurz & Fisher model. These results were also validated by experimental data from M. Gündüz, E. Çadırlı (2002), showing good agreement. The Hunt model shown in figure 4 is not the Hunt-Lu model, but a separate equation published in 1979 with the relationship:"
   ]
  },
  {
   "cell_type": "markdown",
   "metadata": {},
   "source": [
    "$$ \\lambda_{CD} = 2.83\\left[ {m_{\\text{L}} \\left( {k_{0} - 1} \\right)D_{\\text{L}} \\Gamma } \\right]^{0.25} C_{0}^{0.25} V^{ - 0.25} G_{\\text{L}}^{ - 0.5} $$"
   ]
  },
  {
   "cell_type": "markdown",
   "metadata": {},
   "source": [
    "<img src=\"https://dev-plebbit.s3.amazonaws.com/uploads/topic/picture/28/phasefield_CTD_takaki.png\">"
   ]
  },
  {
   "cell_type": "markdown",
   "metadata": {},
   "source": [
    "Figure 4. Phase field simulation results by Takaki et al. and comparison between Hunt and Kurz & Fisher model"
   ]
  },
  {
   "cell_type": "markdown",
   "metadata": {},
   "source": [
    "## 6. Conclusion"
   ]
  },
  {
   "cell_type": "markdown",
   "metadata": {
    "collapsed": true
   },
   "source": [
    "Many models have been proposed for the prediction of the cell-to-dendrite transformation in solidification. Simple analytical relations with fitting constants produce results that deviate an order of magnitude of measurements and state-of-the-art phase-field models, when natural convection is ignored. So far, analytical solutions are unable to accurately describe the phenomenon, and fitting to experimental data is required. Numerical simulations show promising results, but are computationally limited to binary alloys as of now. Numerical modelling of pseudo-binary alloys should be carried out to see if the results are applicable to engineering materials."
   ]
  }
 ],
 "metadata": {
  "anaconda-cloud": {
   "attach-environment": true,
   "environment": "Root",
   "summary": "Solidification special topic",
   "url": "https://anaconda.org/mkrkkinen/solidification-special-topic"
  },
  "kernelspec": {
   "display_name": "Python [Root]",
   "language": "python",
   "name": "Python [Root]"
  },
  "language_info": {
   "codemirror_mode": {
    "name": "ipython",
    "version": 3
   },
   "file_extension": ".py",
   "mimetype": "text/x-python",
   "name": "python",
   "nbconvert_exporter": "python",
   "pygments_lexer": "ipython3",
   "version": "3.5.2"
  }
 },
 "nbformat": 4,
 "nbformat_minor": 0
}
