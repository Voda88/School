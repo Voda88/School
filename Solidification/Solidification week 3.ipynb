{
 "cells": [
  {
   "cell_type": "code",
   "execution_count": 4,
   "metadata": {
    "collapsed": false
   },
   "outputs": [
    {
     "data": {
      "text/html": [
       "\n",
       "    <div class=\"bk-root\">\n",
       "        <a href=\"http://bokeh.pydata.org\" target=\"_blank\" class=\"bk-logo bk-logo-small bk-logo-notebook\"></a>\n",
       "        <span id=\"ac01510e-9a59-4650-9632-b8a8884dc361\">Loading BokehJS ...</span>\n",
       "    </div>"
      ]
     },
     "metadata": {},
     "output_type": "display_data"
    },
    {
     "data": {
      "application/javascript": [
       "\n",
       "(function(global) {\n",
       "  function now() {\n",
       "    return new Date();\n",
       "  }\n",
       "\n",
       "  if (typeof (window._bokeh_onload_callbacks) === \"undefined\") {\n",
       "    window._bokeh_onload_callbacks = [];\n",
       "  }\n",
       "\n",
       "  function run_callbacks() {\n",
       "    window._bokeh_onload_callbacks.forEach(function(callback) { callback() });\n",
       "    delete window._bokeh_onload_callbacks\n",
       "    console.info(\"Bokeh: all callbacks have finished\");\n",
       "  }\n",
       "\n",
       "  function load_libs(js_urls, callback) {\n",
       "    window._bokeh_onload_callbacks.push(callback);\n",
       "    if (window._bokeh_is_loading > 0) {\n",
       "      console.log(\"Bokeh: BokehJS is being loaded, scheduling callback at\", now());\n",
       "      return null;\n",
       "    }\n",
       "    if (js_urls == null || js_urls.length === 0) {\n",
       "      run_callbacks();\n",
       "      return null;\n",
       "    }\n",
       "    console.log(\"Bokeh: BokehJS not loaded, scheduling load and callback at\", now());\n",
       "    window._bokeh_is_loading = js_urls.length;\n",
       "    for (var i = 0; i < js_urls.length; i++) {\n",
       "      var url = js_urls[i];\n",
       "      var s = document.createElement('script');\n",
       "      s.src = url;\n",
       "      s.async = false;\n",
       "      s.onreadystatechange = s.onload = function() {\n",
       "        window._bokeh_is_loading--;\n",
       "        if (window._bokeh_is_loading === 0) {\n",
       "          console.log(\"Bokeh: all BokehJS libraries loaded\");\n",
       "          run_callbacks()\n",
       "        }\n",
       "      };\n",
       "      s.onerror = function() {\n",
       "        console.warn(\"failed to load library \" + url);\n",
       "      };\n",
       "      console.log(\"Bokeh: injecting script tag for BokehJS library: \", url);\n",
       "      document.getElementsByTagName(\"head\")[0].appendChild(s);\n",
       "    }\n",
       "  };\n",
       "\n",
       "  var js_urls = ['https://cdn.pydata.org/bokeh/release/bokeh-0.12.0.min.js', 'https://cdn.pydata.org/bokeh/release/bokeh-widgets-0.12.0.min.js', 'https://cdn.pydata.org/bokeh/release/bokeh-compiler-0.12.0.min.js'];\n",
       "\n",
       "  var inline_js = [\n",
       "    function(Bokeh) {\n",
       "      Bokeh.set_log_level(\"info\");\n",
       "    },\n",
       "    \n",
       "    function(Bokeh) {\n",
       "      Bokeh.$(\"#ac01510e-9a59-4650-9632-b8a8884dc361\").text(\"BokehJS successfully loaded\");\n",
       "    },\n",
       "    function(Bokeh) {\n",
       "      console.log(\"Bokeh: injecting CSS: https://cdn.pydata.org/bokeh/release/bokeh-0.12.0.min.css\");\n",
       "      Bokeh.embed.inject_css(\"https://cdn.pydata.org/bokeh/release/bokeh-0.12.0.min.css\");\n",
       "      console.log(\"Bokeh: injecting CSS: https://cdn.pydata.org/bokeh/release/bokeh-widgets-0.12.0.min.css\");\n",
       "      Bokeh.embed.inject_css(\"https://cdn.pydata.org/bokeh/release/bokeh-widgets-0.12.0.min.css\");\n",
       "    }\n",
       "  ];\n",
       "\n",
       "  function run_inline_js() {\n",
       "    for (var i = 0; i < inline_js.length; i++) {\n",
       "      inline_js[i](window.Bokeh);\n",
       "    }\n",
       "  }\n",
       "\n",
       "  if (window._bokeh_is_loading === 0) {\n",
       "    console.log(\"Bokeh: BokehJS loaded, going straight to plotting\");\n",
       "    run_inline_js();\n",
       "  } else {\n",
       "    load_libs(js_urls, function() {\n",
       "      console.log(\"Bokeh: BokehJS plotting callback run at\", now());\n",
       "      run_inline_js();\n",
       "    });\n",
       "  }\n",
       "}(this));"
      ]
     },
     "metadata": {},
     "output_type": "display_data"
    }
   ],
   "source": [
    "import numpy as np\n",
    "import bokeh.plotting as bkp\n",
    "import bokeh.models as bkm\n",
    "from bokeh.io import push_notebook\n",
    "from ipywidgets import interact\n",
    "bkp.output_notebook()"
   ]
  },
  {
   "cell_type": "markdown",
   "metadata": {},
   "source": [
    "# Solidification week 3 homework\n",
    "\n",
    "### Mikko Karkkainen 11740378\n",
    "\n"
   ]
  },
  {
   "cell_type": "markdown",
   "metadata": {},
   "source": [
    "The zone melting process is used to purify materials by taking advantage of the segregation of impurities to one end of the sample in directional solidification, as seen in Fig. 5.6. In zone melting, a segment of the sample of thickness $ \\delta $ is melted, for example using an induction heater. The coil then traverses the sample beginning at one end. The heater produces sufficient stirring in the melted section that its composition can be considered to be uniform. The composition profile at some time during the first pass is shown schematically in the figure below. The initial composition of the sample is $ C_0 $, and the composition in the liquid is designated $ C_l^* $.\n",
    "\n",
    "<img src=\"https://dev-plebbit.s3.amazonaws.com/uploads/topic/picture/17/zone_melting.png\"/>\n",
    "---"
   ]
  },
  {
   "cell_type": "markdown",
   "metadata": {},
   "source": [
    "#### a) Write a solute balance for the change in composition in the liquid when the interface moves by an increment of $ dx $ as shown. Be sure to account for both the solute rejected at the solid-liquid-interface, and the dilution associated with previously unmelted solid."
   ]
  },
  {
   "cell_type": "markdown",
   "metadata": {},
   "source": [
    "Assuming no convection in the liquid, flux balance at the interface gives\n",
    "\n",
    "$$ (C_0-C_S^*)dx=\\delta \\: dC_l^* $$"
   ]
  },
  {
   "cell_type": "markdown",
   "metadata": {},
   "source": [
    "#### b) Rearrange this equation so that it can be integrated from the initial condition, where the composition in the liquid is $ C_0 $ and the solid-liquid interface is located at $ x^* = 0 $."
   ]
  },
  {
   "cell_type": "markdown",
   "metadata": {},
   "source": [
    "\n",
    "Let's rearrange:\n",
    "\n",
    "$$  dx = \\frac{\\delta}{C_0 -C_S^*} \\: dC^*_l $$ \n",
    "\n",
    "Substitute $ k_0C_l^* $ for  $ C_S^* $:\n",
    "\n",
    "$$  dx = \\frac{\\delta}{C_0 - k_0C_l^*} \\: dC^*_l $$\n",
    "\n",
    "Define integral:\n",
    "\n",
    "$$ \\int^{x^*}_0 dx = \\int_{C_0}^{C_l^*}\\frac{\\delta}{C_0 - k_0C_l^*} \\: dC^*_l $$\n",
    "\n",
    "---"
   ]
  },
  {
   "cell_type": "markdown",
   "metadata": {},
   "source": [
    "#### c) Perform the integration to obtain the result\n",
    "\n",
    "$$ \\frac{C_l^*}{C_0} = \\frac{1}{k_0} \\Bigg[ 1 - (1-k_0)exp \\bigg(-\\frac{k_0x^*}{\\delta} \\bigg) \\Bigg]$$"
   ]
  },
  {
   "cell_type": "markdown",
   "metadata": {},
   "source": [
    "Performing the integral:\n",
    "\n",
    "$$ x^* =  \\frac{\\delta}{k_0} \\Big[ ln(C_0-k_0C_l^*) - ln(C_0-k_0C_0) \\Big] $$\n",
    "\n",
    "Rearranging:\n",
    "\n",
    "$$ \\frac{k_0x^*}{\\delta} = ln \\Bigg( \\frac{C_0-k_0C_l^*}{C_0-k_0C_0} \\Bigg) $$\n",
    "\n",
    "exp from both sides:\n",
    "\n",
    "$$ exp \\Big( \\frac{k_0x^*}{\\delta} \\Big) = \\frac{C_0-k_0C_l^*}{C_0-k_0C_0}  $$\n",
    "\n",
    "Rearrange:\n",
    "\n",
    "$$ exp \\Big( \\frac{k_0x^*}{\\delta} \\Big) = \\frac{1-\\frac{k_0C_l^*}{C_0}}{1-k_0}  $$\n",
    "\n",
    "Rearrange:\n",
    "\n",
    "$$ (1-k_0)exp \\Big( \\frac{k_0x^*}{\\delta} \\Big) = 1-\\frac{k_0C_l^*}{C_0}  $$\n",
    "\n",
    "Rearrange:\n",
    "\n",
    "$$ \\frac{k_0C_l^*}{C_0}  = 1- (1-k_0)exp \\Big( \\frac{k_0x^*}{\\delta} \\Big) $$\n",
    "\n",
    "Rearrange:\n",
    "\n",
    "$$ \\frac{C_l^*}{C_0}  = \\frac{1}{k_0} \\Big[ 1- (1-k_0)exp \\Big( \\frac{k_0x^*}{\\delta} \\Big) \\Big] $$\n",
    "\n",
    "---"
   ]
  },
  {
   "cell_type": "markdown",
   "metadata": {},
   "source": [
    "#### d) Real zone melting processes perform multiple passes. One cannot find an analytical solution for the later passes. Sketch the solute profile that you would expect to see after the second and tenth passes. What would happen if this were a multicomponent aloy, whose constituents had different segregation coefficients."
   ]
  },
  {
   "cell_type": "markdown",
   "metadata": {},
   "source": [
    "Let's make a visualisation of the zone melting process. Let\n",
    "s use the data for Al- 4.5wt%Cu from table B2, p. 387"
   ]
  },
  {
   "cell_type": "code",
   "execution_count": null,
   "metadata": {
    "collapsed": true
   },
   "outputs": [],
   "source": [
    "C_0=0.045\n",
    "k=0.14\n",
    "delta=10\n",
    "l=100\n"
   ]
  }
 ],
 "metadata": {
  "anaconda-cloud": {},
  "kernelspec": {
   "display_name": "Python [Root]",
   "language": "python",
   "name": "Python [Root]"
  },
  "language_info": {
   "codemirror_mode": {
    "name": "ipython",
    "version": 3
   },
   "file_extension": ".py",
   "mimetype": "text/x-python",
   "name": "python",
   "nbconvert_exporter": "python",
   "pygments_lexer": "ipython3",
   "version": "3.5.2"
  }
 },
 "nbformat": 4,
 "nbformat_minor": 0
}
