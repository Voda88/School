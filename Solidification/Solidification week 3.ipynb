{
 "cells": [
  {
   "cell_type": "code",
   "execution_count": 1,
   "metadata": {
    "collapsed": false
   },
   "outputs": [
    {
     "name": "stdout",
     "output_type": "stream",
     "text": [
      "Once deleted, variables cannot be recovered. Proceed (y/[n])? y\n"
     ]
    },
    {
     "data": {
      "text/html": [
       "\n",
       "    <div class=\"bk-root\">\n",
       "        <a href=\"http://bokeh.pydata.org\" target=\"_blank\" class=\"bk-logo bk-logo-small bk-logo-notebook\"></a>\n",
       "        <span id=\"5b10dccc-b67b-4f6e-a9bb-240adf9d60ec\">Loading BokehJS ...</span>\n",
       "    </div>"
      ]
     },
     "metadata": {},
     "output_type": "display_data"
    },
    {
     "data": {
      "application/javascript": [
       "\n",
       "(function(global) {\n",
       "  function now() {\n",
       "    return new Date();\n",
       "  }\n",
       "\n",
       "  var force = \"1\";\n",
       "\n",
       "  if (typeof (window._bokeh_onload_callbacks) === \"undefined\" || force !== \"\") {\n",
       "    window._bokeh_onload_callbacks = [];\n",
       "    window._bokeh_is_loading = undefined;\n",
       "  }\n",
       "\n",
       "\n",
       "  \n",
       "  if (typeof (window._bokeh_timeout) === \"undefined\" || force !== \"\") {\n",
       "    window._bokeh_timeout = Date.now() + 5000;\n",
       "    window._bokeh_failed_load = false;\n",
       "  }\n",
       "\n",
       "  var NB_LOAD_WARNING = {'data': {'text/html':\n",
       "     \"<div style='background-color: #fdd'>\\n\"+\n",
       "     \"<p>\\n\"+\n",
       "     \"BokehJS does not appear to have successfully loaded. If loading BokehJS from CDN, this \\n\"+\n",
       "     \"may be due to a slow or bad network connection. Possible fixes:\\n\"+\n",
       "     \"</p>\\n\"+\n",
       "     \"<ul>\\n\"+\n",
       "     \"<li>re-rerun `output_notebook()` to attempt to load from CDN again, or</li>\\n\"+\n",
       "     \"<li>use INLINE resources instead, as so:</li>\\n\"+\n",
       "     \"</ul>\\n\"+\n",
       "     \"<code>\\n\"+\n",
       "     \"from bokeh.resources import INLINE\\n\"+\n",
       "     \"output_notebook(resources=INLINE)\\n\"+\n",
       "     \"</code>\\n\"+\n",
       "     \"</div>\"}};\n",
       "\n",
       "  function display_loaded() {\n",
       "    if (window.Bokeh !== undefined) {\n",
       "      Bokeh.$(\"#5b10dccc-b67b-4f6e-a9bb-240adf9d60ec\").text(\"BokehJS successfully loaded.\");\n",
       "    } else if (Date.now() < window._bokeh_timeout) {\n",
       "      setTimeout(display_loaded, 100)\n",
       "    }\n",
       "  }\n",
       "\n",
       "  function run_callbacks() {\n",
       "    window._bokeh_onload_callbacks.forEach(function(callback) { callback() });\n",
       "    delete window._bokeh_onload_callbacks\n",
       "    console.info(\"Bokeh: all callbacks have finished\");\n",
       "  }\n",
       "\n",
       "  function load_libs(js_urls, callback) {\n",
       "    window._bokeh_onload_callbacks.push(callback);\n",
       "    if (window._bokeh_is_loading > 0) {\n",
       "      console.log(\"Bokeh: BokehJS is being loaded, scheduling callback at\", now());\n",
       "      return null;\n",
       "    }\n",
       "    if (js_urls == null || js_urls.length === 0) {\n",
       "      run_callbacks();\n",
       "      return null;\n",
       "    }\n",
       "    console.log(\"Bokeh: BokehJS not loaded, scheduling load and callback at\", now());\n",
       "    window._bokeh_is_loading = js_urls.length;\n",
       "    for (var i = 0; i < js_urls.length; i++) {\n",
       "      var url = js_urls[i];\n",
       "      var s = document.createElement('script');\n",
       "      s.src = url;\n",
       "      s.async = false;\n",
       "      s.onreadystatechange = s.onload = function() {\n",
       "        window._bokeh_is_loading--;\n",
       "        if (window._bokeh_is_loading === 0) {\n",
       "          console.log(\"Bokeh: all BokehJS libraries loaded\");\n",
       "          run_callbacks()\n",
       "        }\n",
       "      };\n",
       "      s.onerror = function() {\n",
       "        console.warn(\"failed to load library \" + url);\n",
       "      };\n",
       "      console.log(\"Bokeh: injecting script tag for BokehJS library: \", url);\n",
       "      document.getElementsByTagName(\"head\")[0].appendChild(s);\n",
       "    }\n",
       "  };var element = document.getElementById(\"5b10dccc-b67b-4f6e-a9bb-240adf9d60ec\");\n",
       "  if (element == null) {\n",
       "    console.log(\"Bokeh: ERROR: autoload.js configured with elementid '5b10dccc-b67b-4f6e-a9bb-240adf9d60ec' but no matching script tag was found. \")\n",
       "    return false;\n",
       "  }\n",
       "\n",
       "  var js_urls = ['https://cdn.pydata.org/bokeh/release/bokeh-0.12.2.min.js', 'https://cdn.pydata.org/bokeh/release/bokeh-widgets-0.12.2.min.js', 'https://cdn.pydata.org/bokeh/release/bokeh-compiler-0.12.2.min.js'];\n",
       "\n",
       "  var inline_js = [\n",
       "    function(Bokeh) {\n",
       "      Bokeh.set_log_level(\"info\");\n",
       "    },\n",
       "    \n",
       "    function(Bokeh) {\n",
       "      \n",
       "      Bokeh.$(\"#5b10dccc-b67b-4f6e-a9bb-240adf9d60ec\").text(\"BokehJS is loading...\");\n",
       "    },\n",
       "    function(Bokeh) {\n",
       "      console.log(\"Bokeh: injecting CSS: https://cdn.pydata.org/bokeh/release/bokeh-0.12.2.min.css\");\n",
       "      Bokeh.embed.inject_css(\"https://cdn.pydata.org/bokeh/release/bokeh-0.12.2.min.css\");\n",
       "      console.log(\"Bokeh: injecting CSS: https://cdn.pydata.org/bokeh/release/bokeh-widgets-0.12.2.min.css\");\n",
       "      Bokeh.embed.inject_css(\"https://cdn.pydata.org/bokeh/release/bokeh-widgets-0.12.2.min.css\");\n",
       "    }\n",
       "  ];\n",
       "\n",
       "  function run_inline_js() {\n",
       "    \n",
       "    if ((window.Bokeh !== undefined) || (force === \"1\")) {\n",
       "      for (var i = 0; i < inline_js.length; i++) {\n",
       "        inline_js[i](window.Bokeh);\n",
       "      }if (force === \"1\") {\n",
       "        display_loaded();\n",
       "      }} else if (Date.now() < window._bokeh_timeout) {\n",
       "      setTimeout(run_inline_js, 100);\n",
       "    } else if (!window._bokeh_failed_load) {\n",
       "      console.log(\"Bokeh: BokehJS failed to load within specified timeout.\");\n",
       "      window._bokeh_failed_load = true;\n",
       "    } else if (!force) {\n",
       "      var cell = $(\"#5b10dccc-b67b-4f6e-a9bb-240adf9d60ec\").parents('.cell').data().cell;\n",
       "      cell.output_area.append_execute_result(NB_LOAD_WARNING)\n",
       "    }\n",
       "\n",
       "  }\n",
       "\n",
       "  if (window._bokeh_is_loading === 0) {\n",
       "    console.log(\"Bokeh: BokehJS loaded, going straight to plotting\");\n",
       "    run_inline_js();\n",
       "  } else {\n",
       "    load_libs(js_urls, function() {\n",
       "      console.log(\"Bokeh: BokehJS plotting callback run at\", now());\n",
       "      run_inline_js();\n",
       "    });\n",
       "  }\n",
       "}(this));"
      ]
     },
     "metadata": {},
     "output_type": "display_data"
    }
   ],
   "source": [
    "%reset\n",
    "import sys\n",
    "import numpy as np\n",
    "import bokeh.plotting as bkp\n",
    "import bokeh.models as bkm\n",
    "from bokeh.io import push_notebook\n",
    "from ipywidgets import widgets\n",
    "from ipywidgets import interact,interactive\n",
    "from IPython import display\n",
    "bkp.output_notebook()"
   ]
  },
  {
   "cell_type": "markdown",
   "metadata": {},
   "source": [
    "# Solidification week 3 homework\n",
    "\n",
    "### Mikko Karkkainen 11740378\n",
    "\n"
   ]
  },
  {
   "cell_type": "markdown",
   "metadata": {},
   "source": [
    "The zone melting process is used to purify materials by taking advantage of the segregation of impurities to one end of the sample in directional solidification, as seen in Fig. 5.6. In zone melting, a segment of the sample of thickness $ \\delta $ is melted, for example using an induction heater. The coil then traverses the sample beginning at one end. The heater produces sufficient stirring in the melted section that its composition can be considered to be uniform. The composition profile at some time during the first pass is shown schematically in the figure below. The initial composition of the sample is $ C_0 $, and the composition in the liquid is designated $ C_l^* $.\n",
    "\n",
    "<img src=\"https://dev-plebbit.s3.amazonaws.com/uploads/topic/picture/17/zone_melting.png\"/>\n",
    "---"
   ]
  },
  {
   "cell_type": "markdown",
   "metadata": {},
   "source": [
    "#### a) Write a solute balance for the change in composition in the liquid when the interface moves by an increment of $ dx $ as shown. Be sure to account for both the solute rejected at the solid-liquid-interface, and the dilution associated with previously unmelted solid."
   ]
  },
  {
   "cell_type": "markdown",
   "metadata": {},
   "source": [
    "Assuming no convection in the liquid, flux balance at the interface gives\n",
    "\n",
    "$$ (C_0-C_S^*)dx=\\delta \\: dC_l^* $$"
   ]
  },
  {
   "cell_type": "markdown",
   "metadata": {},
   "source": [
    "#### b) Rearrange this equation so that it can be integrated from the initial condition, where the composition in the liquid is $ C_0 $ and the solid-liquid interface is located at $ x^* = 0 $."
   ]
  },
  {
   "cell_type": "markdown",
   "metadata": {},
   "source": [
    "\n",
    "Let's rearrange:\n",
    "\n",
    "$$  dx = \\frac{\\delta}{C_0 -C_S^*} \\: dC^*_l $$ \n",
    "\n",
    "Substitute $ k_0C_l^* $ for  $ C_S^* $:\n",
    "\n",
    "$$  dx = \\frac{\\delta}{C_0 - k_0C_l^*} \\: dC^*_l $$\n",
    "\n",
    "Define integral:\n",
    "\n",
    "$$ \\int^{x^*}_0 dx = \\int_{C_0}^{C_l^*}\\frac{\\delta}{C_0 - k_0C_l^*} \\: dC^*_l $$\n",
    "\n",
    "---"
   ]
  },
  {
   "cell_type": "markdown",
   "metadata": {},
   "source": [
    "#### c) Perform the integration to obtain the result\n",
    "\n",
    "$$ \\frac{C_l^*}{C_0} = \\frac{1}{k_0} \\Bigg[ 1 - (1-k_0)exp \\bigg(-\\frac{k_0x^*}{\\delta} \\bigg) \\Bigg]$$"
   ]
  },
  {
   "cell_type": "markdown",
   "metadata": {},
   "source": [
    "Performing the integral:\n",
    "\n",
    "$$ x^* = - \\frac{\\delta}{k_0} \\Big[ ln(C_0-k_0C_l^*) - ln(C_0-k_0C_0) \\Big] $$\n",
    "\n",
    "Rearranging:\n",
    "\n",
    "$$ - \\frac{k_0x^*}{\\delta} = ln \\Bigg( \\frac{C_0-k_0C_l^*}{C_0-k_0C_0} \\Bigg) $$\n",
    "\n",
    "exp from both sides:\n",
    "\n",
    "$$ exp \\Big( - \\frac{k_0x^*}{\\delta} \\Big) = \\frac{C_0-k_0C_l^*}{C_0-k_0C_0}  $$\n",
    "\n",
    "Rearrange:\n",
    "\n",
    "$$ exp \\Big( - \\frac{k_0x^*}{\\delta} \\Big) = \\frac{1-\\frac{k_0C_l^*}{C_0}}{1-k_0}  $$\n",
    "\n",
    "Rearrange:\n",
    "\n",
    "$$ (1-k_0)exp \\Big( - \\frac{k_0x^*}{\\delta} \\Big) = 1-\\frac{k_0C_l^*}{C_0}  $$\n",
    "\n",
    "Rearrange:\n",
    "\n",
    "$$ \\frac{k_0C_l^*}{C_0}  = 1- (1-k_0)exp \\Big( - \\frac{k_0x^*}{\\delta} \\Big) $$\n",
    "\n",
    "Rearrange:\n",
    "\n",
    "$$ \\frac{C_l^*}{C_0}  = \\frac{1}{k_0} \\Big[ 1- (1-k_0)exp \\Big( - \\frac{k_0x^*}{\\delta} \\Big) \\Big] $$\n",
    "\n",
    "---"
   ]
  },
  {
   "cell_type": "markdown",
   "metadata": {},
   "source": [
    "#### d) Real zone melting processes perform multiple passes. One cannot find an analytical solution for the later passes. Sketch the solute profile that you would expect to see after the second and tenth passes. What would happen if this were a multicomponent aloy, whose constituents had different segregation coefficients."
   ]
  },
  {
   "cell_type": "markdown",
   "metadata": {},
   "source": [
    "Let's make a visualisation of the zone melting process. Let\n",
    "s use the data for Al- 4.5wt%Cu from table B2, p. 387\n",
    "\n",
    "We have the following equation for the solid concentration at the solidification interface:\n",
    "\n",
    "$$ C_S^*  =  C_0 \\Big[ 1- (1-k_0)exp \\Big( \\frac{k_0x^*}{\\delta} \\Big) \\Big] $$\n",
    "\n",
    "And the following equation for the liquid concentration at the solidification interface:\n",
    "\n",
    "$$ C_l^*  = \\frac{C_0}{k_0} \\Big[ 1- (1-k_0)exp \\Big( \\frac{k_0x^*}{\\delta} \\Big) \\Big] $$\n"
   ]
  },
  {
   "cell_type": "code",
   "execution_count": 2,
   "metadata": {
    "collapsed": false
   },
   "outputs": [
    {
     "data": {
      "text/html": [
       "\n",
       "\n",
       "    <div class=\"bk-root\">\n",
       "        <div class=\"plotdiv\" id=\"8c53b647-d36f-47c4-8b6f-108618522a0d\"></div>\n",
       "    </div>\n",
       "<script type=\"text/javascript\">\n",
       "  \n",
       "  (function(global) {\n",
       "    function now() {\n",
       "      return new Date();\n",
       "    }\n",
       "  \n",
       "    var force = \"\";\n",
       "  \n",
       "    if (typeof (window._bokeh_onload_callbacks) === \"undefined\" || force !== \"\") {\n",
       "      window._bokeh_onload_callbacks = [];\n",
       "      window._bokeh_is_loading = undefined;\n",
       "    }\n",
       "  \n",
       "  \n",
       "    \n",
       "    if (typeof (window._bokeh_timeout) === \"undefined\" || force !== \"\") {\n",
       "      window._bokeh_timeout = Date.now() + 0;\n",
       "      window._bokeh_failed_load = false;\n",
       "    }\n",
       "  \n",
       "    var NB_LOAD_WARNING = {'data': {'text/html':\n",
       "       \"<div style='background-color: #fdd'>\\n\"+\n",
       "       \"<p>\\n\"+\n",
       "       \"BokehJS does not appear to have successfully loaded. If loading BokehJS from CDN, this \\n\"+\n",
       "       \"may be due to a slow or bad network connection. Possible fixes:\\n\"+\n",
       "       \"</p>\\n\"+\n",
       "       \"<ul>\\n\"+\n",
       "       \"<li>re-rerun `output_notebook()` to attempt to load from CDN again, or</li>\\n\"+\n",
       "       \"<li>use INLINE resources instead, as so:</li>\\n\"+\n",
       "       \"</ul>\\n\"+\n",
       "       \"<code>\\n\"+\n",
       "       \"from bokeh.resources import INLINE\\n\"+\n",
       "       \"output_notebook(resources=INLINE)\\n\"+\n",
       "       \"</code>\\n\"+\n",
       "       \"</div>\"}};\n",
       "  \n",
       "    function display_loaded() {\n",
       "      if (window.Bokeh !== undefined) {\n",
       "        Bokeh.$(\"#8c53b647-d36f-47c4-8b6f-108618522a0d\").text(\"BokehJS successfully loaded.\");\n",
       "      } else if (Date.now() < window._bokeh_timeout) {\n",
       "        setTimeout(display_loaded, 100)\n",
       "      }\n",
       "    }\n",
       "  \n",
       "    function run_callbacks() {\n",
       "      window._bokeh_onload_callbacks.forEach(function(callback) { callback() });\n",
       "      delete window._bokeh_onload_callbacks\n",
       "      console.info(\"Bokeh: all callbacks have finished\");\n",
       "    }\n",
       "  \n",
       "    function load_libs(js_urls, callback) {\n",
       "      window._bokeh_onload_callbacks.push(callback);\n",
       "      if (window._bokeh_is_loading > 0) {\n",
       "        console.log(\"Bokeh: BokehJS is being loaded, scheduling callback at\", now());\n",
       "        return null;\n",
       "      }\n",
       "      if (js_urls == null || js_urls.length === 0) {\n",
       "        run_callbacks();\n",
       "        return null;\n",
       "      }\n",
       "      console.log(\"Bokeh: BokehJS not loaded, scheduling load and callback at\", now());\n",
       "      window._bokeh_is_loading = js_urls.length;\n",
       "      for (var i = 0; i < js_urls.length; i++) {\n",
       "        var url = js_urls[i];\n",
       "        var s = document.createElement('script');\n",
       "        s.src = url;\n",
       "        s.async = false;\n",
       "        s.onreadystatechange = s.onload = function() {\n",
       "          window._bokeh_is_loading--;\n",
       "          if (window._bokeh_is_loading === 0) {\n",
       "            console.log(\"Bokeh: all BokehJS libraries loaded\");\n",
       "            run_callbacks()\n",
       "          }\n",
       "        };\n",
       "        s.onerror = function() {\n",
       "          console.warn(\"failed to load library \" + url);\n",
       "        };\n",
       "        console.log(\"Bokeh: injecting script tag for BokehJS library: \", url);\n",
       "        document.getElementsByTagName(\"head\")[0].appendChild(s);\n",
       "      }\n",
       "    };var element = document.getElementById(\"8c53b647-d36f-47c4-8b6f-108618522a0d\");\n",
       "    if (element == null) {\n",
       "      console.log(\"Bokeh: ERROR: autoload.js configured with elementid '8c53b647-d36f-47c4-8b6f-108618522a0d' but no matching script tag was found. \")\n",
       "      return false;\n",
       "    }\n",
       "  \n",
       "    var js_urls = [];\n",
       "  \n",
       "    var inline_js = [\n",
       "      function(Bokeh) {\n",
       "        Bokeh.$(function() {\n",
       "            var docs_json = {\"1994b0d9-8e67-4eb0-969b-34e8c006e57c\":{\"roots\":{\"references\":[{\"attributes\":{\"dimension\":1,\"plot\":{\"id\":\"3ed5753f-a4b7-485d-810b-8e21dad19490\",\"subtype\":\"Figure\",\"type\":\"Plot\"},\"ticker\":{\"id\":\"f825dfa6-5ce3-424b-9465-5ac6f8125513\",\"type\":\"BasicTicker\"}},\"id\":\"ca9ef5e4-1fe6-4c6e-81a8-6b2a9e22b16d\",\"type\":\"Grid\"},{\"attributes\":{\"fill_alpha\":{\"value\":0.1},\"fill_color\":{\"value\":\"#1f77b4\"},\"line_alpha\":{\"value\":0.1},\"line_color\":{\"value\":\"#1f77b4\"},\"x\":{\"field\":\"x\"},\"y\":{\"field\":\"y\"}},\"id\":\"71e6e3a9-72ce-4f58-8a21-ed124668c29b\",\"type\":\"Circle\"},{\"attributes\":{\"line_color\":{\"value\":\"red\"},\"x\":{\"field\":\"x\"},\"y\":{\"field\":\"y\"}},\"id\":\"6ed6b9f1-d199-42e1-ad92-5301bf0b492f\",\"type\":\"Line\"},{\"attributes\":{},\"id\":\"f825dfa6-5ce3-424b-9465-5ac6f8125513\",\"type\":\"BasicTicker\"},{\"attributes\":{\"callback\":null,\"column_names\":[\"y\",\"x\"],\"data\":{\"x\":[0.0,1.0101010101010102,2.0202020202020203,3.0303030303030303,4.040404040404041,5.050505050505051,6.0606060606060606,7.070707070707071,8.080808080808081,9.090909090909092,10.101010101010102,11.111111111111112,12.121212121212121,13.131313131313131,14.141414141414142,15.151515151515152,16.161616161616163,17.171717171717173,18.181818181818183,19.191919191919194,20.202020202020204,21.212121212121215,22.222222222222225,23.232323232323235,24.242424242424242,25.252525252525253,26.262626262626263,27.272727272727273,28.282828282828284,29.292929292929294,30.303030303030305,31.313131313131315,32.323232323232325,33.333333333333336,34.343434343434346,35.35353535353536,36.36363636363637,37.37373737373738,38.38383838383839,39.3939393939394,40.40404040404041,41.41414141414142,42.42424242424243,43.43434343434344,44.44444444444445,45.45454545454546,46.46464646464647,47.47474747474748,48.484848484848484,49.494949494949495,50.505050505050505,51.515151515151516,52.525252525252526,53.535353535353536,54.54545454545455,55.55555555555556,56.56565656565657,57.57575757575758,58.58585858585859,59.5959595959596,60.60606060606061,61.61616161616162,62.62626262626263,63.63636363636364,64.64646464646465,65.65656565656566,66.66666666666667,67.67676767676768,68.68686868686869,69.6969696969697,70.70707070707071,71.71717171717172,72.72727272727273,73.73737373737374,74.74747474747475,75.75757575757576,76.76767676767678,77.77777777777779,78.7878787878788,79.7979797979798,80.80808080808082,81.81818181818183,82.82828282828284,83.83838383838385,84.84848484848486,85.85858585858587,86.86868686868688,87.87878787878789,88.8888888888889,89.89898989898991,90.90909090909092,91.91919191919193,92.92929292929294,93.93939393939395,94.94949494949496,95.95959595959597,96.96969696969697,97.97979797979798,98.98989898989899,100.0],\"y\":[0.0063,0.006843421298388476,0.007379211932499375,0.007907479051311745,0.008428328299230034,0.008941863837211158,0.009448188363594913,0.00994740313464188,0.010439607984782981,0.010924901346584632,0.01140338027043358,0.011875140443945336,0.012340276211100037,0.01279888059110968,0.013251045297020309,0.01369686075405313,0.014136416117687954,0.014569799291492803,0.014997096944703107,0.015418394529554088,0.01583377629836973,0.01624332532041181,0.01664712349849235,0.01704525158535275,0.017437789199812974,0.01782481484269397,0.01820640591251646,0.018582638720979358,0.018953588508220768,0.019319329457864784,0.01967993471185687,0.020035476385091074,0.020386025579831733,0.02073165239993273,0.021072425964857054,0.021408414423499528,0.021739684967815413,0.022066303846257653,0.022388336377025444,0.022705846961126742,0.023018899095257384,0.02332755538449933,0.02363187755484061,0.023931926465519487,0.02422776212119523,0.024519443683948053,0.02480702948511052,0.025090577036932776,0.025370143044084074,0.0256457834149927,0.025917553273026715,0.02618550696751769,0.026449698084629644,0.026710179458075342,0.026967003179682193,0.02722022060980964,0.02746988238762044,0.027716038441207576,0.027958737997579027,0.028198029592502387,0.028433961080211092,0.02866657964297455,0.02889593180053371,0.029122063419404265,0.029345019722049153,0.029564845295922283,0.02978158410238525,0.029995279485498884,0.030205974180691292,0.03041371032330425,0.030618529457019508,0.030820472542166844,0.031019579963915446,0.031215891540350208,0.03140944653043472,0.03160028364186234,0.03178844103879713,0.031973956349505984,0.03215686667388368,0.03233720859087216,0.032515018165775796,0.03269033095747374,0.03286318202553116,0.0330336059372105,0.03320163677438438,0.03336730814035138,0.03353065316655612,0.03369170451921498,0.03385049440584879,0.03400705458172382,0.034161416356202186,0.03431361059900335,0.03446366774637736,0.03461161780719173,0.034757490368932595,0.03490131460362177,0.03504311927365062,0.03518293273753207,0.03532078295557179,0.03545669749545983]}},\"id\":\"225ecbcf-3041-454e-8771-75699e2e2af8\",\"type\":\"ColumnDataSource\"},{\"attributes\":{\"callback\":null,\"column_names\":[\"y\",\"x\"],\"data\":{\"x\":[0.0,1.0101010101010102,2.0202020202020203,3.0303030303030303,4.040404040404041,5.050505050505051,6.0606060606060606,7.070707070707071,8.080808080808081,9.090909090909092,10.101010101010102,11.111111111111112,12.121212121212121,13.131313131313131,14.141414141414142,15.151515151515152,16.161616161616163,17.171717171717173,18.181818181818183,19.191919191919194,20.202020202020204,21.212121212121215,22.222222222222225,23.232323232323235,24.242424242424242,25.252525252525253,26.262626262626263,27.272727272727273,28.282828282828284,29.292929292929294,30.303030303030305,31.313131313131315,32.323232323232325,33.333333333333336,34.343434343434346,35.35353535353536,36.36363636363637,37.37373737373738,38.38383838383839,39.3939393939394,40.40404040404041,41.41414141414142,42.42424242424243,43.43434343434344,44.44444444444445,45.45454545454546,46.46464646464647,47.47474747474748,48.484848484848484,49.494949494949495,50.505050505050505,51.515151515151516,52.525252525252526,53.535353535353536,54.54545454545455,55.55555555555556,56.56565656565657,57.57575757575758,58.58585858585859,59.5959595959596,60.60606060606061,61.61616161616162,62.62626262626263,63.63636363636364,64.64646464646465,65.65656565656566,66.66666666666667,67.67676767676768,68.68686868686869,69.6969696969697,70.70707070707071,71.71717171717172,72.72727272727273,73.73737373737374,74.74747474747475,75.75757575757576,76.76767676767678,77.77777777777779,78.7878787878788,79.7979797979798,80.80808080808082,81.81818181818183,82.82828282828284,83.83838383838385,84.84848484848486,85.85858585858587,86.86868686868688,87.87878787878789,88.8888888888889,89.89898989898991,90.90909090909092,91.91919191919193,92.92929292929294,93.93939393939395,94.94949494949496,95.95959595959597,96.96969696969697,97.97979797979798,98.98989898989899,100.0],\"y\":[0.045,0.04887,0.052685819999999994,0.056448218519999996,0.060157943460719995,0.06381573225226991,0.06742231200073813,0.0709783996327278,0.07448470203786961,0.07794191620933943,0.08135072938240868,0.08471181917105497,0.0880258537026602,0.09129349175082295,0.09451538286631143,0.09769216750618308,0.10082447716109652,0.10391293448084117,0.10695815339810939,0.10996073925053586,0.11292128890102836,0.11584039085641396,0.11871862538442415,0.12155656462904221,0.12435477272423562,0.12711380590609633,0.129834212623411,0.13251653364668323,0.13516130217562966,0.13776904394517084,0.14034027732993845,0.1428755134473193,0.14537525625905684,0.14784000267143005,0.15027024263403002,0.1526664592371536,0.15502912880783346,0.15735872100452378,0.15965569891046044,0.161920519125714,0.164153631857954,0.16635548101194264,0.16852650427777544,0.17066713321788657,0.17277779335283616,0.17485890424589645,0.1769108795864539,0.17893412727224356,0.18092904949043215,0.1828960427975661,0.18483549819840017,0.18674780122362256,0.18863333200649185,0.19049246535840098,0.19232557084338336,0.194133012851576,0.19591515067165394,0.19767233856225078,0.19940492582237926,0.20111325686086595,0.20279767126481382,0.20445850386710643,0.20609608481296693,0.2077107396255854,0.2093027892708272,0.21087255022103563,0.21242033451794112,0.21394644983468994,0.21545119953700428,0.2169348827434862,0.2183977943850774,0.2198402252636863,0.22126246210999467,0.22266478764045475,0.2240474806134884,0.22541081588489956,0.22675506446251095,0.2280804935600358,0.2293873666501953,0.23067594351709256,0.23194648030785325,0.2331992295835433,0.2344344403693737,0.23565235820420247,0.23685322518934362,0.2380372800366928,0.2392047581161791,0.2403558915025526,0.24149090902151688,0.24261003629521563,0.24371349578708262,0.24480150684606347,0.24587428575021858,0.24693204574971553,0.2479749971092195,0.2490033471496904,0.25001730028959473,0.2510170580855404,0.25200281927234286,0.2529747798025301]}},\"id\":\"9687325c-c284-46c2-931b-a3afa925486c\",\"type\":\"ColumnDataSource\"},{\"attributes\":{\"callback\":null,\"column_names\":[\"y\",\"x\"],\"data\":{\"x\":[0.0,1.0101010101010102,2.0202020202020203,3.0303030303030303,4.040404040404041,5.050505050505051,6.0606060606060606,7.070707070707071,8.080808080808081,9.090909090909092,10.101010101010102,11.111111111111112,12.121212121212121,13.131313131313131,14.141414141414142,15.151515151515152,16.161616161616163,17.171717171717173,18.181818181818183,19.191919191919194,20.202020202020204,21.212121212121215,22.222222222222225,23.232323232323235,24.242424242424242,25.252525252525253,26.262626262626263,27.272727272727273,28.282828282828284,29.292929292929294,30.303030303030305,31.313131313131315,32.323232323232325,33.333333333333336,34.343434343434346,35.35353535353536,36.36363636363637,37.37373737373738,38.38383838383839,39.3939393939394,40.40404040404041,41.41414141414142,42.42424242424243,43.43434343434344,44.44444444444445,45.45454545454546,46.46464646464647,47.47474747474748,48.484848484848484,49.494949494949495,50.505050505050505,51.515151515151516,52.525252525252526,53.535353535353536,54.54545454545455,55.55555555555556,56.56565656565657,57.57575757575758,58.58585858585859,59.5959595959596,60.60606060606061,61.61616161616162,62.62626262626263,63.63636363636364,64.64646464646465,65.65656565656566,66.66666666666667,67.67676767676768,68.68686868686869,69.6969696969697,70.70707070707071,71.71717171717172,72.72727272727273,73.73737373737374,74.74747474747475,75.75757575757576,76.76767676767678,77.77777777777779,78.7878787878788,79.7979797979798,80.80808080808082,81.81818181818183,82.82828282828284,83.83838383838385,84.84848484848486,85.85858585858587,86.86868686868688,87.87878787878789,88.8888888888889,89.89898989898991,90.90909090909092,91.91919191919193,92.92929292929294,93.93939393939395,94.94949494949496,95.95959595959597,96.96969696969697,97.97979797979798,98.98989898989899,100.0],\"y\":[0.0063,0.0068418,0.0073760148000000005,0.0079027505928,0.0084221120845008,0.008934202515317789,0.00943912368010334,0.009936975948581894,0.010427858285301747,0.010911868269307522,0.011389102113537218,0.011859654683947696,0.01232361951837243,0.012781088845115215,0.013232153601283603,0.013676903450865632,0.014115426802553514,0.014547810827317764,0.014974141475735316,0.015394503495075021,0.01580898044614397,0.016217654719897955,0.016620607553819385,0.017017919048065915,0.017409668181392994,0.017795932826853492,0.018176789767277542,0.01855231471053566,0.01892258230458816,0.019287666152323926,0.01964763882619139,0.020002571882624713,0.020352535876267966,0.020697600374000213,0.02103783396876421,0.02137330429320151,0.02170407803309669,0.022030220940633338,0.022351797847464473,0.022668872677599972,0.022981508460113573,0.023289767341671982,0.023593710598888575,0.023893398650504133,0.024188891069397075,0.024480246594425516,0.024767523142103558,0.025050777818114107,0.02533006692866051,0.025605445991659263,0.02587696974777603,0.026144692171307167,0.026408666480908866,0.026668945150176142,0.026925579918073674,0.02717862179922064,0.027428121094031553,0.027674127398715113,0.027916689615133102,0.02815585596052124,0.028391673977073942,0.028624190541394905,0.028853451873815376,0.029079503547581962,0.029302390497915814,0.029522157030944993,0.029738846832511764,0.029952502976856598,0.030163167935180604,0.030370883584088074,0.030575691213910842,0.03077763153691609,0.030976744695399266,0.031173070269663677,0.03136664728588839,0.031557514223885946,0.031745709024751545,0.031931269098405025,0.03211423133102736,0.03229463209239297,0.03247250724309947,0.032647892141696076,0.03282082165171233,0.032991330148588356,0.03315945152650812,0.03332521920513701,0.03348866613626509,0.03364982481035738,0.03380872726301238,0.033965405081330204,0.03411988941019158,0.0342722109584489,0.034422400005030614,0.03457048640496019,0.034716499595290745,0.03486046860095667,0.035002422040543275,0.03514238813197567,0.03528039469812801,0.03541646917235422]}},\"id\":\"c8ceee09-0e6d-4a00-9837-29fdd9fb836e\",\"type\":\"ColumnDataSource\"},{\"attributes\":{\"below\":[{\"id\":\"9cf74ff2-d228-4b91-8c4b-bfcb6198ef75\",\"type\":\"LinearAxis\"}],\"left\":[{\"id\":\"e3130d51-e593-4520-9ca5-38ac187e35d9\",\"type\":\"LinearAxis\"}],\"plot_height\":300,\"plot_width\":500,\"renderers\":[{\"id\":\"9cf74ff2-d228-4b91-8c4b-bfcb6198ef75\",\"type\":\"LinearAxis\"},{\"id\":\"bbaa8d40-172d-44ad-81e7-dffab70c5042\",\"type\":\"Grid\"},{\"id\":\"e3130d51-e593-4520-9ca5-38ac187e35d9\",\"type\":\"LinearAxis\"},{\"id\":\"ca9ef5e4-1fe6-4c6e-81a8-6b2a9e22b16d\",\"type\":\"Grid\"},{\"id\":\"7817ed61-3c54-4dfb-a779-69ba22f12bfe\",\"type\":\"BoxAnnotation\"},{\"id\":\"d5248253-985e-45df-8c86-686852a64190\",\"type\":\"Legend\"},{\"id\":\"b85313a1-e954-4d36-a76d-219a2d36f9ab\",\"type\":\"GlyphRenderer\"},{\"id\":\"3c725f9b-6ec4-4680-85f6-1ae63f3e4db4\",\"type\":\"GlyphRenderer\"},{\"id\":\"e7614aa0-72f0-40a6-9413-8559a1fa50de\",\"type\":\"GlyphRenderer\"},{\"id\":\"98755837-cf2c-4790-b605-c7c32e684af0\",\"type\":\"GlyphRenderer\"},{\"id\":\"e030d24e-3008-4c99-b577-1ad207d4ab41\",\"type\":\"GlyphRenderer\"}],\"title\":{\"id\":\"da1310b4-e8df-4c7e-8ad6-bbb763504ff3\",\"type\":\"Title\"},\"tool_events\":{\"id\":\"6f06b52e-21b8-4928-86db-38b21e71c6b6\",\"type\":\"ToolEvents\"},\"toolbar\":{\"id\":\"e1c872d3-e4e9-4f56-9d93-e57edd533ce7\",\"type\":\"Toolbar\"},\"x_range\":{\"id\":\"e609d51c-b003-4be4-aaad-c61af6c5050d\",\"type\":\"DataRange1d\"},\"y_range\":{\"id\":\"859a8a21-161c-47d1-9851-46a26ad3be24\",\"type\":\"DataRange1d\"}},\"id\":\"3ed5753f-a4b7-485d-810b-8e21dad19490\",\"subtype\":\"Figure\",\"type\":\"Plot\"},{\"attributes\":{\"plot\":{\"id\":\"3ed5753f-a4b7-485d-810b-8e21dad19490\",\"subtype\":\"Figure\",\"type\":\"Plot\"}},\"id\":\"ca03f748-b876-4094-92de-4f30a602fbc9\",\"type\":\"HelpTool\"},{\"attributes\":{\"data_source\":{\"id\":\"c8ceee09-0e6d-4a00-9837-29fdd9fb836e\",\"type\":\"ColumnDataSource\"},\"glyph\":{\"id\":\"a81c147b-bfe5-462e-9532-d371ce7aba31\",\"type\":\"Circle\"},\"hover_glyph\":null,\"nonselection_glyph\":{\"id\":\"71e6e3a9-72ce-4f58-8a21-ed124668c29b\",\"type\":\"Circle\"},\"selection_glyph\":null},\"id\":\"e7614aa0-72f0-40a6-9413-8559a1fa50de\",\"type\":\"GlyphRenderer\"},{\"attributes\":{\"callback\":null},\"id\":\"859a8a21-161c-47d1-9851-46a26ad3be24\",\"type\":\"DataRange1d\"},{\"attributes\":{\"fill_alpha\":{\"value\":0.1},\"fill_color\":{\"value\":\"#1f77b4\"},\"line_alpha\":{\"value\":0.1},\"line_color\":{\"value\":\"#1f77b4\"},\"x\":{\"field\":\"x\"},\"y\":{\"field\":\"y\"}},\"id\":\"b24c003f-b475-4ae7-97e0-e456ba49f387\",\"type\":\"Circle\"},{\"attributes\":{\"plot\":{\"id\":\"3ed5753f-a4b7-485d-810b-8e21dad19490\",\"subtype\":\"Figure\",\"type\":\"Plot\"}},\"id\":\"954d1540-759d-4403-87f9-1df33798aa17\",\"type\":\"PanTool\"},{\"attributes\":{\"legends\":[[\"C_S analytic\",[{\"id\":\"b85313a1-e954-4d36-a76d-219a2d36f9ab\",\"type\":\"GlyphRenderer\"}]],[\"C_L analytic\",[{\"id\":\"3c725f9b-6ec4-4680-85f6-1ae63f3e4db4\",\"type\":\"GlyphRenderer\"}]],[\"C_S numeric\",[{\"id\":\"e7614aa0-72f0-40a6-9413-8559a1fa50de\",\"type\":\"GlyphRenderer\"}]],[\"C_L numeric\",[{\"id\":\"98755837-cf2c-4790-b605-c7c32e684af0\",\"type\":\"GlyphRenderer\"}]],[\"C_0\",[{\"id\":\"e030d24e-3008-4c99-b577-1ad207d4ab41\",\"type\":\"GlyphRenderer\"}]]],\"plot\":{\"id\":\"3ed5753f-a4b7-485d-810b-8e21dad19490\",\"subtype\":\"Figure\",\"type\":\"Plot\"}},\"id\":\"d5248253-985e-45df-8c86-686852a64190\",\"type\":\"Legend\"},{\"attributes\":{\"formatter\":{\"id\":\"2125ca4c-f004-4aff-8ad0-a5a5a6ef8250\",\"type\":\"BasicTickFormatter\"},\"plot\":{\"id\":\"3ed5753f-a4b7-485d-810b-8e21dad19490\",\"subtype\":\"Figure\",\"type\":\"Plot\"},\"ticker\":{\"id\":\"0874464c-4155-43e2-b769-7121cd9feb82\",\"type\":\"BasicTicker\"}},\"id\":\"9cf74ff2-d228-4b91-8c4b-bfcb6198ef75\",\"type\":\"LinearAxis\"},{\"attributes\":{\"line_alpha\":{\"value\":0.1},\"line_color\":{\"value\":\"#1f77b4\"},\"x\":{\"field\":\"x\"},\"y\":{\"field\":\"y\"}},\"id\":\"bdae9cd4-5722-4f82-940f-d5a18fff4f05\",\"type\":\"Line\"},{\"attributes\":{\"fill_alpha\":{\"value\":0},\"fill_color\":{\"value\":\"red\"},\"line_color\":{\"value\":\"red\"},\"x\":{\"field\":\"x\"},\"y\":{\"field\":\"y\"}},\"id\":\"5aafb302-3df9-4d95-8b64-548524fb8ed9\",\"type\":\"Circle\"},{\"attributes\":{\"active_drag\":\"auto\",\"active_scroll\":\"auto\",\"active_tap\":\"auto\",\"tools\":[{\"id\":\"954d1540-759d-4403-87f9-1df33798aa17\",\"type\":\"PanTool\"},{\"id\":\"2688673c-9172-424b-9530-fa91c70e5b46\",\"type\":\"WheelZoomTool\"},{\"id\":\"2c9ebc3f-8808-4966-a00f-aa0088386a2c\",\"type\":\"BoxZoomTool\"},{\"id\":\"5bb121fa-145a-4c7a-96bd-ba214ba7cb20\",\"type\":\"SaveTool\"},{\"id\":\"cf6ab2b5-a89f-4945-9008-afc6c2f53bdc\",\"type\":\"ResetTool\"},{\"id\":\"ca03f748-b876-4094-92de-4f30a602fbc9\",\"type\":\"HelpTool\"}]},\"id\":\"e1c872d3-e4e9-4f56-9d93-e57edd533ce7\",\"type\":\"Toolbar\"},{\"attributes\":{},\"id\":\"6f06b52e-21b8-4928-86db-38b21e71c6b6\",\"type\":\"ToolEvents\"},{\"attributes\":{\"overlay\":{\"id\":\"7817ed61-3c54-4dfb-a779-69ba22f12bfe\",\"type\":\"BoxAnnotation\"},\"plot\":{\"id\":\"3ed5753f-a4b7-485d-810b-8e21dad19490\",\"subtype\":\"Figure\",\"type\":\"Plot\"}},\"id\":\"2c9ebc3f-8808-4966-a00f-aa0088386a2c\",\"type\":\"BoxZoomTool\"},{\"attributes\":{},\"id\":\"0874464c-4155-43e2-b769-7121cd9feb82\",\"type\":\"BasicTicker\"},{\"attributes\":{\"plot\":null,\"text\":\"test\"},\"id\":\"da1310b4-e8df-4c7e-8ad6-bbb763504ff3\",\"type\":\"Title\"},{\"attributes\":{\"callback\":null,\"column_names\":[\"y\",\"x\"],\"data\":{\"x\":[0.0,1.0101010101010102,2.0202020202020203,3.0303030303030303,4.040404040404041,5.050505050505051,6.0606060606060606,7.070707070707071,8.080808080808081,9.090909090909092,10.101010101010102,11.111111111111112,12.121212121212121,13.131313131313131,14.141414141414142,15.151515151515152,16.161616161616163,17.171717171717173,18.181818181818183,19.191919191919194,20.202020202020204,21.212121212121215,22.222222222222225,23.232323232323235,24.242424242424242,25.252525252525253,26.262626262626263,27.272727272727273,28.282828282828284,29.292929292929294,30.303030303030305,31.313131313131315,32.323232323232325,33.333333333333336,34.343434343434346,35.35353535353536,36.36363636363637,37.37373737373738,38.38383838383839,39.3939393939394,40.40404040404041,41.41414141414142,42.42424242424243,43.43434343434344,44.44444444444445,45.45454545454546,46.46464646464647,47.47474747474748,48.484848484848484,49.494949494949495,50.505050505050505,51.515151515151516,52.525252525252526,53.535353535353536,54.54545454545455,55.55555555555556,56.56565656565657,57.57575757575758,58.58585858585859,59.5959595959596,60.60606060606061,61.61616161616162,62.62626262626263,63.63636363636364,64.64646464646465,65.65656565656566,66.66666666666667,67.67676767676768,68.68686868686869,69.6969696969697,70.70707070707071,71.71717171717172,72.72727272727273,73.73737373737374,74.74747474747475,75.75757575757576,76.76767676767678,77.77777777777779,78.7878787878788,79.7979797979798,80.80808080808082,81.81818181818183,82.82828282828284,83.83838383838385,84.84848484848486,85.85858585858587,86.86868686868688,87.87878787878789,88.8888888888889,89.89898989898991,90.90909090909092,91.91919191919193,92.92929292929294,93.93939393939395,94.94949494949496,95.95959595959597,96.96969696969697,97.97979797979798,98.98989898989899,100.0],\"y\":[0.045,0.048881580702774825,0.05270865666070981,0.056481993223655325,0.06020234499450024,0.0638704559800797,0.06748705973996365,0.07105287953315628,0.07456862846273557,0.07803500961846165,0.0814527162173827,0.08482243174246668,0.08814483007928599,0.09142057565078342,0.09465032355014505,0.09783471967180807,0.10097440084062823,0.1040699949392343,0.10712212103359361,0.1101313894968149,0.11309840213121235,0.11602375228865577,0.11890802498923107,0.12175179703823392,0.12455563714152124,0.12732010601924265,0.1300457565179747,0.13273313372128112,0.13538277505871976,0.13799521041331986,0.14057096222754908,0.14311054560779338,0.1456144684273695,0.1480832314280909,0.1505173283204075,0.15291724588213948,0.15528346405582436,0.1576164560446975,0.1599166884073246,0.1621846211509053,0.16442070782326704,0.16662539560356665,0.16879912539171862,0.17094233189656777,0.17305544372282305,0.1751388834567718,0.1771930677507894,0.17921840740666267,0.18121530745774336,0.18318416724994782,0.1851253805216194,0.1870393354822692,0.18892641489021172,0.19078699612910957,0.19262145128344424,0.19443014721292598,0.19621344562586027,0.19797170315148266,0.19970527141127875,0.20141449708930276,0.2030997220015078,0.2047612831641039,0.20639951286095506,0.20801473871003046,0.2096072837289225,0.21117746639944485,0.2127256007313232,0.214251996324992,0.21575695843350923,0.21724078802360178,0.2187037818358536,0.22014623244404888,0.22156842831368173,0.22297065385964432,0.22435318950310512,0.22571631172758813,0.22706029313426523,0.2283854024964713,0.22969190481345483,0.23098006136337254,0.23225012975554138,0.2335023639819553,0.2347370144680797,0.23595432812293213,0.23715454838845984,0.23833791528822415,0.23950466547540084,0.24065503228010698,0.24178924575606278,0.24290753272659865,0.2440101168300156,0.24509721856430963,0.24616905533126685,0.2472258414799409,0.24826778834951851,0.24929510431158408,0.25030799481179017,0.25130666241094335,0.25229130682551276,0.25326212496757017]}},\"id\":\"96c779a3-e44d-4336-9045-56cbe6c7b82e\",\"type\":\"ColumnDataSource\"},{\"attributes\":{\"callback\":null},\"id\":\"e609d51c-b003-4be4-aaad-c61af6c5050d\",\"type\":\"DataRange1d\"},{\"attributes\":{\"bottom_units\":\"screen\",\"fill_alpha\":{\"value\":0.5},\"fill_color\":{\"value\":\"lightgrey\"},\"left_units\":\"screen\",\"level\":\"overlay\",\"line_alpha\":{\"value\":1.0},\"line_color\":{\"value\":\"black\"},\"line_dash\":[4,4],\"line_width\":{\"value\":2},\"plot\":null,\"render_mode\":\"css\",\"right_units\":\"screen\",\"top_units\":\"screen\"},\"id\":\"7817ed61-3c54-4dfb-a779-69ba22f12bfe\",\"type\":\"BoxAnnotation\"},{\"attributes\":{\"data_source\":{\"id\":\"96c779a3-e44d-4336-9045-56cbe6c7b82e\",\"type\":\"ColumnDataSource\"},\"glyph\":{\"id\":\"6ed6b9f1-d199-42e1-ad92-5301bf0b492f\",\"type\":\"Line\"},\"hover_glyph\":null,\"nonselection_glyph\":{\"id\":\"bdae9cd4-5722-4f82-940f-d5a18fff4f05\",\"type\":\"Line\"},\"selection_glyph\":null},\"id\":\"3c725f9b-6ec4-4680-85f6-1ae63f3e4db4\",\"type\":\"GlyphRenderer\"},{\"attributes\":{\"line_color\":{\"value\":\"purple\"},\"x\":{\"field\":\"x\"},\"y\":{\"field\":\"y\"}},\"id\":\"b6f5752c-8711-4b84-93b1-ed0584bef5e7\",\"type\":\"Line\"},{\"attributes\":{\"plot\":{\"id\":\"3ed5753f-a4b7-485d-810b-8e21dad19490\",\"subtype\":\"Figure\",\"type\":\"Plot\"}},\"id\":\"cf6ab2b5-a89f-4945-9008-afc6c2f53bdc\",\"type\":\"ResetTool\"},{\"attributes\":{\"plot\":{\"id\":\"3ed5753f-a4b7-485d-810b-8e21dad19490\",\"subtype\":\"Figure\",\"type\":\"Plot\"},\"ticker\":{\"id\":\"0874464c-4155-43e2-b769-7121cd9feb82\",\"type\":\"BasicTicker\"}},\"id\":\"bbaa8d40-172d-44ad-81e7-dffab70c5042\",\"type\":\"Grid\"},{\"attributes\":{\"line_color\":{\"value\":\"#1f77b4\"},\"x\":{\"field\":\"x\"},\"y\":{\"field\":\"y\"}},\"id\":\"84a70fce-ab23-448b-a326-07bb2e62cc0b\",\"type\":\"Line\"},{\"attributes\":{\"formatter\":{\"id\":\"84082104-bae0-4fa9-9ec2-1447d1fdac4b\",\"type\":\"BasicTickFormatter\"},\"plot\":{\"id\":\"3ed5753f-a4b7-485d-810b-8e21dad19490\",\"subtype\":\"Figure\",\"type\":\"Plot\"},\"ticker\":{\"id\":\"f825dfa6-5ce3-424b-9465-5ac6f8125513\",\"type\":\"BasicTicker\"}},\"id\":\"e3130d51-e593-4520-9ca5-38ac187e35d9\",\"type\":\"LinearAxis\"},{\"attributes\":{\"data_source\":{\"id\":\"fbfad6b6-1be9-49ac-bac5-cf32d6f9432d\",\"type\":\"ColumnDataSource\"},\"glyph\":{\"id\":\"b6f5752c-8711-4b84-93b1-ed0584bef5e7\",\"type\":\"Line\"},\"hover_glyph\":null,\"nonselection_glyph\":{\"id\":\"281cf5b9-d94c-49ea-82e1-e782cc008e52\",\"type\":\"Line\"},\"selection_glyph\":null},\"id\":\"e030d24e-3008-4c99-b577-1ad207d4ab41\",\"type\":\"GlyphRenderer\"},{\"attributes\":{\"line_alpha\":{\"value\":0.1},\"line_color\":{\"value\":\"#1f77b4\"},\"x\":{\"field\":\"x\"},\"y\":{\"field\":\"y\"}},\"id\":\"281cf5b9-d94c-49ea-82e1-e782cc008e52\",\"type\":\"Line\"},{\"attributes\":{\"callback\":null,\"column_names\":[\"y\",\"x\"],\"data\":{\"x\":[0.0,1.0101010101010102,2.0202020202020203,3.0303030303030303,4.040404040404041,5.050505050505051,6.0606060606060606,7.070707070707071,8.080808080808081,9.090909090909092,10.101010101010102,11.111111111111112,12.121212121212121,13.131313131313131,14.141414141414142,15.151515151515152,16.161616161616163,17.171717171717173,18.181818181818183,19.191919191919194,20.202020202020204,21.212121212121215,22.222222222222225,23.232323232323235,24.242424242424242,25.252525252525253,26.262626262626263,27.272727272727273,28.282828282828284,29.292929292929294,30.303030303030305,31.313131313131315,32.323232323232325,33.333333333333336,34.343434343434346,35.35353535353536,36.36363636363637,37.37373737373738,38.38383838383839,39.3939393939394,40.40404040404041,41.41414141414142,42.42424242424243,43.43434343434344,44.44444444444445,45.45454545454546,46.46464646464647,47.47474747474748,48.484848484848484,49.494949494949495,50.505050505050505,51.515151515151516,52.525252525252526,53.535353535353536,54.54545454545455,55.55555555555556,56.56565656565657,57.57575757575758,58.58585858585859,59.5959595959596,60.60606060606061,61.61616161616162,62.62626262626263,63.63636363636364,64.64646464646465,65.65656565656566,66.66666666666667,67.67676767676768,68.68686868686869,69.6969696969697,70.70707070707071,71.71717171717172,72.72727272727273,73.73737373737374,74.74747474747475,75.75757575757576,76.76767676767678,77.77777777777779,78.7878787878788,79.7979797979798,80.80808080808082,81.81818181818183,82.82828282828284,83.83838383838385,84.84848484848486,85.85858585858587,86.86868686868688,87.87878787878789,88.8888888888889,89.89898989898991,90.90909090909092,91.91919191919193,92.92929292929294,93.93939393939395,94.94949494949496,95.95959595959597,96.96969696969697,97.97979797979798,98.98989898989899,100.0],\"y\":[0.045,0.045,0.045,0.045,0.045,0.045,0.045,0.045,0.045,0.045,0.045,0.045,0.045,0.045,0.045,0.045,0.045,0.045,0.045,0.045,0.045,0.045,0.045,0.045,0.045,0.045,0.045,0.045,0.045,0.045,0.045,0.045,0.045,0.045,0.045,0.045,0.045,0.045,0.045,0.045,0.045,0.045,0.045,0.045,0.045,0.045,0.045,0.045,0.045,0.045,0.045,0.045,0.045,0.045,0.045,0.045,0.045,0.045,0.045,0.045,0.045,0.045,0.045,0.045,0.045,0.045,0.045,0.045,0.045,0.045,0.045,0.045,0.045,0.045,0.045,0.045,0.045,0.045,0.045,0.045,0.045,0.045,0.045,0.045,0.045,0.045,0.045,0.045,0.045,0.045,0.045,0.045,0.045,0.045,0.045,0.045,0.045,0.045,0.045,0.045]}},\"id\":\"fbfad6b6-1be9-49ac-bac5-cf32d6f9432d\",\"type\":\"ColumnDataSource\"},{\"attributes\":{\"line_alpha\":{\"value\":0.1},\"line_color\":{\"value\":\"#1f77b4\"},\"x\":{\"field\":\"x\"},\"y\":{\"field\":\"y\"}},\"id\":\"b2e4060e-7a7e-4e29-bb47-21b963012b70\",\"type\":\"Line\"},{\"attributes\":{\"data_source\":{\"id\":\"225ecbcf-3041-454e-8771-75699e2e2af8\",\"type\":\"ColumnDataSource\"},\"glyph\":{\"id\":\"84a70fce-ab23-448b-a326-07bb2e62cc0b\",\"type\":\"Line\"},\"hover_glyph\":null,\"nonselection_glyph\":{\"id\":\"b2e4060e-7a7e-4e29-bb47-21b963012b70\",\"type\":\"Line\"},\"selection_glyph\":null},\"id\":\"b85313a1-e954-4d36-a76d-219a2d36f9ab\",\"type\":\"GlyphRenderer\"},{\"attributes\":{\"plot\":{\"id\":\"3ed5753f-a4b7-485d-810b-8e21dad19490\",\"subtype\":\"Figure\",\"type\":\"Plot\"}},\"id\":\"5bb121fa-145a-4c7a-96bd-ba214ba7cb20\",\"type\":\"SaveTool\"},{\"attributes\":{},\"id\":\"2125ca4c-f004-4aff-8ad0-a5a5a6ef8250\",\"type\":\"BasicTickFormatter\"},{\"attributes\":{\"data_source\":{\"id\":\"9687325c-c284-46c2-931b-a3afa925486c\",\"type\":\"ColumnDataSource\"},\"glyph\":{\"id\":\"5aafb302-3df9-4d95-8b64-548524fb8ed9\",\"type\":\"Circle\"},\"hover_glyph\":null,\"nonselection_glyph\":{\"id\":\"b24c003f-b475-4ae7-97e0-e456ba49f387\",\"type\":\"Circle\"},\"selection_glyph\":null},\"id\":\"98755837-cf2c-4790-b605-c7c32e684af0\",\"type\":\"GlyphRenderer\"},{\"attributes\":{\"fill_alpha\":{\"value\":0},\"fill_color\":{\"value\":\"#1f77b4\"},\"line_color\":{\"value\":\"#1f77b4\"},\"x\":{\"field\":\"x\"},\"y\":{\"field\":\"y\"}},\"id\":\"a81c147b-bfe5-462e-9532-d371ce7aba31\",\"type\":\"Circle\"},{\"attributes\":{\"plot\":{\"id\":\"3ed5753f-a4b7-485d-810b-8e21dad19490\",\"subtype\":\"Figure\",\"type\":\"Plot\"}},\"id\":\"2688673c-9172-424b-9530-fa91c70e5b46\",\"type\":\"WheelZoomTool\"},{\"attributes\":{},\"id\":\"84082104-bae0-4fa9-9ec2-1447d1fdac4b\",\"type\":\"BasicTickFormatter\"}],\"root_ids\":[\"3ed5753f-a4b7-485d-810b-8e21dad19490\"]},\"title\":\"Bokeh Application\",\"version\":\"0.12.2\"}};\n",
       "            var render_items = [{\"docid\":\"1994b0d9-8e67-4eb0-969b-34e8c006e57c\",\"elementid\":\"8c53b647-d36f-47c4-8b6f-108618522a0d\",\"modelid\":\"3ed5753f-a4b7-485d-810b-8e21dad19490\"}];\n",
       "            \n",
       "            Bokeh.embed.embed_items(docs_json, render_items);\n",
       "        });\n",
       "      },\n",
       "      function(Bokeh) {\n",
       "      }\n",
       "    ];\n",
       "  \n",
       "    function run_inline_js() {\n",
       "      \n",
       "      if ((window.Bokeh !== undefined) || (force === \"1\")) {\n",
       "        for (var i = 0; i < inline_js.length; i++) {\n",
       "          inline_js[i](window.Bokeh);\n",
       "        }if (force === \"1\") {\n",
       "          display_loaded();\n",
       "        }} else if (Date.now() < window._bokeh_timeout) {\n",
       "        setTimeout(run_inline_js, 100);\n",
       "      } else if (!window._bokeh_failed_load) {\n",
       "        console.log(\"Bokeh: BokehJS failed to load within specified timeout.\");\n",
       "        window._bokeh_failed_load = true;\n",
       "      } else if (!force) {\n",
       "        var cell = $(\"#8c53b647-d36f-47c4-8b6f-108618522a0d\").parents('.cell').data().cell;\n",
       "        cell.output_area.append_execute_result(NB_LOAD_WARNING)\n",
       "      }\n",
       "  \n",
       "    }\n",
       "  \n",
       "    if (window._bokeh_is_loading === 0) {\n",
       "      console.log(\"Bokeh: BokehJS loaded, going straight to plotting\");\n",
       "      run_inline_js();\n",
       "    } else {\n",
       "      load_libs(js_urls, function() {\n",
       "        console.log(\"Bokeh: BokehJS plotting callback run at\", now());\n",
       "        run_inline_js();\n",
       "      });\n",
       "    }\n",
       "  }(this));\n",
       "</script>"
      ]
     },
     "metadata": {},
     "output_type": "display_data"
    }
   ],
   "source": [
    "C_0=0.045\n",
    "k=0.14\n",
    "delta=10\n",
    "l=100\n",
    "C_E=0.3217\n",
    "C_SM=0.0565\n",
    "C_L=C_0\n",
    "\n",
    "\n",
    "\n",
    "# Initial state: liquid nodes, with concentration C_0\n",
    "\n",
    "length_vector=np.linspace(0,l,l)\n",
    "concentration_vector=np.empty([l])\n",
    "concentration_vector.fill(C_0)\n",
    "\n",
    "grid=100\n",
    "step= l/grid\n",
    "x_vector=np.linspace(0,l,grid)\n",
    "\n",
    "C_L_vector_numeric=np.empty([grid])\n",
    "C_L_vector_numeric.fill(C_0)\n",
    "C_S_vector_numeric=np.empty([grid])\n",
    "C_S_vector_numeric.fill(k*C_0)\n",
    "\n",
    "\n",
    "\n",
    "#numeric functions for determining concentration:\n",
    "\n",
    "\n",
    "def C_L_numeric(i):\n",
    "    return (C_0-k*i)/delta\n",
    "\n",
    "def C_S_numeric(i):\n",
    "    return k*(C_0-i)/delta\n",
    "    \n",
    "\n",
    "\n",
    "#Analytic functions for determining  concentration:\n",
    "\n",
    "def dx(a):\n",
    "    return delta/(C_0-k*(C_0+i*step))\n",
    "\n",
    "\n",
    "def C_S_analytic(a):\n",
    "    return C_0*(1-(1-k)*np.exp(-k*a/delta))\n",
    "\n",
    "def C_L_analytic(a):\n",
    "    return C_0/k*(1-(1-k)*np.exp(-k*a/delta))\n",
    "\n",
    "\n",
    "# numeric solution for liquid concentration:\n",
    "for i in range(grid-1):\n",
    "    C_L_vector_numeric[i+1]=C_L_vector_numeric[i]+step*C_L_numeric(C_L_vector_numeric[i])\n",
    "\n",
    "# numeric solution for solid concentration:\n",
    "for i in range(grid-1):\n",
    "    C_S_vector_numeric[i+1]=C_S_vector_numeric[i]+step*C_S_numeric(C_S_vector_numeric[i])\n",
    "    \n",
    "f=bkp.figure(title=\"test\",height=300,width=500)\n",
    "\n",
    "# Analytic solutions:\n",
    "f.line(length_vector,C_S_analytic(length_vector),legend=\"C_S analytic\")\n",
    "f.line(length_vector,C_L_analytic(length_vector),color=\"red\",legend=\"C_L analytic\")\n",
    "\n",
    "# Numerical solutions plotted\n",
    "f.scatter(x_vector,C_S_vector_numeric, fill_alpha=0, legend='C_S numeric')\n",
    "f.scatter(x_vector,C_L_vector_numeric,fill_alpha=0,color='red',legend='C_L numeric')\n",
    "\n",
    "\n",
    "# C_0 level plotted\n",
    "a=np.empty(l)\n",
    "a.fill(C_0)\n",
    "f.line(length_vector,a,color=\"purple\",legend=\"C_0\")\n",
    "\n",
    "bkp.show(f)"
   ]
  },
  {
   "cell_type": "markdown",
   "metadata": {},
   "source": [
    "However, this representation lacks the final transient. We can use the Scheil equation to approximate it:\n",
    "\n",
    "$$ C_S=kC_0(1-f_S)^{k-1} $$\n",
    "\n",
    "While we're at it, let's also make a numerical solver for Scheil using the flux balance condition:\n",
    "\n",
    "$$ (C_L^*-C_S^*)dfs=(1-f_S)dC_L $$"
   ]
  },
  {
   "cell_type": "code",
   "execution_count": 3,
   "metadata": {
    "collapsed": false
   },
   "outputs": [
    {
     "data": {
      "text/html": [
       "\n",
       "\n",
       "    <div class=\"bk-root\">\n",
       "        <div class=\"plotdiv\" id=\"f2d34211-44af-45f3-b60a-44708c19330f\"></div>\n",
       "    </div>\n",
       "<script type=\"text/javascript\">\n",
       "  \n",
       "  (function(global) {\n",
       "    function now() {\n",
       "      return new Date();\n",
       "    }\n",
       "  \n",
       "    var force = \"\";\n",
       "  \n",
       "    if (typeof (window._bokeh_onload_callbacks) === \"undefined\" || force !== \"\") {\n",
       "      window._bokeh_onload_callbacks = [];\n",
       "      window._bokeh_is_loading = undefined;\n",
       "    }\n",
       "  \n",
       "  \n",
       "    \n",
       "    if (typeof (window._bokeh_timeout) === \"undefined\" || force !== \"\") {\n",
       "      window._bokeh_timeout = Date.now() + 0;\n",
       "      window._bokeh_failed_load = false;\n",
       "    }\n",
       "  \n",
       "    var NB_LOAD_WARNING = {'data': {'text/html':\n",
       "       \"<div style='background-color: #fdd'>\\n\"+\n",
       "       \"<p>\\n\"+\n",
       "       \"BokehJS does not appear to have successfully loaded. If loading BokehJS from CDN, this \\n\"+\n",
       "       \"may be due to a slow or bad network connection. Possible fixes:\\n\"+\n",
       "       \"</p>\\n\"+\n",
       "       \"<ul>\\n\"+\n",
       "       \"<li>re-rerun `output_notebook()` to attempt to load from CDN again, or</li>\\n\"+\n",
       "       \"<li>use INLINE resources instead, as so:</li>\\n\"+\n",
       "       \"</ul>\\n\"+\n",
       "       \"<code>\\n\"+\n",
       "       \"from bokeh.resources import INLINE\\n\"+\n",
       "       \"output_notebook(resources=INLINE)\\n\"+\n",
       "       \"</code>\\n\"+\n",
       "       \"</div>\"}};\n",
       "  \n",
       "    function display_loaded() {\n",
       "      if (window.Bokeh !== undefined) {\n",
       "        Bokeh.$(\"#f2d34211-44af-45f3-b60a-44708c19330f\").text(\"BokehJS successfully loaded.\");\n",
       "      } else if (Date.now() < window._bokeh_timeout) {\n",
       "        setTimeout(display_loaded, 100)\n",
       "      }\n",
       "    }\n",
       "  \n",
       "    function run_callbacks() {\n",
       "      window._bokeh_onload_callbacks.forEach(function(callback) { callback() });\n",
       "      delete window._bokeh_onload_callbacks\n",
       "      console.info(\"Bokeh: all callbacks have finished\");\n",
       "    }\n",
       "  \n",
       "    function load_libs(js_urls, callback) {\n",
       "      window._bokeh_onload_callbacks.push(callback);\n",
       "      if (window._bokeh_is_loading > 0) {\n",
       "        console.log(\"Bokeh: BokehJS is being loaded, scheduling callback at\", now());\n",
       "        return null;\n",
       "      }\n",
       "      if (js_urls == null || js_urls.length === 0) {\n",
       "        run_callbacks();\n",
       "        return null;\n",
       "      }\n",
       "      console.log(\"Bokeh: BokehJS not loaded, scheduling load and callback at\", now());\n",
       "      window._bokeh_is_loading = js_urls.length;\n",
       "      for (var i = 0; i < js_urls.length; i++) {\n",
       "        var url = js_urls[i];\n",
       "        var s = document.createElement('script');\n",
       "        s.src = url;\n",
       "        s.async = false;\n",
       "        s.onreadystatechange = s.onload = function() {\n",
       "          window._bokeh_is_loading--;\n",
       "          if (window._bokeh_is_loading === 0) {\n",
       "            console.log(\"Bokeh: all BokehJS libraries loaded\");\n",
       "            run_callbacks()\n",
       "          }\n",
       "        };\n",
       "        s.onerror = function() {\n",
       "          console.warn(\"failed to load library \" + url);\n",
       "        };\n",
       "        console.log(\"Bokeh: injecting script tag for BokehJS library: \", url);\n",
       "        document.getElementsByTagName(\"head\")[0].appendChild(s);\n",
       "      }\n",
       "    };var element = document.getElementById(\"f2d34211-44af-45f3-b60a-44708c19330f\");\n",
       "    if (element == null) {\n",
       "      console.log(\"Bokeh: ERROR: autoload.js configured with elementid 'f2d34211-44af-45f3-b60a-44708c19330f' but no matching script tag was found. \")\n",
       "      return false;\n",
       "    }\n",
       "  \n",
       "    var js_urls = [];\n",
       "  \n",
       "    var inline_js = [\n",
       "      function(Bokeh) {\n",
       "        Bokeh.$(function() {\n",
       "            var docs_json = {\"5b8d9b35-5a30-4b54-a665-e5581171128b\":{\"roots\":{\"references\":[{\"attributes\":{\"data_source\":{\"id\":\"b00f29f1-0571-4ab6-8719-762e2ba87712\",\"type\":\"ColumnDataSource\"},\"glyph\":{\"id\":\"55e1620e-fa63-4ce8-b67c-7822f0ad2126\",\"type\":\"Circle\"},\"hover_glyph\":null,\"nonselection_glyph\":{\"id\":\"90da79fd-2d45-49a9-93f3-f0a9b677a921\",\"type\":\"Circle\"},\"selection_glyph\":null},\"id\":\"596d42bc-9875-4d78-9d27-052d7e8e0dae\",\"type\":\"GlyphRenderer\"},{\"attributes\":{\"dimension\":1,\"plot\":{\"id\":\"7b68fb05-fde9-43d8-a913-7a2ec0d8c15e\",\"subtype\":\"Figure\",\"type\":\"Plot\"},\"ticker\":{\"id\":\"9d49881c-0ac1-437f-b471-b2007a028109\",\"type\":\"BasicTicker\"}},\"id\":\"c336d456-d19a-41ab-af10-1041131010ce\",\"type\":\"Grid\"},{\"attributes\":{\"line_color\":{\"value\":\"red\"},\"x\":{\"field\":\"x\"},\"y\":{\"field\":\"y\"}},\"id\":\"92b4bf57-cfbb-4765-9591-d52f9ed94e53\",\"type\":\"Line\"},{\"attributes\":{\"plot\":{\"id\":\"7b68fb05-fde9-43d8-a913-7a2ec0d8c15e\",\"subtype\":\"Figure\",\"type\":\"Plot\"}},\"id\":\"24f4d30f-ece9-4844-a670-fe6fe73f0d8b\",\"type\":\"PanTool\"},{\"attributes\":{\"line_color\":{\"value\":\"#1f77b4\"},\"x\":{\"field\":\"x\"},\"y\":{\"field\":\"y\"}},\"id\":\"c479aa1e-3436-49b8-ba56-72e95f833d82\",\"type\":\"Line\"},{\"attributes\":{},\"id\":\"b1266ad7-1545-43d9-9126-8362b5c002fe\",\"type\":\"BasicTicker\"},{\"attributes\":{\"overlay\":{\"id\":\"802166b2-be57-4630-a64a-2b8f7c671b38\",\"type\":\"BoxAnnotation\"},\"plot\":{\"id\":\"7b68fb05-fde9-43d8-a913-7a2ec0d8c15e\",\"subtype\":\"Figure\",\"type\":\"Plot\"}},\"id\":\"8a69fa0c-f7b1-4637-8178-346020d8baa1\",\"type\":\"BoxZoomTool\"},{\"attributes\":{\"plot\":{\"id\":\"7b68fb05-fde9-43d8-a913-7a2ec0d8c15e\",\"subtype\":\"Figure\",\"type\":\"Plot\"}},\"id\":\"cf62971a-1b89-4992-ae12-4b4f449bdeaa\",\"type\":\"SaveTool\"},{\"attributes\":{\"fill_alpha\":{\"value\":0.1},\"fill_color\":{\"value\":\"#1f77b4\"},\"line_alpha\":{\"value\":0.1},\"line_color\":{\"value\":\"#1f77b4\"},\"x\":{\"field\":\"x\"},\"y\":{\"field\":\"y\"}},\"id\":\"3441a6af-3993-4494-8eb1-9a4ad6888391\",\"type\":\"Circle\"},{\"attributes\":{\"plot\":{\"id\":\"7b68fb05-fde9-43d8-a913-7a2ec0d8c15e\",\"subtype\":\"Figure\",\"type\":\"Plot\"},\"ticker\":{\"id\":\"b1266ad7-1545-43d9-9126-8362b5c002fe\",\"type\":\"BasicTicker\"}},\"id\":\"cf7da590-9aa6-4142-b7da-8555ff6eca26\",\"type\":\"Grid\"},{\"attributes\":{\"callback\":null,\"column_names\":[\"y\",\"x\"],\"data\":{\"x\":[90.0,90.1,90.2,90.3,90.4,90.5,90.6,90.7,90.8,90.9,91.0,91.1,91.2,91.3,91.4,91.5,91.6,91.7,91.8,91.9,92.0,92.1,92.2,92.3,92.4,92.5,92.6,92.7,92.8,92.9,93.0,93.1,93.2,93.3,93.4,93.5,93.6,93.7,93.8,93.9,94.0,94.1,94.2,94.3,94.4,94.5,94.6,94.7,94.8,94.9,95.0,95.1,95.2,95.3,95.4,95.5,95.6,95.7,95.8,95.9,96.0,96.1,96.2,96.3,96.4,96.5,96.6,96.7,96.8,96.9,97.0,97.1,97.2,97.3,97.4,97.5,97.6,97.7,97.8,97.9,98.0,98.1,98.2,98.3,98.4,98.5,98.6,98.7,98.8,98.9,99.0,99.1,99.2,99.3,99.4,99.5,99.6,99.7,99.8,99.9,100.0],\"y\":[0.3259961820337456,0.3288260733603294,0.33170963671666315,0.33464845346390926,0.3376441685011814,0.3406984935136411,0.3438132104229357,0.34699017505488977,0.3502313210406325,0.3535386639687587,0.35691430580762346,0.36036043961859515,0.3638793545829191,0.3674734413668989,0.3711451978523757,0.3748972352619396,0.37873228471110787,0.382653204222713,0.3866629862421366,0.3907647656957871,0.39496182863933715,0.3992576215469154,0.4036557612975572,0.408160045920977,0.4127744661711582,0.41750321800337953,0.4223507160383801,0.427321608106322,0.4324207909733313,0.43765342736478813,0.44302496441229083,0.44854115366572744,0.4542080728281656,0.46003214938977693,0.46602018635799664,0.4721793903048829,0.4785174019798214,0.4850423297665856,0.49176278629911635,0.498687928590878,0.5058275020790056,0.5131918890379428,0.5207921618787203,0.5286401419211902,0.5367484643088328,0.5451306498313022,0.5538011845311862,0.5627756081011746,0.5720706122298042,0.5817041502321724,0.5916955595117678,0.6020656986473363,0.6128371011919151,0.6240341486198079,0.6356832652728177,0.6478131386542899,0.660454969016888,0.6736427529100177,0.6874136062247262,0.7018081333337512,0.716870850218584,0.7326506710633283,0.749201469752284,0.7665827301334976,0.7848603019313943,0.8041072829757139,0.8244050531825036,0.8458444917687112,0.8685274168985797,0.8925682968771779,0.9180962948458572,0.9452577256879472,0.9742190258946689,1.0051703663987703,1.0383300775851296,1.0739501087460688,1.1123228168414063,1.1537894798992818,1.1987510712144558,1.2476820305491796,1.3011480569237286,1.359829369983933,1.4245515165014981,1.4963267550067696,1.5764105355071987,1.6663799479966548,1.7682448549476744,1.8846088699009111,2.018908526359836,2.175779119168188,2.3616335711239747,2.5856155779224403,2.8612455152331155,3.209432154312058,3.664396321009443,4.286455407270159,5.193270226278743,6.651019707979497,9.425984418172492,17.10852283442687,\"Infinity\"]}},\"id\":\"dcde528a-5fc2-4337-9ee5-aa3ee61f1c67\",\"type\":\"ColumnDataSource\"},{\"attributes\":{},\"id\":\"06a9d43d-9ccf-4363-bc4a-fb602376883a\",\"type\":\"BasicTickFormatter\"},{\"attributes\":{\"formatter\":{\"id\":\"4839f641-888b-4304-aee8-6815b61387de\",\"type\":\"BasicTickFormatter\"},\"plot\":{\"id\":\"7b68fb05-fde9-43d8-a913-7a2ec0d8c15e\",\"subtype\":\"Figure\",\"type\":\"Plot\"},\"ticker\":{\"id\":\"b1266ad7-1545-43d9-9126-8362b5c002fe\",\"type\":\"BasicTicker\"}},\"id\":\"0ee87c91-d49b-41ca-8a50-88586e74a9bf\",\"type\":\"LinearAxis\"},{\"attributes\":{},\"id\":\"9d49881c-0ac1-437f-b471-b2007a028109\",\"type\":\"BasicTicker\"},{\"attributes\":{\"legends\":[[\"S analytic\",[{\"id\":\"d33f0ffc-6bd0-42f0-abc4-9297e25900dc\",\"type\":\"GlyphRenderer\"}]],[\"L analytic\",[{\"id\":\"5068273c-412c-4cb1-b620-b8e7268871a9\",\"type\":\"GlyphRenderer\"}]],[\"S numerical\",[{\"id\":\"a0d1ccac-fdf3-40d4-b7b5-39f6e9d8ec5f\",\"type\":\"GlyphRenderer\"}]],[\"L numerical\",[{\"id\":\"596d42bc-9875-4d78-9d27-052d7e8e0dae\",\"type\":\"GlyphRenderer\"}]]],\"plot\":{\"id\":\"7b68fb05-fde9-43d8-a913-7a2ec0d8c15e\",\"subtype\":\"Figure\",\"type\":\"Plot\"}},\"id\":\"e871a6ff-367e-457f-af62-23690c377a81\",\"type\":\"Legend\"},{\"attributes\":{\"below\":[{\"id\":\"0ee87c91-d49b-41ca-8a50-88586e74a9bf\",\"type\":\"LinearAxis\"}],\"left\":[{\"id\":\"b97b584b-94af-468f-9ed8-20d1a042bc2e\",\"type\":\"LinearAxis\"}],\"renderers\":[{\"id\":\"0ee87c91-d49b-41ca-8a50-88586e74a9bf\",\"type\":\"LinearAxis\"},{\"id\":\"cf7da590-9aa6-4142-b7da-8555ff6eca26\",\"type\":\"Grid\"},{\"id\":\"b97b584b-94af-468f-9ed8-20d1a042bc2e\",\"type\":\"LinearAxis\"},{\"id\":\"c336d456-d19a-41ab-af10-1041131010ce\",\"type\":\"Grid\"},{\"id\":\"802166b2-be57-4630-a64a-2b8f7c671b38\",\"type\":\"BoxAnnotation\"},{\"id\":\"e871a6ff-367e-457f-af62-23690c377a81\",\"type\":\"Legend\"},{\"id\":\"d33f0ffc-6bd0-42f0-abc4-9297e25900dc\",\"type\":\"GlyphRenderer\"},{\"id\":\"5068273c-412c-4cb1-b620-b8e7268871a9\",\"type\":\"GlyphRenderer\"},{\"id\":\"a0d1ccac-fdf3-40d4-b7b5-39f6e9d8ec5f\",\"type\":\"GlyphRenderer\"},{\"id\":\"596d42bc-9875-4d78-9d27-052d7e8e0dae\",\"type\":\"GlyphRenderer\"}],\"title\":{\"id\":\"dc69acdf-d8d5-476f-8682-06a3ffa92763\",\"type\":\"Title\"},\"tool_events\":{\"id\":\"7d7374f4-f0e3-4d29-8092-1ae10e5f401c\",\"type\":\"ToolEvents\"},\"toolbar\":{\"id\":\"45c1e3d2-af0c-4665-85aa-4301aa881db0\",\"type\":\"Toolbar\"},\"x_range\":{\"id\":\"53556ea1-7d05-425d-b0dc-6c94281629d8\",\"type\":\"DataRange1d\"},\"y_range\":{\"id\":\"a4db72f2-7e31-4ff2-a44a-02a4c8bf1907\",\"type\":\"DataRange1d\"}},\"id\":\"7b68fb05-fde9-43d8-a913-7a2ec0d8c15e\",\"subtype\":\"Figure\",\"type\":\"Plot\"},{\"attributes\":{\"callback\":null},\"id\":\"53556ea1-7d05-425d-b0dc-6c94281629d8\",\"type\":\"DataRange1d\"},{\"attributes\":{\"line_alpha\":{\"value\":0.1},\"line_color\":{\"value\":\"#1f77b4\"},\"x\":{\"field\":\"x\"},\"y\":{\"field\":\"y\"}},\"id\":\"1b8355ef-5faa-430a-81f0-6a601b2bce97\",\"type\":\"Line\"},{\"attributes\":{\"fill_alpha\":{\"value\":0.1},\"fill_color\":{\"value\":\"#1f77b4\"},\"line_alpha\":{\"value\":0.1},\"line_color\":{\"value\":\"#1f77b4\"},\"x\":{\"field\":\"x\"},\"y\":{\"field\":\"y\"}},\"id\":\"90da79fd-2d45-49a9-93f3-f0a9b677a921\",\"type\":\"Circle\"},{\"attributes\":{\"data_source\":{\"id\":\"1ec21fe7-c5b1-466f-bf6f-c21826f37076\",\"type\":\"ColumnDataSource\"},\"glyph\":{\"id\":\"2c48217c-a51d-49e8-bf4d-83e70dd2c42d\",\"type\":\"Circle\"},\"hover_glyph\":null,\"nonselection_glyph\":{\"id\":\"3441a6af-3993-4494-8eb1-9a4ad6888391\",\"type\":\"Circle\"},\"selection_glyph\":null},\"id\":\"a0d1ccac-fdf3-40d4-b7b5-39f6e9d8ec5f\",\"type\":\"GlyphRenderer\"},{\"attributes\":{\"callback\":null,\"column_names\":[\"y\",\"x\"],\"data\":{\"x\":[90.0,90.1,90.2,90.3,90.4,90.5,90.6,90.7,90.8,90.9,91.0,91.1,91.2,91.3,91.4,91.5,91.6,91.7,91.8,91.9,92.0,92.1,92.2,92.3,92.4,92.5,92.6,92.7,92.8,92.9,93.0,93.1,93.2,93.3,93.4,93.5,93.6,93.7,93.8,93.9,94.0,94.1,94.2,94.3,94.4,94.5,94.6,94.7,94.8,94.9,95.0,95.1,95.2,95.3,95.4,95.5,95.6,95.7,95.8,95.9,96.0,96.1,96.2,96.3,96.4,96.5,96.6,96.7,96.8,96.9,97.0,97.1,97.2,97.3,97.4,97.5,97.6,97.7,97.8,97.9,98.0,98.1,98.2,98.3,98.4,98.5,98.6,98.7,98.8,98.9,99.0,99.1,99.2,99.3,99.4,99.5,99.6,99.7,99.8,99.9,100.0],\"y\":[0.04563946548472438,0.04603592952832906,0.04643991829765929,0.04685165365576225,0.047271366386428454,0.04769929665055823,0.04813569447097823,0.048580820247806626,0.04903494530664482,0.049498352482070254,0.049971336739121144,0.05045420583570141,0.050947281029095765,0.051450897830073034,0.05196540680837376,0.05249117445372908,0.05302858409694582,0.05357803689602261,0.054139952892736994,0.054714772145672226,0.0553029559462382,0.05590498812489345,0.05652137645550125,0.0571526541665627,0.0577993815689738,0.058462147810964704,0.05914157277201105,0.05983830910877721,0.06055304446757649,0.06128650387943728,0.06203945235567036,0.06281269770387148,0.06360709358659691,0.0644235428475592,0.06526300113314862,0.06612648084044874,0.06701505542674227,0.06792986411986923,0.06887211707379,0.06984310101942048,0.07084418546736551,0.07187682952672032,0.07294258941280618,0.07404312672675378,0.07518021760148608,0.07635576282216386,0.0775717990448872,0.07883051125580424,0.08013424663426562,0.08148553000888265,0.08288708112503543,0.08434183397743401,0.08585295850286304,0.08742388497759628,0.0890583315228296,0.09076033519193256,0.0925342871979567,0.09438497294191583,0.09631761762596458,0.09833793838592383,0.1004522040612212,0.10266730394564812,0.10499082714020752,0.10743115447373666,0.10999756538616481,0.112700362707082,0.11555101894026112,0.1185623485247649,0.12174871164136795,0.1251262565449672,0.12871320923258958,0.13253022164431463,0.13660079273767572,0.14095178095080169,0.14561403216686666,0.15062315487340688,0.15602048458970394,0.16185429401349288,0.1681813255067476,0.17506875121797633,0.18259670752034932,0.19086161112390193,0.19998055476648838,0.21009721812526366,0.22138994359949662,0.23408296703253442,0.24846234929310435,0.2648990893232636,0.28388352405809747,0.30607805412082156,0.33240076677521224,0.3641635067115101,0.40331108368299756,0.4528607311069085,0.5177707692322326,0.6068273415401766,0.7372952199713128,0.9486531830297578,1.3565740517325477,2.523227736222605]}},\"id\":\"1ec21fe7-c5b1-466f-bf6f-c21826f37076\",\"type\":\"ColumnDataSource\"},{\"attributes\":{\"active_drag\":\"auto\",\"active_scroll\":\"auto\",\"active_tap\":\"auto\",\"tools\":[{\"id\":\"24f4d30f-ece9-4844-a670-fe6fe73f0d8b\",\"type\":\"PanTool\"},{\"id\":\"359f1c70-5e58-43ba-a895-3fcc4c01bcfe\",\"type\":\"WheelZoomTool\"},{\"id\":\"8a69fa0c-f7b1-4637-8178-346020d8baa1\",\"type\":\"BoxZoomTool\"},{\"id\":\"cf62971a-1b89-4992-ae12-4b4f449bdeaa\",\"type\":\"SaveTool\"},{\"id\":\"bd639d9f-247c-4793-a984-d4cee21c11d6\",\"type\":\"ResetTool\"},{\"id\":\"6a1c4f9c-42d0-4b97-b27f-a02f89edc1b5\",\"type\":\"HelpTool\"}]},\"id\":\"45c1e3d2-af0c-4665-85aa-4301aa881db0\",\"type\":\"Toolbar\"},{\"attributes\":{\"data_source\":{\"id\":\"dcde528a-5fc2-4337-9ee5-aa3ee61f1c67\",\"type\":\"ColumnDataSource\"},\"glyph\":{\"id\":\"92b4bf57-cfbb-4765-9591-d52f9ed94e53\",\"type\":\"Line\"},\"hover_glyph\":null,\"nonselection_glyph\":{\"id\":\"bc5181d6-d834-48c0-943c-d9a06cb0dd8f\",\"type\":\"Line\"},\"selection_glyph\":null},\"id\":\"5068273c-412c-4cb1-b620-b8e7268871a9\",\"type\":\"GlyphRenderer\"},{\"attributes\":{\"callback\":null,\"column_names\":[\"y\",\"x\"],\"data\":{\"x\":[90.0,90.1,90.2,90.3,90.4,90.5,90.6,90.7,90.8,90.9,91.0,91.1,91.2,91.3,91.4,91.5,91.6,91.7,91.8,91.9,92.0,92.1,92.2,92.3,92.4,92.5,92.6,92.7,92.8,92.9,93.0,93.1,93.2,93.3,93.4,93.5,93.6,93.7,93.8,93.9,94.0,94.1,94.2,94.3,94.4,94.5,94.6,94.7,94.8,94.9,95.0,95.1,95.2,95.3,95.4,95.5,95.6,95.7,95.8,95.9,96.0,96.1,96.2,96.3,96.4,96.5,96.6,96.7,96.8,96.9,97.0,97.1,97.2,97.3,97.4,97.5,97.6,97.7,97.8,97.9,98.0,98.1,98.2,98.3,98.4,98.5,98.6,98.7,98.8,98.9,99.0,99.1,99.2,99.3,99.4,99.5,99.6,99.7,99.8,99.9,100.0],\"y\":[0.3259961820337456,0.3288280680594933,0.3317137021261378,0.3346546689697304,0.3376526170459176,0.3407092617897017,0.34382638907841595,0.34700585891290453,0.35024960933317734,0.3535596605862162,0.35693811956515115,0.3603871845407245,0.36390915020782705,0.3675064130719504,0.3711814772026699,0.37493696038377927,0.37877560069247035,0.38270026354301884,0.38671394923383584,0.39081980104051606,0.3950211139017016,0.3993213437492391,0.4037241175392948,0.40823324404687655,0.41285272549267016,0.41758677007831946,0.4224398055143648,0.42741649363412304,0.4325217461969751,0.4377607419959807,0.4431389453976456,0.44866212645622494,0.4543363827614066,0.4601681631968515,0.4661642938082044,0.47233200600320524,0.47867896733387333,0.485213315141923,0.4919436933842142,0.4988792929958605,0.5060298961954678,0.5134059251908594,0.5210184958057583,0.5288794766196697,0.5370015542963289,0.5453983058725987,0.5540842788920513,0.5630750803986015,0.5723874759590399,0.5820395000634473,0.5920505794645385,0.6024416712673856,0.613235417877593,0.6244563212685447,0.6361309394487827,0.6482881085138039,0.6609591942711192,0.6741783781565416,0.6879829830426041,0.7024138456137416,0.7175157432944371,0.733337885326058,0.7499344795729109,0.7673653890981191,0.7856968956154631,0.8050025907648716,0.8253644210018654,0.8468739180340352,0.8696336545811999,0.8937589753211945,0.9193800659470688,0.9466444403165335,0.9757199481262556,1.0067984353628696,1.040100229763334,1.0758796776671926,1.1144320327836001,1.1561021000963783,1.201295182191055,1.250491080128403,1.3042621965739243,1.363297222313586,1.4284325340463462,1.5006944151804553,1.581356739996405,1.6720211930895323,1.7747310663793174,1.8921363523090264,2.0277394575578396,2.186271815148726,2.3742911912515163,2.601167905082215,2.880793454878554,3.2347195079064894,3.6983626373730907,4.334481011001262,5.266394428366521,6.7760941644982715,9.689814655232487,18.0230552587329]}},\"id\":\"b00f29f1-0571-4ab6-8719-762e2ba87712\",\"type\":\"ColumnDataSource\"},{\"attributes\":{},\"id\":\"7d7374f4-f0e3-4d29-8092-1ae10e5f401c\",\"type\":\"ToolEvents\"},{\"attributes\":{\"plot\":{\"id\":\"7b68fb05-fde9-43d8-a913-7a2ec0d8c15e\",\"subtype\":\"Figure\",\"type\":\"Plot\"}},\"id\":\"bd639d9f-247c-4793-a984-d4cee21c11d6\",\"type\":\"ResetTool\"},{\"attributes\":{\"fill_alpha\":{\"value\":0},\"fill_color\":{\"value\":\"#1f77b4\"},\"line_color\":{\"value\":\"#1f77b4\"},\"x\":{\"field\":\"x\"},\"y\":{\"field\":\"y\"}},\"id\":\"2c48217c-a51d-49e8-bf4d-83e70dd2c42d\",\"type\":\"Circle\"},{\"attributes\":{\"callback\":null,\"column_names\":[\"y\",\"x\"],\"data\":{\"x\":[90.0,90.1,90.2,90.3,90.4,90.5,90.6,90.7,90.8,90.9,91.0,91.1,91.2,91.3,91.4,91.5,91.6,91.7,91.8,91.9,92.0,92.1,92.2,92.3,92.4,92.5,92.6,92.7,92.8,92.9,93.0,93.1,93.2,93.3,93.4,93.5,93.6,93.7,93.8,93.9,94.0,94.1,94.2,94.3,94.4,94.5,94.6,94.7,94.8,94.9,95.0,95.1,95.2,95.3,95.4,95.5,95.6,95.7,95.8,95.9,96.0,96.1,96.2,96.3,96.4,96.5,96.6,96.7,96.8,96.9,97.0,97.1,97.2,97.3,97.4,97.5,97.6,97.7,97.8,97.9,98.0,98.1,98.2,98.3,98.4,98.5,98.6,98.7,98.8,98.9,99.0,99.1,99.2,99.3,99.4,99.5,99.6,99.7,99.8,99.9,100.0],\"y\":[0.04563946548472438,0.046035650270446114,0.04643934914033284,0.0468507834849473,0.047270183590165396,0.04769778909190976,0.048133849459211,0.048578624507684576,0.04903238494568855,0.04949541295562622,0.049968002813067285,0.05045046154660333,0.050943109641608676,0.051446281791365844,0.0519603276993326,0.05248561293667155,0.053022519859555105,0.05357144859117982,0.05413281807389912,0.0547070671974102,0.055294656009507205,0.05589606701656816,0.05651180658165801,0.05714240642893678,0.057788425263962155,0.05845045052047314,0.05912910024537321,0.059825025134885086,0.06053891073626639,0.06127147983107034,0.06202349501772072,0.06279576151320185,0.06358913019594319,0.06440450091456877,0.06524282609011953,0.06610511464268361,0.06699243627717501,0.067905926167322,0.06884679008187629,0.06981631000272293,0.0708158502910608,0.071846864465312,0.07291090266302085,0.07400961986896663,0.0751447850032366,0.07631829097638232,0.07753216583436606,0.07878858513416444,0.08008988571217258,0.08143858103250413,0.0828373783316475,0.08428919781062708,0.08579719416686812,0.08736478080677311,0.08899565713819448,0.09069383941160059,0.09246369566236433,0.09430998540740249,0.09623790487146168,0.09825313866672518,0.10036191903060177,0.10257109394886596,0.10488820576531975,0.10732158221868968,0.10988044227039521,0.11257501961659995,0.1154167074455505,0.11841822884761959,0.12159383836580118,0.12495956156280491,0.12853348127842001,0.1323360815963126,0.13639066362525365,0.14072385129582787,0.14536621086191814,0.15035301522444963,0.1557251943577969,0.16153052718589947,0.16782514997002382,0.17467548427688517,0.182160727969322,0.19037611179775063,0.19943721231020975,0.20948574570094775,0.22069747497100783,0.23329319271953167,0.2475542796926744,0.26384524178612756,0.28264719369037705,0.30460907668354636,0.33062869995735644,0.36198618090914164,0.4005743721326362,0.44932050160368814,0.5130154849413221,0.6001037570178223,0.727057831679024,0.9311427591171296,1.3196378185441489,2.395193196819762,\"Infinity\"]}},\"id\":\"43bae481-4d18-479a-92fe-81249846725f\",\"type\":\"ColumnDataSource\"},{\"attributes\":{\"plot\":null,\"text\":null},\"id\":\"dc69acdf-d8d5-476f-8682-06a3ffa92763\",\"type\":\"Title\"},{\"attributes\":{\"line_alpha\":{\"value\":0.1},\"line_color\":{\"value\":\"#1f77b4\"},\"x\":{\"field\":\"x\"},\"y\":{\"field\":\"y\"}},\"id\":\"bc5181d6-d834-48c0-943c-d9a06cb0dd8f\",\"type\":\"Line\"},{\"attributes\":{\"callback\":null},\"id\":\"a4db72f2-7e31-4ff2-a44a-02a4c8bf1907\",\"type\":\"DataRange1d\"},{\"attributes\":{\"plot\":{\"id\":\"7b68fb05-fde9-43d8-a913-7a2ec0d8c15e\",\"subtype\":\"Figure\",\"type\":\"Plot\"}},\"id\":\"6a1c4f9c-42d0-4b97-b27f-a02f89edc1b5\",\"type\":\"HelpTool\"},{\"attributes\":{},\"id\":\"4839f641-888b-4304-aee8-6815b61387de\",\"type\":\"BasicTickFormatter\"},{\"attributes\":{\"bottom_units\":\"screen\",\"fill_alpha\":{\"value\":0.5},\"fill_color\":{\"value\":\"lightgrey\"},\"left_units\":\"screen\",\"level\":\"overlay\",\"line_alpha\":{\"value\":1.0},\"line_color\":{\"value\":\"black\"},\"line_dash\":[4,4],\"line_width\":{\"value\":2},\"plot\":null,\"render_mode\":\"css\",\"right_units\":\"screen\",\"top_units\":\"screen\"},\"id\":\"802166b2-be57-4630-a64a-2b8f7c671b38\",\"type\":\"BoxAnnotation\"},{\"attributes\":{\"plot\":{\"id\":\"7b68fb05-fde9-43d8-a913-7a2ec0d8c15e\",\"subtype\":\"Figure\",\"type\":\"Plot\"}},\"id\":\"359f1c70-5e58-43ba-a895-3fcc4c01bcfe\",\"type\":\"WheelZoomTool\"},{\"attributes\":{\"data_source\":{\"id\":\"43bae481-4d18-479a-92fe-81249846725f\",\"type\":\"ColumnDataSource\"},\"glyph\":{\"id\":\"c479aa1e-3436-49b8-ba56-72e95f833d82\",\"type\":\"Line\"},\"hover_glyph\":null,\"nonselection_glyph\":{\"id\":\"1b8355ef-5faa-430a-81f0-6a601b2bce97\",\"type\":\"Line\"},\"selection_glyph\":null},\"id\":\"d33f0ffc-6bd0-42f0-abc4-9297e25900dc\",\"type\":\"GlyphRenderer\"},{\"attributes\":{\"formatter\":{\"id\":\"06a9d43d-9ccf-4363-bc4a-fb602376883a\",\"type\":\"BasicTickFormatter\"},\"plot\":{\"id\":\"7b68fb05-fde9-43d8-a913-7a2ec0d8c15e\",\"subtype\":\"Figure\",\"type\":\"Plot\"},\"ticker\":{\"id\":\"9d49881c-0ac1-437f-b471-b2007a028109\",\"type\":\"BasicTicker\"}},\"id\":\"b97b584b-94af-468f-9ed8-20d1a042bc2e\",\"type\":\"LinearAxis\"},{\"attributes\":{\"fill_alpha\":{\"value\":0},\"fill_color\":{\"value\":\"red\"},\"line_color\":{\"value\":\"red\"},\"x\":{\"field\":\"x\"},\"y\":{\"field\":\"y\"}},\"id\":\"55e1620e-fa63-4ce8-b67c-7822f0ad2126\",\"type\":\"Circle\"}],\"root_ids\":[\"7b68fb05-fde9-43d8-a913-7a2ec0d8c15e\"]},\"title\":\"Bokeh Application\",\"version\":\"0.12.2\"}};\n",
       "            var render_items = [{\"docid\":\"5b8d9b35-5a30-4b54-a665-e5581171128b\",\"elementid\":\"f2d34211-44af-45f3-b60a-44708c19330f\",\"modelid\":\"7b68fb05-fde9-43d8-a913-7a2ec0d8c15e\"}];\n",
       "            \n",
       "            Bokeh.embed.embed_items(docs_json, render_items);\n",
       "        });\n",
       "      },\n",
       "      function(Bokeh) {\n",
       "      }\n",
       "    ];\n",
       "  \n",
       "    function run_inline_js() {\n",
       "      \n",
       "      if ((window.Bokeh !== undefined) || (force === \"1\")) {\n",
       "        for (var i = 0; i < inline_js.length; i++) {\n",
       "          inline_js[i](window.Bokeh);\n",
       "        }if (force === \"1\") {\n",
       "          display_loaded();\n",
       "        }} else if (Date.now() < window._bokeh_timeout) {\n",
       "        setTimeout(run_inline_js, 100);\n",
       "      } else if (!window._bokeh_failed_load) {\n",
       "        console.log(\"Bokeh: BokehJS failed to load within specified timeout.\");\n",
       "        window._bokeh_failed_load = true;\n",
       "      } else if (!force) {\n",
       "        var cell = $(\"#f2d34211-44af-45f3-b60a-44708c19330f\").parents('.cell').data().cell;\n",
       "        cell.output_area.append_execute_result(NB_LOAD_WARNING)\n",
       "      }\n",
       "  \n",
       "    }\n",
       "  \n",
       "    if (window._bokeh_is_loading === 0) {\n",
       "      console.log(\"Bokeh: BokehJS loaded, going straight to plotting\");\n",
       "      run_inline_js();\n",
       "    } else {\n",
       "      load_libs(js_urls, function() {\n",
       "        console.log(\"Bokeh: BokehJS plotting callback run at\", now());\n",
       "        run_inline_js();\n",
       "      });\n",
       "    }\n",
       "  }(this));\n",
       "</script>"
      ]
     },
     "metadata": {},
     "output_type": "display_data"
    }
   ],
   "source": [
    "scheil_grid=100\n",
    "scheil_portion= delta/grid*l\n",
    "scheil_step=scheil_portion/scheil_grid\n",
    "\n",
    "#Analytic Scheil::\n",
    "\n",
    "def f_s(a):\n",
    "    return a/l\n",
    "\n",
    "def scheil_S_analytic(a):\n",
    "    result= k*C_0*(1-a)**(k-1)\n",
    "    #return np.where(result<=C_SM,result,C_SM)\n",
    "    return result\n",
    "\n",
    "def scheil_L_analytic(a):\n",
    "    result= C_0*(1-a)**(k-1)\n",
    "    #return np.where(result<=C_E,result,C_E) \n",
    "    return result\n",
    "\n",
    "#Numerical Scheil:\n",
    "\n",
    "def scheil_S_numeric(a,b):\n",
    "    return k*(a/k-a)/(l-b)\n",
    "\n",
    "def scheil_L_numeric(a,b):\n",
    "    return (a-k*a)/(l-b)\n",
    "\n",
    "#Solver:\n",
    "scheil_x=np.linspace(l-scheil_portion,l,scheil_grid+1)\n",
    "scheil_L=np.empty(scheil_grid)\n",
    "scheil_S=np.empty(scheil_grid)\n",
    "\n",
    "scheil_L[0]=scheil_L_analytic(scheil_x[0]/l)\n",
    "scheil_S[0]=scheil_S_analytic(scheil_x[0]/l)\n",
    "\n",
    "#Solid C\n",
    "for i in range(len(scheil_S)-1):\n",
    "    update=scheil_S[i]+scheil_step*scheil_S_numeric(scheil_S[i],l-scheil_portion+(i+1)*scheil_step)\n",
    "    #if (update<=C_SM):\n",
    "    scheil_S[i+1]=update\n",
    "    #else:\n",
    "    #    scheil_S[i+1]=C_SM\n",
    "\n",
    "#Liquid C\n",
    "for i in range(len(scheil_L)-1):  \n",
    "    update=scheil_L[i]+scheil_step*scheil_L_numeric(scheil_L[i],l-scheil_portion+(i+1)*scheil_step)\n",
    "    #if (update<=C_E):\n",
    "    scheil_L[i+1]=update\n",
    "    #else:\n",
    "     #   scheil_L[i+1]=C_E\n",
    "    \n",
    "f2=bkp.figure()\n",
    "f2.line(scheil_x,scheil_S_analytic(scheil_x/l),legend=\"S analytic\")\n",
    "f2.line(scheil_x,scheil_L_analytic(scheil_x/l),color=\"red\",legend=\"L analytic\")\n",
    "f2.scatter(scheil_x,scheil_S,fill_alpha=0,legend=\"S numerical\")\n",
    "f2.scatter(scheil_x,scheil_L,color=\"red\",fill_alpha=0,legend=\"L numerical\")\n",
    "bkp.show(f2)\n"
   ]
  },
  {
   "cell_type": "markdown",
   "metadata": {
    "collapsed": true
   },
   "source": [
    "Now let's make a model that combines these two, and accepts user defined values. First let's configure gui for user inputs:"
   ]
  },
  {
   "cell_type": "code",
   "execution_count": 8,
   "metadata": {
    "collapsed": false
   },
   "outputs": [
    {
     "data": {
      "text/plain": [
       "10"
      ]
     },
     "metadata": {},
     "output_type": "display_data"
    }
   ],
   "source": [
    "#widget functions:\n",
    "def k_func(k_0):\n",
    "    return k_0\n",
    "def C_0_func(C_0):\n",
    "    return C_0\n",
    "def l_func(length):\n",
    "    return length\n",
    "def delta_func(melt_nodes):\n",
    "    return melt_nodes\n",
    "def grid_func(grid_nodes):\n",
    "    return grid_nodes\n",
    "def pass_func(pass_count):\n",
    "    return pass_count\n",
    "\n",
    "# widgets using ipywidgets interactive:\n",
    "k=widgets.interactive(k_func,k_0=widgets.FloatText(0.14))\n",
    "C_0=widgets.interactive(C_0_func,C_0=widgets.FloatText(0.045))\n",
    "l=widgets.interactive(l_func,length=widgets.FloatText(100))\n",
    "delta=widgets.interactive(delta_func,melt_nodes=widgets.IntText(10))\n",
    "grid=widgets.interactive(grid_func,grid_nodes=widgets.IntText(100))\n",
    "pass_count=widgets.interactive(pass_func,pass_count=widgets.Dropdown(options=[2,3,4,5,6,7,8,9,10]))\n",
    "\n",
    "\n",
    "#display ipywidgets.interactives\n",
    "display.display(k)\n",
    "display.display(C_0)\n",
    "display.display(l)\n",
    "display.display(delta)\n",
    "display.display(grid)\n",
    "display.display(pass_count)\n",
    "\n"
   ]
  },
  {
   "cell_type": "markdown",
   "metadata": {},
   "source": [
    "Next let's define the functions and variables to perform the calculations"
   ]
  },
  {
   "cell_type": "code",
   "execution_count": 19,
   "metadata": {
    "collapsed": false
   },
   "outputs": [],
   "source": [
    "#Define global constants:\n",
    "\n",
    "#step size between grid nodes:\n",
    "step=l.result/grid.result\n",
    "\n",
    "#Initialize *liquid* concentration matrix:\n",
    "C_L=np.empty([grid.result,pass_count.result+1])\n",
    "C_L.fill(C_0.result)\n",
    "\n",
    "#Initialize *solid* concentration matrix:\n",
    "C_S=np.empty([grid.result,pass_count.result+1])\n",
    "C_S.fill(C_0.result)\n",
    "\n",
    "#Initialize *visualisation* x-axis vector\n",
    "x_values=np.linspace(0,l.result,grid.result)\n",
    "\n",
    "#Functions for calculating liquid and solid concentration:\n",
    "\n",
    "#Before final transient, change in liquid solute is the difference between\n",
    "# concentration of old solid (which melts) and newly solidified solid :\n",
    "\n",
    "def C_L_zone(new_solid,old_solid):\n",
    "    return (old_solid-new_solid)/delta.result\n",
    "\n",
    "# During final transient,use the scheil equation for liquid concentration:\n",
    "\n",
    "def Scheil_L(new_liquid,s_fraction):\n",
    "    return (new_liquid-k.result*new_liquid)/(l.result-s_fraction)\n",
    "\n",
    "# Concentration of solid is given by k*C_L:\n",
    "\n",
    "def C_S_function(C_L):\n",
    "    return k.result*C_L\n",
    "\n",
    "\n",
    "#Calculate solid and liquid concentrations for all passes\n",
    "\n",
    "#for each pass:\n",
    "for n in range(1,pass_count.result+1):\n",
    "\n",
    "    #initialize the first delta liquid nodes and the first solid node:\n",
    "     \n",
    "    C_L_init=np.average(C_S[0::delta.result,n-1])\n",
    "    for i in range(delta.result):\n",
    "        C_L[i,n]=C_L_init\n",
    "    C_S[0,n]=k.result*C_L[0,n]\n",
    "            \n",
    "    #for each grid node:\n",
    "    for x in range(1,grid.result):\n",
    "        # Check that we are not in final transient:\n",
    "        if (x<=grid.result-delta.result):\n",
    "            #solid concentration update:\n",
    "            C_S[x,n]=C_S_function(C_L[x-1,n])\n",
    "            #liquid concentration update:\n",
    "            C_L[x,n]=C_L[x-1,n]+step*C_L_zone(C_S[x,n],C_S[x+delta.result-1,n-1])\n",
    "            \n",
    "        #C_S[x+delta.result-1,n-1]        \n",
    "        elif (x<grid.result):\n",
    "            #solid concentration:\n",
    "            C_S[x,n]=k.result*C_L[x-1,n]\n",
    "            #liquid concentration:\n",
    "            C_L[x,n]=C_L[x-1,n]+step*Scheil_L(C_L[x-1,n],step*x)"
   ]
  },
  {
   "cell_type": "code",
   "execution_count": 32,
   "metadata": {
    "collapsed": false,
    "scrolled": false
   },
   "outputs": [
    {
     "data": {
      "text/html": [
       "\n",
       "\n",
       "    <div class=\"bk-root\">\n",
       "        <div class=\"plotdiv\" id=\"a76d42cb-ce9c-4156-bfed-bbf334f7110c\"></div>\n",
       "    </div>\n",
       "<script type=\"text/javascript\">\n",
       "  \n",
       "  (function(global) {\n",
       "    function now() {\n",
       "      return new Date();\n",
       "    }\n",
       "  \n",
       "    var force = \"\";\n",
       "  \n",
       "    if (typeof (window._bokeh_onload_callbacks) === \"undefined\" || force !== \"\") {\n",
       "      window._bokeh_onload_callbacks = [];\n",
       "      window._bokeh_is_loading = undefined;\n",
       "    }\n",
       "  \n",
       "  \n",
       "    \n",
       "    if (typeof (window._bokeh_timeout) === \"undefined\" || force !== \"\") {\n",
       "      window._bokeh_timeout = Date.now() + 0;\n",
       "      window._bokeh_failed_load = false;\n",
       "    }\n",
       "  \n",
       "    var NB_LOAD_WARNING = {'data': {'text/html':\n",
       "       \"<div style='background-color: #fdd'>\\n\"+\n",
       "       \"<p>\\n\"+\n",
       "       \"BokehJS does not appear to have successfully loaded. If loading BokehJS from CDN, this \\n\"+\n",
       "       \"may be due to a slow or bad network connection. Possible fixes:\\n\"+\n",
       "       \"</p>\\n\"+\n",
       "       \"<ul>\\n\"+\n",
       "       \"<li>re-rerun `output_notebook()` to attempt to load from CDN again, or</li>\\n\"+\n",
       "       \"<li>use INLINE resources instead, as so:</li>\\n\"+\n",
       "       \"</ul>\\n\"+\n",
       "       \"<code>\\n\"+\n",
       "       \"from bokeh.resources import INLINE\\n\"+\n",
       "       \"output_notebook(resources=INLINE)\\n\"+\n",
       "       \"</code>\\n\"+\n",
       "       \"</div>\"}};\n",
       "  \n",
       "    function display_loaded() {\n",
       "      if (window.Bokeh !== undefined) {\n",
       "        Bokeh.$(\"#a76d42cb-ce9c-4156-bfed-bbf334f7110c\").text(\"BokehJS successfully loaded.\");\n",
       "      } else if (Date.now() < window._bokeh_timeout) {\n",
       "        setTimeout(display_loaded, 100)\n",
       "      }\n",
       "    }if ((window.Jupyter !== undefined) && Jupyter.notebook.kernel) {\n",
       "      comm_manager = Jupyter.notebook.kernel.comm_manager\n",
       "      comm_manager.register_target(\"d132b6a6-3d99-4fbe-8e82-633097226383\", function () {});\n",
       "    }\n",
       "  \n",
       "    function run_callbacks() {\n",
       "      window._bokeh_onload_callbacks.forEach(function(callback) { callback() });\n",
       "      delete window._bokeh_onload_callbacks\n",
       "      console.info(\"Bokeh: all callbacks have finished\");\n",
       "    }\n",
       "  \n",
       "    function load_libs(js_urls, callback) {\n",
       "      window._bokeh_onload_callbacks.push(callback);\n",
       "      if (window._bokeh_is_loading > 0) {\n",
       "        console.log(\"Bokeh: BokehJS is being loaded, scheduling callback at\", now());\n",
       "        return null;\n",
       "      }\n",
       "      if (js_urls == null || js_urls.length === 0) {\n",
       "        run_callbacks();\n",
       "        return null;\n",
       "      }\n",
       "      console.log(\"Bokeh: BokehJS not loaded, scheduling load and callback at\", now());\n",
       "      window._bokeh_is_loading = js_urls.length;\n",
       "      for (var i = 0; i < js_urls.length; i++) {\n",
       "        var url = js_urls[i];\n",
       "        var s = document.createElement('script');\n",
       "        s.src = url;\n",
       "        s.async = false;\n",
       "        s.onreadystatechange = s.onload = function() {\n",
       "          window._bokeh_is_loading--;\n",
       "          if (window._bokeh_is_loading === 0) {\n",
       "            console.log(\"Bokeh: all BokehJS libraries loaded\");\n",
       "            run_callbacks()\n",
       "          }\n",
       "        };\n",
       "        s.onerror = function() {\n",
       "          console.warn(\"failed to load library \" + url);\n",
       "        };\n",
       "        console.log(\"Bokeh: injecting script tag for BokehJS library: \", url);\n",
       "        document.getElementsByTagName(\"head\")[0].appendChild(s);\n",
       "      }\n",
       "    };var element = document.getElementById(\"a76d42cb-ce9c-4156-bfed-bbf334f7110c\");\n",
       "    if (element == null) {\n",
       "      console.log(\"Bokeh: ERROR: autoload.js configured with elementid 'a76d42cb-ce9c-4156-bfed-bbf334f7110c' but no matching script tag was found. \")\n",
       "      return false;\n",
       "    }\n",
       "  \n",
       "    var js_urls = [];\n",
       "  \n",
       "    var inline_js = [\n",
       "      function(Bokeh) {\n",
       "        Bokeh.$(function() {\n",
       "            var docs_json = {\"04e564ee-692c-4b2f-8eed-04f58d700569\":{\"roots\":{\"references\":[{\"attributes\":{\"plot\":{\"id\":\"0b9407f0-10c8-4b8c-8f5f-b79144f1f8aa\",\"subtype\":\"Figure\",\"type\":\"Plot\"}},\"id\":\"ddf819bb-cd16-49f1-93a7-cc36a2aca3c8\",\"type\":\"ResetTool\"},{\"attributes\":{},\"id\":\"2dccd699-4173-46d7-93ec-4b29e17fa07b\",\"type\":\"ToolEvents\"},{\"attributes\":{},\"id\":\"336a0586-3e6e-4a1d-89cb-c911b958d786\",\"type\":\"BasicTicker\"},{\"attributes\":{\"plot\":{\"id\":\"0b9407f0-10c8-4b8c-8f5f-b79144f1f8aa\",\"subtype\":\"Figure\",\"type\":\"Plot\"}},\"id\":\"be800f31-9b4a-499b-9f6f-71d1b3b2d75e\",\"type\":\"WheelZoomTool\"},{\"attributes\":{\"plot\":{\"id\":\"0b9407f0-10c8-4b8c-8f5f-b79144f1f8aa\",\"subtype\":\"Figure\",\"type\":\"Plot\"}},\"id\":\"86039dc1-c930-4e52-9d09-b4ced08fa9d3\",\"type\":\"HelpTool\"},{\"attributes\":{\"callback\":null,\"column_names\":[\"y\",\"x\"],\"data\":{\"x\":[0.0,1.0101010101010102,2.0202020202020203,3.0303030303030303,4.040404040404041,5.050505050505051,6.0606060606060606,7.070707070707071,8.080808080808081,9.090909090909092,10.101010101010102,11.111111111111112,12.121212121212121,13.131313131313131,14.141414141414142,15.151515151515152,16.161616161616163,17.171717171717173,18.181818181818183,19.191919191919194,20.202020202020204,21.212121212121215,22.222222222222225,23.232323232323235,24.242424242424242,25.252525252525253,26.262626262626263,27.272727272727273,28.282828282828284,29.292929292929294,30.303030303030305,31.313131313131315,32.323232323232325,33.333333333333336,34.343434343434346,35.35353535353536,36.36363636363637,37.37373737373738,38.38383838383839,39.3939393939394,40.40404040404041,41.41414141414142,42.42424242424243,43.43434343434344,44.44444444444445,45.45454545454546,46.46464646464647,47.47474747474748,48.484848484848484,49.494949494949495,50.505050505050505,51.515151515151516,52.525252525252526,53.535353535353536,54.54545454545455,55.55555555555556,56.56565656565657,57.57575757575758,58.58585858585859,59.5959595959596,60.60606060606061,61.61616161616162,62.62626262626263,63.63636363636364,64.64646464646465,65.65656565656566,66.66666666666667,67.67676767676768,68.68686868686869,69.6969696969697,70.70707070707071,71.71717171717172,72.72727272727273,73.73737373737374,74.74747474747475,75.75757575757576,76.76767676767678,77.77777777777779,78.7878787878788,79.7979797979798,80.80808080808082,81.81818181818183,82.82828282828284,83.83838383838385,84.84848484848486,85.85858585858587,86.86868686868688,87.87878787878789,88.8888888888889,89.89898989898991,90.90909090909092,91.91919191919193,92.92929292929294,93.93939393939395,94.94949494949496,95.95959595959597,96.96969696969697,97.97979797979798,98.98989898989899,100.0],\"y\":[6.9432179750669e-310,6.9432179750669e-310,2.18031644e-316,2.18031644e-316,6.9432188883263e-310,6.94321880286676e-310,6.94321887383633e-310,6.9432188028652e-310,6.9431772057022e-310,6.94321594934517e-310,6.94321886637633e-310,6.9432189157489e-310,6.9431808442585e-310,6.9432188883263e-310,6.94321880286676e-310,6.94321887793905e-310,6.94321886637633e-310,6.9431772188878e-310,6.94321886637633e-310,6.94321594934517e-310,6.94321880286676e-310,6.94321887383633e-310,6.94321887383633e-310,6.94321594934517e-310,6.9432071893905e-310,6.94321665547525e-310,6.9432188858536e-310,6.94317720596464e-310,6.94321889790997e-310,6.9431808442585e-310,6.9432188883263e-310,6.9432143151602e-310,6.9432188883263e-310,6.94321889790997e-310,6.94321887793905e-310,6.94321889790997e-310,6.9431772188878e-310,6.94321889790997e-310,6.94321887383633e-310,6.9432188028652e-310,6.94321889790997e-310,6.94321886637633e-310,6.9432189157489e-310,6.94321880286676e-310,6.9432143151602e-310,6.9432188883263e-310,6.94321880286676e-310,6.94321887793905e-310,6.94321889790997e-310,6.94321886637633e-310,6.9432076302955e-310,6.94321889790997e-310,6.94321887383633e-310,6.94321887793905e-310,6.94321889790997e-310,6.9431772188878e-310,6.94321889790997e-310,6.94321887383633e-310,6.94321886637633e-310,6.9432189157489e-310,6.94321880286676e-310,6.9431808442585e-310,6.9432188883263e-310,6.94321889790997e-310,6.94321880286676e-310,6.94321887793905e-310,6.94321889790997e-310,6.94321886637633e-310,6.9432076302955e-310,6.94321889790997e-310,6.94321887383633e-310,6.9432071893905e-310,6.94321665547525e-310,6.9432188858536e-310,6.94321889525427e-310,6.94320762700225e-310,6.9432128419869e-310,6.9432189067672e-310,6.943177084366e-310,6.94321500019684e-310,6.94317710709934e-310,6.94321891682715e-310,6.9431771071009e-310,6.94321889525427e-310,6.9432188902476e-310,6.94318084143405e-310,6.94321887793905e-310,6.9432188858536e-310,6.94320762700225e-310,6.94321399645347e-310,6.94321889525427e-310,6.943177277869e-310,5.3862736503151355e-109,3.4011013063257354e+233,4.354520190720931e-114,1.543366109746444e+126,6.505775649553065e+252,5.120606443349403e+199,7.578829641280761e-96]}},\"id\":\"954801bc-0035-410a-8726-4b4599a692cd\",\"type\":\"ColumnDataSource\"},{\"attributes\":{\"line_color\":{\"value\":\"#1f77b4\"},\"x\":{\"field\":\"x\"},\"y\":{\"field\":\"y\"}},\"id\":\"9a202bb8-4211-49ed-8fa8-22750d65f5d9\",\"type\":\"Line\"},{\"attributes\":{\"bottom_units\":\"screen\",\"fill_alpha\":{\"value\":0.5},\"fill_color\":{\"value\":\"lightgrey\"},\"left_units\":\"screen\",\"level\":\"overlay\",\"line_alpha\":{\"value\":1.0},\"line_color\":{\"value\":\"black\"},\"line_dash\":[4,4],\"line_width\":{\"value\":2},\"plot\":null,\"render_mode\":\"css\",\"right_units\":\"screen\",\"top_units\":\"screen\"},\"id\":\"9d7dbbff-b358-40e6-bc07-3b5a4542c5cf\",\"type\":\"BoxAnnotation\"},{\"attributes\":{\"dimension\":1,\"plot\":{\"id\":\"0b9407f0-10c8-4b8c-8f5f-b79144f1f8aa\",\"subtype\":\"Figure\",\"type\":\"Plot\"},\"ticker\":{\"id\":\"336a0586-3e6e-4a1d-89cb-c911b958d786\",\"type\":\"BasicTicker\"}},\"id\":\"754c1737-8e62-4299-bc47-f27ed2fc2de3\",\"type\":\"Grid\"},{\"attributes\":{\"data_source\":{\"id\":\"954801bc-0035-410a-8726-4b4599a692cd\",\"type\":\"ColumnDataSource\"},\"glyph\":{\"id\":\"9a202bb8-4211-49ed-8fa8-22750d65f5d9\",\"type\":\"Line\"},\"hover_glyph\":null,\"nonselection_glyph\":{\"id\":\"746fab58-7490-4d22-9dae-40ff28695f25\",\"type\":\"Line\"},\"selection_glyph\":null},\"id\":\"fb91f9b0-19ee-4a68-b293-f1376a617408\",\"type\":\"GlyphRenderer\"},{\"attributes\":{\"callback\":null},\"id\":\"0211c6a5-9b31-4a5a-b046-f434a0890ea9\",\"type\":\"DataRange1d\"},{\"attributes\":{\"callback\":null},\"id\":\"6515e58c-b6dc-4268-bde2-1515123afa03\",\"type\":\"DataRange1d\"},{\"attributes\":{\"line_alpha\":{\"value\":0.1},\"line_color\":{\"value\":\"#1f77b4\"},\"x\":{\"field\":\"x\"},\"y\":{\"field\":\"y\"}},\"id\":\"746fab58-7490-4d22-9dae-40ff28695f25\",\"type\":\"Line\"},{\"attributes\":{},\"id\":\"d913b5e1-78b2-4b23-9c13-6b407be9df1c\",\"type\":\"BasicTickFormatter\"},{\"attributes\":{},\"id\":\"a3d47cb9-330b-407a-bf5a-826e29200399\",\"type\":\"BasicTicker\"},{\"attributes\":{\"plot\":{\"id\":\"0b9407f0-10c8-4b8c-8f5f-b79144f1f8aa\",\"subtype\":\"Figure\",\"type\":\"Plot\"}},\"id\":\"83b55c6d-f3b7-4ac5-b09b-34bd2090a7ab\",\"type\":\"SaveTool\"},{\"attributes\":{\"active_drag\":\"auto\",\"active_scroll\":\"auto\",\"active_tap\":\"auto\",\"tools\":[{\"id\":\"362357a8-d642-4e05-ba59-3e11444c5739\",\"type\":\"PanTool\"},{\"id\":\"be800f31-9b4a-499b-9f6f-71d1b3b2d75e\",\"type\":\"WheelZoomTool\"},{\"id\":\"38c5d93f-bf96-40ce-848e-9629b5a45a3d\",\"type\":\"BoxZoomTool\"},{\"id\":\"83b55c6d-f3b7-4ac5-b09b-34bd2090a7ab\",\"type\":\"SaveTool\"},{\"id\":\"ddf819bb-cd16-49f1-93a7-cc36a2aca3c8\",\"type\":\"ResetTool\"},{\"id\":\"86039dc1-c930-4e52-9d09-b4ced08fa9d3\",\"type\":\"HelpTool\"}]},\"id\":\"97328dbc-789d-4d67-baf7-0899c2d20c93\",\"type\":\"Toolbar\"},{\"attributes\":{},\"id\":\"6f02f818-a7ff-4f1e-8a99-2d44dad2f361\",\"type\":\"BasicTickFormatter\"},{\"attributes\":{\"plot\":{\"id\":\"0b9407f0-10c8-4b8c-8f5f-b79144f1f8aa\",\"subtype\":\"Figure\",\"type\":\"Plot\"}},\"id\":\"362357a8-d642-4e05-ba59-3e11444c5739\",\"type\":\"PanTool\"},{\"attributes\":{\"plot\":null,\"text\":\"Zone Melting\"},\"id\":\"3e6da383-273d-45ea-8587-0f25129232a3\",\"type\":\"Title\"},{\"attributes\":{\"formatter\":{\"id\":\"6f02f818-a7ff-4f1e-8a99-2d44dad2f361\",\"type\":\"BasicTickFormatter\"},\"plot\":{\"id\":\"0b9407f0-10c8-4b8c-8f5f-b79144f1f8aa\",\"subtype\":\"Figure\",\"type\":\"Plot\"},\"ticker\":{\"id\":\"a3d47cb9-330b-407a-bf5a-826e29200399\",\"type\":\"BasicTicker\"}},\"id\":\"ff2f37f9-7060-4810-bc90-59f4038bb511\",\"type\":\"LinearAxis\"},{\"attributes\":{\"below\":[{\"id\":\"ff2f37f9-7060-4810-bc90-59f4038bb511\",\"type\":\"LinearAxis\"}],\"left\":[{\"id\":\"af09925a-41a1-415c-bed0-9f1cfbe20f84\",\"type\":\"LinearAxis\"}],\"plot_height\":300,\"plot_width\":500,\"renderers\":[{\"id\":\"ff2f37f9-7060-4810-bc90-59f4038bb511\",\"type\":\"LinearAxis\"},{\"id\":\"7dc78975-6d56-40d6-97bd-d658a8de56c9\",\"type\":\"Grid\"},{\"id\":\"af09925a-41a1-415c-bed0-9f1cfbe20f84\",\"type\":\"LinearAxis\"},{\"id\":\"754c1737-8e62-4299-bc47-f27ed2fc2de3\",\"type\":\"Grid\"},{\"id\":\"9d7dbbff-b358-40e6-bc07-3b5a4542c5cf\",\"type\":\"BoxAnnotation\"},{\"id\":\"fb91f9b0-19ee-4a68-b293-f1376a617408\",\"type\":\"GlyphRenderer\"}],\"title\":{\"id\":\"3e6da383-273d-45ea-8587-0f25129232a3\",\"type\":\"Title\"},\"tool_events\":{\"id\":\"2dccd699-4173-46d7-93ec-4b29e17fa07b\",\"type\":\"ToolEvents\"},\"toolbar\":{\"id\":\"97328dbc-789d-4d67-baf7-0899c2d20c93\",\"type\":\"Toolbar\"},\"x_range\":{\"id\":\"0211c6a5-9b31-4a5a-b046-f434a0890ea9\",\"type\":\"DataRange1d\"},\"y_range\":{\"id\":\"6515e58c-b6dc-4268-bde2-1515123afa03\",\"type\":\"DataRange1d\"}},\"id\":\"0b9407f0-10c8-4b8c-8f5f-b79144f1f8aa\",\"subtype\":\"Figure\",\"type\":\"Plot\"},{\"attributes\":{\"plot\":{\"id\":\"0b9407f0-10c8-4b8c-8f5f-b79144f1f8aa\",\"subtype\":\"Figure\",\"type\":\"Plot\"},\"ticker\":{\"id\":\"a3d47cb9-330b-407a-bf5a-826e29200399\",\"type\":\"BasicTicker\"}},\"id\":\"7dc78975-6d56-40d6-97bd-d658a8de56c9\",\"type\":\"Grid\"},{\"attributes\":{\"formatter\":{\"id\":\"d913b5e1-78b2-4b23-9c13-6b407be9df1c\",\"type\":\"BasicTickFormatter\"},\"plot\":{\"id\":\"0b9407f0-10c8-4b8c-8f5f-b79144f1f8aa\",\"subtype\":\"Figure\",\"type\":\"Plot\"},\"ticker\":{\"id\":\"336a0586-3e6e-4a1d-89cb-c911b958d786\",\"type\":\"BasicTicker\"}},\"id\":\"af09925a-41a1-415c-bed0-9f1cfbe20f84\",\"type\":\"LinearAxis\"},{\"attributes\":{\"overlay\":{\"id\":\"9d7dbbff-b358-40e6-bc07-3b5a4542c5cf\",\"type\":\"BoxAnnotation\"},\"plot\":{\"id\":\"0b9407f0-10c8-4b8c-8f5f-b79144f1f8aa\",\"subtype\":\"Figure\",\"type\":\"Plot\"}},\"id\":\"38c5d93f-bf96-40ce-848e-9629b5a45a3d\",\"type\":\"BoxZoomTool\"}],\"root_ids\":[\"0b9407f0-10c8-4b8c-8f5f-b79144f1f8aa\"]},\"title\":\"Bokeh Application\",\"version\":\"0.12.2\"}};\n",
       "            var render_items = [{\"docid\":\"04e564ee-692c-4b2f-8eed-04f58d700569\",\"elementid\":\"a76d42cb-ce9c-4156-bfed-bbf334f7110c\",\"modelid\":\"0b9407f0-10c8-4b8c-8f5f-b79144f1f8aa\",\"notebook_comms_target\":\"d132b6a6-3d99-4fbe-8e82-633097226383\"}];\n",
       "            \n",
       "            Bokeh.embed.embed_items(docs_json, render_items);\n",
       "        });\n",
       "      },\n",
       "      function(Bokeh) {\n",
       "      }\n",
       "    ];\n",
       "  \n",
       "    function run_inline_js() {\n",
       "      \n",
       "      if ((window.Bokeh !== undefined) || (force === \"1\")) {\n",
       "        for (var i = 0; i < inline_js.length; i++) {\n",
       "          inline_js[i](window.Bokeh);\n",
       "        }if (force === \"1\") {\n",
       "          display_loaded();\n",
       "        }} else if (Date.now() < window._bokeh_timeout) {\n",
       "        setTimeout(run_inline_js, 100);\n",
       "      } else if (!window._bokeh_failed_load) {\n",
       "        console.log(\"Bokeh: BokehJS failed to load within specified timeout.\");\n",
       "        window._bokeh_failed_load = true;\n",
       "      } else if (!force) {\n",
       "        var cell = $(\"#a76d42cb-ce9c-4156-bfed-bbf334f7110c\").parents('.cell').data().cell;\n",
       "        cell.output_area.append_execute_result(NB_LOAD_WARNING)\n",
       "      }\n",
       "  \n",
       "    }\n",
       "  \n",
       "    if (window._bokeh_is_loading === 0) {\n",
       "      console.log(\"Bokeh: BokehJS loaded, going straight to plotting\");\n",
       "      run_inline_js();\n",
       "    } else {\n",
       "      load_libs(js_urls, function() {\n",
       "        console.log(\"Bokeh: BokehJS plotting callback run at\", now());\n",
       "        run_inline_js();\n",
       "      });\n",
       "    }\n",
       "  }(this));\n",
       "</script>"
      ]
     },
     "metadata": {},
     "output_type": "display_data"
    }
   ],
   "source": [
    "C=np.empty(grid.result-1)\n",
    "n=0\n",
    "\n",
    "def initialize_stuff(rep):\n",
    "    for i in range(grid.result-1):\n",
    "        C[i]=C_S[i,rep-1]\n",
    "    global n\n",
    "    n=rep\n",
    "    push_notebook(handle=t)\n",
    "    \n",
    "def update_plot(x):\n",
    "            \n",
    "    if (x<grid.result-delta.result):\n",
    "        \n",
    "        #solid concentration update:\n",
    "        C[x]=C_S[x,n]\n",
    "\n",
    "        if (x != 0):\n",
    "            #liquid concentration update:\n",
    "            for i in range(1,delta.result-1):\n",
    "                C[x+i]=C_L[x,n]\n",
    "            \n",
    "            \n",
    "    #during final transient:\n",
    "    else:      \n",
    "        #solid concentration:\n",
    "        C[x]=C_S[x,n]\n",
    "        #liquid concentration:\n",
    "        for i in range(1,grid.result-x-1):\n",
    "            C[x+i]=C_L[x,n]\n",
    "    \n",
    "    push_notebook(handle=t)\n",
    "\n",
    "\n",
    "f=bkp.figure(title=\"Zone Melting\",height=300,width=500)  \n",
    "f.line(x_values,C)\n",
    "t=bkp.show(f, notebook_handle=True)"
   ]
  },
  {
   "cell_type": "code",
   "execution_count": 36,
   "metadata": {
    "collapsed": false
   },
   "outputs": [],
   "source": [
    "initialize=interact(initialize_stuff,rep=widgets.IntSlider(value=1,min=1,max=pass_count.result-1))\n"
   ]
  },
  {
   "cell_type": "code",
   "execution_count": 35,
   "metadata": {
    "collapsed": true
   },
   "outputs": [],
   "source": [
    "play=interact(update_plot,x=widgets.Play(value=0,min=0,max=grid.result))"
   ]
  }
 ],
 "metadata": {
  "anaconda-cloud": {
   "attach-environment": true,
   "environment": "Root",
   "summary": "Solidification wk3 homework",
   "url": "https://anaconda.org/mkrkkinen/solidification-week-3"
  },
  "kernelspec": {
   "display_name": "Python [Root]",
   "language": "python",
   "name": "Python [Root]"
  },
  "language_info": {
   "codemirror_mode": {
    "name": "ipython",
    "version": 3
   },
   "file_extension": ".py",
   "mimetype": "text/x-python",
   "name": "python",
   "nbconvert_exporter": "python",
   "pygments_lexer": "ipython3",
   "version": "3.5.2"
  },
  "widgets": {
   "state": {
    "107c99d3106d4fcfa1d61a9e9943e6ac": {
     "views": [
      {
       "cell_index": 19
      }
     ]
    },
    "274bb42bf5e9436b8f1e25636cdfac80": {
     "views": [
      {
       "cell_index": 19
      }
     ]
    },
    "287e81164db04e859a2637ffab6c2d2e": {
     "views": [
      {
       "cell_index": 15
      }
     ]
    },
    "2eade54036e2418c863a8ff906b8f691": {
     "views": [
      {
       "cell_index": 15
      }
     ]
    },
    "35a06172efca4b7b972bd08d4adb898e": {
     "views": [
      {
       "cell_index": 19
      }
     ]
    },
    "3aebe14cf4924653b39c841368f819f1": {
     "views": [
      {
       "cell_index": 19
      }
     ]
    },
    "3bc115aaab474d50b994323ec7bc8a8c": {
     "views": [
      {
       "cell_index": 19
      }
     ]
    },
    "41c85ba59cac4f6598d5d63dca8f009f": {
     "views": [
      {
       "cell_index": 15
      }
     ]
    },
    "4366e1bd6c474745a81008aef4097617": {
     "views": [
      {
       "cell_index": 15
      }
     ]
    },
    "44b7f8b5182b4383930314031093fa63": {
     "views": [
      {
       "cell_index": 19
      }
     ]
    },
    "450a447e8b2d4be6a86a9403bc24ac23": {
     "views": [
      {
       "cell_index": 19
      }
     ]
    },
    "52430b014efd4705a7f0930df91856e5": {
     "views": [
      {
       "cell_index": 19
      }
     ]
    },
    "56589319b42d44c0b0e4e7498cfc6a8a": {
     "views": [
      {
       "cell_index": 19
      }
     ]
    },
    "58198eaab4334f5e839f44e4b9b233bc": {
     "views": [
      {
       "cell_index": 19
      }
     ]
    },
    "60834a1d0e2f4fbea3a2bbebee01144d": {
     "views": [
      {
       "cell_index": 15
      }
     ]
    },
    "6cb5a2a7b0f547cba5337c0082f6f28d": {
     "views": [
      {
       "cell_index": 19
      }
     ]
    },
    "6f859c9d4c7441aba018e135f34c8dc9": {
     "views": [
      {
       "cell_index": 19
      }
     ]
    },
    "7a3b9b848dca4257b7a5215ddf1405ce": {
     "views": [
      {
       "cell_index": 15
      }
     ]
    },
    "8b48e4991cff4b18983c250848db6762": {
     "views": [
      {
       "cell_index": 15
      }
     ]
    },
    "8e8b321d679741ab995f639f660e0587": {
     "views": [
      {
       "cell_index": 19
      }
     ]
    },
    "8fb9a7c35bb3407780201e719d62d496": {
     "views": [
      {
       "cell_index": 19
      }
     ]
    },
    "936ebf0f891a4d6db6401a0bdcd84db5": {
     "views": [
      {
       "cell_index": 15
      }
     ]
    },
    "96a2b391f9db4502bb81832f3e5b26e3": {
     "views": [
      {
       "cell_index": 19
      }
     ]
    },
    "9750035c963647388660db6bbd5f5e2b": {
     "views": [
      {
       "cell_index": 15
      }
     ]
    },
    "9dd0aa18c3d64191862212daa1cb644d": {
     "views": [
      {
       "cell_index": 19
      }
     ]
    },
    "a1d086744a40471a86197c16d2a49a1c": {
     "views": [
      {
       "cell_index": 19
      }
     ]
    },
    "ad61d7f51494440ea90e943a4d5e48ff": {
     "views": [
      {
       "cell_index": 15
      }
     ]
    },
    "b707108c0f82452d8b09cd239eb80e27": {
     "views": [
      {
       "cell_index": 15
      }
     ]
    },
    "c1dc70384b0a4139bd8f6dd353065dd4": {
     "views": [
      {
       "cell_index": 19
      }
     ]
    },
    "ca0a9eccc29b4c3e8d122797ced83fe6": {
     "views": [
      {
       "cell_index": 19
      }
     ]
    },
    "d0dcd3d7eee845b7858c1d917d19f089": {
     "views": [
      {
       "cell_index": 15
      }
     ]
    },
    "d537a703d6214472af2da9688d112cae": {
     "views": [
      {
       "cell_index": 15
      }
     ]
    },
    "d648082431734d9fa2d1937e0f878342": {
     "views": [
      {
       "cell_index": 19
      }
     ]
    },
    "d8c7381552564e9ea78e1c28a99519ea": {
     "views": [
      {
       "cell_index": 19
      }
     ]
    },
    "e7d30bf01f6f4801a35a6e5328568a18": {
     "views": [
      {
       "cell_index": 19
      }
     ]
    },
    "e9c690a1cb394f419db48b45b15d958b": {
     "views": [
      {
       "cell_index": 19
      }
     ]
    },
    "ef164399aa6545a4a74ceb9bdec725ff": {
     "views": [
      {
       "cell_index": 20
      }
     ]
    },
    "f1d487f3b73d44849c30e36f8f806416": {
     "views": [
      {
       "cell_index": 15
      }
     ]
    },
    "f9ce1136da764eccbfbb89ec8c86a69e": {
     "views": [
      {
       "cell_index": 15
      }
     ]
    }
   },
   "version": "1.2.0"
  }
 },
 "nbformat": 4,
 "nbformat_minor": 0
}
