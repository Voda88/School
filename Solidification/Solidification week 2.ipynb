{
 "cells": [
  {
   "cell_type": "code",
   "execution_count": 5,
   "metadata": {
    "collapsed": true
   },
   "outputs": [],
   "source": [
    "import numpy as np"
   ]
  },
  {
   "cell_type": "markdown",
   "metadata": {},
   "source": [
    "# Solidification week 2 homework\n",
    "\n",
    "## Mikko Karkkainen 11740378\n",
    "\n",
    "### Problem 1.\n",
    "\n"
   ]
  },
  {
   "cell_type": "markdown",
   "metadata": {
    "collapsed": true
   },
   "source": [
    "Calculate the time required to complete unidirectional solidification of a 10 cm rod, assuming full \n",
    "diffusional equilibrium.\n",
    "Note: assume a liquid diffusivity; compare diffusion velocity to solidification velocity."
   ]
  },
  {
   "cell_type": "markdown",
   "metadata": {
    "collapsed": true
   },
   "source": [
    "### Solution:\n",
    "\n",
    "The rate of solidification in full diffusional equilibrium is controlled by the diffusion of solute atoms along the rod. Since solid state diffusion is much slower than liquid state diffusion, solid state diffusion will be the rate controlling process.\n",
    "\n",
    "Let's assume a diffusion coefficient of $ 10^{-9} m^2/s $ for the solid phase. For equilibrium solidification to take place, solute atoms must diffuse the entire length of the solidified rod. This distance starts at 0 and ends at 10 cm.\n",
    "\n",
    "The average time for diffusion through the solid is given by the mean-square-distance:\n",
    "\n",
    "$$ t= \\frac{\\overline{x^2}}{2D}  $$\n",
    "\n",
    "However, since the distance is not constant, but depends on the solid fraction, this has to be expressed as\n",
    "\n",
    "$$ t= \\int_0^1 \\frac{\\overline{x^2(f_s)}}{2D} df_s $$\n",
    "\n",
    "where $ \\overline{x^2(f_s)}$ is the mean square distance as a function of solid fraction. Since the length of the solidified rod is $0.1m \\cdot f_s$, the mean-square-distance is given by $0.01m^2 \\cdot f_s^2$\n",
    "\n",
    "$$ t= \\int_0^1 \\frac{0.1m \\cdot f_s}{2D} df_s = \\frac{0.01m^2 \\cdot f_s^2}{4D} \\big|_0^1 = \\frac{0.01 m^2}{4 \\cdot 10^{-9} m^2/s}   $$"
   ]
  },
  {
   "cell_type": "code",
   "execution_count": 19,
   "metadata": {
    "collapsed": false
   },
   "outputs": [
    {
     "data": {
      "text/plain": [
       "28.935185185185187"
      ]
     },
     "execution_count": 19,
     "metadata": {},
     "output_type": "execute_result"
    }
   ],
   "source": [
    "answer1=np.divide(0.01,(4*np.power(10.,-9)))\n",
    "np.divide(answer1,3600*24)"
   ]
  },
  {
   "cell_type": "markdown",
   "metadata": {},
   "source": [
    "Assuming that the solidification time is equal to the cumulative time required for equilibrium solid state diffusion for every value of solid fraction from 0 to 1:\n",
    "\n",
    "#### Answer: 29 days\n",
    "\n",
    "----\n",
    "\n",
    "### Problem 2.\n",
    "\n",
    "Derive Eq. 4.10 in the textbook\n",
    "\n",
    "### Solution:\n",
    "\n",
    "$$ \\frac{\\partial}{\\partial t} (\\rho \\cdot \\phi) + \\nabla \\cdot (\\rho \\cdot \\overline{v} \\cdot \\phi) = \\nabla \\cdot (\\rho \\cdot \\Gamma \\cdot \\nabla \\phi)+S$$\n",
    "\n",
    "The general transport equation's main idea is that the change in phase quantity inside a volume is given by the flux of the phase quantity by diffusion and advection in addition to the generation of the phase due to phase transformation and motion.\n",
    "\n",
    "Thus:\n",
    "\n",
    "$$ \\frac{\\partial}{\\partial V}(\\rho \\phi) =  \\frac{\\partial}{\\partial t} (\\rho \\phi) + \\nabla \\cdot \\overline{J}$$ \n",
    "\n",
    "where $ V $ is the differential control volume, $ \\phi $ is the phase mass fraction, $ \\rho $ is the density of the phase and $ J $ is the total flux due to diffusion and convection.\n",
    "\n",
    "The flux due to diffusion is given Fick's first law:\n",
    "\n",
    "$$ J_{diff} = -D \\rho \\nabla \\phi $$\n",
    "\n",
    "The flux due to convection is given by:\n",
    "\n",
    "$$ J_{conv} = \\overline{v}\\rho \\phi $$\n",
    "\n",
    "Substituting $J_{diff} + J_{conv} $ for $ J$:\n",
    "\n",
    "$$ \\frac{\\partial}{\\partial V}(\\rho \\phi) =  \\frac{\\partial}{\\partial t} (\\rho \\phi) + \\nabla \\cdot ( -D \\rho \\nabla \\phi + \\overline{v}\\rho \\phi) $$\n",
    "\n",
    "$$ = \\frac{\\partial}{\\partial t} (\\rho \\phi) -\\nabla \\cdot (D \\nabla \\phi )+ \\nabla \\cdot (\\overline{v}\\rho \\phi) $$\n",
    "\n",
    "Substituting $ S $ for $ \\frac{\\partial \\phi}{\\partial V} $, $ \\Gamma $ for $ D $ and rearranging :\n",
    "\n",
    "$$ S + \\nabla \\cdot (\\Gamma \\rho \\nabla \\phi ) = \\frac{\\partial}{\\partial t} (\\rho \\phi) + \\nabla \\cdot (\\overline{v}\\rho \\phi) $$\n",
    "\n",
    "which is equivalent to equation 4.10\n",
    "\n",
    "----\n",
    "\n",
    "### Problem 3\n",
    "\n",
    "Derive an equation for the calculation of the composition gradient at the interface in the liquid. Hint: \n",
    "check Eq. 4.5 textbook\n",
    "\n",
    "### Solution\n",
    "\n",
    "In 1D steady state, with no source term, assuming constant density and density, with k<1, with the reference point at the solidification interface, the general transportation equation has the form:\n",
    "\n",
    "$$ \\frac{\\partial^2 C}{\\partial x^2} + \\frac{V}{D} \\frac{\\partial C}{\\partial x} = 0$$ \n",
    "\n",
    "The general solution to this 2nd order homogeneous differential equation is of the form\n",
    "\n",
    "$$ y= c_1e^{b_1x}+c_2e^{b_2x} $$\n",
    "\n",
    "we can find $ b_1 $ and $ b_2 $ by solving for them from the equation:\n",
    "\n",
    "$$ b^2 + \\frac{Vb}{D} = 0$$\n",
    "\n",
    "$$ b \\cdot (b + \\frac{V}{D}) =0 $$\n",
    "\n",
    "$$ b_1= 0 \\; , \\; b_2 = -V/D  $$\n",
    "\n",
    "Therefore, the solution for the concentration at the liquid interface becomes:\n",
    "\n",
    "$$ C_L^* = c_1 + c_2e^{-\\frac{V}{D}x} $$\n",
    "\n",
    "To find $c_1$ and $c_2$, we need two boundary conditions:\n",
    "\n",
    "$$ BC1: \\; for \\; x = \\infty \\;,\\; C=C_0  $$\n",
    "$$ BC2: \\; for \\; x = 0 \\;,\\; V(C_L^*-C_S^*)=-D(\\frac{\\partial C}{\\partial x}) $$\n",
    "\n",
    "From $BC1$ we get:\n",
    "\n",
    "$$ c_1 = C_0$$\n",
    "\n",
    "For $ BC2 $ we get:\n",
    "\n",
    "$$ C_L^* = C_0 + c_2$$\n",
    "\n",
    "$$ V(C_0+c_2 - C_S^*) = -D\\bigg(\\frac{\\partial C}{\\partial x}\\bigg)$$\n",
    "\n",
    "\n",
    "Using the identity $ C^*_S=k \\cdot C^*_L$:\n",
    "\n",
    "$$ V(C_0+c_2 - kC^*_L) = -D\\bigg(\\frac{\\partial C}{\\partial x}\\bigg) $$\n",
    "\n",
    "$$ V(C_0+c_2 - k(C_0+c_2)) = -D\\bigg(\\frac{\\partial C}{\\partial x}\\bigg) $$\n",
    "\n",
    "$$ V(1-k)(C_0+c_2) = -D\\bigg(\\frac{\\partial C}{\\partial x}\\bigg) $$\n",
    "\n",
    "Calculating the value of $ \\frac{\\partial C}{\\partial x} $ at $ x=0 $:\n",
    "\n",
    "$$\\bigg(\\frac{\\partial C}{\\partial x}\\bigg)_{x=0} = c_2 \\bigg( \\frac{\\partial}{\\partial x}\\bigg( \\large{e^{-\\frac{Vx}{D}}} \\bigg) \\bigg)_{x=0} = - c_2 \\frac{V}{D}   $$\n",
    "\n",
    "Thus:\n",
    "\n",
    "$$ V(1-k)(C_0+c_2) = c_2 V $$\n",
    "\n",
    "$$ (1-k)(C_0)+ (1-k)(c_2) -c_2 =0 $$\n",
    "\n",
    "$$ c_2 = \\frac{(k-1)(C_0)}{-k} = \\frac{(1-k)(C_0)}{k} $$\n",
    "\n",
    "Finally:\n",
    "\n",
    "$$ C_L^* = C_0 + \\frac{(1-k)(C_0)}{k}e^{-\\frac{V}{D}x}  $$"
   ]
  },
  {
   "cell_type": "code",
   "execution_count": null,
   "metadata": {
    "collapsed": true
   },
   "outputs": [],
   "source": []
  }
 ],
 "metadata": {
  "anaconda-cloud": {},
  "kernelspec": {
   "display_name": "Python [Root]",
   "language": "python",
   "name": "Python [Root]"
  },
  "language_info": {
   "codemirror_mode": {
    "name": "ipython",
    "version": 3
   },
   "file_extension": ".py",
   "mimetype": "text/x-python",
   "name": "python",
   "nbconvert_exporter": "python",
   "pygments_lexer": "ipython3",
   "version": "3.5.2"
  }
 },
 "nbformat": 4,
 "nbformat_minor": 0
}
