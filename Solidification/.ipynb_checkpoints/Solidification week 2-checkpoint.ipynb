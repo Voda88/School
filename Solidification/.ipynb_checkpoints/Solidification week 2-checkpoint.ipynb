{
 "cells": [
  {
   "cell_type": "code",
   "execution_count": 4,
   "metadata": {
    "collapsed": true
   },
   "outputs": [],
   "source": [
    "import numpy as np"
   ]
  },
  {
   "cell_type": "markdown",
   "metadata": {},
   "source": [
    "# Solidification week 2 homework\n",
    "\n",
    "## Mikko Karkkainen 11740378\n",
    "\n",
    "### Problem 1.\n",
    "\n"
   ]
  },
  {
   "cell_type": "markdown",
   "metadata": {
    "collapsed": true
   },
   "source": [
    "Calculate the time required to complete unidirectional solidification of a 10 cm rod, assuming full \n",
    "diffusional equilibrium.\n",
    "Note: assume a liquid diffusivity; compare diffusion velocity to solidification velocity."
   ]
  },
  {
   "cell_type": "markdown",
   "metadata": {
    "collapsed": true
   },
   "source": [
    "### Solution:\n",
    "\n",
    "The rate of solidification in full diffusional equilibrium is controlled by the diffusion of solute atoms along the rod. Since solid state diffusion is much slower than liquid state diffusion, solid state diffusion will be the rate controlling process.\n",
    "\n",
    "Let's assume a diffusion coefficient of $ 10^{-9} m^2/s $ for the solid phase. For equilibrium solidification to take place, solute atoms must diffuse the entire length of the solidified rod. This distance starts at 0 and ends at 10 cm.\n",
    "\n",
    "The average time for diffusion through the solid is given by the mean-square-distance:\n",
    "\n",
    "$$ t= \\frac{\\overline{x^2}}{2D}  $$\n",
    "\n",
    "However, since the distance is not constant, but depends on the solid fraction, this has to be expressed as\n",
    "\n",
    "$$ t= \\int_0^1 \\frac{\\overline{x^2(f_s)}}{2D} df_s $$\n",
    "\n",
    "where $ \\overline{x^2(f_s)}$ is the mean square distance as a function of solid fraction. Since the length of the solidified rod is $0.1m \\cdot f_s$, the mean-square-distance is given by $0.01m^2 \\cdot f_s^2$\n",
    "\n",
    "$$ t= \\int_0^1 \\frac{0.1m \\cdot f_s}{2D} df_s = \\frac{0.01m^2 \\cdot f_s^2}{4D} \\big|_0^1 = \\frac{0.01 m^2}{4 \\cdot 10^{-9} m^2/s}   $$"
   ]
  },
  {
   "cell_type": "code",
   "execution_count": 5,
   "metadata": {
    "collapsed": false
   },
   "outputs": [
    {
     "data": {
      "text/plain": [
       "28.935185185185187"
      ]
     },
     "execution_count": 5,
     "metadata": {},
     "output_type": "execute_result"
    }
   ],
   "source": [
    "answer1=np.divide(0.01,(4*np.power(10.,-9)))\n",
    "np.divide(answer1,3600*24)"
   ]
  },
  {
   "cell_type": "markdown",
   "metadata": {},
   "source": [
    "Assuming that the solidification time is equal to the cumulative time required for equilibrium solid state diffusion for every value of solid fraction from 0 to 1:\n",
    "\n",
    "#### Answer: 29 days\n",
    "\n",
    "----\n",
    "\n",
    "\n",
    "\n"
   ]
  },
  {
   "cell_type": "markdown",
   "metadata": {},
   "source": [
    "### Problem 2.\n",
    "\n",
    "Derive Eq. 4.10 in the textbook\n",
    "\n",
    "### Solution:\n",
    "\n",
    "Mass balance for solute atoms (1):\n",
    "\n",
    "$$ C_Sf_S+C_Lf_L=C_0 $$\n",
    "\n",
    "Mass fractions of solid and liquid (2):\n",
    "\n",
    "$$ f_S+f_L=1 $$\n",
    "\n",
    "Definition of the partition coefficient (3):\n",
    "\n",
    "$$ k= \\frac{C_S}{C_L}$$\n",
    "\n",
    "\n",
    "(1) and (2):\n",
    "\n",
    "$$ C_Sf_S+C_L(1-f_S)=C_0 $$\n",
    "\n",
    "Dividing by C_L: \n",
    "\n",
    "$$ \\frac{C_S}{C_L}f_S + 1 - f_S = \\frac{C_0}{C_L} $$\n",
    "\n",
    "Using (3):\n",
    "\n",
    "$$ kf_S + 1-f_S=\\frac{kC_0}{C_S} $$\n",
    "\n",
    "\n",
    "Regrouping:\n",
    "$$ C_S(f_S(k-1) + 1)=kC_0  $$\n",
    "\n",
    "Finally:\n",
    "\n",
    "$$ C_S=\\frac{kC_0}{f_S(k-1) + 1} = \\frac{kC_0}{1 - f_S(1-k) +} $$\n",
    "\n",
    "----"
   ]
  },
  {
   "cell_type": "markdown",
   "metadata": {
    "collapsed": true
   },
   "source": [
    "### Problem 3\n",
    "\n",
    "Derive an equation for the calculation of the composition gradient at the interface in the liquid. Hint: \n",
    "check Eq. 4.5 textbook\n",
    "\n",
    "### Solution\n",
    "\n",
    "In 1D steady state, with no source term, assuming constant density and density, with k<1, with the reference point at the solidification interface, the general transportation equation has the form:\n",
    "\n",
    "$$ \\frac{\\partial^2 C}{\\partial x^2} + \\frac{V}{D} \\frac{\\partial C}{\\partial x} = 0$$ \n",
    "\n",
    "The general solution to this 2nd order homogeneous differential equation is of the form\n",
    "\n",
    "$$ y= c_1e^{b_1x}+c_2e^{b_2x} $$\n",
    "\n",
    "we can find $ b_1 $ and $ b_2 $ by solving for them from the equation:\n",
    "\n",
    "$$ b^2 + \\frac{Vb}{D} = 0$$\n",
    "\n",
    "$$ b \\cdot (b + \\frac{V}{D}) =0 $$\n",
    "\n",
    "$$ b_1= 0 \\; , \\; b_2 = -V/D  $$\n",
    "\n",
    "Therefore, the solution for the concentration at the liquid interface becomes:\n",
    "\n",
    "$$ C_L^* = c_1 + c_2e^{-\\frac{V}{D}x} $$\n",
    "\n",
    "To find $c_1$ and $c_2$, we need two boundary conditions:\n",
    "\n",
    "$$ BC1: \\; for \\; x = \\infty \\;,\\; C=C_0  $$\n",
    "$$ BC2: \\; for \\; x = 0 \\;,\\; V(C_L^*-C_S^*)=-D(\\frac{\\partial C}{\\partial x}) $$\n",
    "\n",
    "From $BC1$ we get:\n",
    "\n",
    "$$ c_1 = C_0$$\n",
    "\n",
    "For $ BC2 $ we get:\n",
    "\n",
    "$$ C_L = C_0 + c_2$$\n",
    "\n",
    "$$ V(C_0+c_2 - C_S^*) = -D\\bigg(\\frac{\\partial C}{\\partial x}\\bigg)$$\n",
    "\n",
    "\n",
    "Using the identity $ C^*_S=k \\cdot C^*_L$:\n",
    "\n",
    "$$ V(C_0+c_2 - kC^*_L) = -D\\bigg(\\frac{\\partial C}{\\partial x}\\bigg) $$\n",
    "\n",
    "$$ V(C_0+c_2 - k(C_0+c_2)) = -D\\bigg(\\frac{\\partial C}{\\partial x}\\bigg) $$\n",
    "\n",
    "$$ V(1-k)(C_0+c_2) = -D\\bigg(\\frac{\\partial C}{\\partial x}\\bigg) $$\n",
    "\n",
    "Calculating the value of $ \\frac{\\partial C}{\\partial x} $ at $ x=0 $:\n",
    "\n",
    "$$\\bigg(\\frac{\\partial C}{\\partial x}\\bigg)_{x=0} = c_2 \\bigg( \\frac{\\partial}{\\partial x}\\bigg( \\large{e^{-\\frac{Vx}{D}}} \\bigg) \\bigg)_{x=0} = \\normalsize{- c_2 \\frac{V}{D}} $$\n",
    "\n",
    "Thus:\n",
    "\n",
    "$$ V(1-k)(C_0+c_2) = c_2 V $$\n",
    "\n",
    "$$ (1-k)(C_0)+ (1-k)(c_2) -c_2 =0 $$\n",
    "\n",
    "$$ -kc_2=(k-1)C_0 $$\n",
    "\n",
    "$$ c_2 = \\frac{(k-1)(C_0)}{-k} = \\frac{(1-k)(C_0)}{k} $$\n",
    "\n",
    "The composition gradient at the liquid interface is $(\\frac{\\partial C}{\\partial x})_{x=0}$:\n",
    "\n",
    "$$ \\bigg(\\frac{\\partial C}{\\partial x}\\bigg)_{x=0} = -\\frac{(1-k)(C_0)}{k}\\frac{V}{D}  $$"
   ]
  },
  {
   "cell_type": "markdown",
   "metadata": {},
   "source": [
    "### Problem 4\n",
    "\n",
    "\n",
    "Derive the equation for the effective partition coefficient kef (eq. 4.20 textbook).\n",
    "Note: helpful derivation in textbook - p34-35\n",
    "\n",
    "### Solution:\n",
    "\n",
    "$ k_{ef} $ is related to $ k $ by the equation (Burton et al. 1953):\n",
    "\n",
    "$$ k_{ef} = \\frac{k}{[k+(1-k) \\exp (-V\\delta/D_l)]} \\; with \\; 1\\geq k_{ef}\\geq k $$\n",
    "\n",
    "Using Burton 1953, the solution to \n",
    "\n",
    "$$ D\\frac{\\partial C}{\\partial x^2 } + V \\frac{\\partial C}{\\partial x} = 0 $$\n",
    "\n",
    "at $ x= \\delta $ yields\n",
    "\n",
    "$$ \\frac{C_L^*-C_S^*}{C_0-C_S^*} = e^{\\frac{V \\delta }{D}}$$\n",
    "\n",
    "$$ C_L^*-C_S^*= e^{\\frac{V \\delta }{D}} (C_0-C_S^*)  $$\n",
    "\n",
    "Use $ k = \\frac{C_S^*}{C_L^*} $ :\n",
    "\n",
    "$$ 1-k = e^{\\frac{V \\delta }{D}} (\\frac{C_0}{C_L^*} - k) $$\n",
    "\n",
    "$$ 1-k = e^{\\frac{V \\delta }{D}} (\\frac{C_0}{C_L^*} - k) $$\n",
    "\n",
    "$$ (1-k) e^{-\\frac{V \\delta }{D}} = \\frac{C_0}{C_L^*} - k $$\n",
    "\n",
    "$$ k + (1-k) e^{-\\frac{V \\delta }{D}} = \\frac{C_0}{C_L^*} $$\n",
    "\n",
    "$$ \\frac{k}{k + (1-k) e^{-\\frac{V \\delta }{D}}} = \\frac{k}{\\frac{C_0}{C_L^*}} = k_{ef} $$"
   ]
  },
  {
   "cell_type": "markdown",
   "metadata": {},
   "source": []
  }
 ],
 "metadata": {
  "anaconda-cloud": {},
  "kernelspec": {
   "display_name": "Python [Root]",
   "language": "python",
   "name": "Python [Root]"
  },
  "language_info": {
   "codemirror_mode": {
    "name": "ipython",
    "version": 3
   },
   "file_extension": ".py",
   "mimetype": "text/x-python",
   "name": "python",
   "nbconvert_exporter": "python",
   "pygments_lexer": "ipython3",
   "version": "3.5.2"
  }
 },
 "nbformat": 4,
 "nbformat_minor": 0
}
