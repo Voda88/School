{
 "cells": [
  {
   "cell_type": "code",
   "execution_count": 28,
   "metadata": {
    "collapsed": false
   },
   "outputs": [
    {
     "name": "stdout",
     "output_type": "stream",
     "text": [
      "Once deleted, variables cannot be recovered. Proceed (y/[n])? y\n"
     ]
    },
    {
     "data": {
      "text/html": [
       "\n",
       "    <div class=\"bk-root\">\n",
       "        <a href=\"http://bokeh.pydata.org\" target=\"_blank\" class=\"bk-logo bk-logo-small bk-logo-notebook\"></a>\n",
       "        <span id=\"40c4c2a7-5df5-4643-924f-86e91bff8e38\">Loading BokehJS ...</span>\n",
       "    </div>"
      ]
     },
     "metadata": {},
     "output_type": "display_data"
    },
    {
     "data": {
      "application/javascript": [
       "\n",
       "(function(global) {\n",
       "  function now() {\n",
       "    return new Date();\n",
       "  }\n",
       "\n",
       "  var force = \"1\";\n",
       "\n",
       "  if (typeof (window._bokeh_onload_callbacks) === \"undefined\" || force !== \"\") {\n",
       "    window._bokeh_onload_callbacks = [];\n",
       "    window._bokeh_is_loading = undefined;\n",
       "  }\n",
       "\n",
       "\n",
       "  \n",
       "  if (typeof (window._bokeh_timeout) === \"undefined\" || force !== \"\") {\n",
       "    window._bokeh_timeout = Date.now() + 5000;\n",
       "    window._bokeh_failed_load = false;\n",
       "  }\n",
       "\n",
       "  var NB_LOAD_WARNING = {'data': {'text/html':\n",
       "     \"<div style='background-color: #fdd'>\\n\"+\n",
       "     \"<p>\\n\"+\n",
       "     \"BokehJS does not appear to have successfully loaded. If loading BokehJS from CDN, this \\n\"+\n",
       "     \"may be due to a slow or bad network connection. Possible fixes:\\n\"+\n",
       "     \"</p>\\n\"+\n",
       "     \"<ul>\\n\"+\n",
       "     \"<li>re-rerun `output_notebook()` to attempt to load from CDN again, or</li>\\n\"+\n",
       "     \"<li>use INLINE resources instead, as so:</li>\\n\"+\n",
       "     \"</ul>\\n\"+\n",
       "     \"<code>\\n\"+\n",
       "     \"from bokeh.resources import INLINE\\n\"+\n",
       "     \"output_notebook(resources=INLINE)\\n\"+\n",
       "     \"</code>\\n\"+\n",
       "     \"</div>\"}};\n",
       "\n",
       "  function display_loaded() {\n",
       "    if (window.Bokeh !== undefined) {\n",
       "      Bokeh.$(\"#40c4c2a7-5df5-4643-924f-86e91bff8e38\").text(\"BokehJS successfully loaded.\");\n",
       "    } else if (Date.now() < window._bokeh_timeout) {\n",
       "      setTimeout(display_loaded, 100)\n",
       "    }\n",
       "  }\n",
       "\n",
       "  function run_callbacks() {\n",
       "    window._bokeh_onload_callbacks.forEach(function(callback) { callback() });\n",
       "    delete window._bokeh_onload_callbacks\n",
       "    console.info(\"Bokeh: all callbacks have finished\");\n",
       "  }\n",
       "\n",
       "  function load_libs(js_urls, callback) {\n",
       "    window._bokeh_onload_callbacks.push(callback);\n",
       "    if (window._bokeh_is_loading > 0) {\n",
       "      console.log(\"Bokeh: BokehJS is being loaded, scheduling callback at\", now());\n",
       "      return null;\n",
       "    }\n",
       "    if (js_urls == null || js_urls.length === 0) {\n",
       "      run_callbacks();\n",
       "      return null;\n",
       "    }\n",
       "    console.log(\"Bokeh: BokehJS not loaded, scheduling load and callback at\", now());\n",
       "    window._bokeh_is_loading = js_urls.length;\n",
       "    for (var i = 0; i < js_urls.length; i++) {\n",
       "      var url = js_urls[i];\n",
       "      var s = document.createElement('script');\n",
       "      s.src = url;\n",
       "      s.async = false;\n",
       "      s.onreadystatechange = s.onload = function() {\n",
       "        window._bokeh_is_loading--;\n",
       "        if (window._bokeh_is_loading === 0) {\n",
       "          console.log(\"Bokeh: all BokehJS libraries loaded\");\n",
       "          run_callbacks()\n",
       "        }\n",
       "      };\n",
       "      s.onerror = function() {\n",
       "        console.warn(\"failed to load library \" + url);\n",
       "      };\n",
       "      console.log(\"Bokeh: injecting script tag for BokehJS library: \", url);\n",
       "      document.getElementsByTagName(\"head\")[0].appendChild(s);\n",
       "    }\n",
       "  };var element = document.getElementById(\"40c4c2a7-5df5-4643-924f-86e91bff8e38\");\n",
       "  if (element == null) {\n",
       "    console.log(\"Bokeh: ERROR: autoload.js configured with elementid '40c4c2a7-5df5-4643-924f-86e91bff8e38' but no matching script tag was found. \")\n",
       "    return false;\n",
       "  }\n",
       "\n",
       "  var js_urls = ['https://cdn.pydata.org/bokeh/release/bokeh-0.12.2.min.js', 'https://cdn.pydata.org/bokeh/release/bokeh-widgets-0.12.2.min.js', 'https://cdn.pydata.org/bokeh/release/bokeh-compiler-0.12.2.min.js'];\n",
       "\n",
       "  var inline_js = [\n",
       "    function(Bokeh) {\n",
       "      Bokeh.set_log_level(\"info\");\n",
       "    },\n",
       "    \n",
       "    function(Bokeh) {\n",
       "      \n",
       "      Bokeh.$(\"#40c4c2a7-5df5-4643-924f-86e91bff8e38\").text(\"BokehJS is loading...\");\n",
       "    },\n",
       "    function(Bokeh) {\n",
       "      console.log(\"Bokeh: injecting CSS: https://cdn.pydata.org/bokeh/release/bokeh-0.12.2.min.css\");\n",
       "      Bokeh.embed.inject_css(\"https://cdn.pydata.org/bokeh/release/bokeh-0.12.2.min.css\");\n",
       "      console.log(\"Bokeh: injecting CSS: https://cdn.pydata.org/bokeh/release/bokeh-widgets-0.12.2.min.css\");\n",
       "      Bokeh.embed.inject_css(\"https://cdn.pydata.org/bokeh/release/bokeh-widgets-0.12.2.min.css\");\n",
       "    }\n",
       "  ];\n",
       "\n",
       "  function run_inline_js() {\n",
       "    \n",
       "    if ((window.Bokeh !== undefined) || (force === \"1\")) {\n",
       "      for (var i = 0; i < inline_js.length; i++) {\n",
       "        inline_js[i](window.Bokeh);\n",
       "      }if (force === \"1\") {\n",
       "        display_loaded();\n",
       "      }} else if (Date.now() < window._bokeh_timeout) {\n",
       "      setTimeout(run_inline_js, 100);\n",
       "    } else if (!window._bokeh_failed_load) {\n",
       "      console.log(\"Bokeh: BokehJS failed to load within specified timeout.\");\n",
       "      window._bokeh_failed_load = true;\n",
       "    } else if (!force) {\n",
       "      var cell = $(\"#40c4c2a7-5df5-4643-924f-86e91bff8e38\").parents('.cell').data().cell;\n",
       "      cell.output_area.append_execute_result(NB_LOAD_WARNING)\n",
       "    }\n",
       "\n",
       "  }\n",
       "\n",
       "  if (window._bokeh_is_loading === 0) {\n",
       "    console.log(\"Bokeh: BokehJS loaded, going straight to plotting\");\n",
       "    run_inline_js();\n",
       "  } else {\n",
       "    load_libs(js_urls, function() {\n",
       "      console.log(\"Bokeh: BokehJS plotting callback run at\", now());\n",
       "      run_inline_js();\n",
       "    });\n",
       "  }\n",
       "}(this));"
      ]
     },
     "metadata": {},
     "output_type": "display_data"
    }
   ],
   "source": [
    "%reset\n",
    "import sys\n",
    "import numpy as np\n",
    "import bokeh.plotting as bkp\n",
    "import bokeh.models as bkm\n",
    "from bokeh.io import push_notebook\n",
    "from ipywidgets import widgets\n",
    "from ipywidgets import interact,interactive\n",
    "from IPython import display\n",
    "bkp.output_notebook()"
   ]
  },
  {
   "cell_type": "markdown",
   "metadata": {},
   "source": [
    "# Solidification week 3 homework\n",
    "\n",
    "### Mikko Karkkainen 11740378\n",
    "\n"
   ]
  },
  {
   "cell_type": "markdown",
   "metadata": {},
   "source": [
    "The zone melting process is used to purify materials by taking advantage of the segregation of impurities to one end of the sample in directional solidification, as seen in Fig. 5.6. In zone melting, a segment of the sample of thickness $ \\delta $ is melted, for example using an induction heater. The coil then traverses the sample beginning at one end. The heater produces sufficient stirring in the melted section that its composition can be considered to be uniform. The composition profile at some time during the first pass is shown schematically in the figure below. The initial composition of the sample is $ C_0 $, and the composition in the liquid is designated $ C_l^* $.\n",
    "\n",
    "<img src=\"https://dev-plebbit.s3.amazonaws.com/uploads/topic/picture/17/zone_melting.png\"/>\n",
    "---"
   ]
  },
  {
   "cell_type": "markdown",
   "metadata": {},
   "source": [
    "#### a) Write a solute balance for the change in composition in the liquid when the interface moves by an increment of $ dx $ as shown. Be sure to account for both the solute rejected at the solid-liquid-interface, and the dilution associated with previously unmelted solid."
   ]
  },
  {
   "cell_type": "markdown",
   "metadata": {},
   "source": [
    "Assuming no convection in the liquid, flux balance at the interface gives\n",
    "\n",
    "$$ (C_0-C_S^*)dx=\\delta \\: dC_l^* $$"
   ]
  },
  {
   "cell_type": "markdown",
   "metadata": {},
   "source": [
    "#### b) Rearrange this equation so that it can be integrated from the initial condition, where the composition in the liquid is $ C_0 $ and the solid-liquid interface is located at $ x^* = 0 $."
   ]
  },
  {
   "cell_type": "markdown",
   "metadata": {},
   "source": [
    "\n",
    "Let's rearrange:\n",
    "\n",
    "$$  dx = \\frac{\\delta}{C_0 -C_S^*} \\: dC^*_l $$ \n",
    "\n",
    "Substitute $ k_0C_l^* $ for  $ C_S^* $:\n",
    "\n",
    "$$  dx = \\frac{\\delta}{C_0 - k_0C_l^*} \\: dC^*_l $$\n",
    "\n",
    "Define integral:\n",
    "\n",
    "$$ \\int^{x^*}_0 dx = \\int_{C_0}^{C_l^*}\\frac{\\delta}{C_0 - k_0C_l^*} \\: dC^*_l $$\n",
    "\n",
    "---"
   ]
  },
  {
   "cell_type": "markdown",
   "metadata": {},
   "source": [
    "#### c) Perform the integration to obtain the result\n",
    "\n",
    "$$ \\frac{C_l^*}{C_0} = \\frac{1}{k_0} \\Bigg[ 1 - (1-k_0)exp \\bigg(-\\frac{k_0x^*}{\\delta} \\bigg) \\Bigg]$$"
   ]
  },
  {
   "cell_type": "markdown",
   "metadata": {},
   "source": [
    "Performing the integral:\n",
    "\n",
    "$$ x^* = - \\frac{\\delta}{k_0} \\Big[ ln(C_0-k_0C_l^*) - ln(C_0-k_0C_0) \\Big] $$\n",
    "\n",
    "Rearranging:\n",
    "\n",
    "$$ - \\frac{k_0x^*}{\\delta} = ln \\Bigg( \\frac{C_0-k_0C_l^*}{C_0-k_0C_0} \\Bigg) $$\n",
    "\n",
    "exp from both sides:\n",
    "\n",
    "$$ exp \\Big( - \\frac{k_0x^*}{\\delta} \\Big) = \\frac{C_0-k_0C_l^*}{C_0-k_0C_0}  $$\n",
    "\n",
    "Rearrange:\n",
    "\n",
    "$$ exp \\Big( - \\frac{k_0x^*}{\\delta} \\Big) = \\frac{1-\\frac{k_0C_l^*}{C_0}}{1-k_0}  $$\n",
    "\n",
    "Rearrange:\n",
    "\n",
    "$$ (1-k_0)exp \\Big( - \\frac{k_0x^*}{\\delta} \\Big) = 1-\\frac{k_0C_l^*}{C_0}  $$\n",
    "\n",
    "Rearrange:\n",
    "\n",
    "$$ \\frac{k_0C_l^*}{C_0}  = 1- (1-k_0)exp \\Big( - \\frac{k_0x^*}{\\delta} \\Big) $$\n",
    "\n",
    "Rearrange:\n",
    "\n",
    "$$ \\frac{C_l^*}{C_0}  = \\frac{1}{k_0} \\Big[ 1- (1-k_0)exp \\Big( - \\frac{k_0x^*}{\\delta} \\Big) \\Big] $$\n",
    "\n",
    "---"
   ]
  },
  {
   "cell_type": "markdown",
   "metadata": {},
   "source": [
    "#### d) Real zone melting processes perform multiple passes. One cannot find an analytical solution for the later passes. Sketch the solute profile that you would expect to see after the second and tenth passes. What would happen if this were a multicomponent aloy, whose constituents had different segregation coefficients."
   ]
  },
  {
   "cell_type": "markdown",
   "metadata": {},
   "source": [
    "Let's make a visualisation of the zone melting process. Let\n",
    "s use the data for Al- 4.5wt%Cu from table B2, p. 387\n",
    "\n",
    "We have the following equation for the solid concentration at the solidification interface:\n",
    "\n",
    "$$ C_S^*  =  C_0 \\Big[ 1- (1-k_0)exp \\Big( \\frac{k_0x^*}{\\delta} \\Big) \\Big] $$\n",
    "\n",
    "And the following equation for the liquid concentration at the solidification interface:\n",
    "\n",
    "$$ C_l^*  = \\frac{C_0}{k_0} \\Big[ 1- (1-k_0)exp \\Big( \\frac{k_0x^*}{\\delta} \\Big) \\Big] $$\n"
   ]
  },
  {
   "cell_type": "code",
   "execution_count": 48,
   "metadata": {
    "collapsed": false
   },
   "outputs": [
    {
     "data": {
      "text/html": [
       "\n",
       "\n",
       "    <div class=\"bk-root\">\n",
       "        <div class=\"plotdiv\" id=\"5729bf83-c582-41d7-87f9-edcb02f9aedc\"></div>\n",
       "    </div>\n",
       "<script type=\"text/javascript\">\n",
       "  \n",
       "  (function(global) {\n",
       "    function now() {\n",
       "      return new Date();\n",
       "    }\n",
       "  \n",
       "    var force = \"\";\n",
       "  \n",
       "    if (typeof (window._bokeh_onload_callbacks) === \"undefined\" || force !== \"\") {\n",
       "      window._bokeh_onload_callbacks = [];\n",
       "      window._bokeh_is_loading = undefined;\n",
       "    }\n",
       "  \n",
       "  \n",
       "    \n",
       "    if (typeof (window._bokeh_timeout) === \"undefined\" || force !== \"\") {\n",
       "      window._bokeh_timeout = Date.now() + 0;\n",
       "      window._bokeh_failed_load = false;\n",
       "    }\n",
       "  \n",
       "    var NB_LOAD_WARNING = {'data': {'text/html':\n",
       "       \"<div style='background-color: #fdd'>\\n\"+\n",
       "       \"<p>\\n\"+\n",
       "       \"BokehJS does not appear to have successfully loaded. If loading BokehJS from CDN, this \\n\"+\n",
       "       \"may be due to a slow or bad network connection. Possible fixes:\\n\"+\n",
       "       \"</p>\\n\"+\n",
       "       \"<ul>\\n\"+\n",
       "       \"<li>re-rerun `output_notebook()` to attempt to load from CDN again, or</li>\\n\"+\n",
       "       \"<li>use INLINE resources instead, as so:</li>\\n\"+\n",
       "       \"</ul>\\n\"+\n",
       "       \"<code>\\n\"+\n",
       "       \"from bokeh.resources import INLINE\\n\"+\n",
       "       \"output_notebook(resources=INLINE)\\n\"+\n",
       "       \"</code>\\n\"+\n",
       "       \"</div>\"}};\n",
       "  \n",
       "    function display_loaded() {\n",
       "      if (window.Bokeh !== undefined) {\n",
       "        Bokeh.$(\"#5729bf83-c582-41d7-87f9-edcb02f9aedc\").text(\"BokehJS successfully loaded.\");\n",
       "      } else if (Date.now() < window._bokeh_timeout) {\n",
       "        setTimeout(display_loaded, 100)\n",
       "      }\n",
       "    }\n",
       "  \n",
       "    function run_callbacks() {\n",
       "      window._bokeh_onload_callbacks.forEach(function(callback) { callback() });\n",
       "      delete window._bokeh_onload_callbacks\n",
       "      console.info(\"Bokeh: all callbacks have finished\");\n",
       "    }\n",
       "  \n",
       "    function load_libs(js_urls, callback) {\n",
       "      window._bokeh_onload_callbacks.push(callback);\n",
       "      if (window._bokeh_is_loading > 0) {\n",
       "        console.log(\"Bokeh: BokehJS is being loaded, scheduling callback at\", now());\n",
       "        return null;\n",
       "      }\n",
       "      if (js_urls == null || js_urls.length === 0) {\n",
       "        run_callbacks();\n",
       "        return null;\n",
       "      }\n",
       "      console.log(\"Bokeh: BokehJS not loaded, scheduling load and callback at\", now());\n",
       "      window._bokeh_is_loading = js_urls.length;\n",
       "      for (var i = 0; i < js_urls.length; i++) {\n",
       "        var url = js_urls[i];\n",
       "        var s = document.createElement('script');\n",
       "        s.src = url;\n",
       "        s.async = false;\n",
       "        s.onreadystatechange = s.onload = function() {\n",
       "          window._bokeh_is_loading--;\n",
       "          if (window._bokeh_is_loading === 0) {\n",
       "            console.log(\"Bokeh: all BokehJS libraries loaded\");\n",
       "            run_callbacks()\n",
       "          }\n",
       "        };\n",
       "        s.onerror = function() {\n",
       "          console.warn(\"failed to load library \" + url);\n",
       "        };\n",
       "        console.log(\"Bokeh: injecting script tag for BokehJS library: \", url);\n",
       "        document.getElementsByTagName(\"head\")[0].appendChild(s);\n",
       "      }\n",
       "    };var element = document.getElementById(\"5729bf83-c582-41d7-87f9-edcb02f9aedc\");\n",
       "    if (element == null) {\n",
       "      console.log(\"Bokeh: ERROR: autoload.js configured with elementid '5729bf83-c582-41d7-87f9-edcb02f9aedc' but no matching script tag was found. \")\n",
       "      return false;\n",
       "    }\n",
       "  \n",
       "    var js_urls = [];\n",
       "  \n",
       "    var inline_js = [\n",
       "      function(Bokeh) {\n",
       "        Bokeh.$(function() {\n",
       "            var docs_json = {\"9af06da7-5962-412d-be33-7b72c1a8aa0e\":{\"roots\":{\"references\":[{\"attributes\":{\"line_alpha\":{\"value\":0.1},\"line_color\":{\"value\":\"#1f77b4\"},\"x\":{\"field\":\"x\"},\"y\":{\"field\":\"y\"}},\"id\":\"368d95df-cd7f-422b-ab44-d26d336c8a7f\",\"type\":\"Line\"},{\"attributes\":{\"formatter\":{\"id\":\"ae6da6ec-978b-4408-afae-fee55746003a\",\"type\":\"BasicTickFormatter\"},\"plot\":{\"id\":\"5f6801d9-aa1e-4d15-81a9-0715bbe9f7ba\",\"subtype\":\"Figure\",\"type\":\"Plot\"},\"ticker\":{\"id\":\"f3641757-a0ca-4417-b67e-b244cd48bc6c\",\"type\":\"BasicTicker\"}},\"id\":\"111611bb-240c-45c7-bd98-97fd11e18ddd\",\"type\":\"LinearAxis\"},{\"attributes\":{\"line_color\":{\"value\":\"purple\"},\"x\":{\"field\":\"x\"},\"y\":{\"field\":\"y\"}},\"id\":\"361bdda1-b77a-4289-819c-c5eb5e9ddb09\",\"type\":\"Line\"},{\"attributes\":{\"plot\":{\"id\":\"5f6801d9-aa1e-4d15-81a9-0715bbe9f7ba\",\"subtype\":\"Figure\",\"type\":\"Plot\"}},\"id\":\"cff92998-abdb-4270-8ac6-73e19a25a7e8\",\"type\":\"WheelZoomTool\"},{\"attributes\":{\"data_source\":{\"id\":\"e9759c52-881c-4901-9624-7f53416cc256\",\"type\":\"ColumnDataSource\"},\"glyph\":{\"id\":\"361bdda1-b77a-4289-819c-c5eb5e9ddb09\",\"type\":\"Line\"},\"hover_glyph\":null,\"nonselection_glyph\":{\"id\":\"b476f573-503d-482b-a863-fb3232d737ea\",\"type\":\"Line\"},\"selection_glyph\":null},\"id\":\"ac0bb53c-c987-45e8-9a0f-4f2ab7f342f9\",\"type\":\"GlyphRenderer\"},{\"attributes\":{\"callback\":null,\"column_names\":[\"y\",\"x\"],\"data\":{\"x\":[0.0,1.0144927536231885,2.028985507246377,3.0434782608695654,4.057971014492754,5.072463768115942,6.086956521739131,7.101449275362319,8.115942028985508,9.130434782608695,10.144927536231885,11.159420289855074,12.173913043478262,13.18840579710145,14.202898550724639,15.217391304347828,16.231884057971016,17.246376811594203,18.26086956521739,19.275362318840582,20.28985507246377,21.304347826086957,22.318840579710148,23.333333333333336,24.347826086956523,25.36231884057971,26.3768115942029,27.39130434782609,28.405797101449277,29.420289855072465,30.434782608695656,31.449275362318843,32.46376811594203,33.47826086956522,34.492753623188406,35.507246376811594,36.52173913043478,37.536231884057976,38.550724637681164,39.56521739130435,40.57971014492754,41.594202898550726,42.608695652173914,43.6231884057971,44.637681159420296,45.652173913043484,46.66666666666667,47.68115942028986,48.69565217391305,49.710144927536234,50.72463768115942,51.73913043478261,52.7536231884058,53.76811594202899,54.78260869565218,55.79710144927537,56.811594202898554,57.82608695652174,58.84057971014493,59.85507246376812,60.86956521739131,61.8840579710145,62.89855072463769,63.913043478260875,64.92753623188406,65.94202898550725,66.95652173913044,67.97101449275362,68.98550724637681,70.0],\"y\":[0.045,0.06394962285359246,0.08160021860431475,0.09804083764789398,0.1133544258323063,0.12761824293433677,0.14090425244889815,0.15327948465766558,0.16480637480877292,0.17554307811374686,0.18554376315089596,0.1948588851554245,0.20353544057507075,0.21161720417554694,0.21914494989201982,0.22615665654086772,0.23268769942956583,0.23877102883140588,0.24443733622548716,0.2497152091406886,0.2546312753848379,0.25921033738673954,0.26347549732884024,0.2674482737018497,0.27114870986935463,0.2745954751901536,0.2778059592084937,0.28079635938741515,0.2835817628278336,0.2861762223856489,0.2885928275709027,0.2908437705866856,0.29294040784097075,0.2948933172417125,0.29671235156427395,0.2984066881604312,0.2999848752597464,0.301454875096906,0.30282410408261173,0.30409947022069206,0.3052874079602101,0.30639391065840405,0.30742456081824104,0.3083845582531373,0.30927874632094216,0.31011163635954,0.3108874304473525,0.3116100426035719,0.31228311853508406,0.31291005402970845,0.3134940120885516,0.31403793888391063,0.3145445786232366,0.315016487394149,0.3154560460603531,0.3158654722735204,0.31624683166173617,0.31660204825096044,0.31693291417208136,0.3172410987025343,0.3175281566881037,0.31779553638739627,0.3180445867785638,0.3182765643651374,0.31849263951531187,0.318693902366661,0.31888136832607605,0.31905598319267375,0.31921862792952127,0.3193701231082516]}},\"id\":\"bcde9199-5550-4434-9621-9384468dfa72\",\"type\":\"ColumnDataSource\"},{\"attributes\":{\"data_source\":{\"id\":\"8b367913-3dce-4b9c-8fdb-524ab913f835\",\"type\":\"ColumnDataSource\"},\"glyph\":{\"id\":\"2630cfe8-3416-4c3c-a72c-2727c3ed43ab\",\"type\":\"Circle\"},\"hover_glyph\":null,\"nonselection_glyph\":{\"id\":\"87d403f0-9f50-4b1e-b1c5-107618b46e06\",\"type\":\"Circle\"},\"selection_glyph\":null},\"id\":\"8046c341-1a27-43de-a0bb-95276a52fb53\",\"type\":\"GlyphRenderer\"},{\"attributes\":{\"callback\":null,\"column_names\":[\"y\",\"x\"],\"data\":{\"x\":[0.0,0.7070707070707071,1.4141414141414141,2.121212121212121,2.8282828282828283,3.5353535353535355,4.242424242424242,4.94949494949495,5.656565656565657,6.363636363636363,7.070707070707071,7.777777777777778,8.484848484848484,9.191919191919192,9.8989898989899,10.606060606060606,11.313131313131313,12.02020202020202,12.727272727272727,13.434343434343434,14.141414141414142,14.848484848484848,15.555555555555555,16.262626262626263,16.96969696969697,17.67676767676768,18.383838383838384,19.09090909090909,19.7979797979798,20.505050505050505,21.21212121212121,21.91919191919192,22.626262626262626,23.333333333333332,24.04040404040404,24.747474747474747,25.454545454545453,26.161616161616163,26.86868686868687,27.575757575757574,28.282828282828284,28.98989898989899,29.696969696969695,30.404040404040405,31.11111111111111,31.818181818181817,32.525252525252526,33.23232323232323,33.93939393939394,34.64646464646464,35.35353535353536,36.06060606060606,36.76767676767677,37.474747474747474,38.18181818181818,38.888888888888886,39.5959595959596,40.303030303030305,41.01010101010101,41.717171717171716,42.42424242424242,43.13131313131313,43.83838383838384,44.54545454545455,45.25252525252525,45.95959595959596,46.666666666666664,47.37373737373738,48.08080808080808,48.78787878787879,49.494949494949495,50.2020202020202,50.90909090909091,51.61616161616162,52.323232323232325,53.03030303030303,53.73737373737374,54.44444444444444,55.15151515151515,55.85858585858586,56.56565656565657,57.27272727272727,57.97979797979798,58.686868686868685,59.39393939393939,60.101010101010104,60.80808080808081,61.515151515151516,62.22222222222222,62.92929292929293,63.63636363636363,64.34343434343434,65.05050505050505,65.75757575757575,66.46464646464646,67.17171717171718,67.87878787878788,68.58585858585859,69.29292929292929,70.0],\"y\":[0.0063,0.0081963,0.0099996813,0.011714696916300001,0.013345676767401301,0.014896738605798637,0.016371798414114503,0.01777458029182289,0.01910862585752357,0.020377303190504917,0.021583815334170177,0.02273120838279584,0.023822379172038843,0.02486008259260894,0.025846938545571102,0.02678543855683812,0.027677952067553052,0.028526732416242952,0.02933392252784705,0.030101560323982545,0.0308315838681074,0.03152583625857014,0.0321860702819002,0.03281395283808709,0.033411069149020825,0.03397892676071881,0.03451895934944359,0.03503253034132085,0.03552093635459613,0.03598541047322092,0.0364271253600331,0.03684719621739148,0.0372466836027393,0.03762659610620507,0.037987892897001024,0.03833148614504797,0.03865824332394062,0.03896898940106753,0.03926450892041522,0.039545547983314874,0.039812816132132445,0.040066988141657954,0.04030870572271671,0.04053857914230359,0.040757188764330717,0.04096508651487851,0.04116279727564946,0.04135082020914264,0.04152963001889465,0.04169967814796881,0.041861393918718334,0.04201518561670114,0.04216144152148278,0.04230053088693012,0.042432804873470543,0.042558597434670484,0.04267822616037163,0.042791993078513425,0.04290018541766627,0.04300307633220062,0.043100925591922794,0.043193980237918574,0.043282475206260565,0.043366633921153794,0.04344666885901726,0.04352278208492542,0.04359516576276407,0.04366400264038863,0.04372946651100959,0.04379172265197012,0.043850928242023586,0.04390723275816443,0.043960778353014374,0.04401170021371667,0.044060126903244554,0.04410618068498557,0.04414997783142128,0.044191628917681636,0.04423123910071523,0.04426890838478019,0.04430473187392596,0.04433880001210359,0.04437119881151051,0.0444020100697465,0.04443131157632892,0.044459177309088806,0.04448567762094345,0.04451087941751722,0.04453484632605888,0.044557638856081994,0.04457931455213398,0.04459992813907941,0.04461953166026452,0.044638174608911556,0.04465590405307489,0.044672764754474216,0.04468879928150498,0.044704048116711234,0.044718549758992386,0.04473234082080176]}},\"id\":\"5b9beb75-2cdc-4400-bc25-c4645ea0932e\",\"type\":\"ColumnDataSource\"},{\"attributes\":{\"line_color\":{\"value\":\"red\"},\"x\":{\"field\":\"x\"},\"y\":{\"field\":\"y\"}},\"id\":\"0500d54e-5842-4a7f-bb6c-70c548b2a4db\",\"type\":\"Line\"},{\"attributes\":{},\"id\":\"e98874b9-87e2-49c3-8312-dd00b881de55\",\"type\":\"ToolEvents\"},{\"attributes\":{\"plot\":{\"id\":\"5f6801d9-aa1e-4d15-81a9-0715bbe9f7ba\",\"subtype\":\"Figure\",\"type\":\"Plot\"}},\"id\":\"3df8d6fe-688c-4478-b95d-a448f0060a1c\",\"type\":\"SaveTool\"},{\"attributes\":{\"callback\":null,\"column_names\":[\"y\",\"x\"],\"data\":{\"x\":[0.0,1.0144927536231885,2.028985507246377,3.0434782608695654,4.057971014492754,5.072463768115942,6.086956521739131,7.101449275362319,8.115942028985508,9.130434782608695,10.144927536231885,11.159420289855074,12.173913043478262,13.18840579710145,14.202898550724639,15.217391304347828,16.231884057971016,17.246376811594203,18.26086956521739,19.275362318840582,20.28985507246377,21.304347826086957,22.318840579710148,23.333333333333336,24.347826086956523,25.36231884057971,26.3768115942029,27.39130434782609,28.405797101449277,29.420289855072465,30.434782608695656,31.449275362318843,32.46376811594203,33.47826086956522,34.492753623188406,35.507246376811594,36.52173913043478,37.536231884057976,38.550724637681164,39.56521739130435,40.57971014492754,41.594202898550726,42.608695652173914,43.6231884057971,44.637681159420296,45.652173913043484,46.66666666666667,47.68115942028986,48.69565217391305,49.710144927536234,50.72463768115942,51.73913043478261,52.7536231884058,53.76811594202899,54.78260869565218,55.79710144927537,56.811594202898554,57.82608695652174,58.84057971014493,59.85507246376812,60.86956521739131,61.8840579710145,62.89855072463769,63.913043478260875,64.92753623188406,65.94202898550725,66.95652173913044,67.97101449275362,68.98550724637681,70.0],\"y\":[0.045,0.045,0.045,0.045,0.045,0.045,0.045,0.045,0.045,0.045,0.045,0.045,0.045,0.045,0.045,0.045,0.045,0.045,0.045,0.045,0.045,0.045,0.045,0.045,0.045,0.045,0.045,0.045,0.045,0.045,0.045,0.045,0.045,0.045,0.045,0.045,0.045,0.045,0.045,0.045,0.045,0.045,0.045,0.045,0.045,0.045,0.045,0.045,0.045,0.045,0.045,0.045,0.045,0.045,0.045,0.045,0.045,0.045,0.045,0.045,0.045,0.045,0.045,0.045,0.045,0.045,0.045,0.045,0.045,0.045]}},\"id\":\"e9759c52-881c-4901-9624-7f53416cc256\",\"type\":\"ColumnDataSource\"},{\"attributes\":{\"fill_alpha\":{\"value\":0},\"fill_color\":{\"value\":\"#1f77b4\"},\"line_color\":{\"value\":\"#1f77b4\"},\"x\":{\"field\":\"x\"},\"y\":{\"field\":\"y\"}},\"id\":\"0690ae2b-c292-4641-a880-ec9b45b61a89\",\"type\":\"Circle\"},{\"attributes\":{\"plot\":null,\"text\":\"test\"},\"id\":\"c1aa6473-66ce-4047-8e82-39328264a493\",\"type\":\"Title\"},{\"attributes\":{\"fill_alpha\":{\"value\":0},\"fill_color\":{\"value\":\"red\"},\"line_color\":{\"value\":\"red\"},\"x\":{\"field\":\"x\"},\"y\":{\"field\":\"y\"}},\"id\":\"2630cfe8-3416-4c3c-a72c-2727c3ed43ab\",\"type\":\"Circle\"},{\"attributes\":{\"overlay\":{\"id\":\"9add782f-3c41-4f9b-a8a5-03389c80a0c0\",\"type\":\"BoxAnnotation\"},\"plot\":{\"id\":\"5f6801d9-aa1e-4d15-81a9-0715bbe9f7ba\",\"subtype\":\"Figure\",\"type\":\"Plot\"}},\"id\":\"5b6b2b7a-f856-438c-8a92-96d4fa12c4a5\",\"type\":\"BoxZoomTool\"},{\"attributes\":{\"callback\":null},\"id\":\"15cd8bd6-12cd-4bfd-a64a-a31080ffe13d\",\"type\":\"DataRange1d\"},{\"attributes\":{\"callback\":null,\"column_names\":[\"x\",\"y\"],\"data\":{\"x\":[0.0,1.0144927536231885,2.028985507246377,3.0434782608695654,4.057971014492754,5.072463768115942,6.086956521739131,7.101449275362319,8.115942028985508,9.130434782608695,10.144927536231885,11.159420289855074,12.173913043478262,13.18840579710145,14.202898550724639,15.217391304347828,16.231884057971016,17.246376811594203,18.26086956521739,19.275362318840582,20.28985507246377,21.304347826086957,22.318840579710148,23.333333333333336,24.347826086956523,25.36231884057971,26.3768115942029,27.39130434782609,28.405797101449277,29.420289855072465,30.434782608695656,31.449275362318843,32.46376811594203,33.47826086956522,34.492753623188406,35.507246376811594,36.52173913043478,37.536231884057976,38.550724637681164,39.56521739130435,40.57971014492754,41.594202898550726,42.608695652173914,43.6231884057971,44.637681159420296,45.652173913043484,46.66666666666667,47.68115942028986,48.69565217391305,49.710144927536234,50.72463768115942,51.73913043478261,52.7536231884058,53.76811594202899,54.78260869565218,55.79710144927537,56.811594202898554,57.82608695652174,58.84057971014493,59.85507246376812,60.86956521739131,61.8840579710145,62.89855072463769,63.913043478260875,64.92753623188406,65.94202898550725,66.95652173913044,67.97101449275362,68.98550724637681,70.0],\"y\":[0.0063,0.008952947199502945,0.011424030604604066,0.013725717270705158,0.015869619616522883,0.017866554010807147,0.019726595342845744,0.02145912785207318,0.02307289247322821,0.024576030935924562,0.02597612684112544,0.02728024392175943,0.028494961680509908,0.02962640858457657,0.030680292984882774,0.03166193191572148,0.032576277920139216,0.033427944036396824,0.0342212270715682,0.034960129279696404,0.035648378553877307,0.03628944723414353,0.03688656962603763,0.03744275831825896,0.03796081938170966,0.03844336652662151,0.038892834289189125,0.03931149031423812,0.039701446795896704,0.04006467113399085,0.04040299585992638,0.04071812788213598,0.04101165709773591,0.04128506441383976,0.04153972921899835,0.04177693634246037,0.041997882536364495,0.04220368251356684,0.04239537457156565,0.04257392583089689,0.04274023711442941,0.04289514749217657,0.04303943851455375,0.04317383815543923,0.043299024484931906,0.0434156290903356,0.043524240262629355,0.04362540596450006,0.04371963659491177,0.043807407564159184,0.043889161692397226,0.0439653114437475,0.044036241007253125,0.04410230823518087,0.04416384644844944,0.04422116611829286,0.04427455643264307,0.044324286755134466,0.04437060798409139,0.04441375381835481,0.04445394193633452,0.04449137509423548,0.04452624214899893,0.04455871901111924,0.04458896953214366,0.04461714633133254,0.04464339156565065,0.04466783764697433,0.044690607910132976,0.04471181723515523]}},\"id\":\"f81f9bae-e689-4120-aedb-30fd507c83b6\",\"type\":\"ColumnDataSource\"},{\"attributes\":{\"fill_alpha\":{\"value\":0.1},\"fill_color\":{\"value\":\"#1f77b4\"},\"line_alpha\":{\"value\":0.1},\"line_color\":{\"value\":\"#1f77b4\"},\"x\":{\"field\":\"x\"},\"y\":{\"field\":\"y\"}},\"id\":\"87d403f0-9f50-4b1e-b1c5-107618b46e06\",\"type\":\"Circle\"},{\"attributes\":{\"active_drag\":\"auto\",\"active_scroll\":\"auto\",\"active_tap\":\"auto\",\"tools\":[{\"id\":\"5e153bea-0abc-4aa6-a56d-46b299cda1ab\",\"type\":\"PanTool\"},{\"id\":\"cff92998-abdb-4270-8ac6-73e19a25a7e8\",\"type\":\"WheelZoomTool\"},{\"id\":\"5b6b2b7a-f856-438c-8a92-96d4fa12c4a5\",\"type\":\"BoxZoomTool\"},{\"id\":\"3df8d6fe-688c-4478-b95d-a448f0060a1c\",\"type\":\"SaveTool\"},{\"id\":\"b82a8350-b064-4eea-9c6b-8463c8cdf03c\",\"type\":\"ResetTool\"},{\"id\":\"f6be1ad2-1de8-40a7-8b66-de6d33f52f1e\",\"type\":\"HelpTool\"}]},\"id\":\"c5b1812f-5214-4e21-a161-d3aa9249fd5e\",\"type\":\"Toolbar\"},{\"attributes\":{\"formatter\":{\"id\":\"deee3c5e-54f1-4da5-abb7-3d56fe131d96\",\"type\":\"BasicTickFormatter\"},\"plot\":{\"id\":\"5f6801d9-aa1e-4d15-81a9-0715bbe9f7ba\",\"subtype\":\"Figure\",\"type\":\"Plot\"},\"ticker\":{\"id\":\"effe55a7-6dc0-4eb1-a8c8-92cfbf6c6bae\",\"type\":\"BasicTicker\"}},\"id\":\"f508aafe-3585-4634-adf1-cdfce8cb7a7b\",\"type\":\"LinearAxis\"},{\"attributes\":{\"data_source\":{\"id\":\"bcde9199-5550-4434-9621-9384468dfa72\",\"type\":\"ColumnDataSource\"},\"glyph\":{\"id\":\"0500d54e-5842-4a7f-bb6c-70c548b2a4db\",\"type\":\"Line\"},\"hover_glyph\":null,\"nonselection_glyph\":{\"id\":\"dc4bd41d-2207-4b81-ba4f-585150b20727\",\"type\":\"Line\"},\"selection_glyph\":null},\"id\":\"7ca5f955-1363-4d7b-9a5e-bb2357eb826e\",\"type\":\"GlyphRenderer\"},{\"attributes\":{\"below\":[{\"id\":\"f508aafe-3585-4634-adf1-cdfce8cb7a7b\",\"type\":\"LinearAxis\"}],\"left\":[{\"id\":\"111611bb-240c-45c7-bd98-97fd11e18ddd\",\"type\":\"LinearAxis\"}],\"plot_height\":300,\"plot_width\":500,\"renderers\":[{\"id\":\"f508aafe-3585-4634-adf1-cdfce8cb7a7b\",\"type\":\"LinearAxis\"},{\"id\":\"274cb355-e48f-4991-9e4b-b7f4be86efe6\",\"type\":\"Grid\"},{\"id\":\"111611bb-240c-45c7-bd98-97fd11e18ddd\",\"type\":\"LinearAxis\"},{\"id\":\"8383371b-14cd-4a51-8ee3-6e3cd75b890e\",\"type\":\"Grid\"},{\"id\":\"9add782f-3c41-4f9b-a8a5-03389c80a0c0\",\"type\":\"BoxAnnotation\"},{\"id\":\"5f675107-3b78-4e49-a59b-2a0972523af7\",\"type\":\"Legend\"},{\"id\":\"8e40baa1-dc4f-4382-beb0-ea2d9343418b\",\"type\":\"GlyphRenderer\"},{\"id\":\"7ca5f955-1363-4d7b-9a5e-bb2357eb826e\",\"type\":\"GlyphRenderer\"},{\"id\":\"9ce1e548-8acd-4cdd-a5a8-60a583531256\",\"type\":\"GlyphRenderer\"},{\"id\":\"8046c341-1a27-43de-a0bb-95276a52fb53\",\"type\":\"GlyphRenderer\"},{\"id\":\"ac0bb53c-c987-45e8-9a0f-4f2ab7f342f9\",\"type\":\"GlyphRenderer\"}],\"title\":{\"id\":\"c1aa6473-66ce-4047-8e82-39328264a493\",\"type\":\"Title\"},\"tool_events\":{\"id\":\"e98874b9-87e2-49c3-8312-dd00b881de55\",\"type\":\"ToolEvents\"},\"toolbar\":{\"id\":\"c5b1812f-5214-4e21-a161-d3aa9249fd5e\",\"type\":\"Toolbar\"},\"x_range\":{\"id\":\"2459762a-d9c3-419f-92ee-5d791a8182e6\",\"type\":\"DataRange1d\"},\"y_range\":{\"id\":\"15cd8bd6-12cd-4bfd-a64a-a31080ffe13d\",\"type\":\"DataRange1d\"}},\"id\":\"5f6801d9-aa1e-4d15-81a9-0715bbe9f7ba\",\"subtype\":\"Figure\",\"type\":\"Plot\"},{\"attributes\":{\"plot\":{\"id\":\"5f6801d9-aa1e-4d15-81a9-0715bbe9f7ba\",\"subtype\":\"Figure\",\"type\":\"Plot\"}},\"id\":\"f6be1ad2-1de8-40a7-8b66-de6d33f52f1e\",\"type\":\"HelpTool\"},{\"attributes\":{\"bottom_units\":\"screen\",\"fill_alpha\":{\"value\":0.5},\"fill_color\":{\"value\":\"lightgrey\"},\"left_units\":\"screen\",\"level\":\"overlay\",\"line_alpha\":{\"value\":1.0},\"line_color\":{\"value\":\"black\"},\"line_dash\":[4,4],\"line_width\":{\"value\":2},\"plot\":null,\"render_mode\":\"css\",\"right_units\":\"screen\",\"top_units\":\"screen\"},\"id\":\"9add782f-3c41-4f9b-a8a5-03389c80a0c0\",\"type\":\"BoxAnnotation\"},{\"attributes\":{\"data_source\":{\"id\":\"f81f9bae-e689-4120-aedb-30fd507c83b6\",\"type\":\"ColumnDataSource\"},\"glyph\":{\"id\":\"ff8dffe9-4ec2-4f58-9afb-daf0ec9c8a1e\",\"type\":\"Line\"},\"hover_glyph\":null,\"nonselection_glyph\":{\"id\":\"368d95df-cd7f-422b-ab44-d26d336c8a7f\",\"type\":\"Line\"},\"selection_glyph\":null},\"id\":\"8e40baa1-dc4f-4382-beb0-ea2d9343418b\",\"type\":\"GlyphRenderer\"},{\"attributes\":{},\"id\":\"ae6da6ec-978b-4408-afae-fee55746003a\",\"type\":\"BasicTickFormatter\"},{\"attributes\":{\"line_alpha\":{\"value\":0.1},\"line_color\":{\"value\":\"#1f77b4\"},\"x\":{\"field\":\"x\"},\"y\":{\"field\":\"y\"}},\"id\":\"b476f573-503d-482b-a863-fb3232d737ea\",\"type\":\"Line\"},{\"attributes\":{\"line_alpha\":{\"value\":0.1},\"line_color\":{\"value\":\"#1f77b4\"},\"x\":{\"field\":\"x\"},\"y\":{\"field\":\"y\"}},\"id\":\"dc4bd41d-2207-4b81-ba4f-585150b20727\",\"type\":\"Line\"},{\"attributes\":{\"data_source\":{\"id\":\"5b9beb75-2cdc-4400-bc25-c4645ea0932e\",\"type\":\"ColumnDataSource\"},\"glyph\":{\"id\":\"0690ae2b-c292-4641-a880-ec9b45b61a89\",\"type\":\"Circle\"},\"hover_glyph\":null,\"nonselection_glyph\":{\"id\":\"4b07b84d-40d0-414c-bd5b-23c3994474a2\",\"type\":\"Circle\"},\"selection_glyph\":null},\"id\":\"9ce1e548-8acd-4cdd-a5a8-60a583531256\",\"type\":\"GlyphRenderer\"},{\"attributes\":{},\"id\":\"deee3c5e-54f1-4da5-abb7-3d56fe131d96\",\"type\":\"BasicTickFormatter\"},{\"attributes\":{\"callback\":null,\"column_names\":[\"y\",\"x\"],\"data\":{\"x\":[0.0,0.7070707070707071,1.4141414141414141,2.121212121212121,2.8282828282828283,3.5353535353535355,4.242424242424242,4.94949494949495,5.656565656565657,6.363636363636363,7.070707070707071,7.777777777777778,8.484848484848484,9.191919191919192,9.8989898989899,10.606060606060606,11.313131313131313,12.02020202020202,12.727272727272727,13.434343434343434,14.141414141414142,14.848484848484848,15.555555555555555,16.262626262626263,16.96969696969697,17.67676767676768,18.383838383838384,19.09090909090909,19.7979797979798,20.505050505050505,21.21212121212121,21.91919191919192,22.626262626262626,23.333333333333332,24.04040404040404,24.747474747474747,25.454545454545453,26.161616161616163,26.86868686868687,27.575757575757574,28.282828282828284,28.98989898989899,29.696969696969695,30.404040404040405,31.11111111111111,31.818181818181817,32.525252525252526,33.23232323232323,33.93939393939394,34.64646464646464,35.35353535353536,36.06060606060606,36.76767676767677,37.474747474747474,38.18181818181818,38.888888888888886,39.5959595959596,40.303030303030305,41.01010101010101,41.717171717171716,42.42424242424242,43.13131313131313,43.83838383838384,44.54545454545455,45.25252525252525,45.95959595959596,46.666666666666664,47.37373737373738,48.08080808080808,48.78787878787879,49.494949494949495,50.2020202020202,50.90909090909091,51.61616161616162,52.323232323232325,53.03030303030303,53.73737373737374,54.44444444444444,55.15151515151515,55.85858585858586,56.56565656565657,57.27272727272727,57.97979797979798,58.686868686868685,59.39393939393939,60.101010101010104,60.80808080808081,61.515151515151516,62.22222222222222,62.92929292929293,63.63636363636363,64.34343434343434,65.05050505050505,65.75757575757575,66.46464646464646,67.17171717171718,67.87878787878788,68.58585858585859,69.29292929292929,70.0],\"y\":[0.045,0.058545,0.071426295,0.083676406545,0.095326262624295,0.10640527575570455,0.11694141724367502,0.12696128779873495,0.13649018469659693,0.14555216564646367,0.15417010952978694,0.16236577416282738,0.17015985122884883,0.17757201851863524,0.1846209896112221,0.19132456112027224,0.1976996576253789,0.2037623744017353,0.20952801805605029,0.21501114517130382,0.22022559905790992,0.22518454470407234,0.2299005020135728,0.23438537741490773,0.23865049392157725,0.24270661971941995,0.24656399535316836,0.2502323595808631,0.2537209739614008,0.25703864623729217,0.2601937525716648,0.26319425869565327,0.26604774001956627,0.2687614007586075,0.27134209212143573,0.2737963296074854,0.2761303094567186,0.27834992429333943,0.2804607780029658,0.2824681998808205,0.2843772580866603,0.28619277244041397,0.2879193265908337,0.28956127958788286,0.2911227768880766,0.29260776082056084,0.29401998054035333,0.295363001493876,0.29664021442067606,0.2978548439140629,0.2990099565622738,0.3001084686907224,0.301153153724877,0.302146649192358,0.3030914633819325,0.3039899816762178,0.30484447257408315,0.30565709341795305,0.30642989584047337,0.30716483094429015,0.3078637542280199,0.3085284302708469,0.3091605371875754,0.3097616708653842,0.3103333489929804,0.31087701489232433,0.31139404116260044,0.311885733145633,0.31235333222149697,0.31279801894264364,0.3132209160144541,0.31362309112974585,0.3140055596643883,0.3143692872408333,0.31471519216603244,0.31504414774989686,0.3153569845101519,0.3156544922691545,0.31593742214796594,0.3162064884627156,0.31646237052804255,0.31670571437216843,0.3169371343679322,0.3171572147839035,0.3173665112594922,0.3175655522077771,0.31775484014959604,0.3179348529822658,0.3181060451861348,0.3182688489720142,0.3184236753723855,0.31857091527913856,0.3187109404304608,0.3188441043493682,0.3189707432362492,0.31909117681767296,0.31920570915360696,0.3193146294050802,0.31941821256423125,0.3195167201485839]}},\"id\":\"8b367913-3dce-4b9c-8fdb-524ab913f835\",\"type\":\"ColumnDataSource\"},{\"attributes\":{\"callback\":null},\"id\":\"2459762a-d9c3-419f-92ee-5d791a8182e6\",\"type\":\"DataRange1d\"},{\"attributes\":{\"plot\":{\"id\":\"5f6801d9-aa1e-4d15-81a9-0715bbe9f7ba\",\"subtype\":\"Figure\",\"type\":\"Plot\"}},\"id\":\"5e153bea-0abc-4aa6-a56d-46b299cda1ab\",\"type\":\"PanTool\"},{\"attributes\":{\"legends\":[[\"C_S analytic\",[{\"id\":\"8e40baa1-dc4f-4382-beb0-ea2d9343418b\",\"type\":\"GlyphRenderer\"}]],[\"C_L analytic\",[{\"id\":\"7ca5f955-1363-4d7b-9a5e-bb2357eb826e\",\"type\":\"GlyphRenderer\"}]],[\"C_S numeric\",[{\"id\":\"9ce1e548-8acd-4cdd-a5a8-60a583531256\",\"type\":\"GlyphRenderer\"}]],[\"C_L numeric\",[{\"id\":\"8046c341-1a27-43de-a0bb-95276a52fb53\",\"type\":\"GlyphRenderer\"}]],[\"C_0\",[{\"id\":\"ac0bb53c-c987-45e8-9a0f-4f2ab7f342f9\",\"type\":\"GlyphRenderer\"}]]],\"plot\":{\"id\":\"5f6801d9-aa1e-4d15-81a9-0715bbe9f7ba\",\"subtype\":\"Figure\",\"type\":\"Plot\"}},\"id\":\"5f675107-3b78-4e49-a59b-2a0972523af7\",\"type\":\"Legend\"},{\"attributes\":{\"line_color\":{\"value\":\"#1f77b4\"},\"x\":{\"field\":\"x\"},\"y\":{\"field\":\"y\"}},\"id\":\"ff8dffe9-4ec2-4f58-9afb-daf0ec9c8a1e\",\"type\":\"Line\"},{\"attributes\":{\"plot\":{\"id\":\"5f6801d9-aa1e-4d15-81a9-0715bbe9f7ba\",\"subtype\":\"Figure\",\"type\":\"Plot\"},\"ticker\":{\"id\":\"effe55a7-6dc0-4eb1-a8c8-92cfbf6c6bae\",\"type\":\"BasicTicker\"}},\"id\":\"274cb355-e48f-4991-9e4b-b7f4be86efe6\",\"type\":\"Grid\"},{\"attributes\":{\"dimension\":1,\"plot\":{\"id\":\"5f6801d9-aa1e-4d15-81a9-0715bbe9f7ba\",\"subtype\":\"Figure\",\"type\":\"Plot\"},\"ticker\":{\"id\":\"f3641757-a0ca-4417-b67e-b244cd48bc6c\",\"type\":\"BasicTicker\"}},\"id\":\"8383371b-14cd-4a51-8ee3-6e3cd75b890e\",\"type\":\"Grid\"},{\"attributes\":{\"fill_alpha\":{\"value\":0.1},\"fill_color\":{\"value\":\"#1f77b4\"},\"line_alpha\":{\"value\":0.1},\"line_color\":{\"value\":\"#1f77b4\"},\"x\":{\"field\":\"x\"},\"y\":{\"field\":\"y\"}},\"id\":\"4b07b84d-40d0-414c-bd5b-23c3994474a2\",\"type\":\"Circle\"},{\"attributes\":{},\"id\":\"f3641757-a0ca-4417-b67e-b244cd48bc6c\",\"type\":\"BasicTicker\"},{\"attributes\":{\"plot\":{\"id\":\"5f6801d9-aa1e-4d15-81a9-0715bbe9f7ba\",\"subtype\":\"Figure\",\"type\":\"Plot\"}},\"id\":\"b82a8350-b064-4eea-9c6b-8463c8cdf03c\",\"type\":\"ResetTool\"},{\"attributes\":{},\"id\":\"effe55a7-6dc0-4eb1-a8c8-92cfbf6c6bae\",\"type\":\"BasicTicker\"}],\"root_ids\":[\"5f6801d9-aa1e-4d15-81a9-0715bbe9f7ba\"]},\"title\":\"Bokeh Application\",\"version\":\"0.12.2\"}};\n",
       "            var render_items = [{\"docid\":\"9af06da7-5962-412d-be33-7b72c1a8aa0e\",\"elementid\":\"5729bf83-c582-41d7-87f9-edcb02f9aedc\",\"modelid\":\"5f6801d9-aa1e-4d15-81a9-0715bbe9f7ba\"}];\n",
       "            \n",
       "            Bokeh.embed.embed_items(docs_json, render_items);\n",
       "        });\n",
       "      },\n",
       "      function(Bokeh) {\n",
       "      }\n",
       "    ];\n",
       "  \n",
       "    function run_inline_js() {\n",
       "      \n",
       "      if ((window.Bokeh !== undefined) || (force === \"1\")) {\n",
       "        for (var i = 0; i < inline_js.length; i++) {\n",
       "          inline_js[i](window.Bokeh);\n",
       "        }if (force === \"1\") {\n",
       "          display_loaded();\n",
       "        }} else if (Date.now() < window._bokeh_timeout) {\n",
       "        setTimeout(run_inline_js, 100);\n",
       "      } else if (!window._bokeh_failed_load) {\n",
       "        console.log(\"Bokeh: BokehJS failed to load within specified timeout.\");\n",
       "        window._bokeh_failed_load = true;\n",
       "      } else if (!force) {\n",
       "        var cell = $(\"#5729bf83-c582-41d7-87f9-edcb02f9aedc\").parents('.cell').data().cell;\n",
       "        cell.output_area.append_execute_result(NB_LOAD_WARNING)\n",
       "      }\n",
       "  \n",
       "    }\n",
       "  \n",
       "    if (window._bokeh_is_loading === 0) {\n",
       "      console.log(\"Bokeh: BokehJS loaded, going straight to plotting\");\n",
       "      run_inline_js();\n",
       "    } else {\n",
       "      load_libs(js_urls, function() {\n",
       "        console.log(\"Bokeh: BokehJS plotting callback run at\", now());\n",
       "        run_inline_js();\n",
       "      });\n",
       "    }\n",
       "  }(this));\n",
       "</script>"
      ]
     },
     "metadata": {},
     "output_type": "display_data"
    }
   ],
   "source": [
    "C_0=0.045\n",
    "k=0.14\n",
    "delta=2\n",
    "l=70\n",
    "C_E=0.3217\n",
    "C_SM=0.0565\n",
    "C_L=C_0\n",
    "\n",
    "\n",
    "\n",
    "# Initial state: liquid nodes, with concentration C_0\n",
    "\n",
    "length_vector=np.linspace(0,l,l)\n",
    "concentration_vector=np.empty([l])\n",
    "concentration_vector.fill(C_0)\n",
    "\n",
    "grid=100\n",
    "step= l/grid\n",
    "x_vector=np.linspace(0,l,grid)\n",
    "\n",
    "C_L_vector_numeric=np.empty([grid])\n",
    "C_L_vector_numeric.fill(C_0)\n",
    "C_S_vector_numeric=np.empty([grid])\n",
    "C_S_vector_numeric.fill(k*C_0)\n",
    "\n",
    "\n",
    "\n",
    "#numeric functions for determining concentration:\n",
    "\n",
    "\n",
    "def C_L_numeric(i):\n",
    "    return (C_0-k*i)/delta\n",
    "\n",
    "def C_S_numeric(i):\n",
    "    return k*(C_0-i)/delta\n",
    "    \n",
    "\n",
    "\n",
    "#Analytic functions for determining  concentration:\n",
    "\n",
    "def dx(a):\n",
    "    return delta/(C_0-k*(C_0+i*step))\n",
    "\n",
    "\n",
    "def C_S_analytic(a):\n",
    "    return C_0*(1-(1-k)*np.exp(-k*a/delta))\n",
    "\n",
    "def C_L_analytic(a):\n",
    "    return C_0/k*(1-(1-k)*np.exp(-k*a/delta))\n",
    "\n",
    "\n",
    "# numeric solution for liquid concentration:\n",
    "for i in range(grid-1):\n",
    "    C_L_vector_numeric[i+1]=C_L_vector_numeric[i]+step*C_L_numeric(C_L_vector_numeric[i])\n",
    "\n",
    "# numeric solution for solid concentration:\n",
    "for i in range(grid-1):\n",
    "    C_S_vector_numeric[i+1]=C_S_vector_numeric[i]+step*C_S_numeric(C_S_vector_numeric[i])\n",
    "    \n",
    "f=bkp.figure(title=\"test\",height=300,width=500)\n",
    "\n",
    "# Analytic solutions:\n",
    "f.line(length_vector,C_S_analytic(length_vector),legend=\"C_S analytic\")\n",
    "f.line(length_vector,C_L_analytic(length_vector),color=\"red\",legend=\"C_L analytic\")\n",
    "\n",
    "# Numerical solutions plotted\n",
    "f.scatter(x_vector,C_S_vector_numeric, fill_alpha=0, legend='C_S numeric')\n",
    "f.scatter(x_vector,C_L_vector_numeric,fill_alpha=0,color='red',legend='C_L numeric')\n",
    "\n",
    "\n",
    "# C_0 level plotted\n",
    "a=np.empty(l)\n",
    "a.fill(C_0)\n",
    "f.line(length_vector,a,color=\"purple\",legend=\"C_0\")\n",
    "\n",
    "bkp.show(f)"
   ]
  },
  {
   "cell_type": "markdown",
   "metadata": {},
   "source": [
    "However, this representation lacks the final transient. We can use the Scheil equation to approximate it:\n",
    "\n",
    "$$ C_S=kC_0(1-f_S)^{k-1} $$\n",
    "\n",
    "While we're at it, let's also make a numerical solver for Scheil using the flux balance condition:\n",
    "\n",
    "$$ (C_L^*-C_S^*)dfs=(1-f_S)dC_L $$"
   ]
  },
  {
   "cell_type": "code",
   "execution_count": 30,
   "metadata": {
    "collapsed": false
   },
   "outputs": [
    {
     "data": {
      "text/html": [
       "\n",
       "\n",
       "    <div class=\"bk-root\">\n",
       "        <div class=\"plotdiv\" id=\"b8f1aa5c-3128-4a3a-ae1e-b82c50dabe9e\"></div>\n",
       "    </div>\n",
       "<script type=\"text/javascript\">\n",
       "  \n",
       "  (function(global) {\n",
       "    function now() {\n",
       "      return new Date();\n",
       "    }\n",
       "  \n",
       "    var force = \"\";\n",
       "  \n",
       "    if (typeof (window._bokeh_onload_callbacks) === \"undefined\" || force !== \"\") {\n",
       "      window._bokeh_onload_callbacks = [];\n",
       "      window._bokeh_is_loading = undefined;\n",
       "    }\n",
       "  \n",
       "  \n",
       "    \n",
       "    if (typeof (window._bokeh_timeout) === \"undefined\" || force !== \"\") {\n",
       "      window._bokeh_timeout = Date.now() + 0;\n",
       "      window._bokeh_failed_load = false;\n",
       "    }\n",
       "  \n",
       "    var NB_LOAD_WARNING = {'data': {'text/html':\n",
       "       \"<div style='background-color: #fdd'>\\n\"+\n",
       "       \"<p>\\n\"+\n",
       "       \"BokehJS does not appear to have successfully loaded. If loading BokehJS from CDN, this \\n\"+\n",
       "       \"may be due to a slow or bad network connection. Possible fixes:\\n\"+\n",
       "       \"</p>\\n\"+\n",
       "       \"<ul>\\n\"+\n",
       "       \"<li>re-rerun `output_notebook()` to attempt to load from CDN again, or</li>\\n\"+\n",
       "       \"<li>use INLINE resources instead, as so:</li>\\n\"+\n",
       "       \"</ul>\\n\"+\n",
       "       \"<code>\\n\"+\n",
       "       \"from bokeh.resources import INLINE\\n\"+\n",
       "       \"output_notebook(resources=INLINE)\\n\"+\n",
       "       \"</code>\\n\"+\n",
       "       \"</div>\"}};\n",
       "  \n",
       "    function display_loaded() {\n",
       "      if (window.Bokeh !== undefined) {\n",
       "        Bokeh.$(\"#b8f1aa5c-3128-4a3a-ae1e-b82c50dabe9e\").text(\"BokehJS successfully loaded.\");\n",
       "      } else if (Date.now() < window._bokeh_timeout) {\n",
       "        setTimeout(display_loaded, 100)\n",
       "      }\n",
       "    }\n",
       "  \n",
       "    function run_callbacks() {\n",
       "      window._bokeh_onload_callbacks.forEach(function(callback) { callback() });\n",
       "      delete window._bokeh_onload_callbacks\n",
       "      console.info(\"Bokeh: all callbacks have finished\");\n",
       "    }\n",
       "  \n",
       "    function load_libs(js_urls, callback) {\n",
       "      window._bokeh_onload_callbacks.push(callback);\n",
       "      if (window._bokeh_is_loading > 0) {\n",
       "        console.log(\"Bokeh: BokehJS is being loaded, scheduling callback at\", now());\n",
       "        return null;\n",
       "      }\n",
       "      if (js_urls == null || js_urls.length === 0) {\n",
       "        run_callbacks();\n",
       "        return null;\n",
       "      }\n",
       "      console.log(\"Bokeh: BokehJS not loaded, scheduling load and callback at\", now());\n",
       "      window._bokeh_is_loading = js_urls.length;\n",
       "      for (var i = 0; i < js_urls.length; i++) {\n",
       "        var url = js_urls[i];\n",
       "        var s = document.createElement('script');\n",
       "        s.src = url;\n",
       "        s.async = false;\n",
       "        s.onreadystatechange = s.onload = function() {\n",
       "          window._bokeh_is_loading--;\n",
       "          if (window._bokeh_is_loading === 0) {\n",
       "            console.log(\"Bokeh: all BokehJS libraries loaded\");\n",
       "            run_callbacks()\n",
       "          }\n",
       "        };\n",
       "        s.onerror = function() {\n",
       "          console.warn(\"failed to load library \" + url);\n",
       "        };\n",
       "        console.log(\"Bokeh: injecting script tag for BokehJS library: \", url);\n",
       "        document.getElementsByTagName(\"head\")[0].appendChild(s);\n",
       "      }\n",
       "    };var element = document.getElementById(\"b8f1aa5c-3128-4a3a-ae1e-b82c50dabe9e\");\n",
       "    if (element == null) {\n",
       "      console.log(\"Bokeh: ERROR: autoload.js configured with elementid 'b8f1aa5c-3128-4a3a-ae1e-b82c50dabe9e' but no matching script tag was found. \")\n",
       "      return false;\n",
       "    }\n",
       "  \n",
       "    var js_urls = [];\n",
       "  \n",
       "    var inline_js = [\n",
       "      function(Bokeh) {\n",
       "        Bokeh.$(function() {\n",
       "            var docs_json = {\"f42446a3-9668-417b-9183-3d7378a50736\":{\"roots\":{\"references\":[{\"attributes\":{\"data_source\":{\"id\":\"6127a83e-f157-471e-b1af-da84a5236ee5\",\"type\":\"ColumnDataSource\"},\"glyph\":{\"id\":\"95567650-a6a8-46c5-90fd-1368665f520c\",\"type\":\"Line\"},\"hover_glyph\":null,\"nonselection_glyph\":{\"id\":\"a0904aaf-8d95-42fc-99b9-c3701cc8bb24\",\"type\":\"Line\"},\"selection_glyph\":null},\"id\":\"31e3799d-096d-43c5-a9f6-4be4518d1740\",\"type\":\"GlyphRenderer\"},{\"attributes\":{\"data_source\":{\"id\":\"61ee55fb-0339-424d-9939-2fdd9fa47f51\",\"type\":\"ColumnDataSource\"},\"glyph\":{\"id\":\"616572eb-ce7c-4a3e-a12b-8dd78e0411ba\",\"type\":\"Circle\"},\"hover_glyph\":null,\"nonselection_glyph\":{\"id\":\"f28621a6-4e7c-4e7d-896c-09fc50af08b0\",\"type\":\"Circle\"},\"selection_glyph\":null},\"id\":\"7e5ec415-be52-46d3-869c-9a3b463f00c2\",\"type\":\"GlyphRenderer\"},{\"attributes\":{\"fill_alpha\":{\"value\":0.1},\"fill_color\":{\"value\":\"#1f77b4\"},\"line_alpha\":{\"value\":0.1},\"line_color\":{\"value\":\"#1f77b4\"},\"x\":{\"field\":\"x\"},\"y\":{\"field\":\"y\"}},\"id\":\"f28621a6-4e7c-4e7d-896c-09fc50af08b0\",\"type\":\"Circle\"},{\"attributes\":{\"data_source\":{\"id\":\"60496802-ce91-42dc-8844-1c0e08b01d05\",\"type\":\"ColumnDataSource\"},\"glyph\":{\"id\":\"e6e94214-3bba-4afc-a245-20d01c6c4fba\",\"type\":\"Line\"},\"hover_glyph\":null,\"nonselection_glyph\":{\"id\":\"348b5beb-06ed-4226-b9ed-e9454722d3d3\",\"type\":\"Line\"},\"selection_glyph\":null},\"id\":\"4e6f39f2-0e46-481c-b563-041544d5a8f5\",\"type\":\"GlyphRenderer\"},{\"attributes\":{},\"id\":\"11af728a-cb55-419a-8980-593b4eff09e5\",\"type\":\"BasicTicker\"},{\"attributes\":{\"formatter\":{\"id\":\"790fc13e-5661-4c73-a453-a51d5104041e\",\"type\":\"BasicTickFormatter\"},\"plot\":{\"id\":\"70d9460e-1b65-4c7e-82bd-97b8df3e76a6\",\"subtype\":\"Figure\",\"type\":\"Plot\"},\"ticker\":{\"id\":\"11af728a-cb55-419a-8980-593b4eff09e5\",\"type\":\"BasicTicker\"}},\"id\":\"d79ffa68-e1cc-4e32-bf7c-5baacf658c92\",\"type\":\"LinearAxis\"},{\"attributes\":{\"legends\":[[\"S analytic\",[{\"id\":\"4e6f39f2-0e46-481c-b563-041544d5a8f5\",\"type\":\"GlyphRenderer\"}]],[\"L analytic\",[{\"id\":\"31e3799d-096d-43c5-a9f6-4be4518d1740\",\"type\":\"GlyphRenderer\"}]],[\"S numerical\",[{\"id\":\"5a63a30a-1105-42c9-99b7-2c52e76d0019\",\"type\":\"GlyphRenderer\"}]],[\"L numerical\",[{\"id\":\"7e5ec415-be52-46d3-869c-9a3b463f00c2\",\"type\":\"GlyphRenderer\"}]]],\"plot\":{\"id\":\"70d9460e-1b65-4c7e-82bd-97b8df3e76a6\",\"subtype\":\"Figure\",\"type\":\"Plot\"}},\"id\":\"0d0f9845-cf88-42ff-8bd2-5abbe605fd4b\",\"type\":\"Legend\"},{\"attributes\":{\"plot\":{\"id\":\"70d9460e-1b65-4c7e-82bd-97b8df3e76a6\",\"subtype\":\"Figure\",\"type\":\"Plot\"}},\"id\":\"71cf02fb-66f7-4f73-872d-2364389de906\",\"type\":\"HelpTool\"},{\"attributes\":{\"plot\":{\"id\":\"70d9460e-1b65-4c7e-82bd-97b8df3e76a6\",\"subtype\":\"Figure\",\"type\":\"Plot\"}},\"id\":\"ed0af9cd-abab-46f0-b1a6-f2c36a922676\",\"type\":\"SaveTool\"},{\"attributes\":{},\"id\":\"fdf06d90-7947-41cf-9bf6-dba9f0200513\",\"type\":\"BasicTicker\"},{\"attributes\":{\"callback\":null},\"id\":\"52f25fd1-f8d9-4aa7-a4df-5428b4b2262a\",\"type\":\"DataRange1d\"},{\"attributes\":{\"plot\":{\"id\":\"70d9460e-1b65-4c7e-82bd-97b8df3e76a6\",\"subtype\":\"Figure\",\"type\":\"Plot\"}},\"id\":\"01a8e4a2-bfde-4ce2-9111-e43f3850258b\",\"type\":\"PanTool\"},{\"attributes\":{\"overlay\":{\"id\":\"d3dbfb9d-466a-4458-941a-33007d87604c\",\"type\":\"BoxAnnotation\"},\"plot\":{\"id\":\"70d9460e-1b65-4c7e-82bd-97b8df3e76a6\",\"subtype\":\"Figure\",\"type\":\"Plot\"}},\"id\":\"7ab32c4d-136f-4934-a0f0-5203a3ae0cec\",\"type\":\"BoxZoomTool\"},{\"attributes\":{},\"id\":\"790fc13e-5661-4c73-a453-a51d5104041e\",\"type\":\"BasicTickFormatter\"},{\"attributes\":{\"callback\":null,\"column_names\":[\"y\",\"x\"],\"data\":{\"x\":[90.0,90.1,90.2,90.3,90.4,90.5,90.6,90.7,90.8,90.9,91.0,91.1,91.2,91.3,91.4,91.5,91.6,91.7,91.8,91.9,92.0,92.1,92.2,92.3,92.4,92.5,92.6,92.7,92.8,92.9,93.0,93.1,93.2,93.3,93.4,93.5,93.6,93.7,93.8,93.9,94.0,94.1,94.2,94.3,94.4,94.5,94.6,94.7,94.8,94.9,95.0,95.1,95.2,95.3,95.4,95.5,95.6,95.7,95.8,95.9,96.0,96.1,96.2,96.3,96.4,96.5,96.6,96.7,96.8,96.9,97.0,97.1,97.2,97.3,97.4,97.5,97.6,97.7,97.8,97.9,98.0,98.1,98.2,98.3,98.4,98.5,98.6,98.7,98.8,98.9,99.0,99.1,99.2,99.3,99.4,99.5,99.6,99.7,99.8,99.9,100.0],\"y\":[0.04563946548472438,0.04603592952832906,0.04643991829765929,0.04685165365576225,0.047271366386428454,0.04769929665055823,0.04813569447097823,0.048580820247806626,0.04903494530664482,0.049498352482070254,0.049971336739121144,0.05045420583570141,0.050947281029095765,0.051450897830073034,0.05196540680837376,0.05249117445372908,0.05302858409694582,0.05357803689602261,0.054139952892736994,0.054714772145672226,0.0553029559462382,0.05590498812489345,0.05652137645550125,0.0571526541665627,0.0577993815689738,0.058462147810964704,0.05914157277201105,0.05983830910877721,0.06055304446757649,0.06128650387943728,0.06203945235567036,0.06281269770387148,0.06360709358659691,0.0644235428475592,0.06526300113314862,0.06612648084044874,0.06701505542674227,0.06792986411986923,0.06887211707379,0.06984310101942048,0.07084418546736551,0.07187682952672032,0.07294258941280618,0.07404312672675378,0.07518021760148608,0.07635576282216386,0.0775717990448872,0.07883051125580424,0.08013424663426562,0.08148553000888265,0.08288708112503543,0.08434183397743401,0.08585295850286304,0.08742388497759628,0.0890583315228296,0.09076033519193256,0.0925342871979567,0.09438497294191583,0.09631761762596458,0.09833793838592383,0.1004522040612212,0.10266730394564812,0.10499082714020752,0.10743115447373666,0.10999756538616481,0.112700362707082,0.11555101894026112,0.1185623485247649,0.12174871164136795,0.1251262565449672,0.12871320923258958,0.13253022164431463,0.13660079273767572,0.14095178095080169,0.14561403216686666,0.15062315487340688,0.15602048458970394,0.16185429401349288,0.1681813255067476,0.17506875121797633,0.18259670752034932,0.19086161112390193,0.19998055476648838,0.21009721812526366,0.22138994359949662,0.23408296703253442,0.24846234929310435,0.2648990893232636,0.28388352405809747,0.30607805412082156,0.33240076677521224,0.3641635067115101,0.40331108368299756,0.4528607311069085,0.5177707692322326,0.6068273415401766,0.7372952199713128,0.9486531830297578,1.3565740517325477,2.523227736222605]}},\"id\":\"7d0f64a7-4f3a-4239-93a4-96f3311e8a6e\",\"type\":\"ColumnDataSource\"},{\"attributes\":{\"below\":[{\"id\":\"772c1f4b-a7e3-44ce-ae7b-d81ac56bc0a9\",\"type\":\"LinearAxis\"}],\"left\":[{\"id\":\"d79ffa68-e1cc-4e32-bf7c-5baacf658c92\",\"type\":\"LinearAxis\"}],\"renderers\":[{\"id\":\"772c1f4b-a7e3-44ce-ae7b-d81ac56bc0a9\",\"type\":\"LinearAxis\"},{\"id\":\"174d9759-73cf-4225-8a36-703a750201b9\",\"type\":\"Grid\"},{\"id\":\"d79ffa68-e1cc-4e32-bf7c-5baacf658c92\",\"type\":\"LinearAxis\"},{\"id\":\"5f6c74ac-1077-4637-afba-8f5dc175c95d\",\"type\":\"Grid\"},{\"id\":\"d3dbfb9d-466a-4458-941a-33007d87604c\",\"type\":\"BoxAnnotation\"},{\"id\":\"0d0f9845-cf88-42ff-8bd2-5abbe605fd4b\",\"type\":\"Legend\"},{\"id\":\"4e6f39f2-0e46-481c-b563-041544d5a8f5\",\"type\":\"GlyphRenderer\"},{\"id\":\"31e3799d-096d-43c5-a9f6-4be4518d1740\",\"type\":\"GlyphRenderer\"},{\"id\":\"5a63a30a-1105-42c9-99b7-2c52e76d0019\",\"type\":\"GlyphRenderer\"},{\"id\":\"7e5ec415-be52-46d3-869c-9a3b463f00c2\",\"type\":\"GlyphRenderer\"}],\"title\":{\"id\":\"19a56fcc-0ece-4e5d-9f92-7f5b35f92122\",\"type\":\"Title\"},\"tool_events\":{\"id\":\"56f4568e-ad18-4e00-bce3-1cc27ae7b23d\",\"type\":\"ToolEvents\"},\"toolbar\":{\"id\":\"e13202de-bff0-4320-83ea-8b2bcb4415bd\",\"type\":\"Toolbar\"},\"x_range\":{\"id\":\"a744976a-dbf1-4966-9b9f-220153e6711d\",\"type\":\"DataRange1d\"},\"y_range\":{\"id\":\"52f25fd1-f8d9-4aa7-a4df-5428b4b2262a\",\"type\":\"DataRange1d\"}},\"id\":\"70d9460e-1b65-4c7e-82bd-97b8df3e76a6\",\"subtype\":\"Figure\",\"type\":\"Plot\"},{\"attributes\":{\"line_alpha\":{\"value\":0.1},\"line_color\":{\"value\":\"#1f77b4\"},\"x\":{\"field\":\"x\"},\"y\":{\"field\":\"y\"}},\"id\":\"a0904aaf-8d95-42fc-99b9-c3701cc8bb24\",\"type\":\"Line\"},{\"attributes\":{\"callback\":null,\"column_names\":[\"y\",\"x\"],\"data\":{\"x\":[90.0,90.1,90.2,90.3,90.4,90.5,90.6,90.7,90.8,90.9,91.0,91.1,91.2,91.3,91.4,91.5,91.6,91.7,91.8,91.9,92.0,92.1,92.2,92.3,92.4,92.5,92.6,92.7,92.8,92.9,93.0,93.1,93.2,93.3,93.4,93.5,93.6,93.7,93.8,93.9,94.0,94.1,94.2,94.3,94.4,94.5,94.6,94.7,94.8,94.9,95.0,95.1,95.2,95.3,95.4,95.5,95.6,95.7,95.8,95.9,96.0,96.1,96.2,96.3,96.4,96.5,96.6,96.7,96.8,96.9,97.0,97.1,97.2,97.3,97.4,97.5,97.6,97.7,97.8,97.9,98.0,98.1,98.2,98.3,98.4,98.5,98.6,98.7,98.8,98.9,99.0,99.1,99.2,99.3,99.4,99.5,99.6,99.7,99.8,99.9,100.0],\"y\":[0.3259961820337456,0.3288280680594933,0.3317137021261378,0.3346546689697304,0.3376526170459176,0.3407092617897017,0.34382638907841595,0.34700585891290453,0.35024960933317734,0.3535596605862162,0.35693811956515115,0.3603871845407245,0.36390915020782705,0.3675064130719504,0.3711814772026699,0.37493696038377927,0.37877560069247035,0.38270026354301884,0.38671394923383584,0.39081980104051606,0.3950211139017016,0.3993213437492391,0.4037241175392948,0.40823324404687655,0.41285272549267016,0.41758677007831946,0.4224398055143648,0.42741649363412304,0.4325217461969751,0.4377607419959807,0.4431389453976456,0.44866212645622494,0.4543363827614066,0.4601681631968515,0.4661642938082044,0.47233200600320524,0.47867896733387333,0.485213315141923,0.4919436933842142,0.4988792929958605,0.5060298961954678,0.5134059251908594,0.5210184958057583,0.5288794766196697,0.5370015542963289,0.5453983058725987,0.5540842788920513,0.5630750803986015,0.5723874759590399,0.5820395000634473,0.5920505794645385,0.6024416712673856,0.613235417877593,0.6244563212685447,0.6361309394487827,0.6482881085138039,0.6609591942711192,0.6741783781565416,0.6879829830426041,0.7024138456137416,0.7175157432944371,0.733337885326058,0.7499344795729109,0.7673653890981191,0.7856968956154631,0.8050025907648716,0.8253644210018654,0.8468739180340352,0.8696336545811999,0.8937589753211945,0.9193800659470688,0.9466444403165335,0.9757199481262556,1.0067984353628696,1.040100229763334,1.0758796776671926,1.1144320327836001,1.1561021000963783,1.201295182191055,1.250491080128403,1.3042621965739243,1.363297222313586,1.4284325340463462,1.5006944151804553,1.581356739996405,1.6720211930895323,1.7747310663793174,1.8921363523090264,2.0277394575578396,2.186271815148726,2.3742911912515163,2.601167905082215,2.880793454878554,3.2347195079064894,3.6983626373730907,4.334481011001262,5.266394428366521,6.7760941644982715,9.689814655232487,18.0230552587329]}},\"id\":\"61ee55fb-0339-424d-9939-2fdd9fa47f51\",\"type\":\"ColumnDataSource\"},{\"attributes\":{\"active_drag\":\"auto\",\"active_scroll\":\"auto\",\"active_tap\":\"auto\",\"tools\":[{\"id\":\"01a8e4a2-bfde-4ce2-9111-e43f3850258b\",\"type\":\"PanTool\"},{\"id\":\"4af3eda6-5a86-481f-a008-0c38e6507582\",\"type\":\"WheelZoomTool\"},{\"id\":\"7ab32c4d-136f-4934-a0f0-5203a3ae0cec\",\"type\":\"BoxZoomTool\"},{\"id\":\"ed0af9cd-abab-46f0-b1a6-f2c36a922676\",\"type\":\"SaveTool\"},{\"id\":\"c8b96777-7b22-4973-b566-f0600711f5ea\",\"type\":\"ResetTool\"},{\"id\":\"71cf02fb-66f7-4f73-872d-2364389de906\",\"type\":\"HelpTool\"}]},\"id\":\"e13202de-bff0-4320-83ea-8b2bcb4415bd\",\"type\":\"Toolbar\"},{\"attributes\":{\"fill_alpha\":{\"value\":0},\"fill_color\":{\"value\":\"#1f77b4\"},\"line_color\":{\"value\":\"#1f77b4\"},\"x\":{\"field\":\"x\"},\"y\":{\"field\":\"y\"}},\"id\":\"0719646a-a574-425d-abfa-deabc872030e\",\"type\":\"Circle\"},{\"attributes\":{},\"id\":\"971fd498-249b-4e9c-abd9-2cbb591c0791\",\"type\":\"BasicTickFormatter\"},{\"attributes\":{\"callback\":null,\"column_names\":[\"y\",\"x\"],\"data\":{\"x\":[90.0,90.1,90.2,90.3,90.4,90.5,90.6,90.7,90.8,90.9,91.0,91.1,91.2,91.3,91.4,91.5,91.6,91.7,91.8,91.9,92.0,92.1,92.2,92.3,92.4,92.5,92.6,92.7,92.8,92.9,93.0,93.1,93.2,93.3,93.4,93.5,93.6,93.7,93.8,93.9,94.0,94.1,94.2,94.3,94.4,94.5,94.6,94.7,94.8,94.9,95.0,95.1,95.2,95.3,95.4,95.5,95.6,95.7,95.8,95.9,96.0,96.1,96.2,96.3,96.4,96.5,96.6,96.7,96.8,96.9,97.0,97.1,97.2,97.3,97.4,97.5,97.6,97.7,97.8,97.9,98.0,98.1,98.2,98.3,98.4,98.5,98.6,98.7,98.8,98.9,99.0,99.1,99.2,99.3,99.4,99.5,99.6,99.7,99.8,99.9,100.0],\"y\":[0.3259961820337456,0.3288260733603294,0.33170963671666315,0.33464845346390926,0.3376441685011814,0.3406984935136411,0.3438132104229357,0.34699017505488977,0.3502313210406325,0.3535386639687587,0.35691430580762346,0.36036043961859515,0.3638793545829191,0.3674734413668989,0.3711451978523757,0.3748972352619396,0.37873228471110787,0.382653204222713,0.3866629862421366,0.3907647656957871,0.39496182863933715,0.3992576215469154,0.4036557612975572,0.408160045920977,0.4127744661711582,0.41750321800337953,0.4223507160383801,0.427321608106322,0.4324207909733313,0.43765342736478813,0.44302496441229083,0.44854115366572744,0.4542080728281656,0.46003214938977693,0.46602018635799664,0.4721793903048829,0.4785174019798214,0.4850423297665856,0.49176278629911635,0.498687928590878,0.5058275020790056,0.5131918890379428,0.5207921618787203,0.5286401419211902,0.5367484643088328,0.5451306498313022,0.5538011845311862,0.5627756081011746,0.5720706122298042,0.5817041502321724,0.5916955595117678,0.6020656986473363,0.6128371011919151,0.6240341486198079,0.6356832652728177,0.6478131386542899,0.660454969016888,0.6736427529100177,0.6874136062247262,0.7018081333337512,0.716870850218584,0.7326506710633283,0.749201469752284,0.7665827301334976,0.7848603019313943,0.8041072829757139,0.8244050531825036,0.8458444917687112,0.8685274168985797,0.8925682968771779,0.9180962948458572,0.9452577256879472,0.9742190258946689,1.0051703663987703,1.0383300775851296,1.0739501087460688,1.1123228168414063,1.1537894798992818,1.1987510712144558,1.2476820305491796,1.3011480569237286,1.359829369983933,1.4245515165014981,1.4963267550067696,1.5764105355071987,1.6663799479966548,1.7682448549476744,1.8846088699009111,2.018908526359836,2.175779119168188,2.3616335711239747,2.5856155779224403,2.8612455152331155,3.209432154312058,3.664396321009443,4.286455407270159,5.193270226278743,6.651019707979497,9.425984418172492,17.10852283442687,\"Infinity\"]}},\"id\":\"6127a83e-f157-471e-b1af-da84a5236ee5\",\"type\":\"ColumnDataSource\"},{\"attributes\":{\"fill_alpha\":{\"value\":0},\"fill_color\":{\"value\":\"red\"},\"line_color\":{\"value\":\"red\"},\"x\":{\"field\":\"x\"},\"y\":{\"field\":\"y\"}},\"id\":\"616572eb-ce7c-4a3e-a12b-8dd78e0411ba\",\"type\":\"Circle\"},{\"attributes\":{\"line_color\":{\"value\":\"#1f77b4\"},\"x\":{\"field\":\"x\"},\"y\":{\"field\":\"y\"}},\"id\":\"e6e94214-3bba-4afc-a245-20d01c6c4fba\",\"type\":\"Line\"},{\"attributes\":{\"data_source\":{\"id\":\"7d0f64a7-4f3a-4239-93a4-96f3311e8a6e\",\"type\":\"ColumnDataSource\"},\"glyph\":{\"id\":\"0719646a-a574-425d-abfa-deabc872030e\",\"type\":\"Circle\"},\"hover_glyph\":null,\"nonselection_glyph\":{\"id\":\"d1285e04-e173-4ecd-9e61-26408ee491f3\",\"type\":\"Circle\"},\"selection_glyph\":null},\"id\":\"5a63a30a-1105-42c9-99b7-2c52e76d0019\",\"type\":\"GlyphRenderer\"},{\"attributes\":{\"bottom_units\":\"screen\",\"fill_alpha\":{\"value\":0.5},\"fill_color\":{\"value\":\"lightgrey\"},\"left_units\":\"screen\",\"level\":\"overlay\",\"line_alpha\":{\"value\":1.0},\"line_color\":{\"value\":\"black\"},\"line_dash\":[4,4],\"line_width\":{\"value\":2},\"plot\":null,\"render_mode\":\"css\",\"right_units\":\"screen\",\"top_units\":\"screen\"},\"id\":\"d3dbfb9d-466a-4458-941a-33007d87604c\",\"type\":\"BoxAnnotation\"},{\"attributes\":{\"dimension\":1,\"plot\":{\"id\":\"70d9460e-1b65-4c7e-82bd-97b8df3e76a6\",\"subtype\":\"Figure\",\"type\":\"Plot\"},\"ticker\":{\"id\":\"11af728a-cb55-419a-8980-593b4eff09e5\",\"type\":\"BasicTicker\"}},\"id\":\"5f6c74ac-1077-4637-afba-8f5dc175c95d\",\"type\":\"Grid\"},{\"attributes\":{\"plot\":null,\"text\":null},\"id\":\"19a56fcc-0ece-4e5d-9f92-7f5b35f92122\",\"type\":\"Title\"},{\"attributes\":{\"plot\":{\"id\":\"70d9460e-1b65-4c7e-82bd-97b8df3e76a6\",\"subtype\":\"Figure\",\"type\":\"Plot\"}},\"id\":\"c8b96777-7b22-4973-b566-f0600711f5ea\",\"type\":\"ResetTool\"},{\"attributes\":{\"fill_alpha\":{\"value\":0.1},\"fill_color\":{\"value\":\"#1f77b4\"},\"line_alpha\":{\"value\":0.1},\"line_color\":{\"value\":\"#1f77b4\"},\"x\":{\"field\":\"x\"},\"y\":{\"field\":\"y\"}},\"id\":\"d1285e04-e173-4ecd-9e61-26408ee491f3\",\"type\":\"Circle\"},{\"attributes\":{\"plot\":{\"id\":\"70d9460e-1b65-4c7e-82bd-97b8df3e76a6\",\"subtype\":\"Figure\",\"type\":\"Plot\"}},\"id\":\"4af3eda6-5a86-481f-a008-0c38e6507582\",\"type\":\"WheelZoomTool\"},{\"attributes\":{\"callback\":null,\"column_names\":[\"x\",\"y\"],\"data\":{\"x\":[90.0,90.1,90.2,90.3,90.4,90.5,90.6,90.7,90.8,90.9,91.0,91.1,91.2,91.3,91.4,91.5,91.6,91.7,91.8,91.9,92.0,92.1,92.2,92.3,92.4,92.5,92.6,92.7,92.8,92.9,93.0,93.1,93.2,93.3,93.4,93.5,93.6,93.7,93.8,93.9,94.0,94.1,94.2,94.3,94.4,94.5,94.6,94.7,94.8,94.9,95.0,95.1,95.2,95.3,95.4,95.5,95.6,95.7,95.8,95.9,96.0,96.1,96.2,96.3,96.4,96.5,96.6,96.7,96.8,96.9,97.0,97.1,97.2,97.3,97.4,97.5,97.6,97.7,97.8,97.9,98.0,98.1,98.2,98.3,98.4,98.5,98.6,98.7,98.8,98.9,99.0,99.1,99.2,99.3,99.4,99.5,99.6,99.7,99.8,99.9,100.0],\"y\":[0.04563946548472438,0.046035650270446114,0.04643934914033284,0.0468507834849473,0.047270183590165396,0.04769778909190976,0.048133849459211,0.048578624507684576,0.04903238494568855,0.04949541295562622,0.049968002813067285,0.05045046154660333,0.050943109641608676,0.051446281791365844,0.0519603276993326,0.05248561293667155,0.053022519859555105,0.05357144859117982,0.05413281807389912,0.0547070671974102,0.055294656009507205,0.05589606701656816,0.05651180658165801,0.05714240642893678,0.057788425263962155,0.05845045052047314,0.05912910024537321,0.059825025134885086,0.06053891073626639,0.06127147983107034,0.06202349501772072,0.06279576151320185,0.06358913019594319,0.06440450091456877,0.06524282609011953,0.06610511464268361,0.06699243627717501,0.067905926167322,0.06884679008187629,0.06981631000272293,0.0708158502910608,0.071846864465312,0.07291090266302085,0.07400961986896663,0.0751447850032366,0.07631829097638232,0.07753216583436606,0.07878858513416444,0.08008988571217258,0.08143858103250413,0.0828373783316475,0.08428919781062708,0.08579719416686812,0.08736478080677311,0.08899565713819448,0.09069383941160059,0.09246369566236433,0.09430998540740249,0.09623790487146168,0.09825313866672518,0.10036191903060177,0.10257109394886596,0.10488820576531975,0.10732158221868968,0.10988044227039521,0.11257501961659995,0.1154167074455505,0.11841822884761959,0.12159383836580118,0.12495956156280491,0.12853348127842001,0.1323360815963126,0.13639066362525365,0.14072385129582787,0.14536621086191814,0.15035301522444963,0.1557251943577969,0.16153052718589947,0.16782514997002382,0.17467548427688517,0.182160727969322,0.19037611179775063,0.19943721231020975,0.20948574570094775,0.22069747497100783,0.23329319271953167,0.2475542796926744,0.26384524178612756,0.28264719369037705,0.30460907668354636,0.33062869995735644,0.36198618090914164,0.4005743721326362,0.44932050160368814,0.5130154849413221,0.6001037570178223,0.727057831679024,0.9311427591171296,1.3196378185441489,2.395193196819762,\"Infinity\"]}},\"id\":\"60496802-ce91-42dc-8844-1c0e08b01d05\",\"type\":\"ColumnDataSource\"},{\"attributes\":{\"formatter\":{\"id\":\"971fd498-249b-4e9c-abd9-2cbb591c0791\",\"type\":\"BasicTickFormatter\"},\"plot\":{\"id\":\"70d9460e-1b65-4c7e-82bd-97b8df3e76a6\",\"subtype\":\"Figure\",\"type\":\"Plot\"},\"ticker\":{\"id\":\"fdf06d90-7947-41cf-9bf6-dba9f0200513\",\"type\":\"BasicTicker\"}},\"id\":\"772c1f4b-a7e3-44ce-ae7b-d81ac56bc0a9\",\"type\":\"LinearAxis\"},{\"attributes\":{\"callback\":null},\"id\":\"a744976a-dbf1-4966-9b9f-220153e6711d\",\"type\":\"DataRange1d\"},{\"attributes\":{\"line_alpha\":{\"value\":0.1},\"line_color\":{\"value\":\"#1f77b4\"},\"x\":{\"field\":\"x\"},\"y\":{\"field\":\"y\"}},\"id\":\"348b5beb-06ed-4226-b9ed-e9454722d3d3\",\"type\":\"Line\"},{\"attributes\":{\"line_color\":{\"value\":\"red\"},\"x\":{\"field\":\"x\"},\"y\":{\"field\":\"y\"}},\"id\":\"95567650-a6a8-46c5-90fd-1368665f520c\",\"type\":\"Line\"},{\"attributes\":{\"plot\":{\"id\":\"70d9460e-1b65-4c7e-82bd-97b8df3e76a6\",\"subtype\":\"Figure\",\"type\":\"Plot\"},\"ticker\":{\"id\":\"fdf06d90-7947-41cf-9bf6-dba9f0200513\",\"type\":\"BasicTicker\"}},\"id\":\"174d9759-73cf-4225-8a36-703a750201b9\",\"type\":\"Grid\"},{\"attributes\":{},\"id\":\"56f4568e-ad18-4e00-bce3-1cc27ae7b23d\",\"type\":\"ToolEvents\"}],\"root_ids\":[\"70d9460e-1b65-4c7e-82bd-97b8df3e76a6\"]},\"title\":\"Bokeh Application\",\"version\":\"0.12.2\"}};\n",
       "            var render_items = [{\"docid\":\"f42446a3-9668-417b-9183-3d7378a50736\",\"elementid\":\"b8f1aa5c-3128-4a3a-ae1e-b82c50dabe9e\",\"modelid\":\"70d9460e-1b65-4c7e-82bd-97b8df3e76a6\"}];\n",
       "            \n",
       "            Bokeh.embed.embed_items(docs_json, render_items);\n",
       "        });\n",
       "      },\n",
       "      function(Bokeh) {\n",
       "      }\n",
       "    ];\n",
       "  \n",
       "    function run_inline_js() {\n",
       "      \n",
       "      if ((window.Bokeh !== undefined) || (force === \"1\")) {\n",
       "        for (var i = 0; i < inline_js.length; i++) {\n",
       "          inline_js[i](window.Bokeh);\n",
       "        }if (force === \"1\") {\n",
       "          display_loaded();\n",
       "        }} else if (Date.now() < window._bokeh_timeout) {\n",
       "        setTimeout(run_inline_js, 100);\n",
       "      } else if (!window._bokeh_failed_load) {\n",
       "        console.log(\"Bokeh: BokehJS failed to load within specified timeout.\");\n",
       "        window._bokeh_failed_load = true;\n",
       "      } else if (!force) {\n",
       "        var cell = $(\"#b8f1aa5c-3128-4a3a-ae1e-b82c50dabe9e\").parents('.cell').data().cell;\n",
       "        cell.output_area.append_execute_result(NB_LOAD_WARNING)\n",
       "      }\n",
       "  \n",
       "    }\n",
       "  \n",
       "    if (window._bokeh_is_loading === 0) {\n",
       "      console.log(\"Bokeh: BokehJS loaded, going straight to plotting\");\n",
       "      run_inline_js();\n",
       "    } else {\n",
       "      load_libs(js_urls, function() {\n",
       "        console.log(\"Bokeh: BokehJS plotting callback run at\", now());\n",
       "        run_inline_js();\n",
       "      });\n",
       "    }\n",
       "  }(this));\n",
       "</script>"
      ]
     },
     "metadata": {},
     "output_type": "display_data"
    }
   ],
   "source": [
    "scheil_grid=100\n",
    "scheil_portion= delta/grid*l\n",
    "scheil_step=scheil_portion/scheil_grid\n",
    "\n",
    "#Analytic Scheil::\n",
    "\n",
    "def f_s(a):\n",
    "    return a/l\n",
    "\n",
    "def scheil_S_analytic(a):\n",
    "    result= k*C_0*(1-a)**(k-1)\n",
    "    #return np.where(result<=C_SM,result,C_SM)\n",
    "    return result\n",
    "\n",
    "def scheil_L_analytic(a):\n",
    "    result= C_0*(1-a)**(k-1)\n",
    "    #return np.where(result<=C_E,result,C_E) \n",
    "    return result\n",
    "\n",
    "#Numerical Scheil:\n",
    "\n",
    "def scheil_S_numeric(a,b):\n",
    "    return k*(a/k-a)/(l-b)\n",
    "\n",
    "def scheil_L_numeric(a,b):\n",
    "    return (a-k*a)/(l-b)\n",
    "\n",
    "#Solver:\n",
    "scheil_x=np.linspace(l-scheil_portion,l,scheil_grid+1)\n",
    "scheil_L=np.empty(scheil_grid)\n",
    "scheil_S=np.empty(scheil_grid)\n",
    "\n",
    "scheil_L[0]=scheil_L_analytic(scheil_x[0]/l)\n",
    "scheil_S[0]=scheil_S_analytic(scheil_x[0]/l)\n",
    "\n",
    "#Solid C\n",
    "for i in range(len(scheil_S)-1):\n",
    "    update=scheil_S[i]+scheil_step*scheil_S_numeric(scheil_S[i],l-scheil_portion+(i+1)*scheil_step)\n",
    "    #if (update<=C_SM):\n",
    "    scheil_S[i+1]=update\n",
    "    #else:\n",
    "    #    scheil_S[i+1]=C_SM\n",
    "\n",
    "#Liquid C\n",
    "for i in range(len(scheil_L)-1):  \n",
    "    update=scheil_L[i]+scheil_step*scheil_L_numeric(scheil_L[i],l-scheil_portion+(i+1)*scheil_step)\n",
    "    #if (update<=C_E):\n",
    "    scheil_L[i+1]=update\n",
    "    #else:\n",
    "     #   scheil_L[i+1]=C_E\n",
    "    \n",
    "f2=bkp.figure()\n",
    "f2.line(scheil_x,scheil_S_analytic(scheil_x/l),legend=\"S analytic\")\n",
    "f2.line(scheil_x,scheil_L_analytic(scheil_x/l),color=\"red\",legend=\"L analytic\")\n",
    "f2.scatter(scheil_x,scheil_S,fill_alpha=0,legend=\"S numerical\")\n",
    "f2.scatter(scheil_x,scheil_L,color=\"red\",fill_alpha=0,legend=\"L numerical\")\n",
    "bkp.show(f2)\n"
   ]
  },
  {
   "cell_type": "markdown",
   "metadata": {
    "collapsed": true
   },
   "source": [
    "Now let's make a model that combines these two, and accepts user defined values. First let's configure gui for user inputs:"
   ]
  },
  {
   "cell_type": "code",
   "execution_count": 56,
   "metadata": {
    "collapsed": false
   },
   "outputs": [
    {
     "data": {
      "text/plain": [
       "2"
      ]
     },
     "metadata": {},
     "output_type": "display_data"
    }
   ],
   "source": [
    "#widget functions:\n",
    "def k_func(k_0):\n",
    "    return k_0\n",
    "def C_0_func(C_0):\n",
    "    return C_0\n",
    "def l_func(length):\n",
    "    return length\n",
    "def delta_func(melt_nodes):\n",
    "    return melt_nodes\n",
    "def grid_func(grid_nodes):\n",
    "    return grid_nodes\n",
    "def pass_func(pass_count):\n",
    "    return pass_count\n",
    "\n",
    "# widgets using ipywidgets interactive:\n",
    "k=widgets.interactive(k_func,k_0=widgets.FloatText(0.14))\n",
    "C_0=widgets.interactive(C_0_func,C_0=widgets.FloatText(0.045))\n",
    "l=widgets.interactive(l_func,length=widgets.FloatText(100))\n",
    "delta=widgets.interactive(delta_func,melt_nodes=widgets.IntText(10))\n",
    "grid=widgets.interactive(grid_func,grid_nodes=widgets.IntText(100))\n",
    "pass_count=widgets.interactive(pass_func,pass_count=widgets.Dropdown(options=[2,3,4,5,6,7,8,9,10]))\n",
    "\n",
    "\n",
    "#display ipywidgets.interactives\n",
    "display.display(k)\n",
    "display.display(C_0)\n",
    "display.display(l)\n",
    "display.display(delta)\n",
    "display.display(grid)\n",
    "display.display(pass_count)\n",
    "\n"
   ]
  },
  {
   "cell_type": "markdown",
   "metadata": {},
   "source": [
    "Next let's define the functions and variables to perform the calculations"
   ]
  },
  {
   "cell_type": "code",
   "execution_count": 57,
   "metadata": {
    "collapsed": false
   },
   "outputs": [],
   "source": [
    "#Define global constants:\n",
    "\n",
    "#step size between grid nodes:\n",
    "step=l.result/grid.result\n",
    "\n",
    "#Initialize *liquid* concentration matrix:\n",
    "C_L=np.empty([grid.result,pass_count.result+1])\n",
    "C_L.fill(C_0.result)\n",
    "\n",
    "#Initialize *solid* concentration matrix:\n",
    "C_S=np.empty([grid.result,pass_count.result+1])\n",
    "C_S.fill(C_0.result)\n",
    "\n",
    "#Initialize *visualisation* x-axis vector\n",
    "x_values=np.linspace(0,l.result,grid.result)\n",
    "\n",
    "#Functions for calculating liquid and solid concentration:\n",
    "\n",
    "#Before final transient, change in liquid solute is the difference between\n",
    "# concentration of old solid (which melts) and newly solidified solid :\n",
    "\n",
    "def C_L_zone(new_solid,old_solid):\n",
    "    return (old_solid-new_solid)/delta.result\n",
    "\n",
    "# During final transient,use the scheil equation for liquid concentration:\n",
    "\n",
    "def Scheil_L(new_liquid,s_fraction):\n",
    "    return (new_liquid-k.result*new_liquid)/(l.result-s_fraction)\n",
    "\n",
    "# Concentration of solid is given by k*C_L:\n",
    "\n",
    "def C_S_function(C_L):\n",
    "    return k.result*C_L\n",
    "\n",
    "\n",
    "#Calculate solid and liquid concentrations for all passes\n",
    "\n",
    "#for each pass:\n",
    "for n in range(1,pass_count.result+1):\n",
    "\n",
    "    #initialize the first delta liquid nodes and the first solid node:\n",
    "     \n",
    "    C_L_init=np.average(C_S[0::delta.result,n-1])\n",
    "    for i in range(delta.result):\n",
    "        C_L[i,n]=C_L_init\n",
    "    C_S[0,n]=k.result*C_L[0,n]\n",
    "            \n",
    "    #for each grid node:\n",
    "    for x in range(1,grid.result):\n",
    "        # Check that we are not in final transient:\n",
    "        if (x<=grid.result-delta.result):\n",
    "            #solid concentration update:\n",
    "            C_S[x,n]=C_S_function(C_L[x-1,n])\n",
    "            #liquid concentration update:\n",
    "            C_L[x,n]=C_L[x-1,n]+step*C_L_zone(C_S[x,n],C_S[x+delta.result-1,n-1])\n",
    "            \n",
    "        #C_S[x+delta.result-1,n-1]        \n",
    "        elif (x<grid.result):\n",
    "            #solid concentration:\n",
    "            C_S[x,n]=k.result*C_L[x-1,n]\n",
    "            #liquid concentration:\n",
    "            C_L[x,n]=C_L[x-1,n]+step*Scheil_L(C_L[x-1,n],step*x)"
   ]
  },
  {
   "cell_type": "code",
   "execution_count": 58,
   "metadata": {
    "collapsed": false,
    "scrolled": true
   },
   "outputs": [
    {
     "data": {
      "text/html": [
       "\n",
       "\n",
       "    <div class=\"bk-root\">\n",
       "        <div class=\"plotdiv\" id=\"82a3e091-ea07-4df5-9706-f95ef8299792\"></div>\n",
       "    </div>\n",
       "<script type=\"text/javascript\">\n",
       "  \n",
       "  (function(global) {\n",
       "    function now() {\n",
       "      return new Date();\n",
       "    }\n",
       "  \n",
       "    var force = \"\";\n",
       "  \n",
       "    if (typeof (window._bokeh_onload_callbacks) === \"undefined\" || force !== \"\") {\n",
       "      window._bokeh_onload_callbacks = [];\n",
       "      window._bokeh_is_loading = undefined;\n",
       "    }\n",
       "  \n",
       "  \n",
       "    \n",
       "    if (typeof (window._bokeh_timeout) === \"undefined\" || force !== \"\") {\n",
       "      window._bokeh_timeout = Date.now() + 0;\n",
       "      window._bokeh_failed_load = false;\n",
       "    }\n",
       "  \n",
       "    var NB_LOAD_WARNING = {'data': {'text/html':\n",
       "       \"<div style='background-color: #fdd'>\\n\"+\n",
       "       \"<p>\\n\"+\n",
       "       \"BokehJS does not appear to have successfully loaded. If loading BokehJS from CDN, this \\n\"+\n",
       "       \"may be due to a slow or bad network connection. Possible fixes:\\n\"+\n",
       "       \"</p>\\n\"+\n",
       "       \"<ul>\\n\"+\n",
       "       \"<li>re-rerun `output_notebook()` to attempt to load from CDN again, or</li>\\n\"+\n",
       "       \"<li>use INLINE resources instead, as so:</li>\\n\"+\n",
       "       \"</ul>\\n\"+\n",
       "       \"<code>\\n\"+\n",
       "       \"from bokeh.resources import INLINE\\n\"+\n",
       "       \"output_notebook(resources=INLINE)\\n\"+\n",
       "       \"</code>\\n\"+\n",
       "       \"</div>\"}};\n",
       "  \n",
       "    function display_loaded() {\n",
       "      if (window.Bokeh !== undefined) {\n",
       "        Bokeh.$(\"#82a3e091-ea07-4df5-9706-f95ef8299792\").text(\"BokehJS successfully loaded.\");\n",
       "      } else if (Date.now() < window._bokeh_timeout) {\n",
       "        setTimeout(display_loaded, 100)\n",
       "      }\n",
       "    }if ((window.Jupyter !== undefined) && Jupyter.notebook.kernel) {\n",
       "      comm_manager = Jupyter.notebook.kernel.comm_manager\n",
       "      comm_manager.register_target(\"ac3b4c4f-4145-4557-a16a-fd0b25e4cc68\", function () {});\n",
       "    }\n",
       "  \n",
       "    function run_callbacks() {\n",
       "      window._bokeh_onload_callbacks.forEach(function(callback) { callback() });\n",
       "      delete window._bokeh_onload_callbacks\n",
       "      console.info(\"Bokeh: all callbacks have finished\");\n",
       "    }\n",
       "  \n",
       "    function load_libs(js_urls, callback) {\n",
       "      window._bokeh_onload_callbacks.push(callback);\n",
       "      if (window._bokeh_is_loading > 0) {\n",
       "        console.log(\"Bokeh: BokehJS is being loaded, scheduling callback at\", now());\n",
       "        return null;\n",
       "      }\n",
       "      if (js_urls == null || js_urls.length === 0) {\n",
       "        run_callbacks();\n",
       "        return null;\n",
       "      }\n",
       "      console.log(\"Bokeh: BokehJS not loaded, scheduling load and callback at\", now());\n",
       "      window._bokeh_is_loading = js_urls.length;\n",
       "      for (var i = 0; i < js_urls.length; i++) {\n",
       "        var url = js_urls[i];\n",
       "        var s = document.createElement('script');\n",
       "        s.src = url;\n",
       "        s.async = false;\n",
       "        s.onreadystatechange = s.onload = function() {\n",
       "          window._bokeh_is_loading--;\n",
       "          if (window._bokeh_is_loading === 0) {\n",
       "            console.log(\"Bokeh: all BokehJS libraries loaded\");\n",
       "            run_callbacks()\n",
       "          }\n",
       "        };\n",
       "        s.onerror = function() {\n",
       "          console.warn(\"failed to load library \" + url);\n",
       "        };\n",
       "        console.log(\"Bokeh: injecting script tag for BokehJS library: \", url);\n",
       "        document.getElementsByTagName(\"head\")[0].appendChild(s);\n",
       "      }\n",
       "    };var element = document.getElementById(\"82a3e091-ea07-4df5-9706-f95ef8299792\");\n",
       "    if (element == null) {\n",
       "      console.log(\"Bokeh: ERROR: autoload.js configured with elementid '82a3e091-ea07-4df5-9706-f95ef8299792' but no matching script tag was found. \")\n",
       "      return false;\n",
       "    }\n",
       "  \n",
       "    var js_urls = [];\n",
       "  \n",
       "    var inline_js = [\n",
       "      function(Bokeh) {\n",
       "        Bokeh.$(function() {\n",
       "            var docs_json = {\"bc417014-5c9e-4e4d-90ee-cbfc664a213c\":{\"roots\":{\"references\":[{\"attributes\":{\"plot\":{\"id\":\"935de601-009f-49af-8ed2-cdd842bc6a0f\",\"subtype\":\"Figure\",\"type\":\"Plot\"}},\"id\":\"128a37a0-65d2-41ca-9047-20710cbde14f\",\"type\":\"HelpTool\"},{\"attributes\":{\"line_alpha\":{\"value\":0.1},\"line_color\":{\"value\":\"#1f77b4\"},\"x\":{\"field\":\"x\"},\"y\":{\"field\":\"y\"}},\"id\":\"faf88a1d-555e-40c3-8e65-297b6bfa48f3\",\"type\":\"Line\"},{\"attributes\":{\"plot\":{\"id\":\"935de601-009f-49af-8ed2-cdd842bc6a0f\",\"subtype\":\"Figure\",\"type\":\"Plot\"}},\"id\":\"17bcb7d2-a62c-431c-bbce-2558096770df\",\"type\":\"ResetTool\"},{\"attributes\":{\"bottom_units\":\"screen\",\"fill_alpha\":{\"value\":0.5},\"fill_color\":{\"value\":\"lightgrey\"},\"left_units\":\"screen\",\"level\":\"overlay\",\"line_alpha\":{\"value\":1.0},\"line_color\":{\"value\":\"black\"},\"line_dash\":[4,4],\"line_width\":{\"value\":2},\"plot\":null,\"render_mode\":\"css\",\"right_units\":\"screen\",\"top_units\":\"screen\"},\"id\":\"9e7b9a9e-cbd0-464f-a88d-818819f8efa8\",\"type\":\"BoxAnnotation\"},{\"attributes\":{\"line_alpha\":{\"value\":0.1},\"line_color\":{\"value\":\"#1f77b4\"},\"x\":{\"field\":\"x\"},\"y\":{\"field\":\"y\"}},\"id\":\"edc5c7dc-8609-460c-860d-fa6d3c7bad02\",\"type\":\"Line\"},{\"attributes\":{\"callback\":null,\"column_names\":[\"y\",\"x\"],\"data\":{\"x\":[0.0,1.0101010101010102,2.0202020202020203,3.0303030303030303,4.040404040404041,5.050505050505051,6.0606060606060606,7.070707070707071,8.080808080808081,9.090909090909092,10.101010101010102,11.111111111111112,12.121212121212121,13.131313131313131,14.141414141414142,15.151515151515152,16.161616161616163,17.171717171717173,18.181818181818183,19.191919191919194,20.202020202020204,21.212121212121215,22.222222222222225,23.232323232323235,24.242424242424242,25.252525252525253,26.262626262626263,27.272727272727273,28.282828282828284,29.292929292929294,30.303030303030305,31.313131313131315,32.323232323232325,33.333333333333336,34.343434343434346,35.35353535353536,36.36363636363637,37.37373737373738,38.38383838383839,39.3939393939394,40.40404040404041,41.41414141414142,42.42424242424243,43.43434343434344,44.44444444444445,45.45454545454546,46.46464646464647,47.47474747474748,48.484848484848484,49.494949494949495,50.505050505050505,51.515151515151516,52.525252525252526,53.535353535353536,54.54545454545455,55.55555555555556,56.56565656565657,57.57575757575758,58.58585858585859,59.5959595959596,60.60606060606061,61.61616161616162,62.62626262626263,63.63636363636364,64.64646464646465,65.65656565656566,66.66666666666667,67.67676767676768,68.68686868686869,69.6969696969697,70.70707070707071,71.71717171717172,72.72727272727273,73.73737373737374,74.74747474747475,75.75757575757576,76.76767676767678,77.77777777777779,78.7878787878788,79.7979797979798,80.80808080808082,81.81818181818183,82.82828282828284,83.83838383838385,84.84848484848486,85.85858585858587,86.86868686868688,87.87878787878789,88.8888888888889,89.89898989898991,90.90909090909092,91.91919191919193,92.92929292929294,93.93939393939395,94.94949494949496,95.95959595959597,96.96969696969697,97.97979797979798,98.98989898989899,100.0],\"y\":[0.0063,0.006843421298388476,0.007379211932499375,0.007907479051311745,0.008428328299230034,0.008941863837211158,0.009448188363594913,0.00994740313464188,0.010439607984782981,0.010924901346584632,0.01140338027043358,0.011875140443945336,0.012340276211100037,0.01279888059110968,0.013251045297020309,0.01369686075405313,0.014136416117687954,0.014569799291492803,0.014997096944703107,0.015418394529554088,0.01583377629836973,0.01624332532041181,0.01664712349849235,0.01704525158535275,0.017437789199812974,0.01782481484269397,0.01820640591251646,0.018582638720979358,0.018953588508220768,0.019319329457864784,0.01967993471185687,0.020035476385091074,0.020386025579831733,0.02073165239993273,0.021072425964857054,0.021408414423499528,0.021739684967815413,0.022066303846257653,0.022388336377025444,0.022705846961126742,0.023018899095257384,0.02332755538449933,0.02363187755484061,0.023931926465519487,0.02422776212119523,0.024519443683948053,0.02480702948511052,0.025090577036932776,0.025370143044084074,0.0256457834149927,0.025917553273026715,0.02618550696751769,0.026449698084629644,0.026710179458075342,0.026967003179682193,0.02722022060980964,0.02746988238762044,0.027716038441207576,0.027958737997579027,0.028198029592502387,0.028433961080211092,0.02866657964297455,0.02889593180053371,0.029122063419404265,0.029345019722049153,0.029564845295922283,0.02978158410238525,0.029995279485498884,0.030205974180691292,0.03041371032330425,0.030618529457019508,0.030820472542166844,0.031019579963915446,0.031215891540350208,0.03140944653043472,0.03160028364186234,0.03178844103879713,0.031973956349505984,0.03215686667388368,0.03233720859087216,0.032515018165775796,0.03269033095747374,0.03286318202553116,0.0330336059372105,0.03320163677438438,0.03336730814035138,0.03353065316655612,0.03369170451921498,0.03385049440584879,0.03400705458172382,0.034161416356202186,0.03431361059900335,0.03446366774637736,0.03461161780719173,0.034757490368932595,0.03490131460362177,0.03504311927365062,0.03518293273753207,0.03532078295557179,0.03545669749545983]}},\"id\":\"ea3d2f3b-d156-4def-8ab4-d5641fc13eeb\",\"type\":\"ColumnDataSource\"},{\"attributes\":{\"callback\":null,\"column_names\":[\"x\",\"y\"],\"data\":{\"x\":[0.0,1.0101010101010102,2.0202020202020203,3.0303030303030303,4.040404040404041,5.050505050505051,6.0606060606060606,7.070707070707071,8.080808080808081,9.090909090909092,10.101010101010102,11.111111111111112,12.121212121212121,13.131313131313131,14.141414141414142,15.151515151515152,16.161616161616163,17.171717171717173,18.181818181818183,19.191919191919194,20.202020202020204,21.212121212121215,22.222222222222225,23.232323232323235,24.242424242424242,25.252525252525253,26.262626262626263,27.272727272727273,28.282828282828284,29.292929292929294,30.303030303030305,31.313131313131315,32.323232323232325,33.333333333333336,34.343434343434346,35.35353535353536,36.36363636363637,37.37373737373738,38.38383838383839,39.3939393939394,40.40404040404041,41.41414141414142,42.42424242424243,43.43434343434344,44.44444444444445,45.45454545454546,46.46464646464647,47.47474747474748,48.484848484848484,49.494949494949495,50.505050505050505,51.515151515151516,52.525252525252526,53.535353535353536,54.54545454545455,55.55555555555556,56.56565656565657,57.57575757575758,58.58585858585859,59.5959595959596,60.60606060606061,61.61616161616162,62.62626262626263,63.63636363636364,64.64646464646465,65.65656565656566,66.66666666666667,67.67676767676768,68.68686868686869,69.6969696969697,70.70707070707071,71.71717171717172,72.72727272727273,73.73737373737374,74.74747474747475,75.75757575757576,76.76767676767678,77.77777777777779,78.7878787878788,79.7979797979798,80.80808080808082,81.81818181818183,82.82828282828284,83.83838383838385,84.84848484848486,85.85858585858587,86.86868686868688,87.87878787878789,88.8888888888889,89.89898989898991,90.90909090909092,91.91919191919193,92.92929292929294,93.93939393939395,94.94949494949496,95.95959595959597,96.96969696969697,97.97979797979798,98.98989898989899,100.0],\"y\":[2.697e-320,1.6e-322,7.53536251e-315,4e-323,0.0,0.0,0.0,4.193142557422217e+228,0.0,0.0,2.7024019764879954e+73,0.0,0.0,-5.299881941142568e+101,0.0,0.0,6.013469534764712e-154,0.0,0.0,5.1517205613492283e+95,3.28301404e-316,7.2879339e-316,3.984780654663634e+252,0.0,0.0,-1.465487860569897e+298,0.0,0.0,-1.4948497073267064e-235,0.0,0.0,-3.788176502201873e+230,5.1955627e-317,7.2879323e-316,9.750238216029357e+199,0.0,0.0,-4.133533416676812e-104,3.1683181e-316,7.28793705e-316,5.197733974097936e-91,0.0,0.0,3.038477880719328e+113,0.0,0.0,2.166362102397554e-27,0.0,0.0,6.855783577715879e-103,0.0,0.0,-1.1574313434063485e+135,5.86358294e-316,7.28794337e-316,1.5943924986941614e+244,2.6859112e-316,7.287956e-316,8.18534412513506e+302,5.359233e-317,7.28795444e-316,-1.0112256797461981e-201,4.737125e-317,7.2879418e-316,6.550133908170004e+64,7.0641577e-316,7.2879497e-316,-7.101693694579987e-152,2.8544267e-317,7.2879481e-316,5.9000291014895564e-235,0.0,0.0,2.1601191390166462e-83,4.737042e-317,7.2879402e-316,-1.7911201784051528e-61,7.02293407e-316,7.28793546e-316,3.5927804508476145e-92,5.8675999e-316,7.28794653e-316,-2.4855003102542404e-119,0.0,0.0,5.70076432970886e+101,3.28297254e-316,7.2879576e-316,5.3862736503151355e-109,0.0,0.0,1.543366109746444e+126,0.0,0.0,7.578829641280761e-96,0.0,0.0,3.1454334643931356e+161,0.0]}},\"id\":\"9b21d69b-d110-4eb7-9856-604d1f34d76c\",\"type\":\"ColumnDataSource\"},{\"attributes\":{\"data_source\":{\"id\":\"9b21d69b-d110-4eb7-9856-604d1f34d76c\",\"type\":\"ColumnDataSource\"},\"glyph\":{\"id\":\"427bebd3-0320-4928-a5e7-b7fcb6ac60c0\",\"type\":\"Line\"},\"hover_glyph\":null,\"nonselection_glyph\":{\"id\":\"faf88a1d-555e-40c3-8e65-297b6bfa48f3\",\"type\":\"Line\"},\"selection_glyph\":null},\"id\":\"6b45b7c3-aa77-4452-a452-8bfc1c083d07\",\"type\":\"GlyphRenderer\"},{\"attributes\":{},\"id\":\"703080d5-0f10-4028-a7d8-daac3563f266\",\"type\":\"BasicTicker\"},{\"attributes\":{\"line_color\":{\"value\":\"red\"},\"x\":{\"field\":\"x\"},\"y\":{\"field\":\"y\"}},\"id\":\"06568d3e-955b-42c0-a586-5b2da2ed9b89\",\"type\":\"Line\"},{\"attributes\":{\"dimension\":1,\"plot\":{\"id\":\"935de601-009f-49af-8ed2-cdd842bc6a0f\",\"subtype\":\"Figure\",\"type\":\"Plot\"},\"ticker\":{\"id\":\"703080d5-0f10-4028-a7d8-daac3563f266\",\"type\":\"BasicTicker\"}},\"id\":\"6fd3c0ce-1386-4c77-9178-ab6a3549aa85\",\"type\":\"Grid\"},{\"attributes\":{\"data_source\":{\"id\":\"ea3d2f3b-d156-4def-8ab4-d5641fc13eeb\",\"type\":\"ColumnDataSource\"},\"glyph\":{\"id\":\"06568d3e-955b-42c0-a586-5b2da2ed9b89\",\"type\":\"Line\"},\"hover_glyph\":null,\"nonselection_glyph\":{\"id\":\"edc5c7dc-8609-460c-860d-fa6d3c7bad02\",\"type\":\"Line\"},\"selection_glyph\":null},\"id\":\"10e4d1ca-7592-4c95-8d6e-9b40f81fe042\",\"type\":\"GlyphRenderer\"},{\"attributes\":{\"below\":[{\"id\":\"2e4a674f-c3ed-4240-90f8-26264d79cb09\",\"type\":\"LinearAxis\"}],\"left\":[{\"id\":\"4a9be4c4-c8ef-45d4-bb89-42a78ca80893\",\"type\":\"LinearAxis\"}],\"plot_height\":300,\"plot_width\":500,\"renderers\":[{\"id\":\"2e4a674f-c3ed-4240-90f8-26264d79cb09\",\"type\":\"LinearAxis\"},{\"id\":\"41bb5295-45ba-4fd8-9fb8-a6de02e304cd\",\"type\":\"Grid\"},{\"id\":\"4a9be4c4-c8ef-45d4-bb89-42a78ca80893\",\"type\":\"LinearAxis\"},{\"id\":\"6fd3c0ce-1386-4c77-9178-ab6a3549aa85\",\"type\":\"Grid\"},{\"id\":\"9e7b9a9e-cbd0-464f-a88d-818819f8efa8\",\"type\":\"BoxAnnotation\"},{\"id\":\"6b45b7c3-aa77-4452-a452-8bfc1c083d07\",\"type\":\"GlyphRenderer\"},{\"id\":\"10e4d1ca-7592-4c95-8d6e-9b40f81fe042\",\"type\":\"GlyphRenderer\"}],\"title\":{\"id\":\"7541d8be-850a-45d1-b958-588837f58bcd\",\"type\":\"Title\"},\"tool_events\":{\"id\":\"ad90b753-d664-44b2-8cc1-925e97683578\",\"type\":\"ToolEvents\"},\"toolbar\":{\"id\":\"9be5e9e1-491f-4039-9550-f9cf44c33432\",\"type\":\"Toolbar\"},\"x_range\":{\"id\":\"ac70f0eb-0327-42e7-b95e-eff0cbe13fc0\",\"type\":\"DataRange1d\"},\"y_range\":{\"id\":\"b74df1d1-4931-437d-8f2c-a6daed9158cd\",\"type\":\"DataRange1d\"}},\"id\":\"935de601-009f-49af-8ed2-cdd842bc6a0f\",\"subtype\":\"Figure\",\"type\":\"Plot\"},{\"attributes\":{\"plot\":null,\"text\":\"Zone Melting\"},\"id\":\"7541d8be-850a-45d1-b958-588837f58bcd\",\"type\":\"Title\"},{\"attributes\":{\"formatter\":{\"id\":\"9e429442-0557-4da9-a431-f3c9173d5e8b\",\"type\":\"BasicTickFormatter\"},\"plot\":{\"id\":\"935de601-009f-49af-8ed2-cdd842bc6a0f\",\"subtype\":\"Figure\",\"type\":\"Plot\"},\"ticker\":{\"id\":\"9f8006a9-fd3e-4e99-87e2-393afb93210c\",\"type\":\"BasicTicker\"}},\"id\":\"2e4a674f-c3ed-4240-90f8-26264d79cb09\",\"type\":\"LinearAxis\"},{\"attributes\":{\"callback\":null},\"id\":\"ac70f0eb-0327-42e7-b95e-eff0cbe13fc0\",\"type\":\"DataRange1d\"},{\"attributes\":{\"overlay\":{\"id\":\"9e7b9a9e-cbd0-464f-a88d-818819f8efa8\",\"type\":\"BoxAnnotation\"},\"plot\":{\"id\":\"935de601-009f-49af-8ed2-cdd842bc6a0f\",\"subtype\":\"Figure\",\"type\":\"Plot\"}},\"id\":\"0ab8c431-cd7a-49c4-ada4-cac3ae74a47a\",\"type\":\"BoxZoomTool\"},{\"attributes\":{},\"id\":\"ad90b753-d664-44b2-8cc1-925e97683578\",\"type\":\"ToolEvents\"},{\"attributes\":{},\"id\":\"a0eb4a90-c60a-46d9-adcd-0a730acc80bd\",\"type\":\"BasicTickFormatter\"},{\"attributes\":{\"plot\":{\"id\":\"935de601-009f-49af-8ed2-cdd842bc6a0f\",\"subtype\":\"Figure\",\"type\":\"Plot\"},\"ticker\":{\"id\":\"9f8006a9-fd3e-4e99-87e2-393afb93210c\",\"type\":\"BasicTicker\"}},\"id\":\"41bb5295-45ba-4fd8-9fb8-a6de02e304cd\",\"type\":\"Grid\"},{\"attributes\":{\"formatter\":{\"id\":\"a0eb4a90-c60a-46d9-adcd-0a730acc80bd\",\"type\":\"BasicTickFormatter\"},\"plot\":{\"id\":\"935de601-009f-49af-8ed2-cdd842bc6a0f\",\"subtype\":\"Figure\",\"type\":\"Plot\"},\"ticker\":{\"id\":\"703080d5-0f10-4028-a7d8-daac3563f266\",\"type\":\"BasicTicker\"}},\"id\":\"4a9be4c4-c8ef-45d4-bb89-42a78ca80893\",\"type\":\"LinearAxis\"},{\"attributes\":{\"line_color\":{\"value\":\"#1f77b4\"},\"x\":{\"field\":\"x\"},\"y\":{\"field\":\"y\"}},\"id\":\"427bebd3-0320-4928-a5e7-b7fcb6ac60c0\",\"type\":\"Line\"},{\"attributes\":{\"active_drag\":\"auto\",\"active_scroll\":\"auto\",\"active_tap\":\"auto\",\"tools\":[{\"id\":\"3f3a23de-78c4-4c14-b9d1-4c1cccb8dbcb\",\"type\":\"PanTool\"},{\"id\":\"81b566d6-3b68-4736-844e-225aed72590d\",\"type\":\"WheelZoomTool\"},{\"id\":\"0ab8c431-cd7a-49c4-ada4-cac3ae74a47a\",\"type\":\"BoxZoomTool\"},{\"id\":\"73bd317d-a407-46c5-a438-f8448cc11821\",\"type\":\"SaveTool\"},{\"id\":\"17bcb7d2-a62c-431c-bbce-2558096770df\",\"type\":\"ResetTool\"},{\"id\":\"128a37a0-65d2-41ca-9047-20710cbde14f\",\"type\":\"HelpTool\"}]},\"id\":\"9be5e9e1-491f-4039-9550-f9cf44c33432\",\"type\":\"Toolbar\"},{\"attributes\":{\"plot\":{\"id\":\"935de601-009f-49af-8ed2-cdd842bc6a0f\",\"subtype\":\"Figure\",\"type\":\"Plot\"}},\"id\":\"73bd317d-a407-46c5-a438-f8448cc11821\",\"type\":\"SaveTool\"},{\"attributes\":{\"plot\":{\"id\":\"935de601-009f-49af-8ed2-cdd842bc6a0f\",\"subtype\":\"Figure\",\"type\":\"Plot\"}},\"id\":\"81b566d6-3b68-4736-844e-225aed72590d\",\"type\":\"WheelZoomTool\"},{\"attributes\":{},\"id\":\"9f8006a9-fd3e-4e99-87e2-393afb93210c\",\"type\":\"BasicTicker\"},{\"attributes\":{},\"id\":\"9e429442-0557-4da9-a431-f3c9173d5e8b\",\"type\":\"BasicTickFormatter\"},{\"attributes\":{\"callback\":null},\"id\":\"b74df1d1-4931-437d-8f2c-a6daed9158cd\",\"type\":\"DataRange1d\"},{\"attributes\":{\"plot\":{\"id\":\"935de601-009f-49af-8ed2-cdd842bc6a0f\",\"subtype\":\"Figure\",\"type\":\"Plot\"}},\"id\":\"3f3a23de-78c4-4c14-b9d1-4c1cccb8dbcb\",\"type\":\"PanTool\"}],\"root_ids\":[\"935de601-009f-49af-8ed2-cdd842bc6a0f\"]},\"title\":\"Bokeh Application\",\"version\":\"0.12.2\"}};\n",
       "            var render_items = [{\"docid\":\"bc417014-5c9e-4e4d-90ee-cbfc664a213c\",\"elementid\":\"82a3e091-ea07-4df5-9706-f95ef8299792\",\"modelid\":\"935de601-009f-49af-8ed2-cdd842bc6a0f\",\"notebook_comms_target\":\"ac3b4c4f-4145-4557-a16a-fd0b25e4cc68\"}];\n",
       "            \n",
       "            Bokeh.embed.embed_items(docs_json, render_items);\n",
       "        });\n",
       "      },\n",
       "      function(Bokeh) {\n",
       "      }\n",
       "    ];\n",
       "  \n",
       "    function run_inline_js() {\n",
       "      \n",
       "      if ((window.Bokeh !== undefined) || (force === \"1\")) {\n",
       "        for (var i = 0; i < inline_js.length; i++) {\n",
       "          inline_js[i](window.Bokeh);\n",
       "        }if (force === \"1\") {\n",
       "          display_loaded();\n",
       "        }} else if (Date.now() < window._bokeh_timeout) {\n",
       "        setTimeout(run_inline_js, 100);\n",
       "      } else if (!window._bokeh_failed_load) {\n",
       "        console.log(\"Bokeh: BokehJS failed to load within specified timeout.\");\n",
       "        window._bokeh_failed_load = true;\n",
       "      } else if (!force) {\n",
       "        var cell = $(\"#82a3e091-ea07-4df5-9706-f95ef8299792\").parents('.cell').data().cell;\n",
       "        cell.output_area.append_execute_result(NB_LOAD_WARNING)\n",
       "      }\n",
       "  \n",
       "    }\n",
       "  \n",
       "    if (window._bokeh_is_loading === 0) {\n",
       "      console.log(\"Bokeh: BokehJS loaded, going straight to plotting\");\n",
       "      run_inline_js();\n",
       "    } else {\n",
       "      load_libs(js_urls, function() {\n",
       "        console.log(\"Bokeh: BokehJS plotting callback run at\", now());\n",
       "        run_inline_js();\n",
       "      });\n",
       "    }\n",
       "  }(this));\n",
       "</script>"
      ]
     },
     "metadata": {},
     "output_type": "display_data"
    }
   ],
   "source": [
    "C=np.empty(grid.result-1)\n",
    "n=0\n",
    "\n",
    "def initialize_stuff(rep):\n",
    "    for i in range(grid.result-1):\n",
    "        C[i]=C_S[i,rep-1]\n",
    "    global n\n",
    "    n=rep\n",
    "    push_notebook(handle=t)\n",
    "    \n",
    "def update_plot(x):\n",
    "            \n",
    "    if (x<grid.result-delta.result):\n",
    "        \n",
    "        #solid concentration update:\n",
    "        C[x]=C_S[x,n]\n",
    "\n",
    "        if (x != 0):\n",
    "            #liquid concentration update:\n",
    "            for i in range(1,delta.result-1):\n",
    "                C[x+i]=C_L[x,n]\n",
    "            \n",
    "            \n",
    "    #during final transient:\n",
    "    else:      \n",
    "        #solid concentration:\n",
    "        C[x]=C_S[x,n]\n",
    "        #liquid concentration:\n",
    "        for i in range(1,grid.result-x-1):\n",
    "            C[x+i]=C_L[x,n]\n",
    "    \n",
    "    push_notebook(handle=t)\n",
    "\n",
    "\n",
    "f=bkp.figure(title=\"Zone Melting\",height=300,width=500)  \n",
    "f.line(x_values,C)\n",
    "f.line(x_values,C_0.result*(1-(1-k.result)*np.exp(-k.result*x_values/delta.result)),color='red')\n",
    "t=bkp.show(f, notebook_handle=True)"
   ]
  },
  {
   "cell_type": "code",
   "execution_count": 53,
   "metadata": {
    "collapsed": false
   },
   "outputs": [],
   "source": [
    "initialize=interact(initialize_stuff,rep=widgets.IntSlider(value=1,min=1,max=pass_count.result-1))\n"
   ]
  },
  {
   "cell_type": "code",
   "execution_count": 43,
   "metadata": {
    "collapsed": true
   },
   "outputs": [],
   "source": [
    "play=interact(update_plot,x=widgets.Play(value=0,min=0,max=grid.result))"
   ]
  },
  {
   "cell_type": "code",
   "execution_count": null,
   "metadata": {
    "collapsed": true
   },
   "outputs": [],
   "source": []
  },
  {
   "cell_type": "code",
   "execution_count": null,
   "metadata": {
    "collapsed": true
   },
   "outputs": [],
   "source": []
  }
 ],
 "metadata": {
  "anaconda-cloud": {
   "attach-environment": true,
   "environment": "Root",
   "summary": "Solidification wk3 homework",
   "url": "https://anaconda.org/mkrkkinen/solidification-week-3"
  },
  "kernelspec": {
   "display_name": "Python [Root]",
   "language": "python",
   "name": "Python [Root]"
  },
  "language_info": {
   "codemirror_mode": {
    "name": "ipython",
    "version": 3
   },
   "file_extension": ".py",
   "mimetype": "text/x-python",
   "name": "python",
   "nbconvert_exporter": "python",
   "pygments_lexer": "ipython3",
   "version": "3.5.2"
  },
  "widgets": {
   "state": {
    "04aa8be3544144b994f061635d021c81": {
     "views": [
      {
       "cell_index": 15
      }
     ]
    },
    "0ea0937ec71341219192e32f5485c40d": {
     "views": [
      {
       "cell_index": 15
      }
     ]
    },
    "0f120d65e2ca462e8f3d6dd4fbd3128e": {
     "views": [
      {
       "cell_index": 15
      }
     ]
    },
    "305a95738747410eb361a766b4a50b7a": {
     "views": [
      {
       "cell_index": 19
      }
     ]
    },
    "3622af38dd19447989d8ef6b9c12a165": {
     "views": [
      {
       "cell_index": 15
      }
     ]
    },
    "38862ef6b81245e38f1a51b5dd5f7a31": {
     "views": [
      {
       "cell_index": 20
      }
     ]
    },
    "3d1228f8219e448184e201a8e822d7b1": {
     "views": [
      {
       "cell_index": 15
      }
     ]
    },
    "42303050dfe14db6bfcdbe0b4d290ae9": {
     "views": [
      {
       "cell_index": 15
      }
     ]
    },
    "46184e2eec24474bbaf3b8c1d3a1dfd6": {
     "views": [
      {
       "cell_index": 15
      }
     ]
    },
    "6039160943ff491abea5b98ffe68cd2b": {
     "views": [
      {
       "cell_index": 15
      }
     ]
    },
    "690bdd7f964f4ba7b32b5766afdf9db6": {
     "views": [
      {
       "cell_index": 15
      }
     ]
    },
    "820b60f92c8c485bb42961ea9a0df0da": {
     "views": [
      {
       "cell_index": 15
      }
     ]
    },
    "87ae681141684e83aa7e4c9cdf39889f": {
     "views": [
      {
       "cell_index": 15
      }
     ]
    },
    "9c5c5cb1c48a4c5fb7668349a201ac8b": {
     "views": [
      {
       "cell_index": 15
      }
     ]
    },
    "abee97cabe9945adb94655606599efe8": {
     "views": [
      {
       "cell_index": 15
      }
     ]
    },
    "b1969847bee2412b8219b8f178bd5b64": {
     "views": [
      {
       "cell_index": 15
      }
     ]
    },
    "b4b1080027b74db28a40f7f30c47a6b2": {
     "views": [
      {
       "cell_index": 15
      }
     ]
    },
    "df07a340c5214770b0afc769ac416fb6": {
     "views": [
      {
       "cell_index": 15
      }
     ]
    },
    "e1f1b22293c8415ca145ab0d18e065aa": {
     "views": [
      {
       "cell_index": 15
      }
     ]
    },
    "f23dbc096dd144418475c17f431f897e": {
     "views": [
      {
       "cell_index": 15
      }
     ]
    },
    "f6c81b4531984587bd2c406dbfa05128": {
     "views": [
      {
       "cell_index": 15
      }
     ]
    }
   },
   "version": "1.2.0"
  }
 },
 "nbformat": 4,
 "nbformat_minor": 0
}
