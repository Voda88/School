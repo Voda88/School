{
 "cells": [
  {
   "cell_type": "code",
   "execution_count": 1,
   "metadata": {
    "collapsed": false
   },
   "outputs": [
    {
     "name": "stdout",
     "output_type": "stream",
     "text": [
      "Once deleted, variables cannot be recovered. Proceed (y/[n])? y\n"
     ]
    },
    {
     "data": {
      "text/html": [
       "\n",
       "    <div class=\"bk-root\">\n",
       "        <a href=\"http://bokeh.pydata.org\" target=\"_blank\" class=\"bk-logo bk-logo-small bk-logo-notebook\"></a>\n",
       "        <span id=\"d39119a6-20de-4c6d-8717-7080a014343c\">Loading BokehJS ...</span>\n",
       "    </div>"
      ]
     },
     "metadata": {},
     "output_type": "display_data"
    },
    {
     "data": {
      "application/javascript": [
       "\n",
       "(function(global) {\n",
       "  function now() {\n",
       "    return new Date();\n",
       "  }\n",
       "\n",
       "  var force = \"1\";\n",
       "\n",
       "  if (typeof (window._bokeh_onload_callbacks) === \"undefined\" || force !== \"\") {\n",
       "    window._bokeh_onload_callbacks = [];\n",
       "    window._bokeh_is_loading = undefined;\n",
       "  }\n",
       "\n",
       "\n",
       "  \n",
       "  if (typeof (window._bokeh_timeout) === \"undefined\" || force !== \"\") {\n",
       "    window._bokeh_timeout = Date.now() + 5000;\n",
       "    window._bokeh_failed_load = false;\n",
       "  }\n",
       "\n",
       "  var NB_LOAD_WARNING = {'data': {'text/html':\n",
       "     \"<div style='background-color: #fdd'>\\n\"+\n",
       "     \"<p>\\n\"+\n",
       "     \"BokehJS does not appear to have successfully loaded. If loading BokehJS from CDN, this \\n\"+\n",
       "     \"may be due to a slow or bad network connection. Possible fixes:\\n\"+\n",
       "     \"</p>\\n\"+\n",
       "     \"<ul>\\n\"+\n",
       "     \"<li>re-rerun `output_notebook()` to attempt to load from CDN again, or</li>\\n\"+\n",
       "     \"<li>use INLINE resources instead, as so:</li>\\n\"+\n",
       "     \"</ul>\\n\"+\n",
       "     \"<code>\\n\"+\n",
       "     \"from bokeh.resources import INLINE\\n\"+\n",
       "     \"output_notebook(resources=INLINE)\\n\"+\n",
       "     \"</code>\\n\"+\n",
       "     \"</div>\"}};\n",
       "\n",
       "  function display_loaded() {\n",
       "    if (window.Bokeh !== undefined) {\n",
       "      Bokeh.$(\"#d39119a6-20de-4c6d-8717-7080a014343c\").text(\"BokehJS successfully loaded.\");\n",
       "    } else if (Date.now() < window._bokeh_timeout) {\n",
       "      setTimeout(display_loaded, 100)\n",
       "    }\n",
       "  }\n",
       "\n",
       "  function run_callbacks() {\n",
       "    window._bokeh_onload_callbacks.forEach(function(callback) { callback() });\n",
       "    delete window._bokeh_onload_callbacks\n",
       "    console.info(\"Bokeh: all callbacks have finished\");\n",
       "  }\n",
       "\n",
       "  function load_libs(js_urls, callback) {\n",
       "    window._bokeh_onload_callbacks.push(callback);\n",
       "    if (window._bokeh_is_loading > 0) {\n",
       "      console.log(\"Bokeh: BokehJS is being loaded, scheduling callback at\", now());\n",
       "      return null;\n",
       "    }\n",
       "    if (js_urls == null || js_urls.length === 0) {\n",
       "      run_callbacks();\n",
       "      return null;\n",
       "    }\n",
       "    console.log(\"Bokeh: BokehJS not loaded, scheduling load and callback at\", now());\n",
       "    window._bokeh_is_loading = js_urls.length;\n",
       "    for (var i = 0; i < js_urls.length; i++) {\n",
       "      var url = js_urls[i];\n",
       "      var s = document.createElement('script');\n",
       "      s.src = url;\n",
       "      s.async = false;\n",
       "      s.onreadystatechange = s.onload = function() {\n",
       "        window._bokeh_is_loading--;\n",
       "        if (window._bokeh_is_loading === 0) {\n",
       "          console.log(\"Bokeh: all BokehJS libraries loaded\");\n",
       "          run_callbacks()\n",
       "        }\n",
       "      };\n",
       "      s.onerror = function() {\n",
       "        console.warn(\"failed to load library \" + url);\n",
       "      };\n",
       "      console.log(\"Bokeh: injecting script tag for BokehJS library: \", url);\n",
       "      document.getElementsByTagName(\"head\")[0].appendChild(s);\n",
       "    }\n",
       "  };var element = document.getElementById(\"d39119a6-20de-4c6d-8717-7080a014343c\");\n",
       "  if (element == null) {\n",
       "    console.log(\"Bokeh: ERROR: autoload.js configured with elementid 'd39119a6-20de-4c6d-8717-7080a014343c' but no matching script tag was found. \")\n",
       "    return false;\n",
       "  }\n",
       "\n",
       "  var js_urls = ['https://cdn.pydata.org/bokeh/release/bokeh-0.12.2.min.js', 'https://cdn.pydata.org/bokeh/release/bokeh-widgets-0.12.2.min.js', 'https://cdn.pydata.org/bokeh/release/bokeh-compiler-0.12.2.min.js'];\n",
       "\n",
       "  var inline_js = [\n",
       "    function(Bokeh) {\n",
       "      Bokeh.set_log_level(\"info\");\n",
       "    },\n",
       "    \n",
       "    function(Bokeh) {\n",
       "      \n",
       "      Bokeh.$(\"#d39119a6-20de-4c6d-8717-7080a014343c\").text(\"BokehJS is loading...\");\n",
       "    },\n",
       "    function(Bokeh) {\n",
       "      console.log(\"Bokeh: injecting CSS: https://cdn.pydata.org/bokeh/release/bokeh-0.12.2.min.css\");\n",
       "      Bokeh.embed.inject_css(\"https://cdn.pydata.org/bokeh/release/bokeh-0.12.2.min.css\");\n",
       "      console.log(\"Bokeh: injecting CSS: https://cdn.pydata.org/bokeh/release/bokeh-widgets-0.12.2.min.css\");\n",
       "      Bokeh.embed.inject_css(\"https://cdn.pydata.org/bokeh/release/bokeh-widgets-0.12.2.min.css\");\n",
       "    }\n",
       "  ];\n",
       "\n",
       "  function run_inline_js() {\n",
       "    \n",
       "    if ((window.Bokeh !== undefined) || (force === \"1\")) {\n",
       "      for (var i = 0; i < inline_js.length; i++) {\n",
       "        inline_js[i](window.Bokeh);\n",
       "      }if (force === \"1\") {\n",
       "        display_loaded();\n",
       "      }} else if (Date.now() < window._bokeh_timeout) {\n",
       "      setTimeout(run_inline_js, 100);\n",
       "    } else if (!window._bokeh_failed_load) {\n",
       "      console.log(\"Bokeh: BokehJS failed to load within specified timeout.\");\n",
       "      window._bokeh_failed_load = true;\n",
       "    } else if (!force) {\n",
       "      var cell = $(\"#d39119a6-20de-4c6d-8717-7080a014343c\").parents('.cell').data().cell;\n",
       "      cell.output_area.append_execute_result(NB_LOAD_WARNING)\n",
       "    }\n",
       "\n",
       "  }\n",
       "\n",
       "  if (window._bokeh_is_loading === 0) {\n",
       "    console.log(\"Bokeh: BokehJS loaded, going straight to plotting\");\n",
       "    run_inline_js();\n",
       "  } else {\n",
       "    load_libs(js_urls, function() {\n",
       "      console.log(\"Bokeh: BokehJS plotting callback run at\", now());\n",
       "      run_inline_js();\n",
       "    });\n",
       "  }\n",
       "}(this));"
      ]
     },
     "metadata": {},
     "output_type": "display_data"
    }
   ],
   "source": [
    "%reset\n",
    "import sys\n",
    "import numpy as np\n",
    "import bokeh.plotting as bkp\n",
    "import bokeh.models as bkm\n",
    "from bokeh.io import push_notebook\n",
    "from ipywidgets import widgets\n",
    "from ipywidgets import interact,interactive\n",
    "from IPython import display\n",
    "bkp.output_notebook()"
   ]
  },
  {
   "cell_type": "markdown",
   "metadata": {},
   "source": [
    "# Solidification week 3 homework\n",
    "\n",
    "### Mikko Karkkainen 11740378\n",
    "\n"
   ]
  },
  {
   "cell_type": "markdown",
   "metadata": {},
   "source": [
    "The zone melting process is used to purify materials by taking advantage of the segregation of impurities to one end of the sample in directional solidification, as seen in Fig. 5.6. In zone melting, a segment of the sample of thickness $ \\delta $ is melted, for example using an induction heater. The coil then traverses the sample beginning at one end. The heater produces sufficient stirring in the melted section that its composition can be considered to be uniform. The composition profile at some time during the first pass is shown schematically in the figure below. The initial composition of the sample is $ C_0 $, and the composition in the liquid is designated $ C_l^* $.\n",
    "\n",
    "<img src=\"https://dev-plebbit.s3.amazonaws.com/uploads/topic/picture/17/zone_melting.png\"/>\n",
    "---"
   ]
  },
  {
   "cell_type": "markdown",
   "metadata": {},
   "source": [
    "#### a) Write a solute balance for the change in composition in the liquid when the interface moves by an increment of $ dx $ as shown. Be sure to account for both the solute rejected at the solid-liquid-interface, and the dilution associated with previously unmelted solid."
   ]
  },
  {
   "cell_type": "markdown",
   "metadata": {},
   "source": [
    "Assuming no convection in the liquid, flux balance at the interface gives\n",
    "\n",
    "$$ (C_0-C_S^*)dx=\\delta \\: dC_l^* $$"
   ]
  },
  {
   "cell_type": "markdown",
   "metadata": {},
   "source": [
    "#### b) Rearrange this equation so that it can be integrated from the initial condition, where the composition in the liquid is $ C_0 $ and the solid-liquid interface is located at $ x^* = 0 $."
   ]
  },
  {
   "cell_type": "markdown",
   "metadata": {},
   "source": [
    "\n",
    "Let's rearrange:\n",
    "\n",
    "$$  dx = \\frac{\\delta}{C_0 -C_S^*} \\: dC^*_l $$ \n",
    "\n",
    "Substitute $ k_0C_l^* $ for  $ C_S^* $:\n",
    "\n",
    "$$  dx = \\frac{\\delta}{C_0 - k_0C_l^*} \\: dC^*_l $$\n",
    "\n",
    "Define integral:\n",
    "\n",
    "$$ \\int^{x^*}_0 dx = \\int_{C_0}^{C_l^*}\\frac{\\delta}{C_0 - k_0C_l^*} \\: dC^*_l $$\n",
    "\n",
    "---"
   ]
  },
  {
   "cell_type": "markdown",
   "metadata": {},
   "source": [
    "#### c) Perform the integration to obtain the result\n",
    "\n",
    "$$ \\frac{C_l^*}{C_0} = \\frac{1}{k_0} \\Bigg[ 1 - (1-k_0)exp \\bigg(-\\frac{k_0x^*}{\\delta} \\bigg) \\Bigg]$$"
   ]
  },
  {
   "cell_type": "markdown",
   "metadata": {},
   "source": [
    "Performing the integral:\n",
    "\n",
    "$$ x^* = - \\frac{\\delta}{k_0} \\Big[ ln(C_0-k_0C_l^*) - ln(C_0-k_0C_0) \\Big] $$\n",
    "\n",
    "Rearranging:\n",
    "\n",
    "$$ - \\frac{k_0x^*}{\\delta} = ln \\Bigg( \\frac{C_0-k_0C_l^*}{C_0-k_0C_0} \\Bigg) $$\n",
    "\n",
    "exp from both sides:\n",
    "\n",
    "$$ exp \\Big( - \\frac{k_0x^*}{\\delta} \\Big) = \\frac{C_0-k_0C_l^*}{C_0-k_0C_0}  $$\n",
    "\n",
    "Rearrange:\n",
    "\n",
    "$$ exp \\Big( - \\frac{k_0x^*}{\\delta} \\Big) = \\frac{1-\\frac{k_0C_l^*}{C_0}}{1-k_0}  $$\n",
    "\n",
    "Rearrange:\n",
    "\n",
    "$$ (1-k_0)exp \\Big( - \\frac{k_0x^*}{\\delta} \\Big) = 1-\\frac{k_0C_l^*}{C_0}  $$\n",
    "\n",
    "Rearrange:\n",
    "\n",
    "$$ \\frac{k_0C_l^*}{C_0}  = 1- (1-k_0)exp \\Big( - \\frac{k_0x^*}{\\delta} \\Big) $$\n",
    "\n",
    "Rearrange:\n",
    "\n",
    "$$ \\frac{C_l^*}{C_0}  = \\frac{1}{k_0} \\Big[ 1- (1-k_0)exp \\Big( - \\frac{k_0x^*}{\\delta} \\Big) \\Big] $$\n",
    "\n",
    "---"
   ]
  },
  {
   "cell_type": "markdown",
   "metadata": {},
   "source": [
    "#### d) Real zone melting processes perform multiple passes. One cannot find an analytical solution for the later passes. Sketch the solute profile that you would expect to see after the second and tenth passes. What would happen if this were a multicomponent aloy, whose constituents had different segregation coefficients."
   ]
  },
  {
   "cell_type": "markdown",
   "metadata": {},
   "source": [
    "Let's make a visualisation of the zone melting process. Let\n",
    "s use the data for Al- 4.5wt%Cu from table B2, p. 387\n",
    "\n",
    "We have the following equation for the solid concentration at the solidification interface:\n",
    "\n",
    "$$ C_S^*  =  C_0 \\Big[ 1- (1-k_0)exp \\Big( \\frac{k_0x^*}{\\delta} \\Big) \\Big] $$\n",
    "\n",
    "And the following equation for the liquid concentration at the solidification interface:\n",
    "\n",
    "$$ C_l^*  = \\frac{C_0}{k_0} \\Big[ 1- (1-k_0)exp \\Big( \\frac{k_0x^*}{\\delta} \\Big) \\Big] $$\n"
   ]
  },
  {
   "cell_type": "code",
   "execution_count": 2,
   "metadata": {
    "collapsed": false
   },
   "outputs": [
    {
     "data": {
      "text/html": [
       "\n",
       "\n",
       "    <div class=\"bk-root\">\n",
       "        <div class=\"plotdiv\" id=\"85e0af31-711a-4b2b-aa7d-411bafaba695\"></div>\n",
       "    </div>\n",
       "<script type=\"text/javascript\">\n",
       "  \n",
       "  (function(global) {\n",
       "    function now() {\n",
       "      return new Date();\n",
       "    }\n",
       "  \n",
       "    var force = \"\";\n",
       "  \n",
       "    if (typeof (window._bokeh_onload_callbacks) === \"undefined\" || force !== \"\") {\n",
       "      window._bokeh_onload_callbacks = [];\n",
       "      window._bokeh_is_loading = undefined;\n",
       "    }\n",
       "  \n",
       "  \n",
       "    \n",
       "    if (typeof (window._bokeh_timeout) === \"undefined\" || force !== \"\") {\n",
       "      window._bokeh_timeout = Date.now() + 0;\n",
       "      window._bokeh_failed_load = false;\n",
       "    }\n",
       "  \n",
       "    var NB_LOAD_WARNING = {'data': {'text/html':\n",
       "       \"<div style='background-color: #fdd'>\\n\"+\n",
       "       \"<p>\\n\"+\n",
       "       \"BokehJS does not appear to have successfully loaded. If loading BokehJS from CDN, this \\n\"+\n",
       "       \"may be due to a slow or bad network connection. Possible fixes:\\n\"+\n",
       "       \"</p>\\n\"+\n",
       "       \"<ul>\\n\"+\n",
       "       \"<li>re-rerun `output_notebook()` to attempt to load from CDN again, or</li>\\n\"+\n",
       "       \"<li>use INLINE resources instead, as so:</li>\\n\"+\n",
       "       \"</ul>\\n\"+\n",
       "       \"<code>\\n\"+\n",
       "       \"from bokeh.resources import INLINE\\n\"+\n",
       "       \"output_notebook(resources=INLINE)\\n\"+\n",
       "       \"</code>\\n\"+\n",
       "       \"</div>\"}};\n",
       "  \n",
       "    function display_loaded() {\n",
       "      if (window.Bokeh !== undefined) {\n",
       "        Bokeh.$(\"#85e0af31-711a-4b2b-aa7d-411bafaba695\").text(\"BokehJS successfully loaded.\");\n",
       "      } else if (Date.now() < window._bokeh_timeout) {\n",
       "        setTimeout(display_loaded, 100)\n",
       "      }\n",
       "    }\n",
       "  \n",
       "    function run_callbacks() {\n",
       "      window._bokeh_onload_callbacks.forEach(function(callback) { callback() });\n",
       "      delete window._bokeh_onload_callbacks\n",
       "      console.info(\"Bokeh: all callbacks have finished\");\n",
       "    }\n",
       "  \n",
       "    function load_libs(js_urls, callback) {\n",
       "      window._bokeh_onload_callbacks.push(callback);\n",
       "      if (window._bokeh_is_loading > 0) {\n",
       "        console.log(\"Bokeh: BokehJS is being loaded, scheduling callback at\", now());\n",
       "        return null;\n",
       "      }\n",
       "      if (js_urls == null || js_urls.length === 0) {\n",
       "        run_callbacks();\n",
       "        return null;\n",
       "      }\n",
       "      console.log(\"Bokeh: BokehJS not loaded, scheduling load and callback at\", now());\n",
       "      window._bokeh_is_loading = js_urls.length;\n",
       "      for (var i = 0; i < js_urls.length; i++) {\n",
       "        var url = js_urls[i];\n",
       "        var s = document.createElement('script');\n",
       "        s.src = url;\n",
       "        s.async = false;\n",
       "        s.onreadystatechange = s.onload = function() {\n",
       "          window._bokeh_is_loading--;\n",
       "          if (window._bokeh_is_loading === 0) {\n",
       "            console.log(\"Bokeh: all BokehJS libraries loaded\");\n",
       "            run_callbacks()\n",
       "          }\n",
       "        };\n",
       "        s.onerror = function() {\n",
       "          console.warn(\"failed to load library \" + url);\n",
       "        };\n",
       "        console.log(\"Bokeh: injecting script tag for BokehJS library: \", url);\n",
       "        document.getElementsByTagName(\"head\")[0].appendChild(s);\n",
       "      }\n",
       "    };var element = document.getElementById(\"85e0af31-711a-4b2b-aa7d-411bafaba695\");\n",
       "    if (element == null) {\n",
       "      console.log(\"Bokeh: ERROR: autoload.js configured with elementid '85e0af31-711a-4b2b-aa7d-411bafaba695' but no matching script tag was found. \")\n",
       "      return false;\n",
       "    }\n",
       "  \n",
       "    var js_urls = [];\n",
       "  \n",
       "    var inline_js = [\n",
       "      function(Bokeh) {\n",
       "        Bokeh.$(function() {\n",
       "            var docs_json = {\"1bcfc3e3-20cd-4405-a287-f68d7e65b6f6\":{\"roots\":{\"references\":[{\"attributes\":{\"fill_alpha\":{\"value\":0.1},\"fill_color\":{\"value\":\"#1f77b4\"},\"line_alpha\":{\"value\":0.1},\"line_color\":{\"value\":\"#1f77b4\"},\"x\":{\"field\":\"x\"},\"y\":{\"field\":\"y\"}},\"id\":\"81db9be6-34bc-4efe-b3a0-55bc7d6f9852\",\"type\":\"Circle\"},{\"attributes\":{\"plot\":{\"id\":\"88043ef5-68ce-4ca2-b23d-d136d538fb1d\",\"subtype\":\"Figure\",\"type\":\"Plot\"},\"ticker\":{\"id\":\"14d46254-50ad-496a-8e52-b9487a8ed699\",\"type\":\"BasicTicker\"}},\"id\":\"01e1b5f2-7d5b-42bb-bde7-e761f4d8b1cb\",\"type\":\"Grid\"},{\"attributes\":{\"line_color\":{\"value\":\"red\"},\"x\":{\"field\":\"x\"},\"y\":{\"field\":\"y\"}},\"id\":\"c2b2c1f6-127d-4f65-bb14-26d86e5614d5\",\"type\":\"Line\"},{\"attributes\":{\"line_color\":{\"value\":\"purple\"},\"x\":{\"field\":\"x\"},\"y\":{\"field\":\"y\"}},\"id\":\"1e9f45b6-6c3c-416d-b036-698cb26ad4a1\",\"type\":\"Line\"},{\"attributes\":{\"data_source\":{\"id\":\"21e63142-247f-4d53-a28c-4c90404840c6\",\"type\":\"ColumnDataSource\"},\"glyph\":{\"id\":\"25bd9739-4328-48c9-a854-9b531ae3a165\",\"type\":\"Circle\"},\"hover_glyph\":null,\"nonselection_glyph\":{\"id\":\"81db9be6-34bc-4efe-b3a0-55bc7d6f9852\",\"type\":\"Circle\"},\"selection_glyph\":null},\"id\":\"9a3ff72e-8fee-45ad-ab25-748c2df17fb9\",\"type\":\"GlyphRenderer\"},{\"attributes\":{\"data_source\":{\"id\":\"66cbd2f4-2d4e-45dd-aa95-dddeb09aa906\",\"type\":\"ColumnDataSource\"},\"glyph\":{\"id\":\"1e9f45b6-6c3c-416d-b036-698cb26ad4a1\",\"type\":\"Line\"},\"hover_glyph\":null,\"nonselection_glyph\":{\"id\":\"053dc79d-3ee0-425a-a36d-7497cac4532b\",\"type\":\"Line\"},\"selection_glyph\":null},\"id\":\"d5d99483-9bc6-49a1-8366-1c328f6e988f\",\"type\":\"GlyphRenderer\"},{\"attributes\":{\"data_source\":{\"id\":\"c0374188-c214-4a5b-99d3-5a9147ee4905\",\"type\":\"ColumnDataSource\"},\"glyph\":{\"id\":\"1ea1d58b-a510-4111-b375-df351f77929a\",\"type\":\"Circle\"},\"hover_glyph\":null,\"nonselection_glyph\":{\"id\":\"741ba527-7f18-4c8a-ab39-1c43e1a22aa6\",\"type\":\"Circle\"},\"selection_glyph\":null},\"id\":\"f4b72c82-387c-441c-a2d6-7a9a130f6c23\",\"type\":\"GlyphRenderer\"},{\"attributes\":{\"overlay\":{\"id\":\"b68540e5-d772-42fc-a5eb-4c56ac347146\",\"type\":\"BoxAnnotation\"},\"plot\":{\"id\":\"88043ef5-68ce-4ca2-b23d-d136d538fb1d\",\"subtype\":\"Figure\",\"type\":\"Plot\"}},\"id\":\"d7959d51-cf69-4cb3-8ed0-9e97e8bd7969\",\"type\":\"BoxZoomTool\"},{\"attributes\":{\"below\":[{\"id\":\"bf751aaa-c08b-45b5-b036-bd7ac044d672\",\"type\":\"LinearAxis\"}],\"left\":[{\"id\":\"8384d109-1c44-4efd-867a-0ec33d854734\",\"type\":\"LinearAxis\"}],\"plot_height\":300,\"plot_width\":500,\"renderers\":[{\"id\":\"bf751aaa-c08b-45b5-b036-bd7ac044d672\",\"type\":\"LinearAxis\"},{\"id\":\"01e1b5f2-7d5b-42bb-bde7-e761f4d8b1cb\",\"type\":\"Grid\"},{\"id\":\"8384d109-1c44-4efd-867a-0ec33d854734\",\"type\":\"LinearAxis\"},{\"id\":\"80d7191f-df75-4061-91ac-01f39a65ad86\",\"type\":\"Grid\"},{\"id\":\"b68540e5-d772-42fc-a5eb-4c56ac347146\",\"type\":\"BoxAnnotation\"},{\"id\":\"6e9e9fb7-9d7e-4329-bb53-36019aee0e66\",\"type\":\"Legend\"},{\"id\":\"026d0ada-05cb-4dd4-986e-d76bd927ebaf\",\"type\":\"GlyphRenderer\"},{\"id\":\"fb57512a-5f44-4aa5-b1d4-72269e817fb4\",\"type\":\"GlyphRenderer\"},{\"id\":\"f4b72c82-387c-441c-a2d6-7a9a130f6c23\",\"type\":\"GlyphRenderer\"},{\"id\":\"9a3ff72e-8fee-45ad-ab25-748c2df17fb9\",\"type\":\"GlyphRenderer\"},{\"id\":\"d5d99483-9bc6-49a1-8366-1c328f6e988f\",\"type\":\"GlyphRenderer\"}],\"title\":{\"id\":\"0ba44e31-94ac-48a6-9ebc-8aec65485836\",\"type\":\"Title\"},\"tool_events\":{\"id\":\"4661620d-4b5a-4c6d-bde5-44ba54f18900\",\"type\":\"ToolEvents\"},\"toolbar\":{\"id\":\"04015881-0b97-46c8-928d-8de421c32666\",\"type\":\"Toolbar\"},\"x_range\":{\"id\":\"3c46e95e-12e9-43e2-b11c-e1cea396c18e\",\"type\":\"DataRange1d\"},\"y_range\":{\"id\":\"a5ce0397-2a69-48dd-a4a4-af640f9d43fa\",\"type\":\"DataRange1d\"}},\"id\":\"88043ef5-68ce-4ca2-b23d-d136d538fb1d\",\"subtype\":\"Figure\",\"type\":\"Plot\"},{\"attributes\":{\"legends\":[[\"C_S analytic\",[{\"id\":\"026d0ada-05cb-4dd4-986e-d76bd927ebaf\",\"type\":\"GlyphRenderer\"}]],[\"C_L analytic\",[{\"id\":\"fb57512a-5f44-4aa5-b1d4-72269e817fb4\",\"type\":\"GlyphRenderer\"}]],[\"C_S numeric\",[{\"id\":\"f4b72c82-387c-441c-a2d6-7a9a130f6c23\",\"type\":\"GlyphRenderer\"}]],[\"C_L numeric\",[{\"id\":\"9a3ff72e-8fee-45ad-ab25-748c2df17fb9\",\"type\":\"GlyphRenderer\"}]],[\"C_0\",[{\"id\":\"d5d99483-9bc6-49a1-8366-1c328f6e988f\",\"type\":\"GlyphRenderer\"}]]],\"plot\":{\"id\":\"88043ef5-68ce-4ca2-b23d-d136d538fb1d\",\"subtype\":\"Figure\",\"type\":\"Plot\"}},\"id\":\"6e9e9fb7-9d7e-4329-bb53-36019aee0e66\",\"type\":\"Legend\"},{\"attributes\":{},\"id\":\"14d46254-50ad-496a-8e52-b9487a8ed699\",\"type\":\"BasicTicker\"},{\"attributes\":{\"line_color\":{\"value\":\"#1f77b4\"},\"x\":{\"field\":\"x\"},\"y\":{\"field\":\"y\"}},\"id\":\"23bf6818-321c-4e15-b528-56cc4cd9e251\",\"type\":\"Line\"},{\"attributes\":{},\"id\":\"1046e6e4-63ad-4aa2-b62f-5cc25169eabd\",\"type\":\"BasicTickFormatter\"},{\"attributes\":{\"plot\":{\"id\":\"88043ef5-68ce-4ca2-b23d-d136d538fb1d\",\"subtype\":\"Figure\",\"type\":\"Plot\"}},\"id\":\"a7309f3c-f4dd-425c-9af8-c428f886ae77\",\"type\":\"HelpTool\"},{\"attributes\":{\"callback\":null},\"id\":\"3c46e95e-12e9-43e2-b11c-e1cea396c18e\",\"type\":\"DataRange1d\"},{\"attributes\":{},\"id\":\"4661620d-4b5a-4c6d-bde5-44ba54f18900\",\"type\":\"ToolEvents\"},{\"attributes\":{\"dimension\":1,\"plot\":{\"id\":\"88043ef5-68ce-4ca2-b23d-d136d538fb1d\",\"subtype\":\"Figure\",\"type\":\"Plot\"},\"ticker\":{\"id\":\"d2e17417-379d-4df9-bc3f-7a425a7c8cdc\",\"type\":\"BasicTicker\"}},\"id\":\"80d7191f-df75-4061-91ac-01f39a65ad86\",\"type\":\"Grid\"},{\"attributes\":{\"plot\":null,\"text\":\"test\"},\"id\":\"0ba44e31-94ac-48a6-9ebc-8aec65485836\",\"type\":\"Title\"},{\"attributes\":{\"callback\":null,\"column_names\":[\"x\",\"y\"],\"data\":{\"x\":[0.0,0.5050505050505051,1.0101010101010102,1.5151515151515151,2.0202020202020203,2.5252525252525255,3.0303030303030303,3.5353535353535355,4.040404040404041,4.545454545454546,5.050505050505051,5.555555555555556,6.0606060606060606,6.565656565656566,7.070707070707071,7.575757575757576,8.080808080808081,8.585858585858587,9.090909090909092,9.595959595959597,10.101010101010102,10.606060606060607,11.111111111111112,11.616161616161618,12.121212121212121,12.626262626262626,13.131313131313131,13.636363636363637,14.141414141414142,14.646464646464647,15.151515151515152,15.656565656565657,16.161616161616163,16.666666666666668,17.171717171717173,17.67676767676768,18.181818181818183,18.68686868686869,19.191919191919194,19.6969696969697,20.202020202020204,20.70707070707071,21.212121212121215,21.71717171717172,22.222222222222225,22.72727272727273,23.232323232323235,23.73737373737374,24.242424242424242,24.747474747474747,25.252525252525253,25.757575757575758,26.262626262626263,26.767676767676768,27.272727272727273,27.77777777777778,28.282828282828284,28.78787878787879,29.292929292929294,29.7979797979798,30.303030303030305,30.80808080808081,31.313131313131315,31.81818181818182,32.323232323232325,32.82828282828283,33.333333333333336,33.83838383838384,34.343434343434346,34.84848484848485,35.35353535353536,35.85858585858586,36.36363636363637,36.86868686868687,37.37373737373738,37.87878787878788,38.38383838383839,38.88888888888889,39.3939393939394,39.8989898989899,40.40404040404041,40.909090909090914,41.41414141414142,41.919191919191924,42.42424242424243,42.929292929292934,43.43434343434344,43.939393939393945,44.44444444444445,44.949494949494955,45.45454545454546,45.959595959595966,46.46464646464647,46.969696969696976,47.47474747474748,47.979797979797986,48.484848484848484,48.98989898989899,49.494949494949495,50.0],\"y\":[0.045,0.046935,0.048856455,0.050764459815,0.052659108596295,0.05454049483612094,0.05640871137226809,0.058263850392662214,0.060106003439913576,0.06193526141583418,0.06375171458592334,0.06555545258382188,0.06734656441573512,0.06912513846482497,0.07089126249557119,0.07264502365810219,0.07438650849249547,0.076115802933048,0.07783299231251666,0.07953816136632903,0.08123139423676473,0.08291277447710738,0.08458238505576762,0.08624030836037724,0.0878866262018546,0.08952141981844161,0.09114476987971253,0.09275675649055454,0.09435745919512066,0.09594695698075481,0.09752532828188952,0.0990926509839163,0.10064900242702889,0.10219445941003968,0.10372909819416941,0.10525299450681022,0.10676622354526255,0.10826885998044572,0.1097609779605826,0.11124265111485852,0.11271395255705452,0.11417495488915513,0.11562573020493105,0.11706635009349654,0.11849688564284207,0.11991740744334217,0.12132798559123878,0.1227286896921001,0.1241195888642554,0.12550075174220562,0.1268722464800102,0.12823414075465012,0.12958650176936756,0.130929396256982,0.13226289048318313,0.13358705024980083,0.13490194089805221,0.13620762731176586,0.1375041739205835,0.13879164470313943,0.14007010319021745,0.14133961246788593,0.1426002351806107,0.14385203353434645,0.14509506929960603,0.1463294038145088,0.14755509798780722,0.14877221230189258,0.14998080681577933,0.15118094116806888,0.1523726745798924,0.15355606585783316,0.15473117339682832,0.15589805518305053,0.15705676879676916,0.15820737141519178,0.15934991981528543,0.16048447037657843,0.16161107908394237,0.16272980153035477,0.1638406929196423,0.1649438080692048,0.16603920141272038,0.16712692700283133,0.1682070385138115,0.16927958924421482,0.17034463211950532,0.1714022196946688,0.1724524041568061,0.17349523732770847,0.1745307706664145,0.17555905527174961,0.17658014188484736,0.17759408089165343,0.17860092232541186,0.17960071586913398,0.18059351085805003,0.1815793562820437,0.1825583007880694,0.18353039268255292]}},\"id\":\"21e63142-247f-4d53-a28c-4c90404840c6\",\"type\":\"ColumnDataSource\"},{\"attributes\":{\"bottom_units\":\"screen\",\"fill_alpha\":{\"value\":0.5},\"fill_color\":{\"value\":\"lightgrey\"},\"left_units\":\"screen\",\"level\":\"overlay\",\"line_alpha\":{\"value\":1.0},\"line_color\":{\"value\":\"black\"},\"line_dash\":[4,4],\"line_width\":{\"value\":2},\"plot\":null,\"render_mode\":\"css\",\"right_units\":\"screen\",\"top_units\":\"screen\"},\"id\":\"b68540e5-d772-42fc-a5eb-4c56ac347146\",\"type\":\"BoxAnnotation\"},{\"attributes\":{\"fill_alpha\":{\"value\":0.1},\"fill_color\":{\"value\":\"#1f77b4\"},\"line_alpha\":{\"value\":0.1},\"line_color\":{\"value\":\"#1f77b4\"},\"x\":{\"field\":\"x\"},\"y\":{\"field\":\"y\"}},\"id\":\"741ba527-7f18-4c8a-ab39-1c43e1a22aa6\",\"type\":\"Circle\"},{\"attributes\":{\"plot\":{\"id\":\"88043ef5-68ce-4ca2-b23d-d136d538fb1d\",\"subtype\":\"Figure\",\"type\":\"Plot\"}},\"id\":\"fd0431cf-f8ff-4df4-a587-8e0a502c218a\",\"type\":\"PanTool\"},{\"attributes\":{\"fill_alpha\":{\"value\":0},\"fill_color\":{\"value\":\"#1f77b4\"},\"line_color\":{\"value\":\"#1f77b4\"},\"x\":{\"field\":\"x\"},\"y\":{\"field\":\"y\"}},\"id\":\"1ea1d58b-a510-4111-b375-df351f77929a\",\"type\":\"Circle\"},{\"attributes\":{\"line_alpha\":{\"value\":0.1},\"line_color\":{\"value\":\"#1f77b4\"},\"x\":{\"field\":\"x\"},\"y\":{\"field\":\"y\"}},\"id\":\"053dc79d-3ee0-425a-a36d-7497cac4532b\",\"type\":\"Line\"},{\"attributes\":{},\"id\":\"a9d1be77-9a86-4169-a063-fd38e455d654\",\"type\":\"BasicTickFormatter\"},{\"attributes\":{\"callback\":null,\"column_names\":[\"x\",\"y\"],\"data\":{\"x\":[0.0,0.5050505050505051,1.0101010101010102,1.5151515151515151,2.0202020202020203,2.5252525252525255,3.0303030303030303,3.5353535353535355,4.040404040404041,4.545454545454546,5.050505050505051,5.555555555555556,6.0606060606060606,6.565656565656566,7.070707070707071,7.575757575757576,8.080808080808081,8.585858585858587,9.090909090909092,9.595959595959597,10.101010101010102,10.606060606060607,11.111111111111112,11.616161616161618,12.121212121212121,12.626262626262626,13.131313131313131,13.636363636363637,14.141414141414142,14.646464646464647,15.151515151515152,15.656565656565657,16.161616161616163,16.666666666666668,17.171717171717173,17.67676767676768,18.181818181818183,18.68686868686869,19.191919191919194,19.6969696969697,20.202020202020204,20.70707070707071,21.212121212121215,21.71717171717172,22.222222222222225,22.72727272727273,23.232323232323235,23.73737373737374,24.242424242424242,24.747474747474747,25.252525252525253,25.757575757575758,26.262626262626263,26.767676767676768,27.272727272727273,27.77777777777778,28.282828282828284,28.78787878787879,29.292929292929294,29.7979797979798,30.303030303030305,30.80808080808081,31.313131313131315,31.81818181818182,32.323232323232325,32.82828282828283,33.333333333333336,33.83838383838384,34.343434343434346,34.84848484848485,35.35353535353536,35.85858585858586,36.36363636363637,36.86868686868687,37.37373737373738,37.87878787878788,38.38383838383839,38.88888888888889,39.3939393939394,39.8989898989899,40.40404040404041,40.909090909090914,41.41414141414142,41.919191919191924,42.42424242424243,42.929292929292934,43.43434343434344,43.939393939393945,44.44444444444445,44.949494949494955,45.45454545454546,45.959595959595966,46.46464646464647,46.969696969696976,47.47474747474748,47.979797979797986,48.484848484848484,48.98989898989899,49.494949494949495,50.0],\"y\":[0.0063,0.0065709,0.0068399037,0.0071070243741,0.007372275203481301,0.0076356692770569315,0.007897219592117533,0.00815693905497271,0.008414840481587901,0.008670936598216786,0.008925240042029268,0.009177763361735064,0.009428519018202918,0.009677519385075498,0.00992477674937997,0.01017030331213431,0.01041411118894937,0.010656212410626725,0.010896618923752339,0.011135342591286072,0.01137239519314707,0.011607788426795041,0.011841533907807476,0.012073643170452824,0.012304127668259654,0.012532998774581836,0.012760267783159763,0.012985945908677646,0.013210044287316902,0.013432573977305684,0.013653545959464544,0.013872971137748292,0.014090860339784054,0.014307224317405566,0.014522073747183726,0.01473541923095344,0.014947271296336766,0.015157640397262409,0.015366536914481572,0.015573971156080202,0.01577995335798764,0.015984493684481724,0.01618760222869035,0.016389289013089517,0.01658956398999789,0.016788437042067905,0.01698591798277343,0.017182016556894015,0.017376742440995758,0.017570105243908788,0.017762114507201426,0.017952779705651015,0.01814211024771146,0.018330115475977477,0.018516804667645635,0.018702187034972114,0.018886271725727308,0.019069067823647215,0.019250584348881685,0.019430830258439512,0.019609814446630437,0.019787545745504023,0.019964032925285494,0.020139284694808496,0.020313309701944837,0.020486116534031224,0.020657713718293006,0.020828109722264954,0.020997312954209098,0.021165331763529634,0.021332174441184928,0.021497849220096635,0.02166236427555596,0.02182572772562707,0.02198794763154768,0.022149031998126845,0.022308988774139955,0.022467825852720974,0.022625551071751928,0.022782172214249663,0.022937697008749914,0.023092133129688663,0.023245488197780842,0.023397769780396375,0.0235489853919336,0.023699142494190067,0.023848248496730735,0.02399631075725362,0.024143336581952845,0.024289333225879176,0.02443430789329802,0.024578267738044935,0.02472121986387862,0.02486317132483147,0.02500412912555765,0.025144100221678747,0.025283091520126998,0.02542110987948611,0.025558162110329706,0.0256942549755574]}},\"id\":\"c0374188-c214-4a5b-99d3-5a9147ee4905\",\"type\":\"ColumnDataSource\"},{\"attributes\":{\"fill_alpha\":{\"value\":0},\"fill_color\":{\"value\":\"red\"},\"line_color\":{\"value\":\"red\"},\"x\":{\"field\":\"x\"},\"y\":{\"field\":\"y\"}},\"id\":\"25bd9739-4328-48c9-a854-9b531ae3a165\",\"type\":\"Circle\"},{\"attributes\":{\"line_alpha\":{\"value\":0.1},\"line_color\":{\"value\":\"#1f77b4\"},\"x\":{\"field\":\"x\"},\"y\":{\"field\":\"y\"}},\"id\":\"8e616855-bad3-4422-8ed6-f70fb4df1055\",\"type\":\"Line\"},{\"attributes\":{\"data_source\":{\"id\":\"a286e691-3d6b-4e56-b72b-cdb0d79505c2\",\"type\":\"ColumnDataSource\"},\"glyph\":{\"id\":\"c2b2c1f6-127d-4f65-bb14-26d86e5614d5\",\"type\":\"Line\"},\"hover_glyph\":null,\"nonselection_glyph\":{\"id\":\"8e616855-bad3-4422-8ed6-f70fb4df1055\",\"type\":\"Line\"},\"selection_glyph\":null},\"id\":\"fb57512a-5f44-4aa5-b1d4-72269e817fb4\",\"type\":\"GlyphRenderer\"},{\"attributes\":{\"formatter\":{\"id\":\"a9d1be77-9a86-4169-a063-fd38e455d654\",\"type\":\"BasicTickFormatter\"},\"plot\":{\"id\":\"88043ef5-68ce-4ca2-b23d-d136d538fb1d\",\"subtype\":\"Figure\",\"type\":\"Plot\"},\"ticker\":{\"id\":\"14d46254-50ad-496a-8e52-b9487a8ed699\",\"type\":\"BasicTicker\"}},\"id\":\"bf751aaa-c08b-45b5-b036-bd7ac044d672\",\"type\":\"LinearAxis\"},{\"attributes\":{\"plot\":{\"id\":\"88043ef5-68ce-4ca2-b23d-d136d538fb1d\",\"subtype\":\"Figure\",\"type\":\"Plot\"}},\"id\":\"8e39b083-4a8e-4241-bae0-8cdaca985593\",\"type\":\"WheelZoomTool\"},{\"attributes\":{\"callback\":null},\"id\":\"a5ce0397-2a69-48dd-a4a4-af640f9d43fa\",\"type\":\"DataRange1d\"},{\"attributes\":{\"callback\":null,\"column_names\":[\"x\",\"y\"],\"data\":{\"x\":[0.0,1.0204081632653061,2.0408163265306123,3.0612244897959187,4.081632653061225,5.1020408163265305,6.122448979591837,7.142857142857143,8.16326530612245,9.183673469387756,10.204081632653061,11.224489795918368,12.244897959183675,13.26530612244898,14.285714285714286,15.306122448979592,16.3265306122449,17.346938775510203,18.367346938775512,19.387755102040817,20.408163265306122,21.42857142857143,22.448979591836736,23.46938775510204,24.48979591836735,25.510204081632654,26.53061224489796,27.551020408163264,28.571428571428573,29.591836734693878,30.612244897959183,31.63265306122449,32.6530612244898,33.673469387755105,34.69387755102041,35.714285714285715,36.734693877551024,37.755102040816325,38.775510204081634,39.79591836734694,40.816326530612244,41.83673469387755,42.85714285714286,43.87755102040816,44.89795918367347,45.91836734693878,46.93877551020408,47.95918367346939,48.9795918367347,50.0],\"y\":[0.0063,0.006848926900961942,0.007390067736223632,0.007923532944568419,0.008449431398298539,0.00896787042545432,0.009478955831718256,0.009982791922008365,0.010479481521765246,0.01096912599793726,0.011451825279667972,0.011927677878690235,0.012396780909430949,0.01285923010883067,0.013315119855882103,0.013764543190891433,0.014207591834466486,0.014644356206235516,0.015074925443300524,0.015499387418428795,0.015917828757986432,0.016330334859617514,0.01673698990967247,0.01713787690038926,0.017533077646830847,0.01792267280358246,0.01830674188121197,0.01868536326249681,0.019058614218420762,0.019426570923943766,0.01978930847354815,0.02014690089656424,0.02049942117227868,0.020846941244828422,0.021189532037883402,0.02152726346912109,0.021860204464495547,0.022188422972304264,0.022511985977055362,0.022830959513138148,0.023145408678299714,0.023455397646930484,0.02376098968316118,0.024062247153774127,0.024359231540931385,0.024652003454722328,0.02494062264553327,0.02522514801624163,0.025505637634237122,0.025782148743272455]}},\"id\":\"d02e517f-3570-4385-993c-36abe35e843f\",\"type\":\"ColumnDataSource\"},{\"attributes\":{\"plot\":{\"id\":\"88043ef5-68ce-4ca2-b23d-d136d538fb1d\",\"subtype\":\"Figure\",\"type\":\"Plot\"}},\"id\":\"a44d6f8d-7f22-49f8-8797-6854da95fd46\",\"type\":\"ResetTool\"},{\"attributes\":{\"callback\":null,\"column_names\":[\"x\",\"y\"],\"data\":{\"x\":[0.0,1.0204081632653061,2.0408163265306123,3.0612244897959187,4.081632653061225,5.1020408163265305,6.122448979591837,7.142857142857143,8.16326530612245,9.183673469387756,10.204081632653061,11.224489795918368,12.244897959183675,13.26530612244898,14.285714285714286,15.306122448979592,16.3265306122449,17.346938775510203,18.367346938775512,19.387755102040817,20.408163265306122,21.42857142857143,22.448979591836736,23.46938775510204,24.48979591836735,25.510204081632654,26.53061224489796,27.551020408163264,28.571428571428573,29.591836734693878,30.612244897959183,31.63265306122449,32.6530612244898,33.673469387755105,34.69387755102041,35.714285714285715,36.734693877551024,37.755102040816325,38.775510204081634,39.79591836734694,40.816326530612244,41.83673469387755,42.85714285714286,43.87755102040816,44.89795918367347,45.91836734693878,46.93877551020408,47.95918367346939,48.9795918367347,50.0],\"y\":[0.045,0.04892090643544244,0.05278619811588308,0.05659666388977441,0.06035308141641813,0.0640562173246737,0.0677068273694161,0.07130565658577404,0.07485343944118032,0.07835089998526615,0.08179875199762836,0.08519769913350167,0.08854843506736391,0.09185164363450476,0.09510799897058644,0.09831816564922452,0.10148279881761775,0.10460254433025368,0.10767803888071802,0.11070991013163424,0.11369877684276021,0.11664524899726796,0.11954992792623192,0.12241340643135185,0.12523626890593462,0.12801909145416043,0.13076244200865692,0.13346688044640578,0.13613295870300543,0.13876122088531262,0.14135220338248677,0.14390643497545885,0.14642443694484772,0.14890672317734588,0.15135380027059572,0.15376616763657922,0.1561443176035396,0.15848873551645903,0.16079989983610973,0.16307828223670104,0.1653243477021408,0.167538554620932,0.1697213548797227,0.17187319395552947,0.17399451100665275,0.1760857389623023,0.1781473046109519,0.1801796286874402,0.18218312595883657,0.18415820530908897]}},\"id\":\"a286e691-3d6b-4e56-b72b-cdb0d79505c2\",\"type\":\"ColumnDataSource\"},{\"attributes\":{\"formatter\":{\"id\":\"1046e6e4-63ad-4aa2-b62f-5cc25169eabd\",\"type\":\"BasicTickFormatter\"},\"plot\":{\"id\":\"88043ef5-68ce-4ca2-b23d-d136d538fb1d\",\"subtype\":\"Figure\",\"type\":\"Plot\"},\"ticker\":{\"id\":\"d2e17417-379d-4df9-bc3f-7a425a7c8cdc\",\"type\":\"BasicTicker\"}},\"id\":\"8384d109-1c44-4efd-867a-0ec33d854734\",\"type\":\"LinearAxis\"},{\"attributes\":{},\"id\":\"d2e17417-379d-4df9-bc3f-7a425a7c8cdc\",\"type\":\"BasicTicker\"},{\"attributes\":{\"callback\":null,\"column_names\":[\"x\",\"y\"],\"data\":{\"x\":[0.0,1.0204081632653061,2.0408163265306123,3.0612244897959187,4.081632653061225,5.1020408163265305,6.122448979591837,7.142857142857143,8.16326530612245,9.183673469387756,10.204081632653061,11.224489795918368,12.244897959183675,13.26530612244898,14.285714285714286,15.306122448979592,16.3265306122449,17.346938775510203,18.367346938775512,19.387755102040817,20.408163265306122,21.42857142857143,22.448979591836736,23.46938775510204,24.48979591836735,25.510204081632654,26.53061224489796,27.551020408163264,28.571428571428573,29.591836734693878,30.612244897959183,31.63265306122449,32.6530612244898,33.673469387755105,34.69387755102041,35.714285714285715,36.734693877551024,37.755102040816325,38.775510204081634,39.79591836734694,40.816326530612244,41.83673469387755,42.85714285714286,43.87755102040816,44.89795918367347,45.91836734693878,46.93877551020408,47.95918367346939,48.9795918367347,50.0],\"y\":[0.045,0.045,0.045,0.045,0.045,0.045,0.045,0.045,0.045,0.045,0.045,0.045,0.045,0.045,0.045,0.045,0.045,0.045,0.045,0.045,0.045,0.045,0.045,0.045,0.045,0.045,0.045,0.045,0.045,0.045,0.045,0.045,0.045,0.045,0.045,0.045,0.045,0.045,0.045,0.045,0.045,0.045,0.045,0.045,0.045,0.045,0.045,0.045,0.045,0.045]}},\"id\":\"66cbd2f4-2d4e-45dd-aa95-dddeb09aa906\",\"type\":\"ColumnDataSource\"},{\"attributes\":{\"data_source\":{\"id\":\"d02e517f-3570-4385-993c-36abe35e843f\",\"type\":\"ColumnDataSource\"},\"glyph\":{\"id\":\"23bf6818-321c-4e15-b528-56cc4cd9e251\",\"type\":\"Line\"},\"hover_glyph\":null,\"nonselection_glyph\":{\"id\":\"5288111e-6cbe-454d-8594-219de22c30cf\",\"type\":\"Line\"},\"selection_glyph\":null},\"id\":\"026d0ada-05cb-4dd4-986e-d76bd927ebaf\",\"type\":\"GlyphRenderer\"},{\"attributes\":{\"line_alpha\":{\"value\":0.1},\"line_color\":{\"value\":\"#1f77b4\"},\"x\":{\"field\":\"x\"},\"y\":{\"field\":\"y\"}},\"id\":\"5288111e-6cbe-454d-8594-219de22c30cf\",\"type\":\"Line\"},{\"attributes\":{\"active_drag\":\"auto\",\"active_scroll\":\"auto\",\"active_tap\":\"auto\",\"tools\":[{\"id\":\"fd0431cf-f8ff-4df4-a587-8e0a502c218a\",\"type\":\"PanTool\"},{\"id\":\"8e39b083-4a8e-4241-bae0-8cdaca985593\",\"type\":\"WheelZoomTool\"},{\"id\":\"d7959d51-cf69-4cb3-8ed0-9e97e8bd7969\",\"type\":\"BoxZoomTool\"},{\"id\":\"0149a1ca-cd53-4e68-97ac-69b4ef8dce39\",\"type\":\"SaveTool\"},{\"id\":\"a44d6f8d-7f22-49f8-8797-6854da95fd46\",\"type\":\"ResetTool\"},{\"id\":\"a7309f3c-f4dd-425c-9af8-c428f886ae77\",\"type\":\"HelpTool\"}]},\"id\":\"04015881-0b97-46c8-928d-8de421c32666\",\"type\":\"Toolbar\"},{\"attributes\":{\"plot\":{\"id\":\"88043ef5-68ce-4ca2-b23d-d136d538fb1d\",\"subtype\":\"Figure\",\"type\":\"Plot\"}},\"id\":\"0149a1ca-cd53-4e68-97ac-69b4ef8dce39\",\"type\":\"SaveTool\"}],\"root_ids\":[\"88043ef5-68ce-4ca2-b23d-d136d538fb1d\"]},\"title\":\"Bokeh Application\",\"version\":\"0.12.2\"}};\n",
       "            var render_items = [{\"docid\":\"1bcfc3e3-20cd-4405-a287-f68d7e65b6f6\",\"elementid\":\"85e0af31-711a-4b2b-aa7d-411bafaba695\",\"modelid\":\"88043ef5-68ce-4ca2-b23d-d136d538fb1d\"}];\n",
       "            \n",
       "            Bokeh.embed.embed_items(docs_json, render_items);\n",
       "        });\n",
       "      },\n",
       "      function(Bokeh) {\n",
       "      }\n",
       "    ];\n",
       "  \n",
       "    function run_inline_js() {\n",
       "      \n",
       "      if ((window.Bokeh !== undefined) || (force === \"1\")) {\n",
       "        for (var i = 0; i < inline_js.length; i++) {\n",
       "          inline_js[i](window.Bokeh);\n",
       "        }if (force === \"1\") {\n",
       "          display_loaded();\n",
       "        }} else if (Date.now() < window._bokeh_timeout) {\n",
       "        setTimeout(run_inline_js, 100);\n",
       "      } else if (!window._bokeh_failed_load) {\n",
       "        console.log(\"Bokeh: BokehJS failed to load within specified timeout.\");\n",
       "        window._bokeh_failed_load = true;\n",
       "      } else if (!force) {\n",
       "        var cell = $(\"#85e0af31-711a-4b2b-aa7d-411bafaba695\").parents('.cell').data().cell;\n",
       "        cell.output_area.append_execute_result(NB_LOAD_WARNING)\n",
       "      }\n",
       "  \n",
       "    }\n",
       "  \n",
       "    if (window._bokeh_is_loading === 0) {\n",
       "      console.log(\"Bokeh: BokehJS loaded, going straight to plotting\");\n",
       "      run_inline_js();\n",
       "    } else {\n",
       "      load_libs(js_urls, function() {\n",
       "        console.log(\"Bokeh: BokehJS plotting callback run at\", now());\n",
       "        run_inline_js();\n",
       "      });\n",
       "    }\n",
       "  }(this));\n",
       "</script>"
      ]
     },
     "metadata": {},
     "output_type": "display_data"
    }
   ],
   "source": [
    "C_0=0.045\n",
    "k=0.14\n",
    "delta=10\n",
    "l=50\n",
    "C_E=0.3217\n",
    "C_SM=0.0565\n",
    "C_L=C_0\n",
    "\n",
    "\n",
    "\n",
    "# Initial state: liquid nodes, with concentration C_0\n",
    "\n",
    "length_vector=np.linspace(0,l,l)\n",
    "concentration_vector=np.empty([l])\n",
    "concentration_vector.fill(C_0)\n",
    "\n",
    "grid=100\n",
    "step= l/grid\n",
    "x_vector=np.linspace(0,l,grid)\n",
    "\n",
    "C_L_vector_numeric=np.empty([grid])\n",
    "C_L_vector_numeric.fill(C_0)\n",
    "C_S_vector_numeric=np.empty([grid])\n",
    "C_S_vector_numeric.fill(k*C_0)\n",
    "\n",
    "\n",
    "\n",
    "#numeric functions for determining concentration:\n",
    "\n",
    "\n",
    "def C_L_numeric(i):\n",
    "    return (C_0-k*i)/delta\n",
    "\n",
    "def C_S_numeric(i):\n",
    "    return k*(C_0-i)/delta\n",
    "    \n",
    "\n",
    "\n",
    "#Analytic functions for determining  concentration:\n",
    "\n",
    "def dx(a):\n",
    "    return delta/(C_0-k*(C_0+i*step))\n",
    "\n",
    "\n",
    "def C_S_analytic(a):\n",
    "    return C_0*(1-(1-k)*np.exp(-k*a/delta))\n",
    "\n",
    "def C_L_analytic(a):\n",
    "    return C_0/k*(1-(1-k)*np.exp(-k*a/delta))\n",
    "\n",
    "\n",
    "# numeric solution for liquid concentration:\n",
    "for i in range(grid-1):\n",
    "    C_L_vector_numeric[i+1]=C_L_vector_numeric[i]+step*C_L_numeric(C_L_vector_numeric[i])\n",
    "\n",
    "# numeric solution for solid concentration:\n",
    "for i in range(grid-1):\n",
    "    C_S_vector_numeric[i+1]=C_S_vector_numeric[i]+step*C_S_numeric(C_S_vector_numeric[i])\n",
    "    \n",
    "f=bkp.figure(title=\"test\",height=300,width=500)\n",
    "\n",
    "# Analytic solutions:\n",
    "f.line(length_vector,C_S_analytic(length_vector),legend=\"C_S analytic\")\n",
    "f.line(length_vector,C_L_analytic(length_vector),color=\"red\",legend=\"C_L analytic\")\n",
    "\n",
    "# Numerical solutions plotted\n",
    "f.scatter(x_vector,C_S_vector_numeric, fill_alpha=0, legend='C_S numeric')\n",
    "f.scatter(x_vector,C_L_vector_numeric,fill_alpha=0,color='red',legend='C_L numeric')\n",
    "\n",
    "\n",
    "# C_0 level plotted\n",
    "a=np.empty(l)\n",
    "a.fill(C_0)\n",
    "f.line(length_vector,a,color=\"purple\",legend=\"C_0\")\n",
    "\n",
    "bkp.show(f)\n"
   ]
  },
  {
   "cell_type": "markdown",
   "metadata": {},
   "source": [
    "However, this representation lacks the final transient. We can use the Scheil equation to approximate it:\n",
    "\n",
    "$$ C_S=kC_0(1-f_S)^{k-1} $$\n",
    "\n",
    "While we're at it, let's also make a numerical solver for Scheil using the flux balance condition:\n",
    "\n",
    "$$ (C_L^*-C_S^*)dfs=(1-f_S)dC_L $$"
   ]
  },
  {
   "cell_type": "code",
   "execution_count": 3,
   "metadata": {
    "collapsed": false
   },
   "outputs": [
    {
     "data": {
      "text/html": [
       "\n",
       "\n",
       "    <div class=\"bk-root\">\n",
       "        <div class=\"plotdiv\" id=\"bc618fd3-c1ab-40e4-a426-b8fd736b16c4\"></div>\n",
       "    </div>\n",
       "<script type=\"text/javascript\">\n",
       "  \n",
       "  (function(global) {\n",
       "    function now() {\n",
       "      return new Date();\n",
       "    }\n",
       "  \n",
       "    var force = \"\";\n",
       "  \n",
       "    if (typeof (window._bokeh_onload_callbacks) === \"undefined\" || force !== \"\") {\n",
       "      window._bokeh_onload_callbacks = [];\n",
       "      window._bokeh_is_loading = undefined;\n",
       "    }\n",
       "  \n",
       "  \n",
       "    \n",
       "    if (typeof (window._bokeh_timeout) === \"undefined\" || force !== \"\") {\n",
       "      window._bokeh_timeout = Date.now() + 0;\n",
       "      window._bokeh_failed_load = false;\n",
       "    }\n",
       "  \n",
       "    var NB_LOAD_WARNING = {'data': {'text/html':\n",
       "       \"<div style='background-color: #fdd'>\\n\"+\n",
       "       \"<p>\\n\"+\n",
       "       \"BokehJS does not appear to have successfully loaded. If loading BokehJS from CDN, this \\n\"+\n",
       "       \"may be due to a slow or bad network connection. Possible fixes:\\n\"+\n",
       "       \"</p>\\n\"+\n",
       "       \"<ul>\\n\"+\n",
       "       \"<li>re-rerun `output_notebook()` to attempt to load from CDN again, or</li>\\n\"+\n",
       "       \"<li>use INLINE resources instead, as so:</li>\\n\"+\n",
       "       \"</ul>\\n\"+\n",
       "       \"<code>\\n\"+\n",
       "       \"from bokeh.resources import INLINE\\n\"+\n",
       "       \"output_notebook(resources=INLINE)\\n\"+\n",
       "       \"</code>\\n\"+\n",
       "       \"</div>\"}};\n",
       "  \n",
       "    function display_loaded() {\n",
       "      if (window.Bokeh !== undefined) {\n",
       "        Bokeh.$(\"#bc618fd3-c1ab-40e4-a426-b8fd736b16c4\").text(\"BokehJS successfully loaded.\");\n",
       "      } else if (Date.now() < window._bokeh_timeout) {\n",
       "        setTimeout(display_loaded, 100)\n",
       "      }\n",
       "    }\n",
       "  \n",
       "    function run_callbacks() {\n",
       "      window._bokeh_onload_callbacks.forEach(function(callback) { callback() });\n",
       "      delete window._bokeh_onload_callbacks\n",
       "      console.info(\"Bokeh: all callbacks have finished\");\n",
       "    }\n",
       "  \n",
       "    function load_libs(js_urls, callback) {\n",
       "      window._bokeh_onload_callbacks.push(callback);\n",
       "      if (window._bokeh_is_loading > 0) {\n",
       "        console.log(\"Bokeh: BokehJS is being loaded, scheduling callback at\", now());\n",
       "        return null;\n",
       "      }\n",
       "      if (js_urls == null || js_urls.length === 0) {\n",
       "        run_callbacks();\n",
       "        return null;\n",
       "      }\n",
       "      console.log(\"Bokeh: BokehJS not loaded, scheduling load and callback at\", now());\n",
       "      window._bokeh_is_loading = js_urls.length;\n",
       "      for (var i = 0; i < js_urls.length; i++) {\n",
       "        var url = js_urls[i];\n",
       "        var s = document.createElement('script');\n",
       "        s.src = url;\n",
       "        s.async = false;\n",
       "        s.onreadystatechange = s.onload = function() {\n",
       "          window._bokeh_is_loading--;\n",
       "          if (window._bokeh_is_loading === 0) {\n",
       "            console.log(\"Bokeh: all BokehJS libraries loaded\");\n",
       "            run_callbacks()\n",
       "          }\n",
       "        };\n",
       "        s.onerror = function() {\n",
       "          console.warn(\"failed to load library \" + url);\n",
       "        };\n",
       "        console.log(\"Bokeh: injecting script tag for BokehJS library: \", url);\n",
       "        document.getElementsByTagName(\"head\")[0].appendChild(s);\n",
       "      }\n",
       "    };var element = document.getElementById(\"bc618fd3-c1ab-40e4-a426-b8fd736b16c4\");\n",
       "    if (element == null) {\n",
       "      console.log(\"Bokeh: ERROR: autoload.js configured with elementid 'bc618fd3-c1ab-40e4-a426-b8fd736b16c4' but no matching script tag was found. \")\n",
       "      return false;\n",
       "    }\n",
       "  \n",
       "    var js_urls = [];\n",
       "  \n",
       "    var inline_js = [\n",
       "      function(Bokeh) {\n",
       "        Bokeh.$(function() {\n",
       "            var docs_json = {\"33ec308a-aa62-4959-8bcc-69e37b0f5c6c\":{\"roots\":{\"references\":[{\"attributes\":{\"overlay\":{\"id\":\"164f5135-08cc-43c4-bbd2-62f08c812e5a\",\"type\":\"BoxAnnotation\"},\"plot\":{\"id\":\"b7111074-dad8-4797-9975-07bd0ec69671\",\"subtype\":\"Figure\",\"type\":\"Plot\"}},\"id\":\"22a9b5fc-e90d-42d1-bbb1-0f0c6220d21d\",\"type\":\"BoxZoomTool\"},{\"attributes\":{\"line_color\":{\"value\":\"#1f77b4\"},\"x\":{\"field\":\"x\"},\"y\":{\"field\":\"y\"}},\"id\":\"cfc9be87-fd16-457e-8379-1baa5d242018\",\"type\":\"Line\"},{\"attributes\":{\"fill_alpha\":{\"value\":0.1},\"fill_color\":{\"value\":\"#1f77b4\"},\"line_alpha\":{\"value\":0.1},\"line_color\":{\"value\":\"#1f77b4\"},\"x\":{\"field\":\"x\"},\"y\":{\"field\":\"y\"}},\"id\":\"f2bd7dbb-76ea-41d1-93f2-3e78d3ed3ac9\",\"type\":\"Circle\"},{\"attributes\":{\"data_source\":{\"id\":\"03430fe3-64b7-48aa-b0db-8e12058b4230\",\"type\":\"ColumnDataSource\"},\"glyph\":{\"id\":\"310c88f4-9358-4a40-b1ad-799c08f75a80\",\"type\":\"Circle\"},\"hover_glyph\":null,\"nonselection_glyph\":{\"id\":\"f2bd7dbb-76ea-41d1-93f2-3e78d3ed3ac9\",\"type\":\"Circle\"},\"selection_glyph\":null},\"id\":\"932f3b61-9842-4e60-9534-74c314f6a81c\",\"type\":\"GlyphRenderer\"},{\"attributes\":{\"callback\":null},\"id\":\"6abd66fe-6aa3-4662-bd56-85d2ada8a7c9\",\"type\":\"DataRange1d\"},{\"attributes\":{\"formatter\":{\"id\":\"e9cc210f-36d4-4622-8fc8-bee49f57724c\",\"type\":\"BasicTickFormatter\"},\"plot\":{\"id\":\"b7111074-dad8-4797-9975-07bd0ec69671\",\"subtype\":\"Figure\",\"type\":\"Plot\"},\"ticker\":{\"id\":\"97484ed1-1359-4c98-af36-510450b4a224\",\"type\":\"BasicTicker\"}},\"id\":\"4bfc2bf6-aeb1-4134-a76b-92a86a947b17\",\"type\":\"LinearAxis\"},{\"attributes\":{\"dimension\":1,\"plot\":{\"id\":\"b7111074-dad8-4797-9975-07bd0ec69671\",\"subtype\":\"Figure\",\"type\":\"Plot\"},\"ticker\":{\"id\":\"fa820f19-16b5-4dc2-84a1-ccf301f51f9b\",\"type\":\"BasicTicker\"}},\"id\":\"81fbb368-0a39-4cbd-a140-46bde2b6d354\",\"type\":\"Grid\"},{\"attributes\":{\"formatter\":{\"id\":\"b3837f9a-1881-4d43-b301-960ea331ba4e\",\"type\":\"BasicTickFormatter\"},\"plot\":{\"id\":\"b7111074-dad8-4797-9975-07bd0ec69671\",\"subtype\":\"Figure\",\"type\":\"Plot\"},\"ticker\":{\"id\":\"fa820f19-16b5-4dc2-84a1-ccf301f51f9b\",\"type\":\"BasicTicker\"}},\"id\":\"e3e5f4fc-a4d0-453d-b32f-3d1441401e09\",\"type\":\"LinearAxis\"},{\"attributes\":{\"callback\":null,\"column_names\":[\"x\",\"y\"],\"data\":{\"x\":[45.0,45.05,45.1,45.15,45.2,45.25,45.3,45.35,45.4,45.45,45.5,45.55,45.6,45.65,45.7,45.75,45.8,45.85,45.9,45.95,46.0,46.05,46.1,46.15,46.2,46.25,46.3,46.35,46.4,46.45,46.5,46.55,46.6,46.65,46.7,46.75,46.8,46.85,46.9,46.95,47.0,47.05,47.1,47.15,47.2,47.25,47.3,47.35,47.4,47.45,47.5,47.55,47.6,47.65,47.7,47.75,47.8,47.85,47.9,47.95,48.0,48.05,48.1,48.15,48.2,48.25,48.3,48.35,48.4,48.45,48.5,48.55,48.6,48.65,48.7,48.75,48.8,48.85,48.9,48.95,49.0,49.05,49.1,49.15,49.2,49.25,49.3,49.35,49.4,49.45,49.5,49.55,49.6,49.65,49.7,49.75,49.8,49.85,49.9,49.95,50.0],\"y\":[0.04563946548472438,0.046035650270446114,0.04643934914033284,0.0468507834849473,0.047270183590165396,0.04769778909190976,0.048133849459211,0.048578624507684576,0.04903238494568855,0.04949541295562622,0.049968002813067285,0.05045046154660333,0.050943109641608676,0.051446281791365844,0.0519603276993326,0.05248561293667155,0.053022519859555105,0.05357144859117982,0.05413281807389912,0.0547070671974102,0.055294656009507205,0.05589606701656816,0.05651180658165801,0.05714240642893678,0.057788425263962155,0.05845045052047314,0.05912910024537321,0.059825025134885086,0.06053891073626639,0.06127147983107034,0.06202349501772072,0.06279576151320185,0.06358913019594319,0.06440450091456877,0.06524282609011953,0.06610511464268361,0.06699243627717501,0.067905926167322,0.06884679008187629,0.06981631000272293,0.0708158502910608,0.071846864465312,0.07291090266302085,0.07400961986896663,0.0751447850032366,0.07631829097638232,0.07753216583436606,0.07878858513416444,0.08008988571217258,0.08143858103250413,0.0828373783316475,0.08428919781062708,0.08579719416686812,0.08736478080677311,0.08899565713819448,0.09069383941160059,0.09246369566236433,0.09430998540740249,0.09623790487146168,0.09825313866672518,0.10036191903060177,0.10257109394886596,0.10488820576531975,0.10732158221868968,0.10988044227039521,0.11257501961659995,0.1154167074455505,0.11841822884761959,0.12159383836580118,0.12495956156280491,0.12853348127842001,0.1323360815963126,0.13639066362525365,0.14072385129582787,0.14536621086191814,0.15035301522444963,0.1557251943577969,0.16153052718589947,0.16782514997002382,0.17467548427688517,0.182160727969322,0.19037611179775063,0.19943721231020975,0.20948574570094775,0.22069747497100783,0.23329319271953167,0.2475542796926744,0.26384524178612756,0.28264719369037705,0.30460907668354636,0.33062869995735644,0.36198618090914164,0.4005743721326362,0.44932050160368814,0.5130154849413221,0.6001037570178223,0.727057831679024,0.9311427591171296,1.3196378185441489,2.395193196819762,\"Infinity\"]}},\"id\":\"f83e57f2-f66d-4c52-9ea4-0443335caafc\",\"type\":\"ColumnDataSource\"},{\"attributes\":{\"bottom_units\":\"screen\",\"fill_alpha\":{\"value\":0.5},\"fill_color\":{\"value\":\"lightgrey\"},\"left_units\":\"screen\",\"level\":\"overlay\",\"line_alpha\":{\"value\":1.0},\"line_color\":{\"value\":\"black\"},\"line_dash\":[4,4],\"line_width\":{\"value\":2},\"plot\":null,\"render_mode\":\"css\",\"right_units\":\"screen\",\"top_units\":\"screen\"},\"id\":\"164f5135-08cc-43c4-bbd2-62f08c812e5a\",\"type\":\"BoxAnnotation\"},{\"attributes\":{\"fill_alpha\":{\"value\":0},\"fill_color\":{\"value\":\"#1f77b4\"},\"line_color\":{\"value\":\"#1f77b4\"},\"x\":{\"field\":\"x\"},\"y\":{\"field\":\"y\"}},\"id\":\"310c88f4-9358-4a40-b1ad-799c08f75a80\",\"type\":\"Circle\"},{\"attributes\":{\"active_drag\":\"auto\",\"active_scroll\":\"auto\",\"active_tap\":\"auto\",\"tools\":[{\"id\":\"cf467c3d-c49d-48dc-93db-ab4d35355696\",\"type\":\"PanTool\"},{\"id\":\"16f0c99d-379b-4228-8cd8-81043206fbb0\",\"type\":\"WheelZoomTool\"},{\"id\":\"22a9b5fc-e90d-42d1-bbb1-0f0c6220d21d\",\"type\":\"BoxZoomTool\"},{\"id\":\"a9f9d528-a036-46c0-962c-f00b25059016\",\"type\":\"SaveTool\"},{\"id\":\"dd9a3ca8-109d-4200-a593-7bfe546e3768\",\"type\":\"ResetTool\"},{\"id\":\"3a6bc846-3d5e-46f2-8848-027fb96161e4\",\"type\":\"HelpTool\"}]},\"id\":\"90ff7b53-d6e7-4b24-b594-e949455d41b4\",\"type\":\"Toolbar\"},{\"attributes\":{\"line_alpha\":{\"value\":0.1},\"line_color\":{\"value\":\"#1f77b4\"},\"x\":{\"field\":\"x\"},\"y\":{\"field\":\"y\"}},\"id\":\"3d2d546d-62c0-41a8-8e82-85ac6fe736f1\",\"type\":\"Line\"},{\"attributes\":{},\"id\":\"97484ed1-1359-4c98-af36-510450b4a224\",\"type\":\"BasicTicker\"},{\"attributes\":{\"plot\":{\"id\":\"b7111074-dad8-4797-9975-07bd0ec69671\",\"subtype\":\"Figure\",\"type\":\"Plot\"}},\"id\":\"16f0c99d-379b-4228-8cd8-81043206fbb0\",\"type\":\"WheelZoomTool\"},{\"attributes\":{},\"id\":\"e9cc210f-36d4-4622-8fc8-bee49f57724c\",\"type\":\"BasicTickFormatter\"},{\"attributes\":{\"callback\":null},\"id\":\"aa210955-ad08-49cd-a42e-b7c03b597fdc\",\"type\":\"DataRange1d\"},{\"attributes\":{\"data_source\":{\"id\":\"f801b738-1a65-45b6-9d82-039738aae169\",\"type\":\"ColumnDataSource\"},\"glyph\":{\"id\":\"7f680a7f-274d-4c2f-860c-79ac4b684663\",\"type\":\"Circle\"},\"hover_glyph\":null,\"nonselection_glyph\":{\"id\":\"2551aa89-3614-4cf8-a877-b7c56504f1f2\",\"type\":\"Circle\"},\"selection_glyph\":null},\"id\":\"9f7a8391-2109-4df3-b183-948f6097e4d1\",\"type\":\"GlyphRenderer\"},{\"attributes\":{\"below\":[{\"id\":\"4bfc2bf6-aeb1-4134-a76b-92a86a947b17\",\"type\":\"LinearAxis\"}],\"left\":[{\"id\":\"e3e5f4fc-a4d0-453d-b32f-3d1441401e09\",\"type\":\"LinearAxis\"}],\"renderers\":[{\"id\":\"4bfc2bf6-aeb1-4134-a76b-92a86a947b17\",\"type\":\"LinearAxis\"},{\"id\":\"2945688a-217e-47f6-8e76-aee605b732fb\",\"type\":\"Grid\"},{\"id\":\"e3e5f4fc-a4d0-453d-b32f-3d1441401e09\",\"type\":\"LinearAxis\"},{\"id\":\"81fbb368-0a39-4cbd-a140-46bde2b6d354\",\"type\":\"Grid\"},{\"id\":\"164f5135-08cc-43c4-bbd2-62f08c812e5a\",\"type\":\"BoxAnnotation\"},{\"id\":\"fe776edb-8a98-41ef-88af-d2c477289b88\",\"type\":\"Legend\"},{\"id\":\"24f9987c-d7aa-48c8-b46c-808b30535506\",\"type\":\"GlyphRenderer\"},{\"id\":\"18168e7f-1ca7-4373-aed2-ec00ec5c3b04\",\"type\":\"GlyphRenderer\"},{\"id\":\"932f3b61-9842-4e60-9534-74c314f6a81c\",\"type\":\"GlyphRenderer\"},{\"id\":\"9f7a8391-2109-4df3-b183-948f6097e4d1\",\"type\":\"GlyphRenderer\"}],\"title\":{\"id\":\"eaaf987d-3384-428f-af4e-94b72f383318\",\"type\":\"Title\"},\"tool_events\":{\"id\":\"193ce0fc-b0cf-4fd0-8ccf-2b5377abd2c9\",\"type\":\"ToolEvents\"},\"toolbar\":{\"id\":\"90ff7b53-d6e7-4b24-b594-e949455d41b4\",\"type\":\"Toolbar\"},\"x_range\":{\"id\":\"6abd66fe-6aa3-4662-bd56-85d2ada8a7c9\",\"type\":\"DataRange1d\"},\"y_range\":{\"id\":\"aa210955-ad08-49cd-a42e-b7c03b597fdc\",\"type\":\"DataRange1d\"}},\"id\":\"b7111074-dad8-4797-9975-07bd0ec69671\",\"subtype\":\"Figure\",\"type\":\"Plot\"},{\"attributes\":{\"callback\":null,\"column_names\":[\"x\",\"y\"],\"data\":{\"x\":[45.0,45.05,45.1,45.15,45.2,45.25,45.3,45.35,45.4,45.45,45.5,45.55,45.6,45.65,45.7,45.75,45.8,45.85,45.9,45.95,46.0,46.05,46.1,46.15,46.2,46.25,46.3,46.35,46.4,46.45,46.5,46.55,46.6,46.65,46.7,46.75,46.8,46.85,46.9,46.95,47.0,47.05,47.1,47.15,47.2,47.25,47.3,47.35,47.4,47.45,47.5,47.55,47.6,47.65,47.7,47.75,47.8,47.85,47.9,47.95,48.0,48.05,48.1,48.15,48.2,48.25,48.3,48.35,48.4,48.45,48.5,48.55,48.6,48.65,48.7,48.75,48.8,48.85,48.9,48.95,49.0,49.05,49.1,49.15,49.2,49.25,49.3,49.35,49.4,49.45,49.5,49.55,49.6,49.65,49.7,49.75,49.8,49.85,49.9,49.95,50.0],\"y\":[0.3259961820337456,0.3288280680594933,0.3317137021261378,0.3346546689697304,0.3376526170459176,0.3407092617897017,0.34382638907841595,0.34700585891290453,0.35024960933317734,0.3535596605862162,0.35693811956515115,0.3603871845407245,0.36390915020782705,0.3675064130719504,0.3711814772026699,0.37493696038377927,0.37877560069247035,0.38270026354301884,0.38671394923383584,0.39081980104051606,0.3950211139017016,0.3993213437492391,0.4037241175392948,0.40823324404687655,0.41285272549267016,0.41758677007831946,0.4224398055143648,0.42741649363412304,0.4325217461969751,0.4377607419959807,0.4431389453976456,0.44866212645622494,0.4543363827614066,0.4601681631968515,0.4661642938082044,0.47233200600320524,0.47867896733387333,0.485213315141923,0.4919436933842142,0.4988792929958605,0.5060298961954678,0.5134059251908594,0.5210184958057583,0.5288794766196697,0.5370015542963289,0.5453983058725987,0.5540842788920513,0.5630750803986015,0.5723874759590399,0.5820395000634473,0.5920505794645385,0.6024416712673856,0.613235417877593,0.6244563212685447,0.6361309394487827,0.6482881085138039,0.6609591942711192,0.6741783781565416,0.6879829830426041,0.7024138456137416,0.7175157432944371,0.733337885326058,0.7499344795729109,0.7673653890981191,0.7856968956154631,0.8050025907648716,0.8253644210018654,0.8468739180340352,0.8696336545811999,0.8937589753211945,0.9193800659470688,0.9466444403165335,0.9757199481262556,1.0067984353628696,1.040100229763334,1.0758796776671926,1.1144320327836001,1.1561021000963783,1.201295182191055,1.250491080128403,1.3042621965739243,1.363297222313586,1.4284325340463462,1.5006944151804553,1.581356739996405,1.6720211930895323,1.7747310663793174,1.8921363523090264,2.0277394575578396,2.186271815148726,2.3742911912515163,2.601167905082215,2.880793454878554,3.2347195079064894,3.6983626373730907,4.334481011001262,5.266394428366521,6.7760941644982715,9.689814655232487,18.0230552587329]}},\"id\":\"f801b738-1a65-45b6-9d82-039738aae169\",\"type\":\"ColumnDataSource\"},{\"attributes\":{\"plot\":null,\"text\":null},\"id\":\"eaaf987d-3384-428f-af4e-94b72f383318\",\"type\":\"Title\"},{\"attributes\":{\"line_color\":{\"value\":\"red\"},\"x\":{\"field\":\"x\"},\"y\":{\"field\":\"y\"}},\"id\":\"919edff7-2bf7-4be3-984c-90bcdb5c2d85\",\"type\":\"Line\"},{\"attributes\":{\"callback\":null,\"column_names\":[\"x\",\"y\"],\"data\":{\"x\":[45.0,45.05,45.1,45.15,45.2,45.25,45.3,45.35,45.4,45.45,45.5,45.55,45.6,45.65,45.7,45.75,45.8,45.85,45.9,45.95,46.0,46.05,46.1,46.15,46.2,46.25,46.3,46.35,46.4,46.45,46.5,46.55,46.6,46.65,46.7,46.75,46.8,46.85,46.9,46.95,47.0,47.05,47.1,47.15,47.2,47.25,47.3,47.35,47.4,47.45,47.5,47.55,47.6,47.65,47.7,47.75,47.8,47.85,47.9,47.95,48.0,48.05,48.1,48.15,48.2,48.25,48.3,48.35,48.4,48.45,48.5,48.55,48.6,48.65,48.7,48.75,48.8,48.85,48.9,48.95,49.0,49.05,49.1,49.15,49.2,49.25,49.3,49.35,49.4,49.45,49.5,49.55,49.6,49.65,49.7,49.75,49.8,49.85,49.9,49.95,50.0],\"y\":[0.3259961820337456,0.3288260733603294,0.33170963671666315,0.33464845346390926,0.3376441685011814,0.3406984935136411,0.3438132104229357,0.34699017505488977,0.3502313210406325,0.3535386639687587,0.35691430580762346,0.36036043961859515,0.3638793545829191,0.3674734413668989,0.3711451978523757,0.3748972352619396,0.37873228471110787,0.382653204222713,0.3866629862421366,0.3907647656957871,0.39496182863933715,0.3992576215469154,0.4036557612975572,0.408160045920977,0.4127744661711582,0.41750321800337953,0.4223507160383801,0.427321608106322,0.4324207909733313,0.43765342736478813,0.44302496441229083,0.44854115366572744,0.4542080728281656,0.46003214938977693,0.46602018635799664,0.4721793903048829,0.4785174019798214,0.4850423297665856,0.49176278629911635,0.498687928590878,0.5058275020790056,0.5131918890379428,0.5207921618787203,0.5286401419211902,0.5367484643088328,0.5451306498313022,0.5538011845311862,0.5627756081011746,0.5720706122298042,0.5817041502321724,0.5916955595117678,0.6020656986473363,0.6128371011919151,0.6240341486198079,0.6356832652728177,0.6478131386542899,0.660454969016888,0.6736427529100177,0.6874136062247262,0.7018081333337512,0.716870850218584,0.7326506710633283,0.749201469752284,0.7665827301334976,0.7848603019313943,0.8041072829757139,0.8244050531825036,0.8458444917687112,0.8685274168985797,0.8925682968771779,0.9180962948458572,0.9452577256879472,0.9742190258946689,1.0051703663987703,1.0383300775851296,1.0739501087460688,1.1123228168414063,1.1537894798992818,1.1987510712144558,1.2476820305491796,1.3011480569237286,1.359829369983933,1.4245515165014981,1.4963267550067696,1.5764105355071987,1.6663799479966548,1.7682448549476744,1.8846088699009111,2.018908526359836,2.175779119168188,2.3616335711239747,2.5856155779224403,2.8612455152331155,3.209432154312058,3.664396321009443,4.286455407270159,5.193270226278743,6.651019707979497,9.425984418172492,17.10852283442687,\"Infinity\"]}},\"id\":\"a572c210-8dc2-469b-9973-64228578eb52\",\"type\":\"ColumnDataSource\"},{\"attributes\":{\"line_alpha\":{\"value\":0.1},\"line_color\":{\"value\":\"#1f77b4\"},\"x\":{\"field\":\"x\"},\"y\":{\"field\":\"y\"}},\"id\":\"08c23ce8-3c2d-4b5d-b40d-590ec150b352\",\"type\":\"Line\"},{\"attributes\":{},\"id\":\"193ce0fc-b0cf-4fd0-8ccf-2b5377abd2c9\",\"type\":\"ToolEvents\"},{\"attributes\":{\"plot\":{\"id\":\"b7111074-dad8-4797-9975-07bd0ec69671\",\"subtype\":\"Figure\",\"type\":\"Plot\"}},\"id\":\"a9f9d528-a036-46c0-962c-f00b25059016\",\"type\":\"SaveTool\"},{\"attributes\":{\"legends\":[[\"S analytic\",[{\"id\":\"24f9987c-d7aa-48c8-b46c-808b30535506\",\"type\":\"GlyphRenderer\"}]],[\"L analytic\",[{\"id\":\"18168e7f-1ca7-4373-aed2-ec00ec5c3b04\",\"type\":\"GlyphRenderer\"}]],[\"S numerical\",[{\"id\":\"932f3b61-9842-4e60-9534-74c314f6a81c\",\"type\":\"GlyphRenderer\"}]],[\"L numerical\",[{\"id\":\"9f7a8391-2109-4df3-b183-948f6097e4d1\",\"type\":\"GlyphRenderer\"}]]],\"plot\":{\"id\":\"b7111074-dad8-4797-9975-07bd0ec69671\",\"subtype\":\"Figure\",\"type\":\"Plot\"}},\"id\":\"fe776edb-8a98-41ef-88af-d2c477289b88\",\"type\":\"Legend\"},{\"attributes\":{\"plot\":{\"id\":\"b7111074-dad8-4797-9975-07bd0ec69671\",\"subtype\":\"Figure\",\"type\":\"Plot\"}},\"id\":\"cf467c3d-c49d-48dc-93db-ab4d35355696\",\"type\":\"PanTool\"},{\"attributes\":{\"data_source\":{\"id\":\"f83e57f2-f66d-4c52-9ea4-0443335caafc\",\"type\":\"ColumnDataSource\"},\"glyph\":{\"id\":\"cfc9be87-fd16-457e-8379-1baa5d242018\",\"type\":\"Line\"},\"hover_glyph\":null,\"nonselection_glyph\":{\"id\":\"3d2d546d-62c0-41a8-8e82-85ac6fe736f1\",\"type\":\"Line\"},\"selection_glyph\":null},\"id\":\"24f9987c-d7aa-48c8-b46c-808b30535506\",\"type\":\"GlyphRenderer\"},{\"attributes\":{\"fill_alpha\":{\"value\":0},\"fill_color\":{\"value\":\"red\"},\"line_color\":{\"value\":\"red\"},\"x\":{\"field\":\"x\"},\"y\":{\"field\":\"y\"}},\"id\":\"7f680a7f-274d-4c2f-860c-79ac4b684663\",\"type\":\"Circle\"},{\"attributes\":{\"plot\":{\"id\":\"b7111074-dad8-4797-9975-07bd0ec69671\",\"subtype\":\"Figure\",\"type\":\"Plot\"}},\"id\":\"3a6bc846-3d5e-46f2-8848-027fb96161e4\",\"type\":\"HelpTool\"},{\"attributes\":{\"data_source\":{\"id\":\"a572c210-8dc2-469b-9973-64228578eb52\",\"type\":\"ColumnDataSource\"},\"glyph\":{\"id\":\"919edff7-2bf7-4be3-984c-90bcdb5c2d85\",\"type\":\"Line\"},\"hover_glyph\":null,\"nonselection_glyph\":{\"id\":\"08c23ce8-3c2d-4b5d-b40d-590ec150b352\",\"type\":\"Line\"},\"selection_glyph\":null},\"id\":\"18168e7f-1ca7-4373-aed2-ec00ec5c3b04\",\"type\":\"GlyphRenderer\"},{\"attributes\":{\"plot\":{\"id\":\"b7111074-dad8-4797-9975-07bd0ec69671\",\"subtype\":\"Figure\",\"type\":\"Plot\"}},\"id\":\"dd9a3ca8-109d-4200-a593-7bfe546e3768\",\"type\":\"ResetTool\"},{\"attributes\":{},\"id\":\"fa820f19-16b5-4dc2-84a1-ccf301f51f9b\",\"type\":\"BasicTicker\"},{\"attributes\":{\"callback\":null,\"column_names\":[\"x\",\"y\"],\"data\":{\"x\":[45.0,45.05,45.1,45.15,45.2,45.25,45.3,45.35,45.4,45.45,45.5,45.55,45.6,45.65,45.7,45.75,45.8,45.85,45.9,45.95,46.0,46.05,46.1,46.15,46.2,46.25,46.3,46.35,46.4,46.45,46.5,46.55,46.6,46.65,46.7,46.75,46.8,46.85,46.9,46.95,47.0,47.05,47.1,47.15,47.2,47.25,47.3,47.35,47.4,47.45,47.5,47.55,47.6,47.65,47.7,47.75,47.8,47.85,47.9,47.95,48.0,48.05,48.1,48.15,48.2,48.25,48.3,48.35,48.4,48.45,48.5,48.55,48.6,48.65,48.7,48.75,48.8,48.85,48.9,48.95,49.0,49.05,49.1,49.15,49.2,49.25,49.3,49.35,49.4,49.45,49.5,49.55,49.6,49.65,49.7,49.75,49.8,49.85,49.9,49.95,50.0],\"y\":[0.04563946548472438,0.04603592952832906,0.04643991829765929,0.04685165365576225,0.047271366386428454,0.04769929665055823,0.04813569447097823,0.048580820247806626,0.04903494530664482,0.049498352482070254,0.049971336739121144,0.05045420583570141,0.050947281029095765,0.051450897830073034,0.05196540680837376,0.05249117445372908,0.05302858409694582,0.05357803689602261,0.054139952892736994,0.054714772145672226,0.0553029559462382,0.05590498812489345,0.05652137645550125,0.0571526541665627,0.0577993815689738,0.058462147810964704,0.05914157277201105,0.05983830910877721,0.06055304446757649,0.06128650387943728,0.06203945235567036,0.06281269770387148,0.06360709358659691,0.0644235428475592,0.06526300113314862,0.06612648084044874,0.06701505542674227,0.06792986411986923,0.06887211707379,0.06984310101942048,0.07084418546736551,0.07187682952672032,0.07294258941280618,0.07404312672675378,0.07518021760148608,0.07635576282216386,0.0775717990448872,0.07883051125580424,0.08013424663426562,0.08148553000888265,0.08288708112503543,0.08434183397743401,0.08585295850286304,0.08742388497759628,0.0890583315228296,0.09076033519193256,0.0925342871979567,0.09438497294191583,0.09631761762596458,0.09833793838592383,0.1004522040612212,0.10266730394564812,0.10499082714020752,0.10743115447373666,0.10999756538616481,0.112700362707082,0.11555101894026112,0.1185623485247649,0.12174871164136795,0.1251262565449672,0.12871320923258958,0.13253022164431463,0.13660079273767572,0.14095178095080169,0.14561403216686666,0.15062315487340688,0.15602048458970394,0.16185429401349288,0.1681813255067476,0.17506875121797633,0.18259670752034932,0.19086161112390193,0.19998055476648838,0.21009721812526366,0.22138994359949662,0.23408296703253442,0.24846234929310435,0.2648990893232636,0.28388352405809747,0.30607805412082156,0.33240076677521224,0.3641635067115101,0.40331108368299756,0.4528607311069085,0.5177707692322326,0.6068273415401766,0.7372952199713128,0.9486531830297578,1.3565740517325477,2.523227736222605]}},\"id\":\"03430fe3-64b7-48aa-b0db-8e12058b4230\",\"type\":\"ColumnDataSource\"},{\"attributes\":{},\"id\":\"b3837f9a-1881-4d43-b301-960ea331ba4e\",\"type\":\"BasicTickFormatter\"},{\"attributes\":{\"fill_alpha\":{\"value\":0.1},\"fill_color\":{\"value\":\"#1f77b4\"},\"line_alpha\":{\"value\":0.1},\"line_color\":{\"value\":\"#1f77b4\"},\"x\":{\"field\":\"x\"},\"y\":{\"field\":\"y\"}},\"id\":\"2551aa89-3614-4cf8-a877-b7c56504f1f2\",\"type\":\"Circle\"},{\"attributes\":{\"plot\":{\"id\":\"b7111074-dad8-4797-9975-07bd0ec69671\",\"subtype\":\"Figure\",\"type\":\"Plot\"},\"ticker\":{\"id\":\"97484ed1-1359-4c98-af36-510450b4a224\",\"type\":\"BasicTicker\"}},\"id\":\"2945688a-217e-47f6-8e76-aee605b732fb\",\"type\":\"Grid\"}],\"root_ids\":[\"b7111074-dad8-4797-9975-07bd0ec69671\"]},\"title\":\"Bokeh Application\",\"version\":\"0.12.2\"}};\n",
       "            var render_items = [{\"docid\":\"33ec308a-aa62-4959-8bcc-69e37b0f5c6c\",\"elementid\":\"bc618fd3-c1ab-40e4-a426-b8fd736b16c4\",\"modelid\":\"b7111074-dad8-4797-9975-07bd0ec69671\"}];\n",
       "            \n",
       "            Bokeh.embed.embed_items(docs_json, render_items);\n",
       "        });\n",
       "      },\n",
       "      function(Bokeh) {\n",
       "      }\n",
       "    ];\n",
       "  \n",
       "    function run_inline_js() {\n",
       "      \n",
       "      if ((window.Bokeh !== undefined) || (force === \"1\")) {\n",
       "        for (var i = 0; i < inline_js.length; i++) {\n",
       "          inline_js[i](window.Bokeh);\n",
       "        }if (force === \"1\") {\n",
       "          display_loaded();\n",
       "        }} else if (Date.now() < window._bokeh_timeout) {\n",
       "        setTimeout(run_inline_js, 100);\n",
       "      } else if (!window._bokeh_failed_load) {\n",
       "        console.log(\"Bokeh: BokehJS failed to load within specified timeout.\");\n",
       "        window._bokeh_failed_load = true;\n",
       "      } else if (!force) {\n",
       "        var cell = $(\"#bc618fd3-c1ab-40e4-a426-b8fd736b16c4\").parents('.cell').data().cell;\n",
       "        cell.output_area.append_execute_result(NB_LOAD_WARNING)\n",
       "      }\n",
       "  \n",
       "    }\n",
       "  \n",
       "    if (window._bokeh_is_loading === 0) {\n",
       "      console.log(\"Bokeh: BokehJS loaded, going straight to plotting\");\n",
       "      run_inline_js();\n",
       "    } else {\n",
       "      load_libs(js_urls, function() {\n",
       "        console.log(\"Bokeh: BokehJS plotting callback run at\", now());\n",
       "        run_inline_js();\n",
       "      });\n",
       "    }\n",
       "  }(this));\n",
       "</script>"
      ]
     },
     "metadata": {},
     "output_type": "display_data"
    }
   ],
   "source": [
    "scheil_grid=100\n",
    "scheil_portion= delta/grid*l\n",
    "scheil_step=scheil_portion/scheil_grid\n",
    "\n",
    "#Analytic Scheil::\n",
    "\n",
    "def f_s(a):\n",
    "    return a/l\n",
    "\n",
    "def scheil_S_analytic(a):\n",
    "    result= k*C_0*(1-a)**(k-1)\n",
    "    #return np.where(result<=C_SM,result,C_SM)\n",
    "    return result\n",
    "\n",
    "def scheil_L_analytic(a):\n",
    "    result= C_0*(1-a)**(k-1)\n",
    "    #return np.where(result<=C_E,result,C_E) \n",
    "    return result\n",
    "\n",
    "#Numerical Scheil:\n",
    "\n",
    "def scheil_S_numeric(a,b):\n",
    "    return k*(a/k-a)/(l-b)\n",
    "\n",
    "def scheil_L_numeric(a,b):\n",
    "    return (a-k*a)/(l-b)\n",
    "\n",
    "#Solver:\n",
    "scheil_x=np.linspace(l-scheil_portion,l,scheil_grid+1)\n",
    "scheil_L=np.empty(scheil_grid)\n",
    "scheil_S=np.empty(scheil_grid)\n",
    "\n",
    "scheil_L[0]=scheil_L_analytic(scheil_x[0]/l)\n",
    "scheil_S[0]=scheil_S_analytic(scheil_x[0]/l)\n",
    "\n",
    "#Solid C\n",
    "for i in range(len(scheil_S)-1):\n",
    "    update=scheil_S[i]+scheil_step*scheil_S_numeric(scheil_S[i],l-scheil_portion+(i+1)*scheil_step)\n",
    "    #if (update<=C_SM):\n",
    "    scheil_S[i+1]=update\n",
    "    #else:\n",
    "    #    scheil_S[i+1]=C_SM\n",
    "\n",
    "#Liquid C\n",
    "for i in range(len(scheil_L)-1):  \n",
    "    update=scheil_L[i]+scheil_step*scheil_L_numeric(scheil_L[i],l-scheil_portion+(i+1)*scheil_step)\n",
    "    #if (update<=C_E):\n",
    "    scheil_L[i+1]=update\n",
    "    #else:\n",
    "     #   scheil_L[i+1]=C_E\n",
    "    \n",
    "f2=bkp.figure()\n",
    "f2.line(scheil_x,scheil_S_analytic(scheil_x/l),legend=\"S analytic\")\n",
    "f2.line(scheil_x,scheil_L_analytic(scheil_x/l),color=\"red\",legend=\"L analytic\")\n",
    "f2.scatter(scheil_x,scheil_S,fill_alpha=0,legend=\"S numerical\")\n",
    "f2.scatter(scheil_x,scheil_L,color=\"red\",fill_alpha=0,legend=\"L numerical\")\n",
    "bkp.show(f2)\n"
   ]
  },
  {
   "cell_type": "markdown",
   "metadata": {
    "collapsed": true
   },
   "source": [
    "Now let's make a model that combines these two, and accepts user defined values."
   ]
  },
  {
   "cell_type": "code",
   "execution_count": 76,
   "metadata": {
    "collapsed": false,
    "scrolled": true
   },
   "outputs": [
    {
     "data": {
      "text/plain": [
       "100"
      ]
     },
     "metadata": {},
     "output_type": "display_data"
    },
    {
     "data": {
      "text/html": [
       "\n",
       "\n",
       "    <div class=\"bk-root\">\n",
       "        <div class=\"plotdiv\" id=\"c5c0917e-7f0b-4e0e-984c-6c2d612e8258\"></div>\n",
       "    </div>\n",
       "<script type=\"text/javascript\">\n",
       "  \n",
       "  (function(global) {\n",
       "    function now() {\n",
       "      return new Date();\n",
       "    }\n",
       "  \n",
       "    var force = \"\";\n",
       "  \n",
       "    if (typeof (window._bokeh_onload_callbacks) === \"undefined\" || force !== \"\") {\n",
       "      window._bokeh_onload_callbacks = [];\n",
       "      window._bokeh_is_loading = undefined;\n",
       "    }\n",
       "  \n",
       "  \n",
       "    \n",
       "    if (typeof (window._bokeh_timeout) === \"undefined\" || force !== \"\") {\n",
       "      window._bokeh_timeout = Date.now() + 0;\n",
       "      window._bokeh_failed_load = false;\n",
       "    }\n",
       "  \n",
       "    var NB_LOAD_WARNING = {'data': {'text/html':\n",
       "       \"<div style='background-color: #fdd'>\\n\"+\n",
       "       \"<p>\\n\"+\n",
       "       \"BokehJS does not appear to have successfully loaded. If loading BokehJS from CDN, this \\n\"+\n",
       "       \"may be due to a slow or bad network connection. Possible fixes:\\n\"+\n",
       "       \"</p>\\n\"+\n",
       "       \"<ul>\\n\"+\n",
       "       \"<li>re-rerun `output_notebook()` to attempt to load from CDN again, or</li>\\n\"+\n",
       "       \"<li>use INLINE resources instead, as so:</li>\\n\"+\n",
       "       \"</ul>\\n\"+\n",
       "       \"<code>\\n\"+\n",
       "       \"from bokeh.resources import INLINE\\n\"+\n",
       "       \"output_notebook(resources=INLINE)\\n\"+\n",
       "       \"</code>\\n\"+\n",
       "       \"</div>\"}};\n",
       "  \n",
       "    function display_loaded() {\n",
       "      if (window.Bokeh !== undefined) {\n",
       "        Bokeh.$(\"#c5c0917e-7f0b-4e0e-984c-6c2d612e8258\").text(\"BokehJS successfully loaded.\");\n",
       "      } else if (Date.now() < window._bokeh_timeout) {\n",
       "        setTimeout(display_loaded, 100)\n",
       "      }\n",
       "    }if ((window.Jupyter !== undefined) && Jupyter.notebook.kernel) {\n",
       "      comm_manager = Jupyter.notebook.kernel.comm_manager\n",
       "      comm_manager.register_target(\"51991648-e59d-4b9d-a451-7265ad24e270\", function () {});\n",
       "    }\n",
       "  \n",
       "    function run_callbacks() {\n",
       "      window._bokeh_onload_callbacks.forEach(function(callback) { callback() });\n",
       "      delete window._bokeh_onload_callbacks\n",
       "      console.info(\"Bokeh: all callbacks have finished\");\n",
       "    }\n",
       "  \n",
       "    function load_libs(js_urls, callback) {\n",
       "      window._bokeh_onload_callbacks.push(callback);\n",
       "      if (window._bokeh_is_loading > 0) {\n",
       "        console.log(\"Bokeh: BokehJS is being loaded, scheduling callback at\", now());\n",
       "        return null;\n",
       "      }\n",
       "      if (js_urls == null || js_urls.length === 0) {\n",
       "        run_callbacks();\n",
       "        return null;\n",
       "      }\n",
       "      console.log(\"Bokeh: BokehJS not loaded, scheduling load and callback at\", now());\n",
       "      window._bokeh_is_loading = js_urls.length;\n",
       "      for (var i = 0; i < js_urls.length; i++) {\n",
       "        var url = js_urls[i];\n",
       "        var s = document.createElement('script');\n",
       "        s.src = url;\n",
       "        s.async = false;\n",
       "        s.onreadystatechange = s.onload = function() {\n",
       "          window._bokeh_is_loading--;\n",
       "          if (window._bokeh_is_loading === 0) {\n",
       "            console.log(\"Bokeh: all BokehJS libraries loaded\");\n",
       "            run_callbacks()\n",
       "          }\n",
       "        };\n",
       "        s.onerror = function() {\n",
       "          console.warn(\"failed to load library \" + url);\n",
       "        };\n",
       "        console.log(\"Bokeh: injecting script tag for BokehJS library: \", url);\n",
       "        document.getElementsByTagName(\"head\")[0].appendChild(s);\n",
       "      }\n",
       "    };var element = document.getElementById(\"c5c0917e-7f0b-4e0e-984c-6c2d612e8258\");\n",
       "    if (element == null) {\n",
       "      console.log(\"Bokeh: ERROR: autoload.js configured with elementid 'c5c0917e-7f0b-4e0e-984c-6c2d612e8258' but no matching script tag was found. \")\n",
       "      return false;\n",
       "    }\n",
       "  \n",
       "    var js_urls = [];\n",
       "  \n",
       "    var inline_js = [\n",
       "      function(Bokeh) {\n",
       "        Bokeh.$(function() {\n",
       "            var docs_json = {\"49472f5a-6760-465b-b6aa-b76a87f535e4\":{\"roots\":{\"references\":[{\"attributes\":{\"formatter\":{\"id\":\"6f56b2be-032a-440a-8b29-6eed71349344\",\"type\":\"BasicTickFormatter\"},\"plot\":{\"id\":\"4503febd-0936-4d96-ad9a-906b4db60e89\",\"subtype\":\"Figure\",\"type\":\"Plot\"},\"ticker\":{\"id\":\"769fc001-8b96-48d7-9df9-488eacab2eee\",\"type\":\"BasicTicker\"}},\"id\":\"c46273a2-1ac0-44d0-af46-007942a24183\",\"type\":\"LinearAxis\"},{\"attributes\":{\"plot\":{\"id\":\"4503febd-0936-4d96-ad9a-906b4db60e89\",\"subtype\":\"Figure\",\"type\":\"Plot\"}},\"id\":\"0a9baa9a-e8c1-497f-a020-e393c2eaf2d0\",\"type\":\"HelpTool\"},{\"attributes\":{},\"id\":\"fe228db0-7b60-494b-8af9-bbc7cd3b6f4d\",\"type\":\"ToolEvents\"},{\"attributes\":{},\"id\":\"150ea050-438c-4bd2-a863-a52b34d69445\",\"type\":\"BasicTickFormatter\"},{\"attributes\":{\"plot\":{\"id\":\"4503febd-0936-4d96-ad9a-906b4db60e89\",\"subtype\":\"Figure\",\"type\":\"Plot\"}},\"id\":\"76376f96-6f94-4cad-ab4c-d449c65880c2\",\"type\":\"ResetTool\"},{\"attributes\":{},\"id\":\"6f56b2be-032a-440a-8b29-6eed71349344\",\"type\":\"BasicTickFormatter\"},{\"attributes\":{\"bottom_units\":\"screen\",\"fill_alpha\":{\"value\":0.5},\"fill_color\":{\"value\":\"lightgrey\"},\"left_units\":\"screen\",\"level\":\"overlay\",\"line_alpha\":{\"value\":1.0},\"line_color\":{\"value\":\"black\"},\"line_dash\":[4,4],\"line_width\":{\"value\":2},\"plot\":null,\"render_mode\":\"css\",\"right_units\":\"screen\",\"top_units\":\"screen\"},\"id\":\"3fee3258-ee25-472c-802d-712a08f0cc3f\",\"type\":\"BoxAnnotation\"},{\"attributes\":{\"callback\":null},\"id\":\"e11f7f79-4678-47d9-a438-baace1726fb9\",\"type\":\"DataRange1d\"},{\"attributes\":{\"active_drag\":\"auto\",\"active_scroll\":\"auto\",\"active_tap\":\"auto\",\"tools\":[{\"id\":\"b2873b31-f21e-43ee-a41c-6f366bbee13b\",\"type\":\"PanTool\"},{\"id\":\"37871758-ebf9-4d26-9aec-fa0fec95df37\",\"type\":\"WheelZoomTool\"},{\"id\":\"6e65d9fc-952a-4ef2-8986-2ac1e87a9858\",\"type\":\"BoxZoomTool\"},{\"id\":\"0f849f89-2c04-49da-9c03-0da89f2521fe\",\"type\":\"SaveTool\"},{\"id\":\"76376f96-6f94-4cad-ab4c-d449c65880c2\",\"type\":\"ResetTool\"},{\"id\":\"0a9baa9a-e8c1-497f-a020-e393c2eaf2d0\",\"type\":\"HelpTool\"}]},\"id\":\"d0fbd77c-9738-403c-ae94-5fba8a60ac5a\",\"type\":\"Toolbar\"},{\"attributes\":{\"plot\":{\"id\":\"4503febd-0936-4d96-ad9a-906b4db60e89\",\"subtype\":\"Figure\",\"type\":\"Plot\"}},\"id\":\"b2873b31-f21e-43ee-a41c-6f366bbee13b\",\"type\":\"PanTool\"},{\"attributes\":{\"line_alpha\":{\"value\":0.1},\"line_color\":{\"value\":\"#1f77b4\"},\"x\":{\"field\":\"x\"},\"y\":{\"field\":\"y\"}},\"id\":\"657c4f87-b509-4ee2-b0e8-246260f19133\",\"type\":\"Line\"},{\"attributes\":{},\"id\":\"4ff729c6-43cb-4508-8c78-762b983bb210\",\"type\":\"BasicTicker\"},{\"attributes\":{\"callback\":null,\"column_names\":[\"y\",\"x\"],\"data\":{\"x\":[0.0,1.0101010101010102,2.0202020202020203,3.0303030303030303,4.040404040404041,5.050505050505051,6.0606060606060606,7.070707070707071,8.080808080808081,9.090909090909092,10.101010101010102,11.111111111111112,12.121212121212121,13.131313131313131,14.141414141414142,15.151515151515152,16.161616161616163,17.171717171717173,18.181818181818183,19.191919191919194,20.202020202020204,21.212121212121215,22.222222222222225,23.232323232323235,24.242424242424242,25.252525252525253,26.262626262626263,27.272727272727273,28.282828282828284,29.292929292929294,30.303030303030305,31.313131313131315,32.323232323232325,33.333333333333336,34.343434343434346,35.35353535353536,36.36363636363637,37.37373737373738,38.38383838383839,39.3939393939394,40.40404040404041,41.41414141414142,42.42424242424243,43.43434343434344,44.44444444444445,45.45454545454546,46.46464646464647,47.47474747474748,48.484848484848484,49.494949494949495,50.505050505050505,51.515151515151516,52.525252525252526,53.535353535353536,54.54545454545455,55.55555555555556,56.56565656565657,57.57575757575758,58.58585858585859,59.5959595959596,60.60606060606061,61.61616161616162,62.62626262626263,63.63636363636364,64.64646464646465,65.65656565656566,66.66666666666667,67.67676767676768,68.68686868686869,69.6969696969697,70.70707070707071,71.71717171717172,72.72727272727273,73.73737373737374,74.74747474747475,75.75757575757576,76.76767676767678,77.77777777777779,78.7878787878788,79.7979797979798,80.80808080808082,81.81818181818183,82.82828282828284,83.83838383838385,84.84848484848486,85.85858585858587,86.86868686868688,87.87878787878789,88.8888888888889,89.89898989898991,90.90909090909092,91.91919191919193,92.92929292929294,93.93939393939395,94.94949494949496,95.95959595959597,96.96969696969697,97.97979797979798,98.98989898989899,100.0],\"y\":[0.045,0.045,0.045,0.045,0.045,0.045,0.045,0.045,0.045,0.045,0.045,0.045,0.045,0.045,0.045,0.045,0.045,0.045,0.045,0.045,0.045,0.045,0.045,0.045,0.045,0.045,0.045,0.045,0.045,0.045,0.045,0.045,0.045,0.045,0.045,0.045,0.045,0.045,0.045,0.045,0.045,0.045,0.045,0.045,0.045,0.045,0.045,0.045,0.045,0.045,0.045,0.045,0.045,0.045,0.045,0.045,0.045,0.045,0.045,0.045,0.045,0.045,0.045,0.045,0.045,0.045,0.045,0.045,0.045,0.045,0.045,0.045,0.045,0.045,0.045,0.045,0.045,0.045,0.045,0.045,0.045,0.045,0.045,0.045,0.045,0.045,0.045,0.045,0.045,0.045,0.045,0.045,0.045,0.045,0.045,0.045,0.045,0.045,0.045,0.045,0.045]}},\"id\":\"d7c52513-9f3c-4525-ab22-102f5498d8e2\",\"type\":\"ColumnDataSource\"},{\"attributes\":{\"plot\":{\"id\":\"4503febd-0936-4d96-ad9a-906b4db60e89\",\"subtype\":\"Figure\",\"type\":\"Plot\"}},\"id\":\"0f849f89-2c04-49da-9c03-0da89f2521fe\",\"type\":\"SaveTool\"},{\"attributes\":{\"dimension\":1,\"plot\":{\"id\":\"4503febd-0936-4d96-ad9a-906b4db60e89\",\"subtype\":\"Figure\",\"type\":\"Plot\"},\"ticker\":{\"id\":\"4ff729c6-43cb-4508-8c78-762b983bb210\",\"type\":\"BasicTicker\"}},\"id\":\"4525b9df-6ae3-418d-9300-01526a5df297\",\"type\":\"Grid\"},{\"attributes\":{\"overlay\":{\"id\":\"3fee3258-ee25-472c-802d-712a08f0cc3f\",\"type\":\"BoxAnnotation\"},\"plot\":{\"id\":\"4503febd-0936-4d96-ad9a-906b4db60e89\",\"subtype\":\"Figure\",\"type\":\"Plot\"}},\"id\":\"6e65d9fc-952a-4ef2-8986-2ac1e87a9858\",\"type\":\"BoxZoomTool\"},{\"attributes\":{\"data_source\":{\"id\":\"d7c52513-9f3c-4525-ab22-102f5498d8e2\",\"type\":\"ColumnDataSource\"},\"glyph\":{\"id\":\"98c6f126-7108-49e3-88f6-7f3ed4172fb1\",\"type\":\"Line\"},\"hover_glyph\":null,\"nonselection_glyph\":{\"id\":\"657c4f87-b509-4ee2-b0e8-246260f19133\",\"type\":\"Line\"},\"selection_glyph\":null},\"id\":\"b257d222-ac00-436a-a2fc-c0a9d5ca3bce\",\"type\":\"GlyphRenderer\"},{\"attributes\":{},\"id\":\"769fc001-8b96-48d7-9df9-488eacab2eee\",\"type\":\"BasicTicker\"},{\"attributes\":{\"callback\":null},\"id\":\"e9d59916-12bf-455b-bbd5-21033b5b8537\",\"type\":\"DataRange1d\"},{\"attributes\":{\"plot\":null,\"text\":\"Zone Melting\"},\"id\":\"85509c3f-b790-4964-bccd-e382950f92c4\",\"type\":\"Title\"},{\"attributes\":{\"below\":[{\"id\":\"c46273a2-1ac0-44d0-af46-007942a24183\",\"type\":\"LinearAxis\"}],\"left\":[{\"id\":\"88f62c97-2bca-4867-85bb-ce54c8cf5730\",\"type\":\"LinearAxis\"}],\"plot_height\":300,\"plot_width\":500,\"renderers\":[{\"id\":\"c46273a2-1ac0-44d0-af46-007942a24183\",\"type\":\"LinearAxis\"},{\"id\":\"c0ff9fc3-154b-46b8-a8d8-6355cf15d499\",\"type\":\"Grid\"},{\"id\":\"88f62c97-2bca-4867-85bb-ce54c8cf5730\",\"type\":\"LinearAxis\"},{\"id\":\"4525b9df-6ae3-418d-9300-01526a5df297\",\"type\":\"Grid\"},{\"id\":\"3fee3258-ee25-472c-802d-712a08f0cc3f\",\"type\":\"BoxAnnotation\"},{\"id\":\"b257d222-ac00-436a-a2fc-c0a9d5ca3bce\",\"type\":\"GlyphRenderer\"}],\"title\":{\"id\":\"85509c3f-b790-4964-bccd-e382950f92c4\",\"type\":\"Title\"},\"tool_events\":{\"id\":\"fe228db0-7b60-494b-8af9-bbc7cd3b6f4d\",\"type\":\"ToolEvents\"},\"toolbar\":{\"id\":\"d0fbd77c-9738-403c-ae94-5fba8a60ac5a\",\"type\":\"Toolbar\"},\"x_range\":{\"id\":\"e11f7f79-4678-47d9-a438-baace1726fb9\",\"type\":\"DataRange1d\"},\"y_range\":{\"id\":\"e9d59916-12bf-455b-bbd5-21033b5b8537\",\"type\":\"DataRange1d\"}},\"id\":\"4503febd-0936-4d96-ad9a-906b4db60e89\",\"subtype\":\"Figure\",\"type\":\"Plot\"},{\"attributes\":{\"plot\":{\"id\":\"4503febd-0936-4d96-ad9a-906b4db60e89\",\"subtype\":\"Figure\",\"type\":\"Plot\"}},\"id\":\"37871758-ebf9-4d26-9aec-fa0fec95df37\",\"type\":\"WheelZoomTool\"},{\"attributes\":{\"plot\":{\"id\":\"4503febd-0936-4d96-ad9a-906b4db60e89\",\"subtype\":\"Figure\",\"type\":\"Plot\"},\"ticker\":{\"id\":\"769fc001-8b96-48d7-9df9-488eacab2eee\",\"type\":\"BasicTicker\"}},\"id\":\"c0ff9fc3-154b-46b8-a8d8-6355cf15d499\",\"type\":\"Grid\"},{\"attributes\":{\"line_color\":{\"value\":\"#1f77b4\"},\"x\":{\"field\":\"x\"},\"y\":{\"field\":\"y\"}},\"id\":\"98c6f126-7108-49e3-88f6-7f3ed4172fb1\",\"type\":\"Line\"},{\"attributes\":{\"formatter\":{\"id\":\"150ea050-438c-4bd2-a863-a52b34d69445\",\"type\":\"BasicTickFormatter\"},\"plot\":{\"id\":\"4503febd-0936-4d96-ad9a-906b4db60e89\",\"subtype\":\"Figure\",\"type\":\"Plot\"},\"ticker\":{\"id\":\"4ff729c6-43cb-4508-8c78-762b983bb210\",\"type\":\"BasicTicker\"}},\"id\":\"88f62c97-2bca-4867-85bb-ce54c8cf5730\",\"type\":\"LinearAxis\"}],\"root_ids\":[\"4503febd-0936-4d96-ad9a-906b4db60e89\"]},\"title\":\"Bokeh Application\",\"version\":\"0.12.2\"}};\n",
       "            var render_items = [{\"docid\":\"49472f5a-6760-465b-b6aa-b76a87f535e4\",\"elementid\":\"c5c0917e-7f0b-4e0e-984c-6c2d612e8258\",\"modelid\":\"4503febd-0936-4d96-ad9a-906b4db60e89\",\"notebook_comms_target\":\"51991648-e59d-4b9d-a451-7265ad24e270\"}];\n",
       "            \n",
       "            Bokeh.embed.embed_items(docs_json, render_items);\n",
       "        });\n",
       "      },\n",
       "      function(Bokeh) {\n",
       "      }\n",
       "    ];\n",
       "  \n",
       "    function run_inline_js() {\n",
       "      \n",
       "      if ((window.Bokeh !== undefined) || (force === \"1\")) {\n",
       "        for (var i = 0; i < inline_js.length; i++) {\n",
       "          inline_js[i](window.Bokeh);\n",
       "        }if (force === \"1\") {\n",
       "          display_loaded();\n",
       "        }} else if (Date.now() < window._bokeh_timeout) {\n",
       "        setTimeout(run_inline_js, 100);\n",
       "      } else if (!window._bokeh_failed_load) {\n",
       "        console.log(\"Bokeh: BokehJS failed to load within specified timeout.\");\n",
       "        window._bokeh_failed_load = true;\n",
       "      } else if (!force) {\n",
       "        var cell = $(\"#c5c0917e-7f0b-4e0e-984c-6c2d612e8258\").parents('.cell').data().cell;\n",
       "        cell.output_area.append_execute_result(NB_LOAD_WARNING)\n",
       "      }\n",
       "  \n",
       "    }\n",
       "  \n",
       "    if (window._bokeh_is_loading === 0) {\n",
       "      console.log(\"Bokeh: BokehJS loaded, going straight to plotting\");\n",
       "      run_inline_js();\n",
       "    } else {\n",
       "      load_libs(js_urls, function() {\n",
       "        console.log(\"Bokeh: BokehJS plotting callback run at\", now());\n",
       "        run_inline_js();\n",
       "      });\n",
       "    }\n",
       "  }(this));\n",
       "</script>"
      ]
     },
     "metadata": {},
     "output_type": "display_data"
    }
   ],
   "source": [
    "k=0\n",
    "Cz=0\n",
    "l=0\n",
    "delta=0\n",
    "grid=0\n",
    "\n",
    "k_variable=widgets.Text()\n",
    "\n",
    "def k_func(k_0):\n",
    "    return(k_0)\n",
    "    \n",
    "def C_0_func(C_0):\n",
    "    return(C_0)\n",
    "    \n",
    "def l_func(length):\n",
    "    return(length)\n",
    "    \n",
    "def delta_func(melt_nodes):\n",
    "    return(melt_nodes)\n",
    "    \n",
    "def grid_func(grid_nodes):\n",
    "    return(grid_nodes)\n",
    "\n",
    "    \n",
    "\n",
    "    \n",
    "a1=widgets.interactive(k_func,k_0=widgets.FloatText(0.14))\n",
    "a2=widgets.interactive(C_0_func,C_0=widgets.FloatText(0.045))\n",
    "a3=widgets.interactive(l_func,length=widgets.FloatText(100))\n",
    "a4=widgets.interactive(delta_func,melt_nodes=widgets.IntText(10))\n",
    "a5=widgets.interactive(grid_func,grid_nodes=widgets.IntText(100))\n",
    "\n",
    "display.display(a1)\n",
    "display.display(a2)\n",
    "display.display(a3)\n",
    "display.display(a4)\n",
    "display.display(a5)\n",
    "k=a1.result\n",
    "C_0=a2.result\n",
    "l=a3.result\n",
    "delta=a4.result\n",
    "grid=a5.result\n",
    "\n",
    "step=l/grid\n",
    "\n",
    "C_L=np.empty(grid)\n",
    "C_L.fill(C_0)\n",
    "\n",
    "C_S=np.empty(grid)\n",
    "C_S.fill(k*C_0)\n",
    "\n",
    "C=np.empty(grid+1)\n",
    "C.fill(C_0)\n",
    "\n",
    "x_values=np.linspace(0,l,grid)\n",
    "\n",
    "# functions:\n",
    "\n",
    "#Before final transient:\n",
    "\n",
    "def C_S_zone(i):\n",
    "    return k*(C_0-i)/delta\n",
    "\n",
    "def C_L_zone(i):\n",
    "    return (C_0-k*i)/delta\n",
    "\n",
    "# during final transient:\n",
    "\n",
    "def Scheil_S(a,b):\n",
    "    return k*(a/k-a)/(l-b)\n",
    "\n",
    "def Scheil_L(a,b):\n",
    "    return (a-k*a)/(l-b)\n",
    "\n",
    "\n",
    "def update_plot(x): \n",
    "    \n",
    "    #Before final transient:\n",
    "    \n",
    "    if (x<=grid-delta):\n",
    "        #solid concentration update:\n",
    "        update=C_S[x]+step*C_S_zone(C_S[x])\n",
    "        C_S[x+1]=update\n",
    "        C[x]=update\n",
    "        #liquid concentration update:\n",
    "        update=C_L[x]+step*C_L_zone(C_L[x])\n",
    "        C_L[x+1]=update\n",
    "        for i in range(delta-1):\n",
    "            C[x+1+i]=update\n",
    "        \n",
    "        \n",
    "    #during final transient:\n",
    "    if (x>grid-delta):       \n",
    "        #solid concentration:\n",
    "        update=C_S[x]+step*Scheil_S(C_S[x],step*x)\n",
    "        C_S[x+1]=update\n",
    "        C[x]=C_S[x+1]\n",
    "        #liquid concentration:\n",
    "        #update=C_L[x]+step*Scheil_L(C_L[x],step*x)\n",
    "        #C_L[x+1]=update\n",
    "        #for i in range(grid-x-1):\n",
    "        #    C[x+i+1]=update\n",
    "    \n",
    "    push_notebook(handle=t)\n",
    "        \n",
    "    \n",
    "f=bkp.figure(title=\"Zone Melting\",height=300,width=500)  \n",
    "f.line(x_values,C)\n",
    "t=bkp.show(f, notebook_handle=True)"
   ]
  },
  {
   "cell_type": "code",
   "execution_count": 77,
   "metadata": {
    "collapsed": false
   },
   "outputs": [],
   "source": [
    "play=interact(update_plot,x=widgets.Play(value=0,min=0,max=grid))"
   ]
  },
  {
   "cell_type": "code",
   "execution_count": null,
   "metadata": {
    "collapsed": true
   },
   "outputs": [],
   "source": []
  }
 ],
 "metadata": {
  "anaconda-cloud": {
   "attach-environment": true,
   "environment": "Root",
   "summary": "juttuja",
   "url": "https://anaconda.org/mkrkkinen/solidification-week-3"
  },
  "kernelspec": {
   "display_name": "Python [Root]",
   "language": "python",
   "name": "Python [Root]"
  },
  "language_info": {
   "codemirror_mode": {
    "name": "ipython",
    "version": 3
   },
   "file_extension": ".py",
   "mimetype": "text/x-python",
   "name": "python",
   "nbconvert_exporter": "python",
   "pygments_lexer": "ipython3",
   "version": "3.5.2"
  },
  "widgets": {
   "state": {
    "02627cadf6a84d9abb6eecbec851e092": {
     "views": [
      {
       "cell_index": 15
      }
     ]
    },
    "421f0c1293f94ef8897f8b2b731e75bc": {
     "views": [
      {
       "cell_index": 15
      }
     ]
    },
    "61dad4ae6ab64a07a7a1780c3d73fbd1": {
     "views": [
      {
       "cell_index": 15
      }
     ]
    },
    "6409db408ef242ddb715b0c81aecf02e": {
     "views": [
      {
       "cell_index": 15
      }
     ]
    },
    "699395df35584cf8990950fa887f6491": {
     "views": [
      {
       "cell_index": 15
      }
     ]
    },
    "6cae5e2aff9c40c3ab3603cdd7955344": {
     "views": [
      {
       "cell_index": 15
      }
     ]
    },
    "8694643c999649d2a55f889711af164d": {
     "views": [
      {
       "cell_index": 15
      }
     ]
    },
    "8a8947df4ba047d6b34a2b4a55eb3457": {
     "views": [
      {
       "cell_index": 15
      }
     ]
    },
    "a7c7a1b51eb34968b292228e25fe2137": {
     "views": [
      {
       "cell_index": 15
      }
     ]
    },
    "b5e7c11b76e14cc9afce045382814a07": {
     "views": [
      {
       "cell_index": 15
      }
     ]
    },
    "be8464843874461cb7faa78a248bba77": {
     "views": [
      {
       "cell_index": 15
      }
     ]
    },
    "d0ba003d490a44558fd6f25c41ee8560": {
     "views": [
      {
       "cell_index": 15
      }
     ]
    },
    "d1c38e7cf1934936a393350ba75ebc69": {
     "views": [
      {
       "cell_index": 16
      }
     ]
    },
    "d53eda883f7d48f0b5bcc44f604661c9": {
     "views": [
      {
       "cell_index": 15
      }
     ]
    },
    "e01d58f1560e4af99d83aecb4b42d98e": {
     "views": [
      {
       "cell_index": 15
      }
     ]
    },
    "f9581ad12bcb4c159d91cecf338349ca": {
     "views": [
      {
       "cell_index": 15
      }
     ]
    }
   },
   "version": "1.2.0"
  }
 },
 "nbformat": 4,
 "nbformat_minor": 0
}
