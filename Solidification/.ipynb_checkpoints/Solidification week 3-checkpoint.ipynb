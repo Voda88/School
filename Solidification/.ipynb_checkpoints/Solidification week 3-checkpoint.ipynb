{
 "cells": [
  {
   "cell_type": "markdown",
   "metadata": {},
   "source": [
    "# Solidification week 3 homework\n",
    "\n",
    "### Mikko Karkkainen 11740378\n",
    "\n"
   ]
  },
  {
   "cell_type": "markdown",
   "metadata": {},
   "source": [
    "The zone melting process is used to purify materials by taking advantage of the segregation of impurities to one end of the sample in directional solidification, as seen in Fig. 5.6. In zone melting, a segment of the sample of thickness $ \\delta $ is melted, for example using an induction heater. The coil then traverses the sample beginning at one end. The heater produces sufficient stirring in the melted section that its composition can be considered to be uniform. The composition profile at some time during the first pass is shown schematically in the figure below. The initial composition of the sample is $ C_0 $, and the composition in the liquid is designated $ C_l^* $.\n",
    "\n",
    "<img src=\"https://dev-plebbit.s3.amazonaws.com/uploads/topic/picture/17/zone_melting.png\"/>\n",
    "\n",
    "a) Write a solute balance for the change in composition in the liquid when the interface moves by an increment of $ dx $ as shown. Be sure to account for both the solute rejected at the solid-liquid-interface, and the dilution associated with previously unmelted solid."
   ]
  },
  {
   "cell_type": "markdown",
   "metadata": {},
   "source": [
    "## Solution:\n",
    "\n"
   ]
  },
  {
   "cell_type": "code",
   "execution_count": null,
   "metadata": {
    "collapsed": true
   },
   "outputs": [],
   "source": []
  }
 ],
 "metadata": {
  "anaconda-cloud": {},
  "kernelspec": {
   "display_name": "Python [Root]",
   "language": "python",
   "name": "Python [Root]"
  },
  "language_info": {
   "codemirror_mode": {
    "name": "ipython",
    "version": 3
   },
   "file_extension": ".py",
   "mimetype": "text/x-python",
   "name": "python",
   "nbconvert_exporter": "python",
   "pygments_lexer": "ipython3",
   "version": "3.5.2"
  }
 },
 "nbformat": 4,
 "nbformat_minor": 0
}
