{
 "cells": [
  {
   "cell_type": "markdown",
   "metadata": {},
   "source": [
    "# Solidification week 5 homework\n",
    "\n",
    "## Mikko Karkkainen 11740378"
   ]
  },
  {
   "cell_type": "markdown",
   "metadata": {},
   "source": [
    "### Problem 1. Consider a carbon steel casting (0.8%C) of dimensions 37mm height x 33mm x 33mm. Calculate the cooling rate (G•V)for this casting. Demonstrate that the microstructure of this casting cannot be planar. What microstructure will you expect? Justify your answer."
   ]
  },
  {
   "cell_type": "markdown",
   "metadata": {},
   "source": [
    "### Solution:"
   ]
  },
  {
   "cell_type": "markdown",
   "metadata": {},
   "source": [
    "### Problem 2. Consider the graph in Fig. 8.16 in the textbook. According to the experimental data in the graph, the coarsening constant is 10-16 m3/s. Using the equations inTable 8.3, find out which assumption gives results closer to the experimentaldata. Provide a table with all the data used in your calculations. Then, using thebest equation, calculate the coarsening constant for an Al-3% Cu and Fe-0.3% Calloys. Comment on the results."
   ]
  },
  {
   "cell_type": "markdown",
   "metadata": {},
   "source": [
    "### Problem3. Calculate the change in secondary arm spacing for a Fe-0.9%C alloy for local solidification times between 10-2 and 103 seconds (plot a λ - tf graph). Note:Assume / 2 CL CE Co"
   ]
  },
  {
   "cell_type": "markdown",
   "metadata": {},
   "source": [
    "### 4. Consider a micro-volume element of an Al-4.5%Cu alloy cooled at constant heatextraction rate ofQ=2108 Jm-3s-1, from an initial temperature of 700°C. Thevolumetric grain density is of 100 grains/mm3. Calculate and graph:\n",
    "### a. the temperature and solid fraction evolution during the solidification\n",
    "### b. the evolution of the liquid composition as a function of the fraction solid\n",
    "### c. the evolution of the SDAS as a function of fraction solid, using Mortensen’s model for dynamic coarsening of spheres. Compare your result with the graph in Fig. 8.16 textbook.\n",
    "### Note : use as an example application 8.5 textbook"
   ]
  }
 ],
 "metadata": {
  "kernelspec": {
   "display_name": "Python [Root]",
   "language": "python",
   "name": "Python [Root]"
  },
  "language_info": {
   "codemirror_mode": {
    "name": "ipython",
    "version": 3
   },
   "file_extension": ".py",
   "mimetype": "text/x-python",
   "name": "python",
   "nbconvert_exporter": "python",
   "pygments_lexer": "ipython3",
   "version": "3.5.2"
  }
 },
 "nbformat": 4,
 "nbformat_minor": 0
}
