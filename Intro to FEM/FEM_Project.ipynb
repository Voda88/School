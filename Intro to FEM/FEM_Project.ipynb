{
 "cells": [
  {
   "cell_type": "code",
   "execution_count": 857,
   "metadata": {
    "collapsed": true
   },
   "outputs": [],
   "source": [
    "import numpy as np\n",
    "import sys"
   ]
  },
  {
   "cell_type": "code",
   "execution_count": 858,
   "metadata": {
    "collapsed": true
   },
   "outputs": [],
   "source": [
    "p = 6625\n",
    "nu=0.3\n",
    "E=31*10**6\n",
    "G=E/(2*(1+nu))\n",
    "\n",
    "Ri=6\n",
    "Ro=7\n",
    "Nr=3\n",
    "Nh=10\n",
    "Deltr=(Ro-Ri)/(2*Nr)\n",
    "Delth=(np.pi/2)/(2*Nh)\n",
    "\n",
    "def xx(r,theta):\n",
    "    return r*np.cos(theta)\n",
    "\n",
    "def yy(r,theta):\n",
    "    return r*np.sin(theta)\n",
    "\n",
    "Numelem = Nr * Nh\n",
    "\n",
    "Numnodes= (Nh+1) * (2*Nr+1) + Nh * (Nr+1)\n",
    "\n",
    "NPE=8\n"
   ]
  },
  {
   "cell_type": "code",
   "execution_count": 859,
   "metadata": {
    "collapsed": true
   },
   "outputs": [],
   "source": [
    "#Title\n",
    "CARD1 = 'PIPE: ELASTIC PLAIN STRAIN UNDER INTERNAL PRESSURE'"
   ]
  },
  {
   "cell_type": "code",
   "execution_count": 860,
   "metadata": {
    "collapsed": true
   },
   "outputs": [],
   "source": [
    "#ITYPE, IGRAD, ITEM, NEIGN\n",
    "CARD2 = np.array((2,1,0,0))"
   ]
  },
  {
   "cell_type": "code",
   "execution_count": 861,
   "metadata": {
    "collapsed": true
   },
   "outputs": [],
   "source": [
    "#IELTYP, NPE, MESH, NPRNT\n",
    "CARD4 = np.array((1,8,0,0))"
   ]
  },
  {
   "cell_type": "code",
   "execution_count": 862,
   "metadata": {
    "collapsed": true
   },
   "outputs": [],
   "source": [
    "#NEM, NNM\n",
    "CARD5 = np.array((Numelem,Numnodes))"
   ]
  },
  {
   "cell_type": "code",
   "execution_count": 863,
   "metadata": {
    "collapsed": true
   },
   "outputs": [],
   "source": [
    "# NOD\n",
    "CARD6=np.zeros((Nh*Nr,NPE))\n",
    "\n",
    "for i in range(0,Nh):\n",
    "    for j in range(0,Nr):\n",
    "        ELENUM = i * Nr + j \n",
    "        for k in range(0,NPE):\n",
    "            if   k==0:\n",
    "                CARD6[ELENUM,k] = i * (2 * Nr + 1) + i * (Nr + 1) + 2 * j + 1\n",
    "            elif k==1:\n",
    "                CARD6[ELENUM,k]= i * (2 * Nr + 1) + i * (Nr + 1) + 2 * j + 3\n",
    "            elif k==2:\n",
    "                CARD6[ELENUM,k]= (i + 1) * (2 * Nr + 1) + (i + 1) * (Nr + 1) + 2 * j + 3\n",
    "            elif k==3:\n",
    "                CARD6[ELENUM,k]= (i + 1) * (2 * Nr + 1) + (i + 1) * (Nr + 1) + 2 * j + 1\n",
    "            elif k==4:\n",
    "                CARD6[ELENUM,k]= i * (2 * Nr + 1) + i * (Nr + 1) + 2 * j + 2\n",
    "            elif k==5:\n",
    "                CARD6[ELENUM,k]= (i + 1) * (2 * Nr + 1) + i * (Nr + 1) +  j + 2\n",
    "            elif k==6:\n",
    "                CARD6[ELENUM,k]= (i + 1) * (2 * Nr + 1) + (i + 1) * (Nr + 1) + 2 * j + 2\n",
    "            elif k==7:\n",
    "                CARD6[ELENUM,k]= (i + 1) * (2 * Nr + 1) +  i * (Nr + 1) +  j + 1"
   ]
  },
  {
   "cell_type": "code",
   "execution_count": 864,
   "metadata": {
    "collapsed": true,
    "scrolled": true
   },
   "outputs": [],
   "source": [
    "#GLXY(I,J)\n",
    "CARD7 = np.zeros((Numnodes * 2))\n",
    "n = 0\n",
    "for i in range(0, 2 * Nh + 1):\n",
    "    if i % 2 == 0:\n",
    "        for j in range(0, 2 * Nr + 1):\n",
    "            r =  Ri + j * Deltr\n",
    "            theta = i * Delth\n",
    "            CARD7[n] = xx(r,theta)\n",
    "            n = n+1\n",
    "            CARD7[n] = yy(r, theta)\n",
    "            n = n+1\n",
    "            \n",
    "    if  i % 2 != 0:\n",
    "        for j in range(0, Nr + 1):\n",
    "            r =  Ri + j * Deltr * 2\n",
    "            theta = i * Delth\n",
    "            CARD7[n] = xx(r,theta)\n",
    "            n = n+1\n",
    "            CARD7[n] = yy(r, theta)\n",
    "            n = n+1\n",
    "            \n",
    "\n"
   ]
  },
  {
   "cell_type": "code",
   "execution_count": 865,
   "metadata": {
    "collapsed": true
   },
   "outputs": [],
   "source": [
    "# NSPV\n",
    "CARD15 = 4 * Nr + 2"
   ]
  },
  {
   "cell_type": "code",
   "execution_count": 866,
   "metadata": {
    "collapsed": true
   },
   "outputs": [],
   "source": [
    "# ISPV\n",
    "n = 1\n",
    "CARD16_1 = np.zeros((2*Nr + 1,2))\n",
    "\n",
    "for i in range(0, 2* Nr + 1):\n",
    "    CARD16_1[i,0] = n\n",
    "    n = n + 1\n",
    "n=1\n",
    "for i in range(0, 2* Nr + 1):\n",
    "    CARD16_1[i ,1] = 2\n",
    "\n",
    "n = Numnodes - (2*Nr)\n",
    "CARD16_2 = np.zeros((2*Nr + 1 ,2))\n",
    "for i in range(0, 2 * Nr + 1):\n",
    "    CARD16_2[i,0] = n\n",
    "    n = n + 1\n",
    "    \n",
    "for i in range(0, 2*Nr + 1):\n",
    "    CARD16_2[i ,1] = 1\n",
    "    \n",
    "CARD16 = np.concatenate((CARD16_1, CARD16_2)).flatten()"
   ]
  },
  {
   "cell_type": "code",
   "execution_count": 867,
   "metadata": {
    "collapsed": true,
    "scrolled": true
   },
   "outputs": [],
   "source": [
    "#VSPV\n",
    "CARD17 =  np.zeros(( 2 * (2*(Nr + 1))))"
   ]
  },
  {
   "cell_type": "code",
   "execution_count": 868,
   "metadata": {
    "collapsed": true
   },
   "outputs": [],
   "source": [
    "#NSSV\n",
    "CARD18 = 2 * (2 * Nh + 1 )"
   ]
  },
  {
   "cell_type": "code",
   "execution_count": 869,
   "metadata": {
    "collapsed": true
   },
   "outputs": [],
   "source": [
    "#ISSV\n",
    "n = 0\n",
    "CARD19 = np.zeros(( 2 * (2 * Nh + 1 ),2))\n",
    "for i in range(0, Nh ):\n",
    "        CARD19[n,0] = i * (2 * Nr + 1) + i * (Nr + 1) + 1\n",
    "        CARD19[n + 1,0] = i * (2 * Nr + 1) + i * (Nr + 1) + 1\n",
    "        CARD19[n + 2,0] = (i + 1) * (2 * Nr + 1) +  i * (Nr + 1) +  1\n",
    "        CARD19[n + 3,0] = (i + 1) * (2 * Nr + 1) +  i * (Nr + 1) +  1\n",
    "        n = n+4\n",
    "CARD19[n, 0] = Nh * (2 * Nr + 1) + Nh * (Nr + 1) + 1\n",
    "CARD19[n+1, 0] = Nh * (2 * Nr + 1) + Nh * (Nr + 1) + 1\n",
    "n=0\n",
    "for i in range(0, 2 * Nh + 1):\n",
    "    CARD19[n ,1] = 1\n",
    "    CARD19[n + 1 ,1] = 2\n",
    "    n = n+2\n",
    "\n",
    "CARD19 = CARD19.flatten()"
   ]
  },
  {
   "cell_type": "code",
   "execution_count": 870,
   "metadata": {
    "collapsed": true
   },
   "outputs": [],
   "source": [
    "#VSSV\n",
    "CARD20 = np.zeros(((4 * Nh + 2 )))\n",
    "for i in range(0, (4 * Nh + 1 ), 2):\n",
    "    if i % 4 == 0:\n",
    "        CARD20[i] = 1/6 * p * 2 * Delth * Ri * np.cos(i/2*Delth)\n",
    "        CARD20[i+1] = 1/6 * p * 2 * Delth * Ri * np.sin(i/2*Delth)\n",
    "    else:\n",
    "        CARD20[i] = 4/6 * p * 2 * Delth * Ri * np.cos(i/2*Delth)\n",
    "        CARD20[i+1] = 4/6 * p * 2 * Delth * Ri * np.sin(i/2*Delth)\n",
    "        \n",
    "        \n",
    "        "
   ]
  },
  {
   "cell_type": "code",
   "execution_count": 871,
   "metadata": {
    "collapsed": true
   },
   "outputs": [],
   "source": [
    "#LNSTRS\n",
    "CARD29 = 0"
   ]
  },
  {
   "cell_type": "code",
   "execution_count": 872,
   "metadata": {
    "collapsed": true
   },
   "outputs": [],
   "source": [
    "# E1,E2,ANU12,G12,THKNS\n",
    "CARD30 = np.array((E,E, nu, G , 1))"
   ]
  },
  {
   "cell_type": "code",
   "execution_count": 873,
   "metadata": {
    "collapsed": true
   },
   "outputs": [],
   "source": [
    "# F0, FX, FY\n",
    "CARD32 = np.array((0,0,0))"
   ]
  },
  {
   "cell_type": "code",
   "execution_count": 874,
   "metadata": {
    "scrolled": false
   },
   "outputs": [
    {
     "name": "stdout",
     "output_type": "stream",
     "text": [
      "PIPE: ELASTIC PLAIN STRAIN UNDER INTERNAL PRESSURE\n",
      "2 1 0 0\n",
      "1 8 0 0\n",
      "30 117\n",
      "1 3 14 12 2 9 13 8\n",
      "3 5 16 14 4 10 15 9\n",
      "5 7 18 16 6 11 17 10\n",
      "12 14 25 23 13 20 24 19\n",
      "14 16 27 25 15 21 26 20\n",
      "16 18 29 27 17 22 28 21\n",
      "23 25 36 34 24 31 35 30\n",
      "25 27 38 36 26 32 37 31\n",
      "27 29 40 38 28 33 39 32\n",
      "34 36 47 45 35 42 46 41\n",
      "36 38 49 47 37 43 48 42\n",
      "38 40 51 49 39 44 50 43\n",
      "45 47 58 56 46 53 57 52\n",
      "47 49 60 58 48 54 59 53\n",
      "49 51 62 60 50 55 61 54\n",
      "56 58 69 67 57 64 68 63\n",
      "58 60 71 69 59 65 70 64\n",
      "60 62 73 71 61 66 72 65\n",
      "67 69 80 78 68 75 79 74\n",
      "69 71 82 80 70 76 81 75\n",
      "71 73 84 82 72 77 83 76\n",
      "78 80 91 89 79 86 90 85\n",
      "80 82 93 91 81 87 92 86\n",
      "82 84 95 93 83 88 94 87\n",
      "89 91 102 100 90 97 101 96\n",
      "91 93 104 102 92 98 103 97\n",
      "93 95 106 104 94 99 105 98\n",
      "100 102 113 111 101 108 112 107\n",
      "102 104 115 113 103 109 114 108\n",
      "104 106 117 115 105 110 116 109\n",
      "6.00000000 0.00000000 6.16666667 0.00000000 6.33333333 0.00000000 6.50000000 0.00000000 6.66666667 0.00000000 6.83333333 0.00000000 7.00000000 0.00000000 5.98150400 0.47075457 6.31380978 0.49690761 6.64611556 0.52306064 6.97842134 0.54921367 5.92613004 0.93860679 6.09074477 0.96467920 6.25535949 0.99075161 6.41997421 1.01682402 6.58458894 1.04289643 6.74920366 1.06896884 6.91381838 1.09504126 5.83421952 1.40067218 6.15834283 1.47848730 6.48246614 1.55630243 6.80658944 1.63411755 5.70633910 1.85410197 5.86484852 1.90560480 6.02335794 1.95710763 6.18186736 2.00861046 6.34037678 2.06011330 6.49888619 2.11161613 6.65739561 2.16311896 5.54327720 2.29610059 5.85123704 2.42366174 6.15919688 2.55122288 6.46715673 2.67878403 5.34603915 2.72394300 5.49454023 2.79960808 5.64304132 2.87527317 5.79154241 2.95093825 5.94004349 3.02660333 6.08854458 3.10226841 6.23704567 3.17793350 5.11584099 3.13499139 5.40005437 3.30915758 5.68426776 3.48332376 5.96848115 3.65748995 4.85410197 3.52671151 4.98893813 3.62467572 5.12377430 3.72263993 5.25861046 3.82060414 5.39344663 3.91856835 5.52828279 4.01653256 5.66311896 4.11449677 4.56243579 3.89668829 4.81590445 4.11317097 5.06937310 4.32965366 5.32284176 4.54613634 4.24264069 4.24264069 4.36049182 4.36049182 4.47834295 4.47834295 4.59619408 4.59619408 4.71404521 4.71404521 4.83189634 4.83189634 4.94974747 4.94974747 3.89668829 4.56243579 4.11317097 4.81590445 4.32965366 5.06937310 4.54613634 5.32284176 3.52671151 4.85410197 3.62467572 4.98893813 3.72263993 5.12377430 3.82060414 5.25861046 3.91856835 5.39344663 4.01653256 5.52828279 4.11449677 5.66311896 3.13499139 5.11584099 3.30915758 5.40005437 3.48332376 5.68426776 3.65748995 5.96848115 2.72394300 5.34603915 2.79960808 5.49454023 2.87527317 5.64304132 2.95093825 5.79154241 3.02660333 5.94004349 3.10226841 6.08854458 3.17793350 6.23704567 2.29610059 5.54327720 2.42366174 5.85123704 2.55122288 6.15919688 2.67878403 6.46715673 1.85410197 5.70633910 1.90560480 5.86484852 1.95710763 6.02335794 2.00861046 6.18186736 2.06011330 6.34037678 2.11161613 6.49888619 2.16311896 6.65739561 1.40067218 5.83421952 1.47848730 6.15834283 1.55630243 6.48246614 1.63411755 6.80658944 0.93860679 5.92613004 0.96467920 6.09074477 0.99075161 6.25535949 1.01682402 6.41997421 1.04289643 6.58458894 1.06896884 6.74920366 1.09504126 6.91381838 0.47075457 5.98150400 0.49690761 6.31380978 0.52306064 6.64611556 0.54921367 6.97842134 0.00000000 6.00000000 0.00000000 6.16666667 0.00000000 6.33333333 0.00000000 6.50000000 0.00000000 6.66666667 0.00000000 6.83333333 0.00000000 7.00000000\n",
      "14\n",
      "1 2 2 2 3 2 4 2 5 2 6 2 7 2 111 1 112 1 113 1 114 1 115 1 116 1 117 1\n",
      "0   0   0   0   0   0   0   0   0   0   0   0   0   0   0   0\n",
      "42\n",
      "1 1 1 2 8 1 8 2 12 1 12 2 19 1 19 2 23 1 23 2 30 1 30 2 34 1 34 2 41 1 41 2 45 1 45 2 52 1 52 2 56 1 56 2 63 1 63 2 67 1 67 2 74 1 74 2 78 1 78 2 85 1 85 2 89 1 89 2 96 1 96 2 100 1 100 2 107 1 107 2 111 1 111 2\n",
      "1040.65256650 0.00000000 4149.77832776 326.59463734 1027.84040654 162.79392753 4047.59701300 971.74206814 989.71940457 321.57932829 3845.75042658 1592.96198419 927.22822617 472.44637872 3549.20870135 2174.95788946 841.90561154 611.68023135 3165.27367874 2703.39911322 735.85248663 735.85248663 2703.39911322 3165.27367874 611.68023135 841.90561154 2174.95788946 3549.20870135 472.44637872 927.22822617 1592.96198419 3845.75042658 321.57932829 989.71940457 971.74206814 4047.59701300 162.79392753 1027.84040654 326.59463734 4149.77832776 0.00000000 1040.65256650\n",
      "0\n",
      "31000000.0 31000000.0 0.3 11923076.9 1.0\n",
      "0 0 0\n"
     ]
    }
   ],
   "source": [
    "print(CARD1)\n",
    "np.savetxt(sys.stdout, CARD2[None], delimiter = ' ', fmt=\"%.0f\")\n",
    "np.savetxt(sys.stdout, CARD4[None], delimiter = ' ', fmt=\"%.0f\")\n",
    "np.savetxt(sys.stdout, CARD5[None], delimiter = ' ', fmt=\"%.0f\")\n",
    "np.savetxt(sys.stdout, CARD6, delimiter = ' ', fmt=\"%.0f\")\n",
    "np.savetxt(sys.stdout, CARD7[None], delimiter = ' ', fmt=\"%.8f\")\n",
    "print(CARD15)\n",
    "np.savetxt(sys.stdout, CARD16[None], delimiter = ' ', fmt=\"%.0f\")\n",
    "np.savetxt(sys.stdout, CARD17[None], delimiter = '   ', fmt=\"%.0f\")\n",
    "print(CARD18)\n",
    "np.savetxt(sys.stdout, CARD19[None], delimiter = ' ', fmt=\"%.0f\")\n",
    "np.savetxt(sys.stdout, CARD20[None], delimiter = ' ', fmt=\"%.8f\")\n",
    "print(CARD29)\n",
    "np.savetxt(sys.stdout, CARD30[None], delimiter = ' ', fmt=\"%.1f\")\n",
    "np.savetxt(sys.stdout, CARD32[None], delimiter = ' ', fmt=\"%.0f\")"
   ]
  },
  {
   "cell_type": "code",
   "execution_count": 894,
   "metadata": {
    "scrolled": true
   },
   "outputs": [],
   "source": [
    "results=np.loadtxt('C:/Users/Nastac/Documents/MikkoKarkkainen/School/Intro to FEM/FEM2DUsers/run/3-row-results.txt')"
   ]
  },
  {
   "cell_type": "code",
   "execution_count": 895,
   "metadata": {
    "collapsed": true
   },
   "outputs": [],
   "source": [
    "x = results[::,0]\n",
    "y = results[::,1]\n",
    "sigma_x = results[::,2]\n",
    "sigma_y = results[::,3]\n",
    "sigma_z = results[::,4]"
   ]
  },
  {
   "cell_type": "code",
   "execution_count": 896,
   "metadata": {
    "collapsed": true
   },
   "outputs": [],
   "source": [
    "import matplotlib.pyplot as plt\n",
    "from matplotlib.mlab import griddata"
   ]
  },
  {
   "cell_type": "code",
   "execution_count": 897,
   "metadata": {},
   "outputs": [
    {
     "data": {
      "image/png": "[encoded data removed]",
      "text/plain": [
       "<matplotlib.figure.Figure at 0xc3181d0>"
      ]
     },
     "metadata": {},
     "output_type": "display_data"
    }
   ],
   "source": [
    "plt.figure()\n",
    "xi = np.linspace(0, 7, 100)\n",
    "yi = np.linspace( 0,  7, 200)\n",
    "zi= griddata(x,y,sigma_x ,xi, yi, interp='linear')\n",
    "CS = plt.contourf(xi, yi, zi, 15,\n",
    "                  vmax=zi.max(), vmin=zi.min())\n",
    "plt.pcolor(xi, yi, zi, cmap=plt.get_cmap('jet'))\n",
    "cbar=plt.colorbar(ticks=np.linspace(zi.min(),zi.max(),10))\n",
    "plt.scatter(x, y, marker='o', s=5, zorder=10, color='black')\n",
    "\n",
    "plt.show()\n"
   ]
  },
  {
   "cell_type": "code",
   "execution_count": 898,
   "metadata": {
    "scrolled": true
   },
   "outputs": [
    {
     "name": "stdout",
     "output_type": "stream",
     "text": [
      "-6468.0\n"
     ]
    }
   ],
   "source": [
    "print((sigma_y).min())"
   ]
  },
  {
   "cell_type": "code",
   "execution_count": 899,
   "metadata": {},
   "outputs": [
    {
     "name": "stdout",
     "output_type": "stream",
     "text": [
      "-6468.0\n"
     ]
    }
   ],
   "source": [
    "print((sigma_x).min())"
   ]
  },
  {
   "cell_type": "code",
   "execution_count": 900,
   "metadata": {},
   "outputs": [
    {
     "name": "stdout",
     "output_type": "stream",
     "text": [
      "35270.0\n"
     ]
    }
   ],
   "source": [
    "print(sigma_x.max())"
   ]
  },
  {
   "cell_type": "code",
   "execution_count": 901,
   "metadata": {},
   "outputs": [
    {
     "name": "stdout",
     "output_type": "stream",
     "text": [
      "35270.0\n"
     ]
    }
   ],
   "source": [
    "print(sigma_y.max())"
   ]
  },
  {
   "cell_type": "code",
   "execution_count": 902,
   "metadata": {},
   "outputs": [
    {
     "name": "stdout",
     "output_type": "stream",
     "text": [
      "-7557.6\n"
     ]
    }
   ],
   "source": [
    "print((-nu*(sigma_x+sigma_y)).max())"
   ]
  },
  {
   "cell_type": "code",
   "execution_count": null,
   "metadata": {
    "collapsed": true
   },
   "outputs": [],
   "source": []
  }
 ],
 "metadata": {
  "kernelspec": {
   "display_name": "Python 3",
   "language": "python",
   "name": "python3"
  },
  "language_info": {
   "codemirror_mode": {
    "name": "ipython",
    "version": 3
   },
   "file_extension": ".py",
   "mimetype": "text/x-python",
   "name": "python",
   "nbconvert_exporter": "python",
   "pygments_lexer": "ipython3",
   "version": "3.6.2"
  }
 },
 "nbformat": 4,
 "nbformat_minor": 2
}
