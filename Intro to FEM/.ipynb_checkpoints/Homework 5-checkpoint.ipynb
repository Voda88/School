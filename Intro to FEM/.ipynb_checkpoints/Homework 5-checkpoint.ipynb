{
 "cells": [
  {
   "cell_type": "code",
   "execution_count": 573,
   "metadata": {
    "collapsed": true
   },
   "outputs": [],
   "source": [
    "import numpy as np\n",
    "np.set_printoptions(precision=5)"
   ]
  },
  {
   "cell_type": "markdown",
   "metadata": {},
   "source": [
    "# Problem 5.9"
   ]
  },
  {
   "cell_type": "code",
   "execution_count": 574,
   "metadata": {},
   "outputs": [],
   "source": [
    "L= 4\n",
    "EI1= 7.455 * 10**6\n",
    "EI2= 23.562 * 10**6\n"
   ]
  },
  {
   "cell_type": "code",
   "execution_count": 575,
   "metadata": {},
   "outputs": [],
   "source": [
    "K1 =(np.array([[6, -3*L, -6, -3*L, 0, 0], \n",
    "               [-3*L, 2*L**2, 3*L, L**2, 0, 0], \n",
    "               [-6, 3*L, 6, 3*L, 0, 0], \n",
    "               [-3*L, L**2, L*3, 2*L**2,0 , 0], \n",
    "               [0,0,0,0,0,0], \n",
    "               [0,0,0,0,0,0]]))"
   ]
  },
  {
   "cell_type": "code",
   "execution_count": 576,
   "metadata": {},
   "outputs": [
    {
     "name": "stdout",
     "output_type": "stream",
     "text": [
      "[[  6 -12  -6 -12   0   0]\n",
      " [-12  32  12  16   0   0]\n",
      " [ -6  12   6  12   0   0]\n",
      " [-12  16  12  32   0   0]\n",
      " [  0   0   0   0   0   0]\n",
      " [  0   0   0   0   0   0]]\n"
     ]
    }
   ],
   "source": [
    "print(K1)"
   ]
  },
  {
   "cell_type": "code",
   "execution_count": 577,
   "metadata": {},
   "outputs": [],
   "source": [
    "K1=2*EI1/L**3*K1"
   ]
  },
  {
   "cell_type": "code",
   "execution_count": 578,
   "metadata": {
    "scrolled": false
   },
   "outputs": [
    {
     "name": "stdout",
     "output_type": "stream",
     "text": [
      "[[ 1397812.5 -2795625.  -1397812.5 -2795625.         0.         0. ]\n",
      " [-2795625.   7455000.   2795625.   3727500.         0.         0. ]\n",
      " [-1397812.5  2795625.   1397812.5  2795625.         0.         0. ]\n",
      " [-2795625.   3727500.   2795625.   7455000.         0.         0. ]\n",
      " [       0.         0.         0.         0.         0.         0. ]\n",
      " [       0.         0.         0.         0.         0.         0. ]]\n"
     ]
    }
   ],
   "source": [
    "print(K1)"
   ]
  },
  {
   "cell_type": "code",
   "execution_count": 579,
   "metadata": {
    "collapsed": true
   },
   "outputs": [],
   "source": [
    "L = 6"
   ]
  },
  {
   "cell_type": "code",
   "execution_count": 580,
   "metadata": {
    "collapsed": true
   },
   "outputs": [],
   "source": [
    "K2 =(np.array([[0,0,0,0,0,0], \n",
    "               [0,0,0,0,0,0],\n",
    "                [0, 0, 6, -3*L, -6, -3*L], \n",
    "               [0, 0, -3*L, 2*L**2, 3*L, L**2], \n",
    "               [0, 0, -6, 3*L, 6, 3*L], \n",
    "               [0, 0, -3*L, L**2, L*3, 2*L**2] \n",
    "               ]))"
   ]
  },
  {
   "cell_type": "code",
   "execution_count": 581,
   "metadata": {},
   "outputs": [
    {
     "name": "stdout",
     "output_type": "stream",
     "text": [
      "[[  0   0   0   0   0   0]\n",
      " [  0   0   0   0   0   0]\n",
      " [  0   0   6 -18  -6 -18]\n",
      " [  0   0 -18  72  18  36]\n",
      " [  0   0  -6  18   6  18]\n",
      " [  0   0 -18  36  18  72]]\n"
     ]
    }
   ],
   "source": [
    "print(K2)"
   ]
  },
  {
   "cell_type": "code",
   "execution_count": 582,
   "metadata": {
    "collapsed": true
   },
   "outputs": [],
   "source": [
    "K2= 2*EI2/L**3*K2"
   ]
  },
  {
   "cell_type": "code",
   "execution_count": 583,
   "metadata": {},
   "outputs": [
    {
     "name": "stdout",
     "output_type": "stream",
     "text": [
      "[[  0.      0.      0.      0.      0.      0.   ]\n",
      " [  0.      0.      0.      0.      0.      0.   ]\n",
      " [  0.      0.      1.309  -3.927  -1.309  -3.927]\n",
      " [  0.      0.     -3.927  15.708   3.927   7.854]\n",
      " [  0.      0.     -1.309   3.927   1.309   3.927]\n",
      " [  0.      0.     -3.927   7.854   3.927  15.708]]\n"
     ]
    }
   ],
   "source": [
    "print(K2/10**6)"
   ]
  },
  {
   "cell_type": "code",
   "execution_count": 584,
   "metadata": {
    "collapsed": true
   },
   "outputs": [],
   "source": [
    "K = (K1 + K2) "
   ]
  },
  {
   "cell_type": "code",
   "execution_count": 585,
   "metadata": {},
   "outputs": [
    {
     "name": "stdout",
     "output_type": "stream",
     "text": [
      "[[  1.39781  -2.79562  -1.39781  -2.79562   0.        0.     ]\n",
      " [ -2.79562   7.455     2.79562   3.7275    0.        0.     ]\n",
      " [ -1.39781   2.79562   2.70681  -1.13138  -1.309    -3.927  ]\n",
      " [ -2.79562   3.7275   -1.13138  23.163     3.927     7.854  ]\n",
      " [  0.        0.       -1.309     3.927     1.309     3.927  ]\n",
      " [  0.        0.       -3.927     7.854     3.927    15.708  ]]\n"
     ]
    }
   ],
   "source": [
    "print(K/10**6)"
   ]
  },
  {
   "cell_type": "code",
   "execution_count": 586,
   "metadata": {},
   "outputs": [],
   "source": [
    "F = 200*6/12 * np.array([[0, 0, 6, -6, 6, -6]])"
   ]
  },
  {
   "cell_type": "code",
   "execution_count": 587,
   "metadata": {
    "collapsed": true
   },
   "outputs": [],
   "source": [
    "F=np.transpose(F)"
   ]
  },
  {
   "cell_type": "code",
   "execution_count": 588,
   "metadata": {},
   "outputs": [
    {
     "name": "stdout",
     "output_type": "stream",
     "text": [
      "[[   0.]\n",
      " [   0.]\n",
      " [ 600.]\n",
      " [-600.]\n",
      " [ 600.]\n",
      " [-600.]]\n"
     ]
    }
   ],
   "source": [
    "print(F)"
   ]
  },
  {
   "cell_type": "markdown",
   "metadata": {},
   "source": [
    "# boundary conditions:\n",
    "\n",
    "$$ U1= 0 $$ \n",
    "$$ U2= 0 $$ \n",
    "$$ U6= 0 $$ \n",
    "$$ Q_3^2= 0 $$ \n",
    "$$ Q_3^1 + Q_1^2= 0 $$\n",
    "$$ Q_4^1 + Q_2^2= 0 $$\n"
   ]
  },
  {
   "cell_type": "markdown",
   "metadata": {},
   "source": [
    "# Solve U's from equations 3,4,5"
   ]
  },
  {
   "cell_type": "code",
   "execution_count": 589,
   "metadata": {},
   "outputs": [],
   "source": [
    "row_idx = np.array([2, 3, 4])\n",
    "col_idx = np.array([2, 3, 4])\n",
    "solve_u = K[row_idx[:, None], col_idx]"
   ]
  },
  {
   "cell_type": "code",
   "execution_count": 590,
   "metadata": {},
   "outputs": [
    {
     "name": "stdout",
     "output_type": "stream",
     "text": [
      "[[  2706812.5  -1131375.   -1309000. ]\n",
      " [ -1131375.   23163000.    3927000. ]\n",
      " [ -1309000.    3927000.    1309000. ]]\n"
     ]
    }
   ],
   "source": [
    "print(solve_u)"
   ]
  },
  {
   "cell_type": "code",
   "execution_count": 591,
   "metadata": {},
   "outputs": [],
   "source": [
    "rhs1 = F[row_idx[:]]"
   ]
  },
  {
   "cell_type": "code",
   "execution_count": 592,
   "metadata": {},
   "outputs": [
    {
     "name": "stdout",
     "output_type": "stream",
     "text": [
      "[[ 600.]\n",
      " [-600.]\n",
      " [ 600.]]\n"
     ]
    }
   ],
   "source": [
    "print(rhs1)"
   ]
  },
  {
   "cell_type": "code",
   "execution_count": 593,
   "metadata": {
    "scrolled": true
   },
   "outputs": [],
   "source": [
    "result = np.linalg.solve(solve_u,rhs1)"
   ]
  },
  {
   "cell_type": "code",
   "execution_count": 594,
   "metadata": {},
   "outputs": [
    {
     "name": "stdout",
     "output_type": "stream",
     "text": [
      "[[ 0.00252]\n",
      " [-0.00083]\n",
      " [ 0.00546]]\n"
     ]
    }
   ],
   "source": [
    "print(result)"
   ]
  },
  {
   "cell_type": "markdown",
   "metadata": {},
   "source": [
    "$$ U3 =  0.00252 $$\n",
    "$$ U4 =  -0.00083 $$\n",
    "$$ U5 =  0.00546 $$"
   ]
  },
  {
   "cell_type": "markdown",
   "metadata": {},
   "source": [
    "# Solve Q's from equations 1,2,6"
   ]
  },
  {
   "cell_type": "code",
   "execution_count": 595,
   "metadata": {},
   "outputs": [],
   "source": [
    "row_idx = np.array([0, 1, 5])\n",
    "col_idx = np.array([0, 1, 5])\n",
    "U = np.array([[0,0,0.00371053, -0.00142602, 0.00844697, 0]])\n",
    "rhs = np.transpose(np.dot(U, K))"
   ]
  },
  {
   "cell_type": "code",
   "execution_count": 596,
   "metadata": {},
   "outputs": [
    {
     "name": "stdout",
     "output_type": "stream",
     "text": [
      "[[-1200.00805]\n",
      " [ 5057.76088]\n",
      " [  599.98863]\n",
      " [-4057.65095]\n",
      " [  600.01942]\n",
      " [ 7400.0388 ]]\n"
     ]
    }
   ],
   "source": [
    "print(rhs)"
   ]
  },
  {
   "cell_type": "code",
   "execution_count": 597,
   "metadata": {},
   "outputs": [],
   "source": [
    "row_idx = np.array([0, 1, 5])\n",
    "rhs=rhs[row_idx]"
   ]
  },
  {
   "cell_type": "code",
   "execution_count": 598,
   "metadata": {},
   "outputs": [
    {
     "name": "stdout",
     "output_type": "stream",
     "text": [
      "[[-1200.00805]\n",
      " [ 5057.76088]\n",
      " [ 7400.0388 ]]\n"
     ]
    }
   ],
   "source": [
    "print(rhs)"
   ]
  },
  {
   "cell_type": "code",
   "execution_count": 599,
   "metadata": {
    "collapsed": true
   },
   "outputs": [],
   "source": [
    "rhs = rhs - F[row_idx]"
   ]
  },
  {
   "cell_type": "code",
   "execution_count": 600,
   "metadata": {
    "scrolled": true
   },
   "outputs": [
    {
     "name": "stdout",
     "output_type": "stream",
     "text": [
      "[[-1200.00805]\n",
      " [ 5057.76088]\n",
      " [ 8000.0388 ]]\n"
     ]
    }
   ],
   "source": [
    "print(rhs)"
   ]
  },
  {
   "cell_type": "markdown",
   "metadata": {},
   "source": [
    "$$ Q1 = -1200 $$\n",
    "$$ Q2 = 5058 $$\n",
    "$$ Q6 = 8000 $$"
   ]
  },
  {
   "cell_type": "code",
   "execution_count": 601,
   "metadata": {
    "collapsed": true
   },
   "outputs": [],
   "source": [
    "import matplotlib.pyplot as plt"
   ]
  },
  {
   "cell_type": "code",
   "execution_count": 605,
   "metadata": {},
   "outputs": [
    {
     "data": {
      "image/png": "[encoded data removed]",
      "text/plain": [
       "<matplotlib.figure.Figure at 0xbd62470>"
      ]
     },
     "metadata": {},
     "output_type": "display_data"
    }
   ],
   "source": [
    "x= np.array([[0,4,6]])\n",
    "y=np.array([[0,-0.00252, -0.00546]]) \n",
    "plt.scatter(x,y)\n",
    "plt.show()"
   ]
  },
  {
   "cell_type": "markdown",
   "metadata": {},
   "source": [
    "# Problem 5.10"
   ]
  },
  {
   "cell_type": "markdown",
   "metadata": {},
   "source": [
    "For problem 5.10, boundary conditions are "
   ]
  },
  {
   "cell_type": "markdown",
   "metadata": {},
   "source": [
    "$$ U1 = 0 $$\n",
    "$$ U2 = 0 $$\n",
    "$$ U5 = 0 $$\n",
    "$$ Q_3^1 + Q_1^2 = 1000 $$\n",
    "$$ Q_4^1 + Q_2^2 = 0 $$\n",
    "$$ Q_4^2 = -5000 $$\n",
    "\n"
   ]
  },
  {
   "cell_type": "code",
   "execution_count": 526,
   "metadata": {
    "collapsed": true
   },
   "outputs": [],
   "source": [
    "L= 0.12\n",
    "EI1= 7.952 * 10**3\n",
    "EI2= 1.571 * 10**3\n",
    "\n",
    "K1 =2*EI1/L**3 * (np.array([[6, -3*L, -6, -3*L, 0, 0], \n",
    "               [-3*L, 2*L**2, 3*L, L**2, 0, 0], \n",
    "               [-6, 3*L, 6, 3*L, 0, 0], \n",
    "               [-3*L, L**2, L*3, 2*L**2,0 , 0], \n",
    "               [0,0,0,0,0,0], \n",
    "               [0,0,0,0,0,0]]))"
   ]
  },
  {
   "cell_type": "code",
   "execution_count": 527,
   "metadata": {},
   "outputs": [
    {
     "name": "stdout",
     "output_type": "stream",
     "text": [
      "[[ 55.222  -3.313 -55.222  -3.313   0.      0.   ]\n",
      " [ -3.313   0.265   3.313   0.133   0.      0.   ]\n",
      " [-55.222   3.313  55.222   3.313   0.      0.   ]\n",
      " [ -3.313   0.133   3.313   0.265   0.      0.   ]\n",
      " [  0.      0.      0.      0.      0.      0.   ]\n",
      " [  0.      0.      0.      0.      0.      0.   ]]\n"
     ]
    }
   ],
   "source": [
    "print(K1/10**6)"
   ]
  },
  {
   "cell_type": "code",
   "execution_count": 528,
   "metadata": {},
   "outputs": [],
   "source": [
    "K2 = 2*EI2/L**3 *(np.array([[0,0,0,0,0,0], \n",
    "               [0,0,0,0,0,0],\n",
    "                [0, 0, 6, -3*L, -6, -3*L], \n",
    "               [0, 0, -3*L, 2*L**2, 3*L, L**2], \n",
    "               [0, 0, -6, 3*L, 6, 3*L], \n",
    "               [0, 0, -3*L, L**2, L*4, 2*L**2] \n",
    "               ]))"
   ]
  },
  {
   "cell_type": "code",
   "execution_count": 529,
   "metadata": {
    "scrolled": true
   },
   "outputs": [
    {
     "name": "stdout",
     "output_type": "stream",
     "text": [
      "[[  0.      0.      0.      0.      0.      0.   ]\n",
      " [  0.      0.      0.      0.      0.      0.   ]\n",
      " [  0.      0.     10.91   -0.655 -10.91   -0.655]\n",
      " [  0.      0.     -0.655   0.052   0.655   0.026]\n",
      " [  0.      0.    -10.91    0.655  10.91    0.655]\n",
      " [  0.      0.     -0.655   0.026   0.873   0.052]]\n"
     ]
    }
   ],
   "source": [
    "print(K2/10**6)"
   ]
  },
  {
   "cell_type": "code",
   "execution_count": 530,
   "metadata": {
    "collapsed": true
   },
   "outputs": [],
   "source": [
    "K= K1+ K2"
   ]
  },
  {
   "cell_type": "code",
   "execution_count": 531,
   "metadata": {},
   "outputs": [
    {
     "name": "stdout",
     "output_type": "stream",
     "text": [
      "[[  5.522e+07  -3.313e+06  -5.522e+07  -3.313e+06   0.000e+00   0.000e+00]\n",
      " [ -3.313e+06   2.651e+05   3.313e+06   1.325e+05   0.000e+00   0.000e+00]\n",
      " [ -5.522e+07   3.313e+06   6.613e+07   2.659e+06  -1.091e+07  -6.546e+05]\n",
      " [ -3.313e+06   1.325e+05   2.659e+06   3.174e+05   6.546e+05   2.618e+04]\n",
      " [  0.000e+00   0.000e+00  -1.091e+07   6.546e+05   1.091e+07   6.546e+05]\n",
      " [  0.000e+00   0.000e+00  -6.546e+05   2.618e+04   8.728e+05   5.237e+04]]\n"
     ]
    }
   ],
   "source": [
    "print( K)"
   ]
  },
  {
   "cell_type": "code",
   "execution_count": 532,
   "metadata": {
    "collapsed": true
   },
   "outputs": [],
   "source": [
    "F = np.transpose(200*0.12/12 * np.array([[ 6, -12, 6, -12 , 0 ,0]]))"
   ]
  },
  {
   "cell_type": "code",
   "execution_count": 533,
   "metadata": {},
   "outputs": [
    {
     "name": "stdout",
     "output_type": "stream",
     "text": [
      "[[ 12.]\n",
      " [-24.]\n",
      " [ 12.]\n",
      " [-24.]\n",
      " [  0.]\n",
      " [  0.]]\n"
     ]
    }
   ],
   "source": [
    "print(F)"
   ]
  },
  {
   "cell_type": "markdown",
   "metadata": {},
   "source": [
    "# Solve U3, U4, U6 from eqs 3,4,6"
   ]
  },
  {
   "cell_type": "code",
   "execution_count": 534,
   "metadata": {},
   "outputs": [],
   "source": [
    "row_index = np.array([2,3,5])\n",
    "col_index = np.array([2,3,5])\n",
    "\n",
    "solve_u = K[row_index[:, None], col_index]"
   ]
  },
  {
   "cell_type": "code",
   "execution_count": 535,
   "metadata": {},
   "outputs": [
    {
     "name": "stdout",
     "output_type": "stream",
     "text": [
      "[[  6.613e+07   2.659e+06  -6.546e+05]\n",
      " [  2.659e+06   3.174e+05   2.618e+04]\n",
      " [ -6.546e+05   2.618e+04   5.237e+04]]\n"
     ]
    }
   ],
   "source": [
    "print(solve_u)"
   ]
  },
  {
   "cell_type": "code",
   "execution_count": 536,
   "metadata": {
    "collapsed": true
   },
   "outputs": [],
   "source": [
    "rhs = np.array([12+1000,24, -5000])"
   ]
  },
  {
   "cell_type": "code",
   "execution_count": 537,
   "metadata": {},
   "outputs": [
    {
     "name": "stdout",
     "output_type": "stream",
     "text": [
      "[ 1012    24 -5000]\n"
     ]
    }
   ],
   "source": [
    "print(rhs)"
   ]
  },
  {
   "cell_type": "code",
   "execution_count": 538,
   "metadata": {},
   "outputs": [],
   "source": [
    "result = np.linalg.solve(solve_u,rhs)"
   ]
  },
  {
   "cell_type": "code",
   "execution_count": 539,
   "metadata": {},
   "outputs": [
    {
     "name": "stdout",
     "output_type": "stream",
     "text": [
      "[-0.003  0.038 -0.152]\n"
     ]
    }
   ],
   "source": [
    "print(result)"
   ]
  },
  {
   "cell_type": "markdown",
   "metadata": {},
   "source": [
    "$$ U3 = -0.003 $$\n",
    "$$ U4 = 0.038 $$\n",
    "$$ U6 = -0.152 $$"
   ]
  },
  {
   "cell_type": "code",
   "execution_count": 543,
   "metadata": {},
   "outputs": [],
   "source": [
    "plt.clf()"
   ]
  },
  {
   "cell_type": "code",
   "execution_count": 606,
   "metadata": {},
   "outputs": [
    {
     "data": {
      "text/plain": [
       "<matplotlib.collections.PathCollection at 0xbe5f9b0>"
      ]
     },
     "execution_count": 606,
     "metadata": {},
     "output_type": "execute_result"
    }
   ],
   "source": [
    "x = np.array([0,0.12,0.24])\n",
    "y = np.array([0,0.003,0])\n",
    "\n",
    "plt.scatter(x,y)"
   ]
  },
  {
   "cell_type": "code",
   "execution_count": 607,
   "metadata": {
    "scrolled": true
   },
   "outputs": [
    {
     "data": {
      "image/png": "[encoded data removed]",
      "text/plain": [
       "<matplotlib.figure.Figure at 0xbdecf98>"
      ]
     },
     "metadata": {},
     "output_type": "display_data"
    }
   ],
   "source": [
    "plt.show()"
   ]
  }
 ],
 "metadata": {
  "kernelspec": {
   "display_name": "Python 3",
   "language": "python",
   "name": "python3"
  },
  "language_info": {
   "codemirror_mode": {
    "name": "ipython",
    "version": 3
   },
   "file_extension": ".py",
   "mimetype": "text/x-python",
   "name": "python",
   "nbconvert_exporter": "python",
   "pygments_lexer": "ipython3",
   "version": "3.6.2"
  }
 },
 "nbformat": 4,
 "nbformat_minor": 2
}
