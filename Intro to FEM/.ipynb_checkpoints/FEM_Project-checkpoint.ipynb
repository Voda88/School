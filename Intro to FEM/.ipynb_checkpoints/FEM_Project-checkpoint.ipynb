{
 "cells": [
  {
   "cell_type": "code",
   "execution_count": 819,
   "metadata": {
    "collapsed": true
   },
   "outputs": [],
   "source": [
    "import numpy as np\n",
    "import sys"
   ]
  },
  {
   "cell_type": "code",
   "execution_count": 820,
   "metadata": {
    "collapsed": true
   },
   "outputs": [],
   "source": [
    "p = 6625\n",
    "nu=0.3\n",
    "E=31*10**6\n",
    "G=E/(2*(1+nu))\n",
    "\n",
    "Ri=6\n",
    "Ro=7\n",
    "Nr=3\n",
    "Nh=10\n",
    "Deltr=(Ro-Ri)/(2*Nr)\n",
    "Delth=(np.pi/2)/(2*Nh)\n",
    "\n",
    "def xx(r,theta):\n",
    "    return r*np.cos(theta)\n",
    "\n",
    "def yy(r,theta):\n",
    "    return r*np.sin(theta)\n",
    "\n",
    "Numelem = Nr * Nh\n",
    "\n",
    "Numnodes= (Nh+1) * (2*Nr+1) + Nh * (Nr+1)\n",
    "\n",
    "NPE=8\n"
   ]
  },
  {
   "cell_type": "code",
   "execution_count": 821,
   "metadata": {
    "collapsed": true
   },
   "outputs": [],
   "source": [
    "#Title\n",
    "CARD1 = 'PIPE: ELASTIC PLAIN STRAIN UNDER INTERNAL PRESSURE'"
   ]
  },
  {
   "cell_type": "code",
   "execution_count": 822,
   "metadata": {
    "collapsed": true
   },
   "outputs": [],
   "source": [
    "#ITYPE, IGRAD, ITEM, NEIGN\n",
    "CARD2 = np.array((2,1,0,0))"
   ]
  },
  {
   "cell_type": "code",
   "execution_count": 823,
   "metadata": {
    "collapsed": true
   },
   "outputs": [],
   "source": [
    "#IELTYP, NPE, MESH, NPRNT\n",
    "CARD4 = np.array((1,8,0,0))"
   ]
  },
  {
   "cell_type": "code",
   "execution_count": 824,
   "metadata": {
    "collapsed": true
   },
   "outputs": [],
   "source": [
    "#NEM, NNM\n",
    "CARD5 = np.array((Numelem,Numnodes))"
   ]
  },
  {
   "cell_type": "code",
   "execution_count": 825,
   "metadata": {
    "collapsed": true
   },
   "outputs": [],
   "source": [
    "# NOD\n",
    "CARD6=np.zeros((Nh*Nr,NPE))\n",
    "\n",
    "for i in range(0,Nh):\n",
    "    for j in range(0,Nr):\n",
    "        ELENUM = i * Nr + j \n",
    "        for k in range(0,NPE):\n",
    "            if   k==0:\n",
    "                CARD6[ELENUM,k] = i * (2 * Nr + 1) + i * (Nr + 1) + 2 * j + 1\n",
    "            elif k==1:\n",
    "                CARD6[ELENUM,k]= i * (2 * Nr + 1) + i * (Nr + 1) + 2 * j + 3\n",
    "            elif k==2:\n",
    "                CARD6[ELENUM,k]= (i + 1) * (2 * Nr + 1) + (i + 1) * (Nr + 1) + 2 * j + 3\n",
    "            elif k==3:\n",
    "                CARD6[ELENUM,k]= (i + 1) * (2 * Nr + 1) + (i + 1) * (Nr + 1) + 2 * j + 1\n",
    "            elif k==4:\n",
    "                CARD6[ELENUM,k]= i * (2 * Nr + 1) + i * (Nr + 1) + 2 * j + 2\n",
    "            elif k==5:\n",
    "                CARD6[ELENUM,k]= (i + 1) * (2 * Nr + 1) + i * (Nr + 1) +  j + 2\n",
    "            elif k==6:\n",
    "                CARD6[ELENUM,k]= (i + 1) * (2 * Nr + 1) + (i + 1) * (Nr + 1) + 2 * j + 2\n",
    "            elif k==7:\n",
    "                CARD6[ELENUM,k]= (i + 1) * (2 * Nr + 1) +  i * (Nr + 1) +  j + 1"
   ]
  },
  {
   "cell_type": "code",
   "execution_count": 826,
   "metadata": {
    "collapsed": true,
    "scrolled": true
   },
   "outputs": [],
   "source": [
    "#GLXY(I,J)\n",
    "CARD7 = np.zeros((Numnodes * 2))\n",
    "n = 0\n",
    "for i in range(0, 2 * Nh + 1):\n",
    "    if i % 2 == 0:\n",
    "        for j in range(0, 2 * Nr + 1):\n",
    "            r =  Ri + j * Deltr\n",
    "            theta = i * Delth\n",
    "            CARD7[n] = xx(r,theta)\n",
    "            n = n+1\n",
    "            CARD7[n] = yy(r, theta)\n",
    "            n = n+1\n",
    "            \n",
    "    if  i % 2 != 0:\n",
    "        for j in range(0, Nr + 1):\n",
    "            r =  Ri + j * Deltr * 2\n",
    "            theta = i * Delth\n",
    "            CARD7[n] = xx(r,theta)\n",
    "            n = n+1\n",
    "            CARD7[n] = yy(r, theta)\n",
    "            n = n+1\n",
    "            \n",
    "\n"
   ]
  },
  {
   "cell_type": "code",
   "execution_count": 827,
   "metadata": {
    "collapsed": true
   },
   "outputs": [],
   "source": [
    "# NSPV\n",
    "CARD15 = 4 * Nr + 2"
   ]
  },
  {
   "cell_type": "code",
   "execution_count": 828,
   "metadata": {
    "collapsed": true
   },
   "outputs": [],
   "source": [
    "# ISPV\n",
    "n = 1\n",
    "CARD16_1 = np.zeros((2*Nr + 1,2))\n",
    "\n",
    "for i in range(0, 2* Nr + 1):\n",
    "    CARD16_1[i,0] = n\n",
    "    n = n + 1\n",
    "n=1\n",
    "for i in range(0, 2* Nr + 1):\n",
    "    CARD16_1[i ,1] = 2\n",
    "\n",
    "n = Numnodes - (2*Nr)\n",
    "CARD16_2 = np.zeros((2*Nr + 1 ,2))\n",
    "for i in range(0, 2 * Nr + 1):\n",
    "    CARD16_2[i,0] = n\n",
    "    n = n + 1\n",
    "    \n",
    "for i in range(0, 2*Nr + 1):\n",
    "    CARD16_2[i ,1] = 1\n",
    "    \n",
    "CARD16 = np.concatenate((CARD16_1, CARD16_2)).flatten()"
   ]
  },
  {
   "cell_type": "code",
   "execution_count": 829,
   "metadata": {
    "collapsed": true,
    "scrolled": true
   },
   "outputs": [],
   "source": [
    "#VSPV\n",
    "CARD17 =  np.zeros(( 2 * (2*(Nr + 1))))"
   ]
  },
  {
   "cell_type": "code",
   "execution_count": 830,
   "metadata": {
    "collapsed": true
   },
   "outputs": [],
   "source": [
    "#NSSV\n",
    "CARD18 = 2 * (2 * Nh + 1 )"
   ]
  },
  {
   "cell_type": "code",
   "execution_count": 831,
   "metadata": {
    "collapsed": true
   },
   "outputs": [],
   "source": [
    "#ISSV\n",
    "n = 0\n",
    "CARD19 = np.zeros(( 2 * (2 * Nh + 1 ),2))\n",
    "for i in range(0, Nh ):\n",
    "        CARD19[n,0] = i * (2 * Nr + 1) + i * (Nr + 1) + 1\n",
    "        CARD19[n + 1,0] = i * (2 * Nr + 1) + i * (Nr + 1) + 1\n",
    "        CARD19[n + 2,0] = (i + 1) * (2 * Nr + 1) +  i * (Nr + 1) +  1\n",
    "        CARD19[n + 3,0] = (i + 1) * (2 * Nr + 1) +  i * (Nr + 1) +  1\n",
    "        n = n+4\n",
    "CARD19[n, 0] = Nh * (2 * Nr + 1) + Nh * (Nr + 1) + 1\n",
    "CARD19[n+1, 0] = Nh * (2 * Nr + 1) + Nh * (Nr + 1) + 1\n",
    "n=0\n",
    "for i in range(0, 2 * Nh + 1):\n",
    "    CARD19[n ,1] = 1\n",
    "    CARD19[n + 1 ,1] = 2\n",
    "    n = n+2\n",
    "\n",
    "CARD19 = CARD19.flatten()"
   ]
  },
  {
   "cell_type": "code",
   "execution_count": 832,
   "metadata": {
    "collapsed": true
   },
   "outputs": [],
   "source": [
    "#VSSV\n",
    "CARD20 = np.zeros(((4 * Nh + 2 )))\n",
    "for i in range(0, (4 * Nh + 1 ), 2):\n",
    "    if i % 4 == 0:\n",
    "        CARD20[i] = 1/6 * p * 2 * Delth * Ri * np.cos(i/2*Delth)\n",
    "        CARD20[i+1] = 1/6 * p * 2 * Delth * Ri * np.sin(i/2*Delth)\n",
    "    else:\n",
    "        CARD20[i] = 4/6 * p * 2 * Delth * Ri * np.cos(i/2*Delth)\n",
    "        CARD20[i+1] = 4/6 * p * 2 * Delth * Ri * np.sin(i/2*Delth)\n",
    "        \n",
    "        \n",
    "        "
   ]
  },
  {
   "cell_type": "code",
   "execution_count": 834,
   "metadata": {
    "collapsed": true
   },
   "outputs": [],
   "source": [
    "#LNSTRS\n",
    "CARD29 = 0"
   ]
  },
  {
   "cell_type": "code",
   "execution_count": 835,
   "metadata": {
    "collapsed": true
   },
   "outputs": [],
   "source": [
    "# E1,E2,ANU12,G12,THKNS\n",
    "CARD30 = np.array((E,E, nu, G , 1))"
   ]
  },
  {
   "cell_type": "code",
   "execution_count": 836,
   "metadata": {
    "collapsed": true
   },
   "outputs": [],
   "source": [
    "# F0, FX, FY\n",
    "CARD32 = np.array((0,0,0))"
   ]
  },
  {
   "cell_type": "code",
   "execution_count": 837,
   "metadata": {
    "scrolled": false
   },
   "outputs": [
    {
     "name": "stdout",
     "output_type": "stream",
     "text": [
      "PIPE: ELASTIC PLAIN STRAIN UNDER INTERNAL PRESSURE\n",
      "2 1 0 0\n",
      "1 8 0 0\n",
      "20 85\n",
      "1 3 11 9 2 7 10 6\n",
      "3 5 13 11 4 8 12 7\n",
      "9 11 19 17 10 15 18 14\n",
      "11 13 21 19 12 16 20 15\n",
      "17 19 27 25 18 23 26 22\n",
      "19 21 29 27 20 24 28 23\n",
      "25 27 35 33 26 31 34 30\n",
      "27 29 37 35 28 32 36 31\n",
      "33 35 43 41 34 39 42 38\n",
      "35 37 45 43 36 40 44 39\n",
      "41 43 51 49 42 47 50 46\n",
      "43 45 53 51 44 48 52 47\n",
      "49 51 59 57 50 55 58 54\n",
      "51 53 61 59 52 56 60 55\n",
      "57 59 67 65 58 63 66 62\n",
      "59 61 69 67 60 64 68 63\n",
      "65 67 75 73 66 71 74 70\n",
      "67 69 77 75 68 72 76 71\n",
      "73 75 83 81 74 79 82 78\n",
      "75 77 85 83 76 80 84 79\n",
      "6.00000000 0.00000000 6.25000000 0.00000000 6.50000000 0.00000000 6.75000000 0.00000000 7.00000000 0.00000000 5.98150400 0.47075457 6.47996267 0.50998412 6.97842134 0.54921367 5.92613004 0.93860679 6.17305213 0.97771541 6.41997421 1.01682402 6.66689630 1.05593264 6.91381838 1.09504126 5.83421952 1.40067218 6.32040448 1.51739487 6.80658944 1.63411755 5.70633910 1.85410197 5.94410323 1.93135621 6.18186736 2.00861046 6.41963148 2.08586471 6.65739561 2.16311896 5.54327720 2.29610059 6.00521696 2.48744231 6.46715673 2.67878403 5.34603915 2.72394300 5.56879078 2.83744062 5.79154241 2.95093825 6.01429404 3.06443587 6.23704567 3.17793350 5.11584099 3.13499139 5.54216107 3.39624067 5.96848115 3.65748995 4.85410197 3.52671151 5.05635621 3.67365783 5.25861046 3.82060414 5.46086471 3.96755045 5.66311896 4.11449677 4.56243579 3.89668829 4.94263878 4.22141231 5.32284176 4.54613634 4.24264069 4.24264069 4.41941738 4.41941738 4.59619408 4.59619408 4.77297077 4.77297077 4.94974747 4.94974747 3.89668829 4.56243579 4.22141231 4.94263878 4.54613634 5.32284176 3.52671151 4.85410197 3.67365783 5.05635621 3.82060414 5.25861046 3.96755045 5.46086471 4.11449677 5.66311896 3.13499139 5.11584099 3.39624067 5.54216107 3.65748995 5.96848115 2.72394300 5.34603915 2.83744062 5.56879078 2.95093825 5.79154241 3.06443587 6.01429404 3.17793350 6.23704567 2.29610059 5.54327720 2.48744231 6.00521696 2.67878403 6.46715673 1.85410197 5.70633910 1.93135621 5.94410323 2.00861046 6.18186736 2.08586471 6.41963148 2.16311896 6.65739561 1.40067218 5.83421952 1.51739487 6.32040448 1.63411755 6.80658944 0.93860679 5.92613004 0.97771541 6.17305213 1.01682402 6.41997421 1.05593264 6.66689630 1.09504126 6.91381838 0.47075457 5.98150400 0.50998412 6.47996267 0.54921367 6.97842134 0.00000000 6.00000000 0.00000000 6.25000000 0.00000000 6.50000000 0.00000000 6.75000000 0.00000000 7.00000000\n",
      "10\n",
      "1 2 2 2 3 2 4 2 5 2 81 1 82 1 83 1 84 1 85 1\n",
      "0   0   0   0   0   0   0   0   0   0   0   0\n",
      "42\n",
      "1 1 1 2 6 1 6 2 9 1 9 2 14 1 14 2 17 1 17 2 22 1 22 2 25 1 25 2 30 1 30 2 33 1 33 2 38 1 38 2 41 1 41 2 46 1 46 2 49 1 49 2 54 1 54 2 57 1 57 2 62 1 62 2 65 1 65 2 70 1 70 2 73 1 73 2 78 1 78 2 81 1 81 2\n",
      "1040.65256650 0.00000000 4149.77832776 326.59463734 1027.84040654 162.79392753 4047.59701300 971.74206814 989.71940457 321.57932829 3845.75042658 1592.96198419 927.22822617 472.44637872 3549.20870135 2174.95788946 841.90561154 611.68023135 3165.27367874 2703.39911322 735.85248663 735.85248663 2703.39911322 3165.27367874 611.68023135 841.90561154 2174.95788946 3549.20870135 472.44637872 927.22822617 1592.96198419 3845.75042658 321.57932829 989.71940457 971.74206814 4047.59701300 162.79392753 1027.84040654 326.59463734 4149.77832776 0.00000000 1040.65256650\n",
      "0\n",
      "31000000.0 31000000.0 0.3 11923076.9 1.0\n",
      "0 0 0\n"
     ]
    }
   ],
   "source": [
    "print(CARD1)\n",
    "np.savetxt(sys.stdout, CARD2[None], delimiter = ' ', fmt=\"%.0f\")\n",
    "np.savetxt(sys.stdout, CARD4[None], delimiter = ' ', fmt=\"%.0f\")\n",
    "np.savetxt(sys.stdout, CARD5[None], delimiter = ' ', fmt=\"%.0f\")\n",
    "np.savetxt(sys.stdout, CARD6, delimiter = ' ', fmt=\"%.0f\")\n",
    "np.savetxt(sys.stdout, CARD7[None], delimiter = ' ', fmt=\"%.8f\")\n",
    "print(CARD15)\n",
    "np.savetxt(sys.stdout, CARD16[None], delimiter = ' ', fmt=\"%.0f\")\n",
    "np.savetxt(sys.stdout, CARD17[None], delimiter = '   ', fmt=\"%.0f\")\n",
    "print(CARD18)\n",
    "np.savetxt(sys.stdout, CARD19[None], delimiter = ' ', fmt=\"%.0f\")\n",
    "np.savetxt(sys.stdout, CARD20[None], delimiter = ' ', fmt=\"%.8f\")\n",
    "print(CARD29)\n",
    "np.savetxt(sys.stdout, CARD30[None], delimiter = ' ', fmt=\"%.1f\")\n",
    "np.savetxt(sys.stdout, CARD32[None], delimiter = ' ', fmt=\"%.0f\")"
   ]
  },
  {
   "cell_type": "code",
   "execution_count": 847,
   "metadata": {
    "scrolled": true
   },
   "outputs": [],
   "source": [
    "results=np.loadtxt('C:/Users/Nastac/Documents/MikkoKarkkainen/School/Intro to FEM/FEM2DUsers/run/2-row-results.txt')"
   ]
  },
  {
   "cell_type": "code",
   "execution_count": 848,
   "metadata": {
    "collapsed": true
   },
   "outputs": [],
   "source": [
    "x = results[::,0]\n",
    "y = results[::,1]\n",
    "sigma_x = results[::,2]\n",
    "sigma_y = results[::,3]\n",
    "sigma_z = results[::,4]"
   ]
  },
  {
   "cell_type": "code",
   "execution_count": 849,
   "metadata": {
    "collapsed": true
   },
   "outputs": [],
   "source": [
    "import matplotlib.pyplot as plt\n",
    "from matplotlib.mlab import griddata"
   ]
  },
  {
   "cell_type": "code",
   "execution_count": 850,
   "metadata": {},
   "outputs": [
    {
     "data": {
      "image/png": "[encoded data removed]",
      "text/plain": [
       "<matplotlib.figure.Figure at 0xaaf9a20>"
      ]
     },
     "metadata": {},
     "output_type": "display_data"
    }
   ],
   "source": [
    "plt.figure()\n",
    "xi = np.linspace(0, 7, 100)\n",
    "yi = np.linspace( 0,  7, 200)\n",
    "zi= griddata(x,y,sigma_x ,xi, yi, interp='linear')\n",
    "CS = plt.contourf(xi, yi, zi, 15,\n",
    "                  vmax=zi.max(), vmin=zi.min())\n",
    "plt.pcolor(xi, yi, zi, cmap=plt.get_cmap('jet'))\n",
    "cbar=plt.colorbar(ticks=np.linspace(zi.min(),zi.max(),10))\n",
    "plt.scatter(x, y, marker='o', s=5, zorder=10, color='black')\n",
    "\n",
    "plt.show()\n"
   ]
  },
  {
   "cell_type": "code",
   "execution_count": 851,
   "metadata": {
    "scrolled": true
   },
   "outputs": [
    {
     "name": "stdout",
     "output_type": "stream",
     "text": [
      "-6139.0\n"
     ]
    }
   ],
   "source": [
    "print((sigma_y).min())"
   ]
  },
  {
   "cell_type": "code",
   "execution_count": 852,
   "metadata": {},
   "outputs": [
    {
     "name": "stdout",
     "output_type": "stream",
     "text": [
      "-6139.0\n"
     ]
    }
   ],
   "source": [
    "print((sigma_x).min())"
   ]
  },
  {
   "cell_type": "code",
   "execution_count": 853,
   "metadata": {},
   "outputs": [
    {
     "name": "stdout",
     "output_type": "stream",
     "text": [
      "35110.0\n"
     ]
    }
   ],
   "source": [
    "print(sigma_x.max())"
   ]
  },
  {
   "cell_type": "code",
   "execution_count": 854,
   "metadata": {},
   "outputs": [
    {
     "name": "stdout",
     "output_type": "stream",
     "text": [
      "35110.0\n"
     ]
    }
   ],
   "source": [
    "print(sigma_y.max())"
   ]
  },
  {
   "cell_type": "code",
   "execution_count": 855,
   "metadata": {},
   "outputs": [
    {
     "name": "stdout",
     "output_type": "stream",
     "text": [
      "-10360.2\n"
     ]
    }
   ],
   "source": [
    "print((-nu*(sigma_x+sigma_y)).min())"
   ]
  },
  {
   "cell_type": "code",
   "execution_count": null,
   "metadata": {
    "collapsed": true
   },
   "outputs": [],
   "source": []
  }
 ],
 "metadata": {
  "kernelspec": {
   "display_name": "Python 3",
   "language": "python",
   "name": "python3"
  },
  "language_info": {
   "codemirror_mode": {
    "name": "ipython",
    "version": 3
   },
   "file_extension": ".py",
   "mimetype": "text/x-python",
   "name": "python",
   "nbconvert_exporter": "python",
   "pygments_lexer": "ipython3",
   "version": "3.6.2"
  }
 },
 "nbformat": 4,
 "nbformat_minor": 2
}
