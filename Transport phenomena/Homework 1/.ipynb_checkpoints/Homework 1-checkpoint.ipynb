{
 "cells": [
  {
   "cell_type": "raw",
   "metadata": {},
   "source": [
    "\\newcommand{\\pder}[2]{\\frac{\\partial#1}{\\partial#2}}\n",
    "\\newcommand{\\at}[2]{\\left.#1\\right|_{#2}}\n",
    "\\newcommand{\\eten}[2]{#1 \\cdot 10^{#2}}\n",
    "\\newcommand{\\unit}[1]{\\; \\mathrm{#1}}\n",
    "\\newcommand{\\mply}[2]{#1 \\; \\cdot \\; #2}"
   ]
  },
  {
   "cell_type": "markdown",
   "metadata": {},
   "source": [
    "# 1.1"
   ]
  },
  {
   "cell_type": "markdown",
   "metadata": {},
   "source": [
    "\\begin{align}\n",
    "\\mu &= \\eten{2}{-2} \\unit{Nsm^{-2}} \\nonumber \\\\\n",
    "V &= 61.0 \\unit{cms^{-1}} = 0.61 \\unit{m s^{-1}} \\nonumber \\\\\n",
    "Y &= 2 \\unit{mm} = \\eten{2}{-3} \\unit{m} \\nonumber\n",
    "\\end{align}\n",
    "\n",
    "For flow between two plates, one moving and one stationary:\n",
    "\n",
    "\\begin{align}\n",
    "\\tau_{xy} = -\\mu \\pder{v_x}{y} \n",
    "\\end{align}\n",
    "\n",
    "where $\\tau$ is the momentum flux in the positive y-direction. For steady state:\n",
    "\n",
    "\\begin{align}\n",
    "-\\mu \\pder{v_x}{y} &= - \\mu \\frac{V}{Y} \\\\\n",
    "&= \\mply{ \\eten{-2}{-2}  \\unit{N s m^{-2}} }{ \\frac{ 0.61 \\; \\mathrm{m s^{-1}} }{ \\eten{2}{-3} \\unit{m} } } \\nonumber \\\\\n",
    "&= - 6.1 \\unit{Nm^{-2}} \\nonumber\n",
    "\\end{align}\n",
    "\n",
    "The direction of momentum transfer is from the top plate to the bottom plate (-y direction)"
   ]
  },
  {
   "cell_type": "markdown",
   "metadata": {},
   "source": [
    "# 1.2"
   ]
  },
  {
   "cell_type": "markdown",
   "metadata": {},
   "source": [
    "\\begin{align}\n",
    "v_x &= 3y \\: - \\: y^3 \\nonumber \\\\\n",
    "\\rho &= 10^3 \\; \\mathrm{kgm^{-3}} \\nonumber \\\\\n",
    "v &= 7 \\cdot 10^{-7} \\; \\mathrm{m^2 s^{-1}} \\nonumber \\\\\n",
    "\\mu &= v \\rho = 7 \\cdot 10^{-4} \\unit{kg m^{-1} s^{-1}} \\nonumber\n",
    "\\end{align}"
   ]
  },
  {
   "cell_type": "markdown",
   "metadata": {},
   "source": [
    "## a)"
   ]
  },
  {
   "cell_type": "markdown",
   "metadata": {},
   "source": [
    "\\begin{align}\n",
    "\\pder{v_x}{y} &= 3 \\; - \\; 3y^2  \\\\\n",
    "\\at{\\pder{v_x}{y}}{x = x_{1} , y = 0}  &= 3 \\unit{cm s^{-1}} \\nonumber \\\\\n",
    "&= \\eten{3}{-2} \\unit{ms^{-1}} \\nonumber \\\\\n",
    "\\at{\\tau_{xy}}{x = x_{1} , y = 0} &= - \\mu \\at{\\pder{v_x}{y}}{x = x_{1} , y = 0} \\nonumber \\\\\n",
    "&= \\mply{ -7 \\cdot 10^{-4} \\unit{kg m^{-1} s^{-1}} }{\\eten{3}{-2} \\unit{ms^{-1}} } \\nonumber \\\\\n",
    "&= \\eten{-2.1}{-5} \\unit{kgs^{-2}} \\nonumber\n",
    "\\end{align}\n",
    "\n",
    "The shear stress at $\\; x=x_1 , y=0 \\;$ is $\\; \\eten{-2.1}{-5} \\unit{kgs^{-2}}$"
   ]
  },
  {
   "cell_type": "markdown",
   "metadata": {},
   "source": [
    "## b)"
   ]
  },
  {
   "cell_type": "markdown",
   "metadata": {},
   "source": [
    "\\begin{align}\n",
    "\\pder{v_x}{y} &= 3 \\: - \\: 3y^2 \\unit{cm s^{-1}} \\nonumber \\\\\n",
    "\\at{\\pder{v_x}{y}}{y=0.8 mm} &= 1.08 \\unit{cm s^{-1}} \\nonumber \\\\\n",
    "&= \\eten{1.08}{-2} \\unit {ms^{-1}} \\nonumber \\\\\n",
    "\\at{\\tau_{xy}}{y=0.8mm} &= - \\mu \\at{\\pder{v_x}{y}}{x = x_{1} , y = 0.8mm} \\nonumber \\\\\n",
    "&= \\mply{ -\\eten{7}{-4} \\unit{kgm^{-1}s^{-1}} } { \\eten{1.08}{-2} \\unit{ms^{-1}} } \\nonumber \\\\\n",
    "&= - \\eten{7.56}{-6} \\unit{kgs^{-2}} \\nonumber\n",
    "\\end{align}\n",
    "\n",
    "The shear stress at $x=x_1 , y=0.8 \\;$ is  $\\; -\\eten{7.56}{-6} \\unit{kgs^{-2}}$"
   ]
  },
  {
   "cell_type": "markdown",
   "metadata": {},
   "source": [
    "## c)"
   ]
  },
  {
   "cell_type": "markdown",
   "metadata": {},
   "source": [
    "Momentum flux in the x-direction:\n",
    "\n",
    "\\begin{align}\n",
    "\\tau_{yx} &= - \\mu \\pder{v_y}{x} \n",
    "\\end{align}\n",
    "\n",
    "Since the velocity profile has no component in y-direction, momentum flux in x-direction is 0"
   ]
  },
  {
   "cell_type": "markdown",
   "metadata": {},
   "source": [
    "# 1.4"
   ]
  },
  {
   "cell_type": "markdown",
   "metadata": {},
   "source": [
    "\\begin{align}\n",
    "\\eta_{mix} &= \\sum^{n}_{i=1} \\frac{x_i \\eta_i}{\\sum^{n}_{j=1} \\; x_j \\phi_{ij}} \\\\\n",
    "\\phi_{ij} &= \\frac{1}{\\sqrt{8}} \\; \\Bigg[ 1+\\frac{M_i}{M_j} \\Bigg] ^{-1/2} \\; \\Bigg[ 1 \\; + \\; \\Big[ \\frac{\\eta_i}{\\eta_j} \\Big]^{1/2} \\; \\Big[ \\frac{M_j}{M_i} \\Big]^{1/4} \\Bigg] ^2\n",
    "\\end{align}\n"
   ]
  },
  {
   "cell_type": "markdown",
   "metadata": {},
   "source": [
    "For a binary gas with $\\eta_A=\\eta_B$:\n",
    "\n",
    "\\begin{align}\n",
    "\\frac{\\eta_{mix}}{\\eta_A} &=  \\frac{(1-x_B)}{ 1-x_B + x_B \\Bigg(\\frac{1}{\\sqrt{8}} \\; \\Bigg[ 1+\\frac{M_A}{M_B} \\Bigg] ^{-1/2} \\; \\Bigg[ 1 \\; + \\; \\Big[  \\; \\frac{M_B}{M_A} \\Big]^{1/4} \\Bigg] ^2 \\Bigg) } \\nonumber \\\\\n",
    "&+  \\frac{x_B}{ x_B + (1-x_B) \\Bigg( \\frac{1}{\\sqrt{8}} \\; \\Bigg[ 1+\\frac{M_B}{M_A} \\Bigg] ^{-1/2} \\; \\Bigg[ 1 \\; + \\;  \\; \\Big[ \\frac{M_A}{M_B} \\Big]^{1/4} \\Bigg] ^2 \\Bigg)}\n",
    "\\end{align}\n"
   ]
  },
  {
   "cell_type": "code",
   "execution_count": 43,
   "metadata": {
    "scrolled": true
   },
   "outputs": [
    {
     "data": {
      "text/html": [
       "<iframe id=\"igraph\" scrolling=\"no\" style=\"border:none;\" seamless=\"seamless\" src=\"https://plot.ly/~Voda/5.embed\" height=\"525px\" width=\"100%\"></iframe>"
      ],
      "text/plain": [
       "<plotly.tools.PlotlyDisplay object>"
      ]
     },
     "execution_count": 43,
     "metadata": {},
     "output_type": "execute_result"
    }
   ],
   "source": [
    "import plotly.plotly as py\n",
    "import plotly.graph_objs as go\n",
    "import numpy as np\n",
    "\n",
    "\n",
    "\n",
    "xb=np.linspace(0,1,100)\n",
    "\n",
    "def y(x,mamb):\n",
    "    y1= (1-x)/( (1-x) + x*(1/np.sqrt(8)*np.power(1+mamb,-0.5)*np.power(1+np.power(1/mamb,0.25),2)))\n",
    "    y2= x/( (x) + (1-x)*(1/np.sqrt(8)*np.power(1+1/mamb,-0.5)*np.power(1+np.power(mamb,0.25),2)))\n",
    "    return y1+y2\n",
    "\n",
    "plotly.plotly.sign_in('Voda', 'qTX2zbZ0ZK0Y4qIoU8BN')\n",
    "\n",
    "trace0 = go.Scatter(\n",
    "    x = xb,\n",
    "    y = y(xb,100),\n",
    "    mode = 'markers',\n",
    "    name = 'M_A/M_B=100'\n",
    ")\n",
    "\n",
    "trace1 = go.Scatter(\n",
    "    x = xb,\n",
    "    y = y(xb,10),\n",
    "    mode = 'markers',\n",
    "    name = 'M_A/M_B=10'\n",
    ")\n",
    "\n",
    "trace2 = go.Scatter(\n",
    "    x = xb,\n",
    "    y = y(xb,1),\n",
    "    mode = 'markers',\n",
    "    name = 'M_A/M_B=1'\n",
    ")\n",
    "\n",
    "\n",
    "data = [trace0,trace1,trace2]\n",
    "\n",
    "layout= go.Layout(\n",
    "    title= 'Eta_mix/Eta_A vs. X_B',\n",
    "    hovermode= 'closest',\n",
    "    xaxis= dict(\n",
    "        title= 'X_B',\n",
    "        ticklen= 5,\n",
    "        zeroline= False,\n",
    "        gridwidth= 2,\n",
    "    ),\n",
    "    yaxis=dict(\n",
    "        title= 'Eta_mix/Eta_A',\n",
    "        ticklen= 5,\n",
    "        gridwidth= 2,\n",
    "    )\n",
    ")\n",
    "\n",
    "fig= go.Figure(data=data, layout=layout)\n",
    "\n",
    "py.iplot(fig, filename='basic-scatter')"
   ]
  },
  {
   "cell_type": "markdown",
   "metadata": {
    "collapsed": true
   },
   "source": [
    "# 1.8"
   ]
  },
  {
   "cell_type": "markdown",
   "metadata": {},
   "source": [
    "\\begin{align}\n",
    "    T &= 2273 \\unit{K} \\nonumber \\\\\n",
    "    T_M &= 1575 \\unit{K} \\nonumber \\\\\n",
    "    M &= 52 \\unit{gmol^{-1}} = \\eten{5.2}{-2} \\unit{kgmol^{-1} }\\nonumber \\\\\n",
    "    \\rho &= 7100 \\unit{kgm^{-3}} \\nonumber \\\\\n",
    "    \\delta &= 0.272 \\unit{nm} \\nonumber\n",
    "\\end{align}"
   ]
  },
  {
   "cell_type": "markdown",
   "metadata": {
    "collapsed": true
   },
   "source": [
    "\\begin{align}\n",
    "\\frac{\\epsilon}{K_B} &= 5.20T_M \\unit{K} \\\\\n",
    "&= \\mply{5.20}{1575} \\unit{K} \\nonumber \\\\\n",
    "&= \\eten{8.19}{3} K \\nonumber\n",
    "\\end{align}"
   ]
  },
  {
   "cell_type": "markdown",
   "metadata": {},
   "source": [
    "\\begin{align}\n",
    "T^{*} &= \\frac{K_BT}{\\epsilon} \\\\\n",
    "&= \\frac{2273 \\unit{K}}{\\eten{8.19}{3} \\unit{K}} \\nonumber \\\\\n",
    "&= 0.2775 \\nonumber\n",
    "\\end{align}"
   ]
  },
  {
   "cell_type": "markdown",
   "metadata": {},
   "source": [
    "From Figure 1.10 in the book:\n",
    "\n",
    "\\begin{align}\n",
    "\\eta^*(V^*)^2 &= 2.05 \\nonumber\n",
    "\\end{align}\n"
   ]
  },
  {
   "cell_type": "markdown",
   "metadata": {},
   "source": [
    "\n",
    "\\begin{align}\n",
    "V^* &= \\frac{1}{n\\delta^3} \\\\\n",
    "&= \\frac{1}{ \\Big[ \\frac{ \\eten{6.023}{23} \\unit{atoms} } { \\eten{5.2}{-2} \\unit{kg} } \\Big] \\Big[ \\frac{7100 \\unit {kg}}{\\unit{m^{3}}} \\Big] \\Big( \\eten{0.272}{-9} \\unit{m} \\Big)^3 } \\nonumber \\\\\n",
    "&= 0.604 \\nonumber\n",
    "\\end{align}\n"
   ]
  },
  {
   "cell_type": "markdown",
   "metadata": {},
   "source": [
    "\\begin{align}\n",
    "\\eta^* &= \\frac{2.05}{0.604^2} =5.62 \\nonumber\n",
    "\\end{align}"
   ]
  },
  {
   "cell_type": "markdown",
   "metadata": {},
   "source": [
    "\\begin{align}\n",
    "\\eta &= \\frac{\\eta^* (MRT)^{1/2}}{\\delta^2N_A} \\\\\n",
    "&= \\frac{\\mply{5.62}{\\Big( \\eten{5.2}{-2} \\unit{kgmol^{-1}} \\; \\cdot \\; 8.3144 \\unit{Jmol^{-1}K^{-1}} \\; \\cdot \\; 2273 \\unit{K} \\Big)^{1/2}}}{\\Big(\\eten{0.272}{-9} \\unit{m} \\Big)^2 \\; \\cdot \\; \\eten{6.023}{23} \\unit{mol^{-1}}} \\nonumber \\\\\n",
    "&= \\eten{3.954}{-3} \\unit{kgm^{-1}s^{-1}} \\nonumber\n",
    "\\end{align}\n",
    "\n",
    "The viscosity for Cr at $\\;2273 K\\;$ is approximately $\\;\\eten{3.954}{-3} \\unit{kgm^{-1}s^{-1}}\\;$"
   ]
  }
 ],
 "metadata": {
  "anaconda-cloud": {
   "attach-environment": true,
   "environment": "Root",
   "summary": "Transport Phenomena Homework 1"
  },
  "kernelspec": {
   "display_name": "Python [Root]",
   "language": "python",
   "name": "Python [Root]"
  },
  "language_info": {
   "codemirror_mode": {
    "name": "ipython",
    "version": 3
   },
   "file_extension": ".py",
   "mimetype": "text/x-python",
   "name": "python",
   "nbconvert_exporter": "python",
   "pygments_lexer": "ipython3",
   "version": "3.5.2"
  }
 },
 "nbformat": 4,
 "nbformat_minor": 1
}
