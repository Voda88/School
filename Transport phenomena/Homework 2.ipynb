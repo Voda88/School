{
 "cells": [
  {
   "cell_type": "markdown",
   "metadata": {},
   "source": [
    "2.4 Develop expressions for the flow of a fluid between vertical and parallel plates. The plates are separated by a distance of $2\\delta$. Consider the fully developed flow and determine:\n",
    "\n",
    "a) The velocity distribution\n",
    "\n",
    "b) The volume flow rate.\n",
    "\n",
    "Compare your expressions with Eqs. (2.20) and (2.23)"
   ]
  },
  {
   "cell_type": "markdown",
   "metadata": {},
   "source": [
    "Conservation of momentum:\n",
    "\n",
    "$ (LW) (\\tau_{yx}) \\vert_y - (LW) (\\tau_{yx}) \\vert_{y+\\delta y} -$"
   ]
  },
  {
   "cell_type": "code",
   "execution_count": null,
   "metadata": {
    "collapsed": true
   },
   "outputs": [],
   "source": []
  }
 ],
 "metadata": {
  "kernelspec": {
   "display_name": "Python 3",
   "language": "python",
   "name": "python3"
  },
  "language_info": {
   "codemirror_mode": {
    "name": "ipython",
    "version": 3
   },
   "file_extension": ".py",
   "mimetype": "text/x-python",
   "name": "python",
   "nbconvert_exporter": "python",
   "pygments_lexer": "ipython3",
   "version": "3.6.2"
  }
 },
 "nbformat": 4,
 "nbformat_minor": 2
}
