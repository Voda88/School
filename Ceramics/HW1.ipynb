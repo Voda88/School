{
 "cells": [
  {
   "cell_type": "code",
   "execution_count": 2,
   "metadata": {
    "collapsed": false
   },
   "outputs": [],
   "source": [
    "import numpy as np"
   ]
  },
  {
   "cell_type": "markdown",
   "metadata": {
    "collapsed": true
   },
   "source": [
    "# Homework 1\n"
   ]
  },
  {
   "cell_type": "markdown",
   "metadata": {},
   "source": [
    "## Mikko Karkkainen"
   ]
  },
  {
   "cell_type": "markdown",
   "metadata": {},
   "source": [
    "<h3> <u> 1. Verify the limiting radius ratios of the 3-fold and 6-fold coordination </u> </h3>"
   ]
  },
  {
   "cell_type": "markdown",
   "metadata": {},
   "source": [
    "<img src=\"https://dev-plebbit.s3.amazonaws.com/uploads/topic/picture/29/coordination_number_3.png\" width=500px height=500px/>\n",
    "\n",
    "<h4 align=\"center\"> Figure 1. Visualisation of geometrical constraints of coordination number 5 </h4>"
   ]
  },
  {
   "cell_type": "markdown",
   "metadata": {
    "collapsed": true
   },
   "source": [
    "$$\\cos(30^{\\circ}) = \\frac{R_A}{R_A+R_C} = \\frac{\\sqrt{3}}{2}$$"
   ]
  },
  {
   "cell_type": "markdown",
   "metadata": {},
   "source": [
    "$$ R_A \\Big( \\frac{2}{\\sqrt{3}}\\Big) = R_C + R_A $$"
   ]
  },
  {
   "cell_type": "markdown",
   "metadata": {},
   "source": [
    " $$ R_C = R_A \\Big( \\frac{2}{\\sqrt{3}} - 1\\Big)  $$"
   ]
  },
  {
   "cell_type": "markdown",
   "metadata": {},
   "source": [
    " $$ \\frac{R_C}{R_A} = \\frac{2}{\\sqrt{3}} - 1  $$"
   ]
  },
  {
   "cell_type": "code",
   "execution_count": 7,
   "metadata": {
    "collapsed": false
   },
   "outputs": [
    {
     "data": {
      "text/plain": [
       "0.15470053837925168"
      ]
     },
     "execution_count": 7,
     "metadata": {},
     "output_type": "execute_result"
    }
   ],
   "source": [
    "2/np.sqrt(3)-1"
   ]
  },
  {
   "cell_type": "markdown",
   "metadata": {},
   "source": [
    "<h3> Answer: $$ \\frac{R_C}{R_A} = \\frac{2}{\\sqrt{3}} - 1 \\approx 0.1547  $$  <h3>"
   ]
  },
  {
   "cell_type": "markdown",
   "metadata": {},
   "source": [
    "<img src=\"https://dev-plebbit.s3.amazonaws.com/uploads/topic/picture/31/coordination_number_6.png\" width=500px height=500px/>\n",
    "\n",
    "<h4 align=\"center\"> Figure 2. Visualisation of geometrical constraints of coordination number 4<h4>"
   ]
  },
  {
   "cell_type": "markdown",
   "metadata": {},
   "source": [
    "$$ R_A^2 + R_A^2 = (R_A + R_C)^2 $$"
   ]
  },
  {
   "cell_type": "markdown",
   "metadata": {},
   "source": [
    "$$ \\sqrt{2} R_A = R_A + R_C $$"
   ]
  },
  {
   "cell_type": "markdown",
   "metadata": {},
   "source": [
    "$$ R_C =  (\\sqrt{2} - 1) R_A  $$ "
   ]
  },
  {
   "cell_type": "markdown",
   "metadata": {},
   "source": [
    "$$ \\frac{R_C}{R_A} = \\sqrt{2}-1  $$"
   ]
  },
  {
   "cell_type": "code",
   "execution_count": 29,
   "metadata": {
    "collapsed": false
   },
   "outputs": [
    {
     "data": {
      "text/plain": [
       "0.41421356237309515"
      ]
     },
     "execution_count": 29,
     "metadata": {},
     "output_type": "execute_result"
    }
   ],
   "source": [
    "np.sqrt(2)-1"
   ]
  },
  {
   "cell_type": "markdown",
   "metadata": {},
   "source": [
    "<h3> Answer: $$ \\frac{R_C}{R_A} = \\sqrt{2}-1 \\approx 0.414 $$ </h3>"
   ]
  },
  {
   "cell_type": "markdown",
   "metadata": {},
   "source": [
    "<h3> <u> 2.7 Density difference between SiO<sub>2</sub> and Al<sub>2</sub>O<sub>3</sub></u> </h3>"
   ]
  },
  {
   "cell_type": "markdown",
   "metadata": {},
   "source": [
    "<em> Pauling's 1st rule : coordination number is determined by ratio between anion and cation </em>"
   ]
  },
  {
   "cell_type": "markdown",
   "metadata": {},
   "source": [
    "<style> \n",
    ".container { width:100% !important; }\n",
    "</style>\n",
    "\n",
    "<table>\n",
    "    <tr>\n",
    "        <th>\n",
    "        Ion\n",
    "        </th>     \n",
    "        <th>\n",
    "        Radius for CN=4\n",
    "        </th>   \n",
    "        <th>\n",
    "        Radius for CN=6\n",
    "        </th>\n",
    "    </tr>\n",
    "    <tr>\n",
    "        <td>\n",
    "        Al<sup>+3</sup>\n",
    "        </td>\n",
    "        <td>\n",
    "        0.39\n",
    "        </td>\n",
    "        <td>\n",
    "        0.53\n",
    "        </td>\n",
    "    </tr>\n",
    "    <tr>\n",
    "        <td>\n",
    "        Si<sup>+4</sup>\n",
    "        </td>\n",
    "        <td>\n",
    "        0.26\n",
    "        </td>\n",
    "        <td>\n",
    "        0.4\n",
    "        </td>\n",
    "    </tr>\n",
    "</table>\n",
    "\n",
    "Radius of O<sup>-2</sup> is approximately 1.4"
   ]
  },
  {
   "cell_type": "code",
   "execution_count": 38,
   "metadata": {
    "collapsed": false
   },
   "outputs": [
    {
     "name": "stdout",
     "output_type": "stream",
     "text": [
      "ratio Al/O CN4:  0.28\n",
      "ratio Al/O CN6:  0.38\n",
      "ratio Si/O CN4:  0.19\n",
      "ratio Si/O CN6:  0.29\n"
     ]
    }
   ],
   "source": [
    "print(\"ratio Al/O CN4: \", '{0:.2f}'.format(0.39/1.4))\n",
    "print(\"ratio Al/O CN6: \", '{0:.2f}'.format(0.53/1.4))\n",
    "print(\"ratio Si/O CN4: \", '{0:.2f}'.format(0.26/1.4))\n",
    "print(\"ratio Si/O CN6: \", '{0:.2f}'.format(0.4/1.4))"
   ]
  },
  {
   "cell_type": "markdown",
   "metadata": {},
   "source": [
    "Suprisingly, using data from the book, the radius ratio should be too small for 6-fold coordination for both cations. However, in reality, Al has a coordination number of 6 in Al<sub>2</sub>O<sub>3</sub> while Si has a coordination number of 4 in SiO<sub>2</sub>."
   ]
  },
  {
   "cell_type": "markdown",
   "metadata": {},
   "source": [
    "<em>Pauling's rule 2: total strength of bonds from each cation bonding with anion must be equal to anion charge.</em>"
   ]
  },
  {
   "cell_type": "markdown",
   "metadata": {},
   "source": [
    "Aluminum: 6-fold coordination. Charge = 3+. Bond strength = 1/2\n",
    "Silicon: 4-fold coordination. Charge = 4+. Bonds strength = 1.\n",
    "\n",
    "Each oxygen can bond with 4 aluminum ions but only 2 silicon ions. The coordination numbers 6 for Al and 4 for O in Al<sub>2</sub>O<sub>3</sub> allow for a highly dense HCP structure, while 4 for Si and 2 for O in SiO<sub>2</sub> force a less dense tetrahedral chain."
   ]
  },
  {
   "cell_type": "markdown",
   "metadata": {},
   "source": [
    "<h3> <u> 2.13 Isomorphosity in garnets</u> </h3>"
   ]
  },
  {
   "cell_type": "markdown",
   "metadata": {},
   "source": [
    "Garnet group has structural formula: X<sub>3</sub>Y<sub>2</sub>Z<sub>3</sub>O<sub>12</sub>\n",
    "\n",
    "where CN for X = 8 and CN for Y = 6"
   ]
  },
  {
   "cell_type": "markdown",
   "metadata": {},
   "source": [
    "Mg<sup>+2</sup> radius at CN=8 : could not find\n",
    "\n",
    "Fe<sup>+2</sup> radius at CN=8 : could not find\n",
    "\n",
    "Ca<sup>+2</sup> radius at CN=8 : 1.18\n",
    "\n",
    "Mn<sup>+2</sup> radius at CN=8 : 1.1"
   ]
  },
  {
   "cell_type": "markdown",
   "metadata": {},
   "source": [
    "At least for CN=6, Mg and Fe have similar radius and are thus interchangeable. However, Ca probably isn't, due to its larger size. This is connected to Pauling's 5th rule: differences in size of ions restricts number of different constituents."
   ]
  },
  {
   "cell_type": "markdown",
   "metadata": {},
   "source": [
    "According to a database, the Mg and Fe cations can be substituted by Mn. This is surprising, because according to the data, Mn has an ionic radius of 1.1, which would put it very close to the ionic radius of Ca+2, which it alas cannot substitute."
   ]
  },
  {
   "cell_type": "markdown",
   "metadata": {},
   "source": [
    "For Mg<sub>2</sub>SiO<sub>4</sub> and Fe<sub>2</sub>SiO<sub>4</sub> this analysis is easier, since the data for ionic radii is more available:"
   ]
  },
  {
   "cell_type": "markdown",
   "metadata": {},
   "source": [
    "Mg<sup>+2</sup> radius at CN=6 : 0.72\n",
    "\n",
    "Fe<sup>+2</sup> radius at CN=6 : 0.77\n",
    "\n",
    "Mn<sup>+2</sup> radius at CN=6 : 0.67\n",
    "    \n",
    "Zn<sup>+2</sup> radius at CN=6 : 0.75\n",
    " \n",
    "Ca<sup>+2</sup> radius at CN=6 : 1.00\n",
    "\n",
    "Hg<sup>+2</sup> radius at CN=6 : 1.02"
   ]
  },
  {
   "cell_type": "markdown",
   "metadata": {},
   "source": [
    "It appears that Mg and Fe cations could be substituted by Mn or Zn.\n",
    "\n",
    "Ca cations may be substituted by Hg, since it shares the same charge and similar size."
   ]
  },
  {
   "cell_type": "markdown",
   "metadata": {},
   "source": [
    "<h3> <u> 2.14 Structure of unknown single crystal</u> </h3>"
   ]
  },
  {
   "cell_type": "markdown",
   "metadata": {},
   "source": [
    "The empirical formula for the crystal was determined to be KF.AlF.BaO.MgO.Al<sub>2</sub>O<sub>3</sub>.5MgSiO<sub>3</sub>"
   ]
  },
  {
   "cell_type": "markdown",
   "metadata": {},
   "source": [
    "The assignment hints that this crystal is similar to talc, pyrophillite and muscovite. What these three minerals have in common is that they are phyllosilicates. This means that they have a Si:O ratio of 2:5.\n",
    "\n",
    "Phyllosilicates are characterised by the group Si<sub>4</sub>O<sub>10</sub>(OH)<sub>2</sub>, which is shared identically by almost all of its members. Muscovites have a small variation: One Si<sup>+4</sup> is substituted by Al<sup>+3</sup>, and the charge is balanced by a K<sup>+1</sup> cation. The (OH) group maybe substituted by F."
   ]
  },
  {
   "cell_type": "markdown",
   "metadata": {},
   "source": [
    "The closest form to a phyllosilicate which I was able to make from the given empirical formula was :\n",
    "\n",
    "KAlF<sub>2</sub>.MgO.BaO.Al<sub>2</sub>O<sub>3</sub>.Mg<sub>5</sub>Si<sub>6</sub>O<sub>15</sub>"
   ]
  },
  {
   "cell_type": "markdown",
   "metadata": {},
   "source": [
    "This way the charges are balanced. However, the Si:O ratio of the  entire crystal is not 2:5, which begs the question: is the crystal a phyllosilicate at all?"
   ]
  },
  {
   "cell_type": "markdown",
   "metadata": {},
   "source": [
    "<h3> <u> 3.  Mineral Pairs </u> </h3>\n",
    "\n",
    "<style> \n",
    ".container { width:100% !important; }\n",
    "</style>\n",
    "\n",
    "<table>\n",
    "    <tr>\n",
    "        <th>\n",
    "        Pairs\n",
    "        </th>     \n",
    "        <th>\n",
    "        Similarities\n",
    "        </th>   \n",
    "        <th>\n",
    "        Differences\n",
    "        </th>\n",
    "    </tr>\n",
    "    <tr>\n",
    "        <td>\n",
    "        Corundum(Al2O3) and Ilmenite(FeTiO3)\n",
    "        </td>\n",
    "        <td>\n",
    "        Both have trigonal crystal structure. Ilmenite structure is derivative of Corundum structure.\n",
    "        </td>\n",
    "        <td>\n",
    "        Corundum is hexagonal while Ilmenite is rhombohedral. Ilmenite has 2 different cations while corundum only has 1.\n",
    "        </td>   \n",
    "    </tr>\n",
    "    <tr>\n",
    "        <td>\n",
    "        Albite (NaAlSi3O8) and Orthoclase (KAlSi3O8)\n",
    "        </td>\n",
    "        <td>\n",
    "        Both are feldspar minerals. Specifically, they are both alkali feldspars.\n",
    "        </td>\n",
    "        <td>\n",
    "        Unlike orthoclase, albite is an plagioclase feldspar as well as an alkali feldspar.\n",
    "        </td>\n",
    "    </tr>\n",
    "    <tr>\n",
    "        <td>\n",
    "        High forms of Cristobalite and Tridymite\n",
    "        </td>\n",
    "        <td>\n",
    "        Both are metastable in the temmperature range 270 C to 870 C\n",
    "        </td>\n",
    "        <td>\n",
    "        High cristobalite is stable above 1470 C, Tridymite is stable from 870 to 1470. High Cristobalite is hexagonal, high Tridymite is cubic.\n",
    "        </td>\n",
    "    </tr>\n",
    "    <tr>\n",
    "        <td>\n",
    "        Ilmenite and Perovskite\n",
    "        </td>\n",
    "        <td>\n",
    "        Both have alternating cations. Both have one cation with CN = 6 (ideally). Both can take number of different crystal structures depending on the size and size difference of the cations.\n",
    "        </td>\n",
    "        <td>\n",
    "        Ilmenite has coordination number 6 on both cations, perovskite has 12 on the bigger cation, 6 on the smaller. Perovskite is ideally cubic, while ilmenite is ideally rhombohedral.\n",
    "        </td>\n",
    "    </tr>\n",
    "    <tr>\n",
    "        <td>\n",
    "        Calcium carbide and Titanium carbide\n",
    "        </td>\n",
    "        <td>\n",
    "        Both are ionic carbides with rock-salt type crystal structure of alternating CN=6 anions and cations.\n",
    "        </td>\n",
    "        <td>\n",
    "        Mechanical properties, TiC is very hard, while CaC is not.\n",
    "        </td>\n",
    "    </tr>\n",
    "    <tr>\n",
    "        <td>\n",
    "        Kaolinite and Halloysite\n",
    "        </td>\n",
    "        <td>\n",
    "        Both have same theoretical composition: Al2Si2O5(OH)4\n",
    "        </td>\n",
    "        <td>\n",
    "        Unlike kaolinite, halloysite has water mono-layers between silicon sheets and a tubular structure.\n",
    "        </td>\n",
    "    </tr>\n",
    "</table>"
   ]
  },
  {
   "cell_type": "markdown",
   "metadata": {},
   "source": [
    "<h3> <u> 4.  Silicates and non-silicates </u> </h3>"
   ]
  },
  {
   "cell_type": "markdown",
   "metadata": {},
   "source": [
    "<style> \n",
    ".container { width:100% !important; }\n",
    "</style>\n",
    "\n",
    "<table>\n",
    "    <tr>\n",
    "        <th>\n",
    "        Mineral\n",
    "        </th>     \n",
    "        <th>\n",
    "        Formula\n",
    "        </th>   \n",
    "        <th>\n",
    "        Density\n",
    "        </th>\n",
    "    </tr>\n",
    "    <tr>\n",
    "        <td>\n",
    "        Quartz\n",
    "        </td>\n",
    "        <td>\n",
    "        SiO2\n",
    "        </td>\n",
    "        <td>\n",
    "        2.66 g/cc\n",
    "        </td>   \n",
    "    </tr>\n",
    "    <tr>\n",
    "        <td>\n",
    "        Cristobalite\n",
    "        </td>\n",
    "        <td>\n",
    "        SiO2\n",
    "        </td>\n",
    "        <td>\n",
    "        2.33 g/cc\n",
    "        </td>\n",
    "    </tr>\n",
    "    <tr>\n",
    "        <td>\n",
    "        Orthoclase\n",
    "        </td>\n",
    "        <td>\n",
    "        KAlSi3O8\n",
    "        </td>\n",
    "        <td>\n",
    "        2.56 g/cc\n",
    "        </td>\n",
    "    </tr>\n",
    "    <tr>\n",
    "        <td>\n",
    "        Corundum\n",
    "        </td>\n",
    "        <td>\n",
    "        Al2O3\n",
    "        </td>\n",
    "        <td>\n",
    "        4.02 g/cc\n",
    "        </td>\n",
    "    </tr>\n",
    "    <tr>\n",
    "        <td>\n",
    "        Cordierite\n",
    "        </td>\n",
    "        <td>\n",
    "        Mg2Al4Si5O18\n",
    "        </td>\n",
    "        <td>\n",
    "        2.63 g/cc\n",
    "        </td>\n",
    "    </tr>\n",
    "    <tr>\n",
    "        <td>\n",
    "        Periclase\n",
    "        </td>\n",
    "        <td>\n",
    "        MgO\n",
    "        </td>\n",
    "        <td>\n",
    "        3.93 g/cc\n",
    "        </td>\n",
    "    </tr>\n",
    "    <tr>\n",
    "        <td>\n",
    "        Albite\n",
    "        </td>\n",
    "        <td>\n",
    "        NaAlSi3O8\n",
    "        </td>\n",
    "        <td>\n",
    "        2.6 g/cc\n",
    "        </td>\n",
    "    </tr>\n",
    "    <tr>\n",
    "        <td>\n",
    "        Kaolinite\n",
    "        </td>\n",
    "        <td>\n",
    "        Al2Si2O5(OH)4\n",
    "        </td>\n",
    "        <td>\n",
    "        2.62 g/cc\n",
    "        </td>\n",
    "    </tr>\n",
    "</table>"
   ]
  },
  {
   "cell_type": "markdown",
   "metadata": {},
   "source": [
    "Silicates are unable to form close packed strutctures due to oxygen anions connecting to only 2 silicon cations and silicon cation connecting to only 4 anions. This forces a chain or web of tetrahedral units, which is not a dense structure.\n",
    "\n",
    "Corundum has a HCP structure and periclase has a FCC structure, which are optimally packed. This explains the diference in density"
   ]
  }
 ],
 "metadata": {
  "anaconda-cloud": {},
  "kernelspec": {
   "display_name": "Python [Root]",
   "language": "python",
   "name": "Python [Root]"
  },
  "language_info": {
   "codemirror_mode": {
    "name": "ipython",
    "version": 3
   },
   "file_extension": ".py",
   "mimetype": "text/x-python",
   "name": "python",
   "nbconvert_exporter": "python",
   "pygments_lexer": "ipython3",
   "version": "3.5.2"
  }
 },
 "nbformat": 4,
 "nbformat_minor": 0
}
